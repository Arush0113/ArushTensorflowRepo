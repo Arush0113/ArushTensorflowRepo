{
  "nbformat": 4,
  "nbformat_minor": 0,
  "metadata": {
    "colab": {
      "name": "Models using Subclassing API.ipynb",
      "provenance": [],
      "mount_file_id": "1c2PgxRM1yDPbj5LxaenIm9I3V1-RtAM2",
      "authorship_tag": "ABX9TyNurN0nHWIITPaxR/cKUFfY",
      "include_colab_link": true
    },
    "kernelspec": {
      "name": "python3",
      "display_name": "Python 3"
    },
    "language_info": {
      "name": "python"
    }
  },
  "cells": [
    {
      "cell_type": "markdown",
      "metadata": {
        "id": "view-in-github",
        "colab_type": "text"
      },
      "source": [
        "<a href=\"https://colab.research.google.com/github/Arush0113/ArushTensorflowRepo/blob/main/Customising%20your%20models%20with%20Tensorflow%202/Models_using_Subclassing_API.ipynb\" target=\"_parent\"><img src=\"https://colab.research.google.com/assets/colab-badge.svg\" alt=\"Open In Colab\"/></a>"
      ]
    },
    {
      "cell_type": "markdown",
      "metadata": {
        "id": "plyctGO8RZSo"
      },
      "source": [
        "# Make the necessary Imports\n",
        "\n"
      ]
    },
    {
      "cell_type": "code",
      "metadata": {
        "id": "YVJacekTKmyt"
      },
      "source": [
        "import tensorflow as tf\n",
        "from tensorflow.keras.models import Model\n",
        "from tensorflow.keras.layers import Dense, Softmax, Dropout, concatenate"
      ],
      "execution_count": 1,
      "outputs": []
    },
    {
      "cell_type": "markdown",
      "metadata": {
        "id": "u1KS5ZjBRr5x"
      },
      "source": [
        "## Define your Model using subclassing API"
      ]
    },
    {
      "cell_type": "code",
      "metadata": {
        "id": "NG0WN_JhK4Xf"
      },
      "source": [
        "class MyModel(Model):\n",
        "  def __init__(self, num_classes, **kwargs):\n",
        "    super(MyModel, self).__init__(**kwargs)\n",
        "    self.dense1 = Dense(32, activation='relu')\n",
        "    self.dense2 = Dense(16)\n",
        "    self.dense3 = Dense(num_classes)\n",
        "    self.softmax = Softmax()\n",
        "\n",
        "  def call(self, inputs):\n",
        "    h1 = self.dense1(inputs)\n",
        "    h2 = self.dense2(inputs)\n",
        "    y = self.dense3(h2)\n",
        "    concatenated_array = concatenate([h2, y])\n",
        "    return self.softmax(concatenated_array)"
      ],
      "execution_count": 2,
      "outputs": []
    },
    {
      "cell_type": "markdown",
      "metadata": {
        "id": "gbpgvyL0R08D"
      },
      "source": [
        "## Initialize Model and check Summary"
      ]
    },
    {
      "cell_type": "code",
      "metadata": {
        "colab": {
          "base_uri": "https://localhost:8080/"
        },
        "id": "7bdalIdjO3sG",
        "outputId": "e9790680-7066-4acf-ec38-ee11fd1075d5"
      },
      "source": [
        "model1 = MyModel(10, name = 'my_model_1')\n",
        "model1(tf.random.uniform([1,10]))\n",
        "model1.summary()"
      ],
      "execution_count": 3,
      "outputs": [
        {
          "output_type": "stream",
          "text": [
            "Model: \"my_model_1\"\n",
            "_________________________________________________________________\n",
            "Layer (type)                 Output Shape              Param #   \n",
            "=================================================================\n",
            "dense (Dense)                multiple                  352       \n",
            "_________________________________________________________________\n",
            "dense_1 (Dense)              multiple                  176       \n",
            "_________________________________________________________________\n",
            "dense_2 (Dense)              multiple                  170       \n",
            "_________________________________________________________________\n",
            "softmax (Softmax)            multiple                  0         \n",
            "=================================================================\n",
            "Total params: 698\n",
            "Trainable params: 698\n",
            "Non-trainable params: 0\n",
            "_________________________________________________________________\n"
          ],
          "name": "stdout"
        }
      ]
    },
    {
      "cell_type": "markdown",
      "metadata": {
        "id": "DN66mB4ruRYr"
      },
      "source": [
        "## Creating Layers using the subclassing API"
      ]
    },
    {
      "cell_type": "code",
      "metadata": {
        "id": "3n3nRy2ouVxE"
      },
      "source": [
        "from tensorflow.keras.layers import Layer"
      ],
      "execution_count": 4,
      "outputs": []
    },
    {
      "cell_type": "code",
      "metadata": {
        "id": "adnvIwM0ugUD"
      },
      "source": [
        "class MyLayer(Layer):\n",
        "  def __init__(self, units, input_dim, **kwargs):\n",
        "    super(MyLayer, self).__init__(**kwargs)\n",
        "    \n",
        "    self.w = self.add_weight(\n",
        "        shape = (input_dim, units),\n",
        "        initializer = 'random_normal',\n",
        "        trainable = True\n",
        "    )\n",
        "    self.b = self.add_weight(\n",
        "        shape = (units, ),\n",
        "        initializer = 'zeros',\n",
        "        trainable = True\n",
        "    )\n",
        "\n",
        "  def call(self, inputs):\n",
        "    return tf.matmul(inputs, self.w) + self.b\n",
        "\n",
        "mylayer1 = MyLayer(3, 5)\n"
      ],
      "execution_count": 10,
      "outputs": []
    },
    {
      "cell_type": "code",
      "metadata": {
        "colab": {
          "base_uri": "https://localhost:8080/"
        },
        "id": "PesvP0R6Qy_B",
        "outputId": "703de38a-2bb5-4184-c3b9-6925c9103d6d"
      },
      "source": [
        "mylayer1.weights"
      ],
      "execution_count": 11,
      "outputs": [
        {
          "output_type": "execute_result",
          "data": {
            "text/plain": [
              "[<tf.Variable 'Variable:0' shape=(5, 3) dtype=float32, numpy=\n",
              " array([[-0.02435801, -0.01287204,  0.05364257],\n",
              "        [ 0.03478326,  0.01371691, -0.0321952 ],\n",
              "        [-0.00114059,  0.03402445, -0.029744  ],\n",
              "        [-0.02968124, -0.03110652,  0.01836508],\n",
              "        [ 0.00895339, -0.0181178 , -0.0052843 ]], dtype=float32)>,\n",
              " <tf.Variable 'Variable:0' shape=(3,) dtype=float32, numpy=array([0., 0., 0.], dtype=float32)>]"
            ]
          },
          "metadata": {
            "tags": []
          },
          "execution_count": 11
        }
      ]
    },
    {
      "cell_type": "code",
      "metadata": {
        "colab": {
          "base_uri": "https://localhost:8080/"
        },
        "id": "GrP-2OmHQ2Z0",
        "outputId": "a7da7f49-0af8-4800-f70f-296c882b4f5e"
      },
      "source": [
        "mylayer1(tf.ones((1,5)))"
      ],
      "execution_count": 12,
      "outputs": [
        {
          "output_type": "execute_result",
          "data": {
            "text/plain": [
              "<tf.Tensor: shape=(1, 3), dtype=float32, numpy=array([[-0.01144319, -0.014355  ,  0.00478415]], dtype=float32)>"
            ]
          },
          "metadata": {
            "tags": []
          },
          "execution_count": 12
        }
      ]
    },
    {
      "cell_type": "code",
      "metadata": {
        "id": "08VyWWcXRGOC"
      },
      "source": [
        "class MyLayerMean(Layer):\n",
        "  def __init__(self, units, input_dim, **kwargs):\n",
        "    super(MyLayerMean, self).__init__(**kwargs)\n",
        "\n",
        "    self.w = self.add_weight(\n",
        "        shape = (input_dim, units),\n",
        "        initializer = 'random_normal',\n",
        "    )\n",
        "    self.b = self.add_weight(\n",
        "        shape = (units,),\n",
        "        initializer = 'zeros'\n",
        "    )\n",
        "    self.sum_activation = tf.Variable(initial_value=tf.zeros(units,),\n",
        "                                      trainable = False)\n",
        "    self.num_call = tf.Variable(initial_value=0,\n",
        "                                      trainable = False)\n",
        "    \n",
        "  def call(self, inputs):\n",
        "    activations = tf.matmul(inputs, self.w) + self.b\n",
        "    self.sum_activation.assign_add(tf.reduce_sum(activations=0, axis=0))\n",
        "    self.numm_call.assign_add(inputs.shape[0])\n",
        "    return activations, self.sum_activation / tf.cast(self.number_call, tf.float32)"
      ],
      "execution_count": 13,
      "outputs": []
    }
  ]
}