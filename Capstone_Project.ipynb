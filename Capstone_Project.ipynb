{
  "nbformat": 4,
  "nbformat_minor": 0,
  "metadata": {
    "kernelspec": {
      "display_name": "feedforward",
      "language": "python",
      "name": "feedforward"
    },
    "language_info": {
      "codemirror_mode": {
        "name": "ipython",
        "version": 3
      },
      "file_extension": ".py",
      "mimetype": "text/x-python",
      "name": "python",
      "nbconvert_exporter": "python",
      "pygments_lexer": "ipython3",
      "version": "3.6.9"
    },
    "colab": {
      "name": "Capstone Project.ipynb",
      "provenance": [],
      "collapsed_sections": [],
      "include_colab_link": true
    }
  },
  "cells": [
    {
      "cell_type": "markdown",
      "metadata": {
        "id": "view-in-github",
        "colab_type": "text"
      },
      "source": [
        "<a href=\"https://colab.research.google.com/github/Arush0113/ArushTensorflowRepo/blob/main/Capstone_Project.ipynb\" target=\"_parent\"><img src=\"https://colab.research.google.com/assets/colab-badge.svg\" alt=\"Open In Colab\"/></a>"
      ]
    },
    {
      "cell_type": "markdown",
      "metadata": {
        "id": "rffwkDWTz_Fo"
      },
      "source": [
        "# Capstone Project\n",
        "## Image classifier for the SVHN dataset\n",
        "### Instructions\n",
        "\n",
        "In this notebook, you will create a neural network that classifies real-world images digits. You will use concepts from throughout this course in building, training, testing, validating and saving your Tensorflow classifier model.\n",
        "\n",
        "This project is peer-assessed. Within this notebook you will find instructions in each section for how to complete the project. Pay close attention to the instructions as the peer review will be carried out according to a grading rubric that checks key parts of the project instructions. Feel free to add extra cells into the notebook as required.\n",
        "\n",
        "### How to submit\n",
        "\n",
        "When you have completed the Capstone project notebook, you will submit a pdf of the notebook for peer review. First ensure that the notebook has been fully executed from beginning to end, and all of the cell outputs are visible. This is important, as the grading rubric depends on the reviewer being able to view the outputs of your notebook. Save the notebook as a pdf (you could download the notebook with File -> Download .ipynb, open the notebook locally, and then File -> Download as -> PDF via LaTeX), and then submit this pdf for review.\n",
        "\n",
        "### Let's get started!\n",
        "\n",
        "We'll start by running some imports, and loading the dataset. For this project you are free to make further imports throughout the notebook as you wish. "
      ]
    },
    {
      "cell_type": "code",
      "metadata": {
        "id": "O3vI8jSIz_Fs"
      },
      "source": [
        "import tensorflow as tf\n",
        "from scipy.io import loadmat\n",
        "from tensorflow.keras.models import Sequential\n",
        "from tensorflow.keras.layers import Dense, Dropout, Flatten"
      ],
      "execution_count": 13,
      "outputs": []
    },
    {
      "cell_type": "markdown",
      "metadata": {
        "id": "8OrHY7TRz_Fx"
      },
      "source": [
        "For the capstone project, you will use the [SVHN dataset](http://ufldl.stanford.edu/housenumbers/). This is an image dataset of over 600,000 digit images in all, and is a harder dataset than MNIST as the numbers appear in the context of natural scene images. SVHN is obtained from house numbers in Google Street View images.\n",
        "\n",
        "* Y. Netzer, T. Wang, A. Coates, A. Bissacco, B. Wu and A. Y. Ng. \"Reading Digits in Natural Images with Unsupervised Feature Learning\". NIPS Workshop on Deep Learning and Unsupervised Feature Learning, 2011.\n",
        "\n",
        "The train and test datasets required for this project can be downloaded from [here](http://ufldl.stanford.edu/housenumbers/train.tar.gz) and [here](http://ufldl.stanford.edu/housenumbers/test.tar.gz). Once unzipped, you will have two files: `train_32x32.mat` and `test_32x32.mat`. You should store these files in Drive for use in this Colab notebook.\n",
        "\n",
        "Your goal is to develop an end-to-end workflow for building, training, validating, evaluating and saving a neural network that classifies a real-world image into one of ten classes."
      ]
    },
    {
      "cell_type": "code",
      "metadata": {
        "id": "r8BHW8P_2wxw",
        "colab": {
          "base_uri": "https://localhost:8080/"
        },
        "outputId": "1aa06c26-02d4-4195-8dde-22323ef7cc6a"
      },
      "source": [
        "# Run this cell to connect to your Drive folder\n",
        "\n",
        "from google.colab import drive\n",
        "drive.mount('/content/gdrive')"
      ],
      "execution_count": 9,
      "outputs": [
        {
          "output_type": "stream",
          "text": [
            "Drive already mounted at /content/gdrive; to attempt to forcibly remount, call drive.mount(\"/content/gdrive\", force_remount=True).\n"
          ],
          "name": "stdout"
        }
      ]
    },
    {
      "cell_type": "code",
      "metadata": {
        "id": "YWdiz3n_z_Fy"
      },
      "source": [
        "# Load the dataset from your Drive folder\n",
        "\n",
        "train = loadmat('/content/gdrive/MyDrive/Getting started with Tensorflow 2 Capstone project/train_32x32.mat')\n",
        "test = loadmat('/content/gdrive/MyDrive/Getting started with Tensorflow 2 Capstone project/test_32x32.mat')"
      ],
      "execution_count": 10,
      "outputs": []
    },
    {
      "cell_type": "markdown",
      "metadata": {
        "id": "Sot1IcuZz_F2"
      },
      "source": [
        "Both `train` and `test` are dictionaries with keys `X` and `y` for the input images and labels respectively."
      ]
    },
    {
      "cell_type": "markdown",
      "metadata": {
        "id": "_Q1n_Ai2z_F3"
      },
      "source": [
        "## 1. Inspect and preprocess the dataset\n",
        "* Extract the training and testing images and labels separately from the train and test dictionaries loaded for you.\n",
        "* Select a random sample of images and corresponding labels from the dataset (at least 10), and display them in a figure.\n",
        "* Convert the training and test images to grayscale by taking the average across all colour channels for each pixel. _Hint: retain the channel dimension, which will now have size 1._\n",
        "* Select a random sample of the grayscale images and corresponding labels from the dataset (at least 10), and display them in a figure."
      ]
    },
    {
      "cell_type": "code",
      "metadata": {
        "id": "-WIH5hyXz_F4",
        "colab": {
          "base_uri": "https://localhost:8080/"
        },
        "outputId": "128a6504-d1ad-4ecd-dbdb-ac71723f4d8c"
      },
      "source": [
        "train_x = train['X']\r\n",
        "train_y = train['y']\r\n",
        "test_x = test['X']\r\n",
        "test_y = test['y']\r\n",
        "\r\n",
        "print(train_x.shape)\r\n",
        "print(train_y.shape)\r\n",
        "print(test_x.shape)\r\n",
        "print(test_y.shape)\r\n",
        "\r\n",
        "train_x = train_x.reshape(train_x.shape[3], train_x.shape[0], train_x.shape[1], train_x.shape[2])\r\n",
        "\r\n",
        "test_x = test_x.reshape(test_x.shape[3], test_x.shape[0], test_x.shape[1], test_x.shape[2])\r\n",
        "print('\\n')\r\n",
        "print(train_x.shape)\r\n",
        "print(train_y.shape)\r\n",
        "print(test_x.shape)\r\n",
        "print(test_y.shape)"
      ],
      "execution_count": 30,
      "outputs": [
        {
          "output_type": "stream",
          "text": [
            "(32, 32, 3, 73257)\n",
            "(73257, 1)\n",
            "(32, 32, 3, 26032)\n",
            "(26032, 1)\n",
            "\n",
            "\n",
            "(73257, 32, 32, 3)\n",
            "(73257, 1)\n",
            "(26032, 32, 32, 3)\n",
            "(26032, 1)\n"
          ],
          "name": "stdout"
        }
      ]
    },
    {
      "cell_type": "code",
      "metadata": {
        "id": "zmGJK3xgz_F8",
        "colab": {
          "base_uri": "https://localhost:8080/"
        },
        "outputId": "fe469315-1878-41e1-9403-0f4a25ade75f"
      },
      "source": [
        "train"
      ],
      "execution_count": 12,
      "outputs": [
        {
          "output_type": "execute_result",
          "data": {
            "text/plain": [
              "{'X': array([[[[ 33,  84,  19, ...,  92, 190, 216],\n",
              "          [ 30,  76,  54, ...,  78, 188, 217],\n",
              "          [ 38,  59, 110, ..., 101, 191, 212]],\n",
              " \n",
              "         [[ 15,  86,  20, ...,  94, 205, 221],\n",
              "          [ 23,  73,  52, ...,  82, 203, 222],\n",
              "          [ 19,  66, 111, ..., 105, 206, 217]],\n",
              " \n",
              "         [[ 15,  77,  25, ..., 114, 220, 226],\n",
              "          [ 17,  78,  57, ..., 101, 218, 227],\n",
              "          [ 19,  56, 116, ..., 125, 220, 221]],\n",
              " \n",
              "         ...,\n",
              " \n",
              "         [[ 72,  90,  65, ..., 200, 229, 200],\n",
              "          [ 65,  78, 144, ..., 201, 231, 199],\n",
              "          [ 56,  69, 223, ..., 203, 224, 191]],\n",
              " \n",
              "         [[ 82,  88,  78, ..., 192, 229, 193],\n",
              "          [ 77,  77, 148, ..., 193, 229, 188],\n",
              "          [ 57,  67, 218, ..., 195, 224, 182]],\n",
              " \n",
              "         [[ 89,  88,  98, ..., 190, 229, 197],\n",
              "          [ 79,  78, 158, ..., 191, 228, 189],\n",
              "          [ 59,  66, 220, ..., 193, 223, 186]]],\n",
              " \n",
              " \n",
              "        [[[ 28,  85,  21, ...,  92, 183, 204],\n",
              "          [ 39,  77,  53, ...,  78, 182, 205],\n",
              "          [ 35,  61, 110, ..., 103, 186, 202]],\n",
              " \n",
              "         [[ 14,  83,  19, ...,  93, 200, 210],\n",
              "          [ 25,  73,  52, ...,  80, 199, 211],\n",
              "          [ 22,  64, 106, ..., 106, 201, 208]],\n",
              " \n",
              "         [[ 14,  74,  25, ..., 111, 218, 220],\n",
              "          [ 20,  69,  56, ...,  98, 217, 221],\n",
              "          [ 17,  59, 111, ..., 124, 218, 217]],\n",
              " \n",
              "         ...,\n",
              " \n",
              "         [[ 40,  89,  63, ..., 181, 227, 201],\n",
              "          [ 39,  82, 137, ..., 180, 228, 199],\n",
              "          [ 50,  64, 208, ..., 184, 223, 193]],\n",
              " \n",
              "         [[ 67,  88,  91, ..., 177, 227, 195],\n",
              "          [ 58,  79, 153, ..., 176, 226, 191],\n",
              "          [ 52,  70, 214, ..., 180, 222, 186]],\n",
              " \n",
              "         [[ 83,  88, 130, ..., 183, 228, 196],\n",
              "          [ 78,  81, 180, ..., 182, 224, 190],\n",
              "          [ 60,  67, 229, ..., 187, 221, 186]]],\n",
              " \n",
              " \n",
              "        [[[ 40,  83,  21, ...,  99, 171, 198],\n",
              "          [ 41,  76,  53, ...,  84, 170, 198],\n",
              "          [ 38,  60, 110, ..., 112, 175, 197]],\n",
              " \n",
              "         [[ 18,  78,  20, ...,  94, 189, 202],\n",
              "          [ 21,  77,  51, ...,  81, 189, 202],\n",
              "          [ 26,  58, 106, ..., 110, 193, 201]],\n",
              " \n",
              "         [[ 16,  61,  22, ..., 107, 213, 212],\n",
              "          [ 17,  50,  52, ...,  94, 213, 211],\n",
              "          [ 23,  54, 106, ..., 123, 215, 210]],\n",
              " \n",
              "         ...,\n",
              " \n",
              "         [[ 23,  90,  79, ..., 167, 231, 203],\n",
              "          [ 29,  85, 147, ..., 166, 230, 200],\n",
              "          [ 45,  63, 210, ..., 171, 226, 196]],\n",
              " \n",
              "         [[ 35,  88, 125, ..., 172, 229, 198],\n",
              "          [ 42,  83, 181, ..., 171, 226, 194],\n",
              "          [ 44,  66, 230, ..., 176, 223, 191]],\n",
              " \n",
              "         [[ 72,  85, 178, ..., 185, 227, 195],\n",
              "          [ 69,  82, 218, ..., 184, 223, 190],\n",
              "          [ 53,  70, 254, ..., 189, 220, 187]]],\n",
              " \n",
              " \n",
              "        ...,\n",
              " \n",
              " \n",
              "        [[[ 86, 100,  88, ...,  99, 187, 233],\n",
              "          [ 81,  98, 162, ...,  94, 185, 226],\n",
              "          [ 75,  72, 237, ..., 110, 186, 228]],\n",
              " \n",
              "         [[ 87,  98,  89, ...,  96, 204, 230],\n",
              "          [ 82,  94, 163, ...,  91, 202, 224],\n",
              "          [ 71,  76, 238, ..., 109, 199, 225]],\n",
              " \n",
              "         [[ 82,  95,  84, ..., 108, 217, 228],\n",
              "          [ 79,  93, 156, ..., 103, 217, 223],\n",
              "          [ 65,  73, 230, ..., 124, 210, 221]],\n",
              " \n",
              "         ...,\n",
              " \n",
              "         [[104, 104,  62, ..., 210, 204, 198],\n",
              "          [104, 104, 142, ..., 207, 200, 196],\n",
              "          [ 87,  86, 227, ..., 204, 195, 190]],\n",
              " \n",
              "         [[104, 102,  67, ..., 206, 196, 184],\n",
              "          [105, 102, 144, ..., 202, 193, 183],\n",
              "          [ 81,  87, 226, ..., 200, 189, 177]],\n",
              " \n",
              "         [[103, 100,  74, ..., 203, 196, 189],\n",
              "          [105, 101, 145, ..., 197, 193, 187],\n",
              "          [ 78,  78, 225, ..., 199, 189, 182]]],\n",
              " \n",
              " \n",
              "        [[[ 84, 103,  88, ...,  94, 186, 231],\n",
              "          [ 86, 104, 164, ...,  91, 184, 226],\n",
              "          [ 64,  79, 240, ..., 103, 185, 228]],\n",
              " \n",
              "         [[ 86, 106,  87, ...,  94, 198, 229],\n",
              "          [ 79, 104, 160, ...,  91, 197, 224],\n",
              "          [ 72,  79, 237, ..., 104, 194, 225]],\n",
              " \n",
              "         [[ 82, 103,  88, ..., 110, 211, 227],\n",
              "          [ 76, 103, 159, ..., 107, 211, 223],\n",
              "          [ 72,  87, 237, ..., 121, 204, 222]],\n",
              " \n",
              "         ...,\n",
              " \n",
              "         [[110, 103,  60, ..., 219, 222, 195],\n",
              "          [103, 104, 141, ..., 218, 216, 194],\n",
              "          [ 84,  86, 230, ..., 215, 212, 186]],\n",
              " \n",
              "         [[106, 103,  61, ..., 218, 214, 181],\n",
              "          [105, 103, 141, ..., 215, 209, 181],\n",
              "          [ 85,  87, 228, ..., 212, 205, 173]],\n",
              " \n",
              "         [[106, 105,  65, ..., 212, 208, 186],\n",
              "          [104,  99, 143, ..., 209, 205, 183],\n",
              "          [ 86,  81, 226, ..., 209, 200, 177]]],\n",
              " \n",
              " \n",
              "        [[[ 85, 103,  84, ...,  88, 190, 230],\n",
              "          [ 88, 106, 160, ...,  87, 188, 226],\n",
              "          [ 68,  82, 238, ...,  94, 190, 227]],\n",
              " \n",
              "         [[ 89, 103,  81, ...,  85, 199, 230],\n",
              "          [ 82, 105, 154, ...,  84, 197, 226],\n",
              "          [ 72,  87, 233, ...,  93, 194, 227]],\n",
              " \n",
              "         [[ 85, 104,  87, ..., 105, 208, 229],\n",
              "          [ 79, 106, 158, ..., 103, 208, 225],\n",
              "          [ 67,  91, 238, ..., 114, 201, 226]],\n",
              " \n",
              "         ...,\n",
              " \n",
              "         [[111, 113,  63, ..., 217, 232, 190],\n",
              "          [104, 103, 144, ..., 217, 227, 190],\n",
              "          [ 87,  88, 235, ..., 214, 223, 181]],\n",
              " \n",
              "         [[109, 104,  62, ..., 221, 226, 178],\n",
              "          [105, 104, 143, ..., 220, 221, 177],\n",
              "          [ 86,  88, 232, ..., 219, 216, 169]],\n",
              " \n",
              "         [[103, 103,  63, ..., 218, 218, 181],\n",
              "          [106,  98, 145, ..., 217, 213, 178],\n",
              "          [ 79,  80, 231, ..., 218, 209, 171]]]], dtype=uint8),\n",
              " '__globals__': [],\n",
              " '__header__': b'MATLAB 5.0 MAT-file, Platform: GLNXA64, Created on: Mon Dec  5 21:09:26 2011',\n",
              " '__version__': '1.0',\n",
              " 'y': array([[1],\n",
              "        [9],\n",
              "        [2],\n",
              "        ...,\n",
              "        [1],\n",
              "        [6],\n",
              "        [9]], dtype=uint8)}"
            ]
          },
          "metadata": {
            "tags": []
          },
          "execution_count": 12
        }
      ]
    },
    {
      "cell_type": "code",
      "metadata": {
        "id": "6SR4gYffz_F_"
      },
      "source": [
        ""
      ],
      "execution_count": null,
      "outputs": []
    },
    {
      "cell_type": "code",
      "metadata": {
        "id": "UXYwWhHpz_GD"
      },
      "source": [
        ""
      ],
      "execution_count": null,
      "outputs": []
    },
    {
      "cell_type": "code",
      "metadata": {
        "id": "auFZ63dtz_GH"
      },
      "source": [
        ""
      ],
      "execution_count": null,
      "outputs": []
    },
    {
      "cell_type": "code",
      "metadata": {
        "id": "CGHZvq4zz_GK"
      },
      "source": [
        ""
      ],
      "execution_count": null,
      "outputs": []
    },
    {
      "cell_type": "markdown",
      "metadata": {
        "id": "7e7iSyWXz_GN"
      },
      "source": [
        "## 2. MLP neural network classifier\n",
        "* Build an MLP classifier model using the Sequential API. Your model should use only Flatten and Dense layers, with the final layer having a 10-way softmax output. \n",
        "* You should design and build the model yourself. Feel free to experiment with different MLP architectures. _Hint: to achieve a reasonable accuracy you won't need to use more than 4 or 5 layers._\n",
        "* Print out the model summary (using the summary() method)\n",
        "* Compile and train the model (we recommend a maximum of 30 epochs), making use of both training and validation sets during the training run. \n",
        "* Your model should track at least one appropriate metric, and use at least two callbacks during training, one of which should be a ModelCheckpoint callback.\n",
        "* As a guide, you should aim to achieve a final categorical cross entropy training loss of less than 1.0 (the validation loss might be higher).\n",
        "* Plot the learning curves for loss vs epoch and accuracy vs epoch for both training and validation sets.\n",
        "* Compute and display the loss and accuracy of the trained model on the test set."
      ]
    },
    {
      "cell_type": "code",
      "metadata": {
        "id": "l14VCBFVz_GO"
      },
      "source": [
        "def get_model(input_shape):\r\n",
        "  model = Sequential([\r\n",
        "                      Dense(64, activation='relu', kernel_initializer='he_uniform', bias_initializer='ones', input_shape = input_shape),\r\n",
        "                      Dense(64, activation='relu'),\r\n",
        "                      Dense(64, activation='relu'),\r\n",
        "                      Dense(64, activation='relu'),\r\n",
        "                      Dense(10, activation='softmax')\r\n",
        "  ])\r\n",
        "  \r\n",
        "  return model"
      ],
      "execution_count": 14,
      "outputs": []
    },
    {
      "cell_type": "code",
      "metadata": {
        "id": "beEZO1kvz_GR"
      },
      "source": [
        ""
      ],
      "execution_count": null,
      "outputs": []
    },
    {
      "cell_type": "code",
      "metadata": {
        "id": "YxJXq3xYz_GU"
      },
      "source": [
        ""
      ],
      "execution_count": null,
      "outputs": []
    },
    {
      "cell_type": "code",
      "metadata": {
        "id": "pPPbzGhVz_GW"
      },
      "source": [
        ""
      ],
      "execution_count": null,
      "outputs": []
    },
    {
      "cell_type": "code",
      "metadata": {
        "id": "7b5_8VsCz_GZ"
      },
      "source": [
        ""
      ],
      "execution_count": null,
      "outputs": []
    },
    {
      "cell_type": "code",
      "metadata": {
        "id": "b0kH6VYqz_Gc"
      },
      "source": [
        ""
      ],
      "execution_count": null,
      "outputs": []
    },
    {
      "cell_type": "markdown",
      "metadata": {
        "id": "ncPtDtCLz_Gg"
      },
      "source": [
        "## 3. CNN neural network classifier\n",
        "* Build a CNN classifier model using the Sequential API. Your model should use the Conv2D, MaxPool2D, BatchNormalization, Flatten, Dense and Dropout layers. The final layer should again have a 10-way softmax output. \n",
        "* You should design and build the model yourself. Feel free to experiment with different CNN architectures. _Hint: to achieve a reasonable accuracy you won't need to use more than 2 or 3 convolutional layers and 2 fully connected layers.)_\n",
        "* The CNN model should use fewer trainable parameters than your MLP model.\n",
        "* Compile and train the model (we recommend a maximum of 30 epochs), making use of both training and validation sets during the training run.\n",
        "* Your model should track at least one appropriate metric, and use at least two callbacks during training, one of which should be a ModelCheckpoint callback.\n",
        "* You should aim to beat the MLP model performance with fewer parameters!\n",
        "* Plot the learning curves for loss vs epoch and accuracy vs epoch for both training and validation sets.\n",
        "* Compute and display the loss and accuracy of the trained model on the test set."
      ]
    },
    {
      "cell_type": "code",
      "metadata": {
        "id": "yk2mH3Npz_Gh"
      },
      "source": [
        ""
      ],
      "execution_count": null,
      "outputs": []
    },
    {
      "cell_type": "code",
      "metadata": {
        "id": "lbgRgZ5cz_Gn"
      },
      "source": [
        ""
      ],
      "execution_count": null,
      "outputs": []
    },
    {
      "cell_type": "code",
      "metadata": {
        "id": "nkmS2vV2z_Gs"
      },
      "source": [
        ""
      ],
      "execution_count": null,
      "outputs": []
    },
    {
      "cell_type": "code",
      "metadata": {
        "id": "VytQECDVz_Gv"
      },
      "source": [
        ""
      ],
      "execution_count": null,
      "outputs": []
    },
    {
      "cell_type": "code",
      "metadata": {
        "id": "60mJypwQz_Gx"
      },
      "source": [
        ""
      ],
      "execution_count": null,
      "outputs": []
    },
    {
      "cell_type": "code",
      "metadata": {
        "id": "w2v80qosz_G0"
      },
      "source": [
        ""
      ],
      "execution_count": null,
      "outputs": []
    },
    {
      "cell_type": "markdown",
      "metadata": {
        "id": "3iBYFPWUz_G4"
      },
      "source": [
        "## 4. Get model predictions\n",
        "* Load the best weights for the MLP and CNN models that you saved during the training run.\n",
        "* Randomly select 5 images and corresponding labels from the test set and display the images with their labels.\n",
        "* Alongside the image and label, show each model’s predictive distribution as a bar chart, and the final model prediction given by the label with maximum probability."
      ]
    },
    {
      "cell_type": "code",
      "metadata": {
        "id": "XMYYWs0oz_G5"
      },
      "source": [
        ""
      ],
      "execution_count": null,
      "outputs": []
    },
    {
      "cell_type": "code",
      "metadata": {
        "id": "8yUPWbFCz_G8"
      },
      "source": [
        ""
      ],
      "execution_count": null,
      "outputs": []
    },
    {
      "cell_type": "code",
      "metadata": {
        "id": "W48syko0z_G-"
      },
      "source": [
        ""
      ],
      "execution_count": null,
      "outputs": []
    },
    {
      "cell_type": "code",
      "metadata": {
        "id": "J_qfLvK-z_HA"
      },
      "source": [
        ""
      ],
      "execution_count": null,
      "outputs": []
    },
    {
      "cell_type": "code",
      "metadata": {
        "id": "2Lx68VA7z_HE"
      },
      "source": [
        ""
      ],
      "execution_count": null,
      "outputs": []
    },
    {
      "cell_type": "code",
      "metadata": {
        "id": "NxKa37PWz_HL"
      },
      "source": [
        ""
      ],
      "execution_count": null,
      "outputs": []
    }
  ]
}