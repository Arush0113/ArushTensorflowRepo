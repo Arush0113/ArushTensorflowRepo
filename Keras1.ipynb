{
  "nbformat": 4,
  "nbformat_minor": 0,
  "metadata": {
    "colab": {
      "name": "Keras1.ipynb",
      "provenance": [],
      "authorship_tag": "ABX9TyNV9o01PgZ4RrBnvEsbUPT5",
      "include_colab_link": true
    },
    "kernelspec": {
      "name": "python3",
      "display_name": "Python 3"
    },
    "language_info": {
      "name": "python"
    }
  },
  "cells": [
    {
      "cell_type": "markdown",
      "metadata": {
        "id": "view-in-github",
        "colab_type": "text"
      },
      "source": [
        "<a href=\"https://colab.research.google.com/github/Arush0113/ArushTensorflowRepo/blob/main/Keras1.ipynb\" target=\"_parent\"><img src=\"https://colab.research.google.com/assets/colab-badge.svg\" alt=\"Open In Colab\"/></a>"
      ]
    },
    {
      "cell_type": "code",
      "metadata": {
        "id": "DBzRCKpvp08j"
      },
      "source": [
        "from tensorflow.keras.layers import Input, Dense, Flatten, Conv1D, AveragePooling1D\n",
        "from tensorflow.keras.models import Model"
      ],
      "execution_count": 2,
      "outputs": []
    },
    {
      "cell_type": "code",
      "metadata": {
        "id": "kp4XMwwEqMiJ"
      },
      "source": [
        "inputs = Input(shape = (32,1))\n",
        "h = Conv1D(16, 5, activation='relu')(inputs)\n",
        "h = AveragePooling1D(3)(h)\n",
        "h = Flatten()(h)\n",
        "outputs = Dense(20, activation='sigmoid')(h)\n",
        "\n",
        "model = Model(inputs = inputs, outputs = outputs)"
      ],
      "execution_count": 5,
      "outputs": []
    },
    {
      "cell_type": "code",
      "metadata": {
        "id": "MUY31g8TqhRe"
      },
      "source": [
        ""
      ],
      "execution_count": null,
      "outputs": []
    }
  ]
}