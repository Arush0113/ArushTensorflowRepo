{
  "nbformat": 4,
  "nbformat_minor": 0,
  "metadata": {
    "kernelspec": {
      "display_name": "Python 3",
      "language": "python",
      "name": "python3"
    },
    "language_info": {
      "codemirror_mode": {
        "name": "ipython",
        "version": 3
      },
      "file_extension": ".py",
      "mimetype": "text/x-python",
      "name": "python",
      "nbconvert_exporter": "python",
      "pygments_lexer": "ipython3",
      "version": "3.7.1"
    },
    "colab": {
      "name": "Coding Tutorial.ipynb",
      "provenance": [],
      "include_colab_link": true
    }
  },
  "cells": [
    {
      "cell_type": "markdown",
      "metadata": {
        "id": "view-in-github",
        "colab_type": "text"
      },
      "source": [
        "<a href=\"https://colab.research.google.com/github/Arush0113/ArushTensorflowRepo/blob/main/Coding_Tutorial_week_3_tut5.ipynb\" target=\"_parent\"><img src=\"https://colab.research.google.com/assets/colab-badge.svg\" alt=\"Open In Colab\"/></a>"
      ]
    },
    {
      "cell_type": "code",
      "metadata": {
        "scrolled": true,
        "colab": {
          "base_uri": "https://localhost:8080/"
        },
        "id": "pv__FZBWLV_K",
        "outputId": "975306de-383e-4ae4-9426-814d631b0fb7"
      },
      "source": [
        "import tensorflow as tf\n",
        "print(tf.__version__)"
      ],
      "execution_count": 1,
      "outputs": [
        {
          "output_type": "stream",
          "text": [
            "2.4.1\n"
          ],
          "name": "stdout"
        }
      ]
    },
    {
      "cell_type": "markdown",
      "metadata": {
        "id": "jzEfNiYrLV_Q"
      },
      "source": [
        "# Validation, regularisation and callbacks"
      ]
    },
    {
      "cell_type": "markdown",
      "metadata": {
        "id": "FPnuice6LV_R"
      },
      "source": [
        " ## Coding tutorials\n",
        " #### [1. Validation sets](#coding_tutorial_1)\n",
        " #### [2. Model regularisation](#coding_tutorial_2)\n",
        " #### [3. Introduction to callbacks](#coding_tutorial_3)\n",
        " #### [4. Early stopping / patience](#coding_tutorial_4)"
      ]
    },
    {
      "cell_type": "markdown",
      "metadata": {
        "id": "XdLgBgfwLV_R"
      },
      "source": [
        "***\n",
        "<a id=\"coding_tutorial_1\"></a>\n",
        "## Validation sets"
      ]
    },
    {
      "cell_type": "markdown",
      "metadata": {
        "id": "Qei1tNHULV_R"
      },
      "source": [
        "#### Load the data"
      ]
    },
    {
      "cell_type": "code",
      "metadata": {
        "colab": {
          "base_uri": "https://localhost:8080/"
        },
        "id": "LLQDs79MLV_S",
        "outputId": "87b8b7df-6b5c-4f7d-f99f-ad4b90f1a2ba"
      },
      "source": [
        "# Load the diabetes dataset\n",
        "from sklearn.datasets import load_diabetes\n",
        "diabetes_dataset = load_diabetes()\n",
        "print(diabetes_dataset['DESCR'])\n"
      ],
      "execution_count": 2,
      "outputs": [
        {
          "output_type": "stream",
          "text": [
            ".. _diabetes_dataset:\n",
            "\n",
            "Diabetes dataset\n",
            "----------------\n",
            "\n",
            "Ten baseline variables, age, sex, body mass index, average blood\n",
            "pressure, and six blood serum measurements were obtained for each of n =\n",
            "442 diabetes patients, as well as the response of interest, a\n",
            "quantitative measure of disease progression one year after baseline.\n",
            "\n",
            "**Data Set Characteristics:**\n",
            "\n",
            "  :Number of Instances: 442\n",
            "\n",
            "  :Number of Attributes: First 10 columns are numeric predictive values\n",
            "\n",
            "  :Target: Column 11 is a quantitative measure of disease progression one year after baseline\n",
            "\n",
            "  :Attribute Information:\n",
            "      - Age\n",
            "      - Sex\n",
            "      - Body mass index\n",
            "      - Average blood pressure\n",
            "      - S1\n",
            "      - S2\n",
            "      - S3\n",
            "      - S4\n",
            "      - S5\n",
            "      - S6\n",
            "\n",
            "Note: Each of these 10 feature variables have been mean centered and scaled by the standard deviation times `n_samples` (i.e. the sum of squares of each column totals 1).\n",
            "\n",
            "Source URL:\n",
            "https://www4.stat.ncsu.edu/~boos/var.select/diabetes.html\n",
            "\n",
            "For more information see:\n",
            "Bradley Efron, Trevor Hastie, Iain Johnstone and Robert Tibshirani (2004) \"Least Angle Regression,\" Annals of Statistics (with discussion), 407-499.\n",
            "(https://web.stanford.edu/~hastie/Papers/LARS/LeastAngle_2002.pdf)\n"
          ],
          "name": "stdout"
        }
      ]
    },
    {
      "cell_type": "code",
      "metadata": {
        "colab": {
          "base_uri": "https://localhost:8080/"
        },
        "id": "7Sfu_4Z5LV_S",
        "outputId": "6c70543d-a00e-4f27-a7fd-cf050e774b26"
      },
      "source": [
        "# Save the input and target variables\n",
        "print(diabetes_dataset.keys())\n",
        "\n",
        "data = diabetes_dataset['data']\n",
        "targets = diabetes_dataset['target']"
      ],
      "execution_count": 3,
      "outputs": [
        {
          "output_type": "stream",
          "text": [
            "dict_keys(['data', 'target', 'DESCR', 'feature_names', 'data_filename', 'target_filename'])\n"
          ],
          "name": "stdout"
        }
      ]
    },
    {
      "cell_type": "code",
      "metadata": {
        "colab": {
          "base_uri": "https://localhost:8080/"
        },
        "id": "X6bn41pkLV_S",
        "outputId": "4bf9d94e-7911-4bc2-9225-f850bbfa9da1"
      },
      "source": [
        "# Normalise the target data (this will make clearer training curves)\n",
        "targets = (targets - targets.mean(axis = 0))/ targets.std()\n",
        "targets\n"
      ],
      "execution_count": 4,
      "outputs": [
        {
          "output_type": "execute_result",
          "data": {
            "text/plain": [
              "array([-1.47194752e-02, -1.00165882e+00, -1.44579915e-01,  6.99512942e-01,\n",
              "       -2.22496178e-01, -7.15965848e-01, -1.83538046e-01, -1.15749134e+00,\n",
              "       -5.47147277e-01,  2.05006151e+00, -6.64021672e-01, -1.07957508e+00,\n",
              "        3.48889755e-01,  4.26806019e-01, -4.43258925e-01,  2.45001404e-01,\n",
              "        1.80071184e-01, -1.05621783e-01, -7.15965848e-01,  2.06043272e-01,\n",
              "       -1.09256112e+00, -1.33929596e+00, -1.09256112e+00,  1.20596866e+00,\n",
              "        4.13819975e-01,  6.47568766e-01, -1.96524090e-01, -8.71798376e-01,\n",
              "       -2.74440354e-01,  1.69943833e+00, -3.00412442e-01, -1.20943552e+00,\n",
              "        2.45262887e+00, -8.45826288e-01, -1.13151925e+00, -6.51035629e-01,\n",
              "        1.46568953e+00,  1.60853602e+00,  1.29687096e+00, -8.06868156e-01,\n",
              "       -6.77007716e-01, -1.26137969e+00, -1.18346343e+00, -7.80896068e-01,\n",
              "        1.38777327e+00, -1.28735178e+00,  4.91736239e-01, -1.31593871e-01,\n",
              "       -1.00165882e+00, -1.31593871e-01,  3.72247006e-02,  9.46247777e-01,\n",
              "       -1.20943552e+00, -6.25063541e-01,  3.87847887e-01, -3.13398486e-01,\n",
              "       -1.30033783e+00, -1.49512849e+00,  2.32015360e-01,  2.32015360e-01,\n",
              "       -1.18346343e+00, -1.05621783e-01, -1.30033783e+00, -3.13398486e-01,\n",
              "       -1.05360299e+00,  1.41113052e-01, -2.77055191e-02, -7.15965848e-01,\n",
              "        1.02154920e-01,  3.35903711e-01, -1.35228200e+00,  1.53061975e+00,\n",
              "        6.47568766e-01, -5.34161233e-01, -8.71798376e-01, -1.43019827e+00,\n",
              "        2.32015360e-01,  6.21596678e-01,  1.29687096e+00, -5.08189145e-01,\n",
              "       -1.18607827e-01, -1.31332387e+00, -1.30033783e+00,  7.51457118e-01,\n",
              "       -1.13151925e+00, -1.44579915e-01, -1.26137969e+00, -2.35482222e-01,\n",
              "       -1.43019827e+00, -5.34161233e-01, -7.02979804e-01,  1.54099096e-01,\n",
              "       -1.35228200e+00, -7.28951892e-01, -8.06868156e-01,  1.28127008e-01,\n",
              "       -2.77055191e-02,  1.64749415e+00, -7.80896068e-01, -8.97770464e-01,\n",
              "       -3.13398486e-01, -6.51035629e-01,  1.94617316e+00,  5.95624590e-01,\n",
              "       -7.41937936e-01, -1.28735178e+00, -2.35482222e-01, -1.05621783e-01,\n",
              "        1.03715008e+00, -9.23742551e-01, -6.25063541e-01, -1.20943552e+00,\n",
              "        1.21895470e+00,  1.88124294e+00,  1.37478723e+00,  9.98191953e-01,\n",
              "        1.59554997e+00,  1.67346624e+00,  3.48889755e-01,  6.21596678e-01,\n",
              "        6.21596678e-01,  2.70973492e-01,  3.61875799e-01, -8.84784420e-01,\n",
              "       -4.04300794e-01,  1.15140964e-01, -6.89993760e-01, -5.60133321e-01,\n",
              "       -4.82217057e-01,  1.50464767e+00,  1.58256393e+00,  7.61828325e-02,\n",
              "       -5.86105409e-01, -8.97770464e-01, -6.38049585e-01,  1.55659184e+00,\n",
              "       -8.71798376e-01,  1.66048019e+00,  2.38769865e+00,  1.67346624e+00,\n",
              "       -4.43258925e-01,  2.14096382e+00,  1.07610822e+00, -1.19644947e+00,\n",
              "        2.83959536e-01,  1.38777327e+00,  3.35903711e-01, -3.13398486e-01,\n",
              "       -7.28951892e-01, -3.39370574e-01,  1.76436855e+00, -8.32840244e-01,\n",
              "        1.81631272e+00, -1.05360299e+00,  5.82638546e-01,  4.39792063e-01,\n",
              "       -1.65096101e+00, -8.84784420e-01, -7.28951892e-01,  5.56666458e-01,\n",
              "       -1.28735178e+00,  8.42359425e-01,  2.57987448e-01, -2.74440354e-01,\n",
              "        8.03401293e-01, -1.20943552e+00, -1.06658903e+00,  8.81317557e-01,\n",
              "        1.50464767e+00, -1.73343121e-03, -1.36526805e+00, -1.01464486e+00,\n",
              "        1.85527085e+00, -6.64021672e-01, -1.47194752e-02, -3.26384530e-01,\n",
              "        1.10208030e+00,  9.46247777e-01, -9.23742551e-01, -1.47194752e-02,\n",
              "       -5.86105409e-01, -1.14450530e+00, -1.83538046e-01,  4.26806019e-01,\n",
              "        1.46568953e+00, -6.64021672e-01, -1.96524090e-01, -1.18607827e-01,\n",
              "       -1.44579915e-01, -9.49714639e-01,  1.81631272e+00,  3.35903711e-01,\n",
              "       -7.93882112e-01, -4.69231013e-01, -8.58812332e-01, -3.91314750e-01,\n",
              "       -1.04061695e+00, -3.00412442e-01, -1.31593871e-01, -8.06868156e-01,\n",
              "        7.61828325e-02, -1.46915640e+00,  5.69652502e-01,  9.07289645e-01,\n",
              "        1.62152206e+00, -6.89993760e-01,  5.69652502e-01,  6.47568766e-01,\n",
              "        3.72247006e-02, -9.75686727e-01,  5.04722283e-01, -1.06658903e+00,\n",
              "       -1.02763090e+00, -1.33929596e+00, -1.13151925e+00,  1.43971745e+00,\n",
              "        1.24492679e+00,  1.86825690e+00,  8.03401293e-01,  4.26806019e-01,\n",
              "       -9.62700683e-01, -7.67910024e-01,  1.29687096e+00, -2.77055191e-02,\n",
              "       -9.75686727e-01,  7.25485030e-01, -9.75686727e-01, -5.73119365e-01,\n",
              "        1.02154920e-01, -1.28735178e+00,  8.81317557e-01,  2.42386567e-02,\n",
              "        1.38777327e+00, -8.06868156e-01,  1.21895470e+00, -3.65342662e-01,\n",
              "       -1.10554717e+00, -1.04061695e+00,  1.36180118e+00,  1.42673140e+00,\n",
              "        1.59554997e+00,  3.22917667e-01, -1.05360299e+00, -1.36526805e+00,\n",
              "        4.52778107e-01, -3.52356618e-01, -9.62700683e-01, -1.31332387e+00,\n",
              "        1.37478723e+00,  8.16387337e-01,  1.95915920e+00,  1.17999657e+00,\n",
              "       -7.93882112e-01, -2.77055191e-02,  2.05006151e+00,  1.12526127e-02,\n",
              "        2.51755909e+00, -1.15749134e+00, -8.19854200e-01, -1.32630991e+00,\n",
              "       -1.46915640e+00, -6.38049585e-01,  2.02408942e+00, -4.69231013e-01,\n",
              "       -9.26357388e-02, -1.01464486e+00, -1.39124013e+00, -4.82217057e-01,\n",
              "        1.45270349e+00, -8.45826288e-01,  6.47568766e-01, -3.26384530e-01,\n",
              "        3.87847887e-01,  1.15402448e+00, -1.11853321e+00, -7.54923980e-01,\n",
              "        1.69943833e+00, -1.14450530e+00, -6.51035629e-01,  6.21596678e-01,\n",
              "        1.46568953e+00, -7.54923980e-01,  1.01117800e+00,  3.74861843e-01,\n",
              "        5.02107446e-02,  1.05013613e+00, -1.19644947e+00,  8.68331513e-01,\n",
              "       -9.36728595e-01, -1.09256112e+00,  2.33575448e+00,  1.24492679e+00,\n",
              "       -8.84784420e-01,  6.21596678e-01, -1.26137969e+00, -8.71798376e-01,\n",
              "       -8.19854200e-01, -1.57304475e+00, -3.00412442e-01, -8.97770464e-01,\n",
              "        1.59554997e+00, -1.13151925e+00,  5.95624590e-01,  1.08909426e+00,\n",
              "        1.30985701e+00, -3.65342662e-01, -1.40422618e+00,  2.57987448e-01,\n",
              "       -4.95203101e-01, -1.31593871e-01, -5.60133321e-01,  3.61875799e-01,\n",
              "       -1.05621783e-01,  1.41113052e-01, -6.66636509e-02, -7.15965848e-01,\n",
              "        8.81317557e-01,  4.91736239e-01, -5.60133321e-01,  5.04722283e-01,\n",
              "       -3.91314750e-01,  1.01117800e+00,  1.16701052e+00,  1.24492679e+00,\n",
              "        1.25791283e+00,  5.17708327e-01, -2.74440354e-01,  1.10208030e+00,\n",
              "       -9.62700683e-01, -2.22496178e-01,  1.19298261e+00,  6.08610634e-01,\n",
              "        1.53061975e+00,  1.54099096e-01, -1.04061695e+00, -7.28951892e-01,\n",
              "        1.99811734e+00, -7.93882112e-01,  8.03401293e-01, -7.41937936e-01,\n",
              "        8.29373381e-01,  1.43971745e+00,  3.35903711e-01, -5.08189145e-01,\n",
              "        6.21596678e-01, -1.70552003e-01, -1.70552003e-01, -8.32840244e-01,\n",
              "       -5.36776070e-02, -8.32840244e-01,  1.17999657e+00, -1.05360299e+00,\n",
              "       -9.75686727e-01, -5.60133321e-01,  1.55659184e+00, -1.19644947e+00,\n",
              "       -1.27436574e+00,  8.94303601e-01, -8.06868156e-01,  2.06304756e+00,\n",
              "        1.67346624e+00,  3.87847887e-01,  2.19290800e+00, -1.22242156e+00,\n",
              "        1.42673140e+00,  6.99512942e-01,  1.05013613e+00,  1.16701052e+00,\n",
              "       -3.78328706e-01,  1.93057228e-01, -1.15749134e+00,  5.82638546e-01,\n",
              "       -1.05360299e+00,  2.06043272e-01, -1.57565959e-01,  8.42359425e-01,\n",
              "       -4.04300794e-01,  1.07610822e+00,  1.20596866e+00, -1.45617035e+00,\n",
              "       -1.30033783e+00, -6.25063541e-01, -2.61454310e-01, -8.32840244e-01,\n",
              "       -1.07957508e+00,  8.68331513e-01, -1.04061695e+00,  6.34582722e-01,\n",
              "       -5.47147277e-01, -1.31332387e+00,  1.62152206e+00, -1.15749134e+00,\n",
              "       -4.43258925e-01, -1.07957508e+00,  1.56957789e+00,  1.37478723e+00,\n",
              "       -1.41721222e+00,  5.95624590e-01,  1.16701052e+00,  1.03715008e+00,\n",
              "        2.96945580e-01, -7.67910024e-01,  2.06043272e-01,  1.59554997e+00,\n",
              "        1.82929877e+00,  1.67346624e+00, -1.04061695e+00, -1.57565959e-01,\n",
              "        4.78750195e-01,  3.74861843e-01,  7.38471074e-01, -2.09510134e-01,\n",
              "        1.41374536e+00, -5.08189145e-01, -2.74440354e-01,  2.83959536e-01,\n",
              "        1.36180118e+00, -1.26137969e+00, -8.84784420e-01, -1.43019827e+00,\n",
              "       -7.96496949e-02,  7.77429206e-01,  1.05013613e+00, -7.93882112e-01,\n",
              "       -5.34161233e-01, -1.73343121e-03, -4.17286837e-01, -1.10554717e+00,\n",
              "        2.05006151e+00, -7.54923980e-01,  4.00833931e-01, -1.11853321e+00,\n",
              "        2.70973492e-01, -1.04061695e+00, -1.33929596e+00, -1.14450530e+00,\n",
              "       -1.35228200e+00,  3.35903711e-01, -6.25063541e-01, -2.61454310e-01,\n",
              "        8.81317557e-01, -1.23540761e+00])"
            ]
          },
          "metadata": {
            "tags": []
          },
          "execution_count": 4
        }
      ]
    },
    {
      "cell_type": "code",
      "metadata": {
        "colab": {
          "base_uri": "https://localhost:8080/"
        },
        "id": "Tf8yXH92LV_S",
        "outputId": "690b05b6-7e43-4e44-dccd-342239b11b1c"
      },
      "source": [
        "# Split the data into train and test sets\n",
        "from sklearn.model_selection import train_test_split\n",
        "train_data, test_data, train_targets, test_targets = train_test_split(data, targets, test_size = 0.1)\n",
        "\n",
        "print(train_data.shape)\n",
        "print(test_data.shape)\n",
        "print(train_targets.shape)\n",
        "print(test_targets.shape)\n"
      ],
      "execution_count": 5,
      "outputs": [
        {
          "output_type": "stream",
          "text": [
            "(397, 10)\n",
            "(45, 10)\n",
            "(397,)\n",
            "(45,)\n"
          ],
          "name": "stdout"
        }
      ]
    },
    {
      "cell_type": "markdown",
      "metadata": {
        "id": "bJzoAMJ6LV_T"
      },
      "source": [
        "#### Train a feedforward neural network model"
      ]
    },
    {
      "cell_type": "code",
      "metadata": {
        "id": "5NKbe30XLV_T"
      },
      "source": [
        "# Build the model\n",
        "from tensorflow.keras.models import Sequential\n",
        "from tensorflow.keras.layers import Dense, Dropout\n",
        "from tensorflow.keras import regularizers\n",
        "\n",
        "def get_model():\n",
        "  model = Sequential([\n",
        "                    Dense(128, activation = 'relu', input_shape = (train_data.shape[1],)),\n",
        "                    Dense(128, activation = 'relu'),\n",
        "                    Dense(128, activation = 'relu'),\n",
        "                    Dense(128, activation = 'relu'),\n",
        "                    Dense(128, activation = 'relu'),\n",
        "                    Dense(128, activation = 'relu'),\n",
        "                    Dense(1)\n",
        "  ])\n",
        "  return model\n",
        "\n"
      ],
      "execution_count": 78,
      "outputs": []
    },
    {
      "cell_type": "code",
      "metadata": {
        "colab": {
          "base_uri": "https://localhost:8080/"
        },
        "id": "GN8HKSgELV_T",
        "outputId": "c194ed09-adb8-47b5-edf5-34cefb380b55"
      },
      "source": [
        "# Print the model summary\n",
        "model = get_model()\n",
        "\n",
        "model.summary()\n"
      ],
      "execution_count": 84,
      "outputs": [
        {
          "output_type": "stream",
          "text": [
            "Model: \"sequential_9\"\n",
            "_________________________________________________________________\n",
            "Layer (type)                 Output Shape              Param #   \n",
            "=================================================================\n",
            "dense_63 (Dense)             (None, 128)               1408      \n",
            "_________________________________________________________________\n",
            "dense_64 (Dense)             (None, 128)               16512     \n",
            "_________________________________________________________________\n",
            "dense_65 (Dense)             (None, 128)               16512     \n",
            "_________________________________________________________________\n",
            "dense_66 (Dense)             (None, 128)               16512     \n",
            "_________________________________________________________________\n",
            "dense_67 (Dense)             (None, 128)               16512     \n",
            "_________________________________________________________________\n",
            "dense_68 (Dense)             (None, 128)               16512     \n",
            "_________________________________________________________________\n",
            "dense_69 (Dense)             (None, 1)                 129       \n",
            "=================================================================\n",
            "Total params: 84,097\n",
            "Trainable params: 84,097\n",
            "Non-trainable params: 0\n",
            "_________________________________________________________________\n"
          ],
          "name": "stdout"
        }
      ]
    },
    {
      "cell_type": "code",
      "metadata": {
        "id": "jAKCulpDLV_U"
      },
      "source": [
        "# Compile the model\n",
        "model.compile(optimizer= 'adam', loss= 'mse', metrics= ['mae'])\n"
      ],
      "execution_count": 85,
      "outputs": []
    },
    {
      "cell_type": "code",
      "metadata": {
        "id": "LS2ddh3gLV_U"
      },
      "source": [
        "# Train the model, with some of the data reserved for validation\n",
        "history = model.fit(train_data, train_targets, epochs = 100, verbose = False, batch_size= 64, validation_split = 0.15)\n"
      ],
      "execution_count": 86,
      "outputs": []
    },
    {
      "cell_type": "code",
      "metadata": {
        "id": "KvQ0DP5aLV_U",
        "colab": {
          "base_uri": "https://localhost:8080/"
        },
        "outputId": "854612d8-3ebf-4a0f-b13b-e90338d1f331"
      },
      "source": [
        "# Evaluate the model on the test set\n",
        "model.evaluate(test_data, test_targets, verbose = 2)\n"
      ],
      "execution_count": 87,
      "outputs": [
        {
          "output_type": "stream",
          "text": [
            "2/2 - 0s - loss: 0.8853 - mae: 0.7124\n"
          ],
          "name": "stdout"
        },
        {
          "output_type": "execute_result",
          "data": {
            "text/plain": [
              "[0.8852910399436951, 0.7123876214027405]"
            ]
          },
          "metadata": {
            "tags": []
          },
          "execution_count": 87
        }
      ]
    },
    {
      "cell_type": "markdown",
      "metadata": {
        "id": "MdkshbWPLV_U"
      },
      "source": [
        "#### Plot the learning curves"
      ]
    },
    {
      "cell_type": "code",
      "metadata": {
        "id": "YKISmBPWLV_U"
      },
      "source": [
        "import matplotlib.pyplot as plt\n",
        "%matplotlib inline"
      ],
      "execution_count": 88,
      "outputs": []
    },
    {
      "cell_type": "code",
      "metadata": {
        "id": "WBS4GP3JLV_V",
        "colab": {
          "base_uri": "https://localhost:8080/",
          "height": 295
        },
        "outputId": "77cefa3c-07ab-40a7-a436-356e3739ae6b"
      },
      "source": [
        "# Plot the training and validation loss\n",
        "\n",
        "plt.plot(history.history['loss'])\n",
        "plt.plot(history.history['val_loss'])\n",
        "plt.title('Loss vs. epochs')\n",
        "plt.ylabel('Loss')\n",
        "plt.xlabel('Epoch')\n",
        "plt.legend(['Training', 'Validation'], loc='upper right')\n",
        "plt.show()"
      ],
      "execution_count": 89,
      "outputs": [
        {
          "output_type": "display_data",
          "data": {
            "image/png": "[encoded data removed]",
            "text/plain": [
              "<Figure size 432x288 with 1 Axes>"
            ]
          },
          "metadata": {
            "tags": [],
            "needs_background": "light"
          }
        }
      ]
    },
    {
      "cell_type": "markdown",
      "metadata": {
        "id": "18jYuQaSLV_V"
      },
      "source": [
        "***\n",
        "<a id=\"coding_tutorial_2\"></a>\n",
        "## Model regularisation"
      ]
    },
    {
      "cell_type": "markdown",
      "metadata": {
        "id": "h2Qc0k5eLV_V"
      },
      "source": [
        "#### Adding regularisation with weight decay and dropout"
      ]
    },
    {
      "cell_type": "code",
      "metadata": {
        "id": "ufKE0fkaLV_V"
      },
      "source": [
        "from tensorflow.keras.layers import Dropout\n",
        "from tensorflow.keras import regularizers"
      ],
      "execution_count": 90,
      "outputs": []
    },
    {
      "cell_type": "code",
      "metadata": {
        "id": "bsOq_MQmLV_W"
      },
      "source": [
        "def get_regularised_model(wd, rate):\n",
        "    model = Sequential([\n",
        "        Dense(128, activation=\"relu\", kernel_regularizer= regularizers.l2(wd), input_shape=(train_data.shape[1],)),\n",
        "        Dropout(rate),\n",
        "        Dense(128, kernel_regularizer= regularizers.l2(wd), activation=\"relu\"),\n",
        "        Dropout(rate),\n",
        "        Dense(128, kernel_regularizer= regularizers.l2(wd), activation=\"relu\"),\n",
        "        Dropout(rate),\n",
        "        Dense(128, kernel_regularizer= regularizers.l2(wd), activation=\"relu\"),\n",
        "        Dropout(rate),\n",
        "        Dense(128, kernel_regularizer= regularizers.l2(wd), activation=\"relu\"),\n",
        "        Dropout(rate),\n",
        "        Dense(128, kernel_regularizer= regularizers.l2(wd), activation=\"relu\"),\n",
        "        Dense(1)\n",
        "    ])\n",
        "    return model"
      ],
      "execution_count": 91,
      "outputs": []
    },
    {
      "cell_type": "code",
      "metadata": {
        "id": "3GhtkybYLV_W"
      },
      "source": [
        "# Re-build the model with weight decay and dropout layers\n",
        "regularised_model = get_regularised_model(1e-5, 0.3)\n"
      ],
      "execution_count": 92,
      "outputs": []
    },
    {
      "cell_type": "code",
      "metadata": {
        "id": "4kmh392CLV_W"
      },
      "source": [
        "# Compile the model\n",
        "model.compile(optimizer = 'adam', loss = 'mse', metrics = ['mae'])\n"
      ],
      "execution_count": 93,
      "outputs": []
    },
    {
      "cell_type": "code",
      "metadata": {
        "id": "VEmwQyXELV_W"
      },
      "source": [
        "# Train the model, with some of the data reserved for validation\n",
        "history = model.fit(train_data, train_targets, epochs = 100, batch_size= 64, validation_split=0.15, verbose=False)\n"
      ],
      "execution_count": 94,
      "outputs": []
    },
    {
      "cell_type": "code",
      "metadata": {
        "id": "S7VJ2qs4LV_X",
        "colab": {
          "base_uri": "https://localhost:8080/"
        },
        "outputId": "0e624f15-6ff1-4699-dc05-c27503af8be3"
      },
      "source": [
        "# Evaluate the model on the test set\n",
        "model.evaluate(test_data, test_targets, verbose = 2)\n"
      ],
      "execution_count": 95,
      "outputs": [
        {
          "output_type": "stream",
          "text": [
            "2/2 - 0s - loss: 0.8879 - mae: 0.7465\n"
          ],
          "name": "stdout"
        },
        {
          "output_type": "execute_result",
          "data": {
            "text/plain": [
              "[0.8879028558731079, 0.7465091943740845]"
            ]
          },
          "metadata": {
            "tags": []
          },
          "execution_count": 95
        }
      ]
    },
    {
      "cell_type": "markdown",
      "metadata": {
        "id": "Jo1n-20ZLV_X"
      },
      "source": [
        "#### Plot the learning curves"
      ]
    },
    {
      "cell_type": "code",
      "metadata": {
        "id": "P9LO4-JyLV_X",
        "colab": {
          "base_uri": "https://localhost:8080/",
          "height": 295
        },
        "outputId": "8fa50c4b-d84e-460c-f0f5-376412c1924f"
      },
      "source": [
        "# Plot the training and validation loss\n",
        "\n",
        "import matplotlib.pyplot as plt\n",
        "\n",
        "plt.plot(history.history['loss'])\n",
        "plt.plot(history.history['val_loss'])\n",
        "plt.title('Loss vs. epochs')\n",
        "plt.ylabel('Loss')\n",
        "plt.xlabel('Epoch')\n",
        "plt.legend(['Training', 'Validation'], loc='upper right')\n",
        "plt.show()"
      ],
      "execution_count": 96,
      "outputs": [
        {
          "output_type": "display_data",
          "data": {
            "image/png": "[encoded data removed]",
            "text/plain": [
              "<Figure size 432x288 with 1 Axes>"
            ]
          },
          "metadata": {
            "tags": [],
            "needs_background": "light"
          }
        }
      ]
    },
    {
      "cell_type": "markdown",
      "metadata": {
        "id": "zDHHbVX2LV_X"
      },
      "source": [
        "***\n",
        "<a id=\"coding_tutorial_3\"></a>\n",
        "## Introduction to callbacks"
      ]
    },
    {
      "cell_type": "markdown",
      "metadata": {
        "id": "W7aq3iZdLV_X"
      },
      "source": [
        "#### Example training callback"
      ]
    },
    {
      "cell_type": "code",
      "metadata": {
        "id": "jC578LcdLV_Y"
      },
      "source": [
        "# Write a custom callback\n",
        "from tensorflow.keras.callbacks import Callback\n",
        "\n",
        "class TrainingCallback(Callback):\n",
        "\n",
        "  def on_train_begin(self, logs = None):\n",
        "    print('Starting training....')\n",
        "\n",
        "  def on_epoch_begin(self, epoch, logs = None):\n",
        "    print(f\"Starting epoch {epoch}\")\n",
        "\n",
        "  def on_train_batch_begin(self, batch, logs = None):\n",
        "    print(f\"Starting batch {batch}\")\n",
        "  \n",
        "  def on_train_batch_end(self, batch, logs = None):\n",
        "    print(f\"Finished batch {batch}\")\n",
        "  \n",
        "  def on_epoch_end(self, epoch, logs = None):\n",
        "    print(f\"Finished epoch {epoch}\")\n",
        "\n",
        "  def on_train_end(self, logs = None):\n",
        "    print('Finished Training!')\n"
      ],
      "execution_count": 97,
      "outputs": []
    },
    {
      "cell_type": "code",
      "metadata": {
        "id": "RvOWheLRLV_Y"
      },
      "source": [
        "# Re-build the model\n",
        "model = get_regularised_model(1e-5, 0.3)\n"
      ],
      "execution_count": 98,
      "outputs": []
    },
    {
      "cell_type": "code",
      "metadata": {
        "id": "P_6eBzclLV_Y"
      },
      "source": [
        "# Compile the model\n",
        "model.compile(optimizer = \"adam\", loss = \"mse\")\n"
      ],
      "execution_count": 99,
      "outputs": []
    },
    {
      "cell_type": "markdown",
      "metadata": {
        "id": "Ox0ne3lELV_Z"
      },
      "source": [
        "#### Train the model with the callback"
      ]
    },
    {
      "cell_type": "code",
      "metadata": {
        "id": "WdcgEAL5LV_Z",
        "colab": {
          "base_uri": "https://localhost:8080/"
        },
        "outputId": "4d6e8c63-fc02-40d0-9af7-2d52db46f8a8"
      },
      "source": [
        "# Train the model, with some of the data reserved for validation\n",
        "\n",
        "model.fit(train_data, train_targets, epochs = 3, batch_size = 128, verbose = False, callbacks = [TrainingCallback()])"
      ],
      "execution_count": 100,
      "outputs": [
        {
          "output_type": "stream",
          "text": [
            "Starting training....\n",
            "Starting epoch 0\n",
            "Starting batch 0\n",
            "Finished batch 0\n",
            "Starting batch 1\n",
            "Finished batch 1\n",
            "Starting batch 2\n",
            "Finished batch 2\n",
            "Starting batch 3\n",
            "Finished batch 3\n",
            "Finished epoch 0\n",
            "Starting epoch 1\n",
            "Starting batch 0\n",
            "Finished batch 0\n",
            "Starting batch 1\n",
            "Finished batch 1\n",
            "Starting batch 2\n",
            "Finished batch 2\n",
            "Starting batch 3\n",
            "Finished batch 3\n",
            "Finished epoch 1\n",
            "Starting epoch 2\n",
            "Starting batch 0\n",
            "Finished batch 0\n",
            "Starting batch 1\n",
            "Finished batch 1\n",
            "Starting batch 2\n",
            "Finished batch 2\n",
            "Starting batch 3\n",
            "Finished batch 3\n",
            "Finished epoch 2\n",
            "Finished Training!\n"
          ],
          "name": "stdout"
        },
        {
          "output_type": "execute_result",
          "data": {
            "text/plain": [
              "<tensorflow.python.keras.callbacks.History at 0x7fa73714b310>"
            ]
          },
          "metadata": {
            "tags": []
          },
          "execution_count": 100
        }
      ]
    },
    {
      "cell_type": "code",
      "metadata": {
        "id": "ho4zst-TLV_Z",
        "colab": {
          "base_uri": "https://localhost:8080/"
        },
        "outputId": "fd2224b8-a4e1-4912-d4af-d94c55963f90"
      },
      "source": [
        "# Evaluate the model\n",
        "class TestingCallback(Callback):\n",
        "  def on_test_begin(self, logs = None):\n",
        "    print(\"Starting testing....\")\n",
        "\n",
        "  def on_test_batch_begin(self, batch, logs = None):\n",
        "    print(f\"Testing: Starting Batch {batch}\")\n",
        "\n",
        "  def on_test_batch_end(self, batch, logs = None):\n",
        "    print(f\"Testing: Finished Batch {batch}\")\n",
        "\n",
        "  def on_test_end(self, logs = None):\n",
        "    print(\"Finished Testing!\")\n",
        "\n",
        "model.evaluate(test_data, test_targets, verbose = False)"
      ],
      "execution_count": 101,
      "outputs": [
        {
          "output_type": "execute_result",
          "data": {
            "text/plain": [
              "0.9887192845344543"
            ]
          },
          "metadata": {
            "tags": []
          },
          "execution_count": 101
        }
      ]
    },
    {
      "cell_type": "code",
      "metadata": {
        "id": "9s-ydrUoLV_Z",
        "colab": {
          "base_uri": "https://localhost:8080/"
        },
        "outputId": "7182373a-2a79-42ec-866b-ca7d73ed21a3"
      },
      "source": [
        "# Make predictions with the model\n",
        "\n",
        "class PredictionCallback(Callback):\n",
        "  def on_predict_begin(self, logs = None):\n",
        "    print(\"Starting prediction....\")\n",
        "\n",
        "  def on_predict_batch_begin(self, batch, logs = None):\n",
        "    print(f\"Prediction: Starting Batch {batch}\")\n",
        "\n",
        "  def on_predict_batch_end(self, batch, logs = None):\n",
        "    print(f\"Prediction: Finished Batch {batch}\")\n",
        "\n",
        "  def on_predict_end(self, logs = None):\n",
        "    print(\"Finished prediction!\")\n",
        "\n",
        "model.predict(test_data, verbose= False, callbacks= [PredictionCallback()])"
      ],
      "execution_count": 102,
      "outputs": [
        {
          "output_type": "stream",
          "text": [
            "Starting prediction....\n",
            "Prediction: Starting Batch 0\n",
            "Prediction: Finished Batch 0\n",
            "Prediction: Starting Batch 1\n",
            "Prediction: Finished Batch 1\n",
            "Finished prediction!\n"
          ],
          "name": "stdout"
        },
        {
          "output_type": "execute_result",
          "data": {
            "text/plain": [
              "array([[-0.06255727],\n",
              "       [-0.01260474],\n",
              "       [ 0.11786417],\n",
              "       [-0.00376952],\n",
              "       [-0.01063718],\n",
              "       [-0.05546352],\n",
              "       [ 0.02859299],\n",
              "       [ 0.08169273],\n",
              "       [-0.04125163],\n",
              "       [ 0.01564615],\n",
              "       [-0.0181624 ],\n",
              "       [-0.03906571],\n",
              "       [-0.00481038],\n",
              "       [ 0.01488171],\n",
              "       [ 0.07522446],\n",
              "       [ 0.05731096],\n",
              "       [ 0.07860776],\n",
              "       [ 0.07689581],\n",
              "       [-0.05387317],\n",
              "       [ 0.07914215],\n",
              "       [-0.05591302],\n",
              "       [-0.02089093],\n",
              "       [ 0.01089357],\n",
              "       [ 0.06593467],\n",
              "       [-0.03124452],\n",
              "       [ 0.09889002],\n",
              "       [-0.01476975],\n",
              "       [-0.06036148],\n",
              "       [ 0.07311678],\n",
              "       [ 0.09772652],\n",
              "       [ 0.09346818],\n",
              "       [ 0.06253087],\n",
              "       [ 0.07779832],\n",
              "       [-0.05937584],\n",
              "       [-0.02822529],\n",
              "       [-0.0256865 ],\n",
              "       [ 0.06901043],\n",
              "       [ 0.07892044],\n",
              "       [-0.05523967],\n",
              "       [ 0.02697918],\n",
              "       [-0.04362435],\n",
              "       [-0.05464616],\n",
              "       [ 0.09467123],\n",
              "       [ 0.06555521],\n",
              "       [ 0.0724759 ]], dtype=float32)"
            ]
          },
          "metadata": {
            "tags": []
          },
          "execution_count": 102
        }
      ]
    },
    {
      "cell_type": "markdown",
      "metadata": {
        "id": "Udgysu_ALV_a"
      },
      "source": [
        "***\n",
        "<a id=\"coding_tutorial_4\"></a>\n",
        "## Early stopping / patience"
      ]
    },
    {
      "cell_type": "markdown",
      "metadata": {
        "id": "uN-XYwjyLV_a"
      },
      "source": [
        "#### Re-train the models with early stopping"
      ]
    },
    {
      "cell_type": "code",
      "metadata": {
        "id": "iGe-97teLV_a"
      },
      "source": [
        "# Re-train the unregularised model\n",
        "unregularised_model = get_model()\n",
        "unregularised_model.compile(optimizer = \"adam\", loss = \"mse\")\n",
        "unreg_history = unregularised_model.fit(train_data, train_targets, epochs = 100, validation_split = 0.15,\n",
        "                                        batch_size = 64, verbose = False, callbacks = [tf.keras.callbacks.EarlyStopping()])\n"
      ],
      "execution_count": 103,
      "outputs": []
    },
    {
      "cell_type": "code",
      "metadata": {
        "id": "BQnjTUBjLV_a",
        "colab": {
          "base_uri": "https://localhost:8080/"
        },
        "outputId": "45b63033-702d-47fc-a2f1-3489ea93104b"
      },
      "source": [
        "# Evaluate the model on the test set\n",
        "\n",
        "unregularised_model.evaluate(test_data, test_targets, verbose = 2)"
      ],
      "execution_count": 104,
      "outputs": [
        {
          "output_type": "stream",
          "text": [
            "2/2 - 0s - loss: 0.5801\n"
          ],
          "name": "stdout"
        },
        {
          "output_type": "execute_result",
          "data": {
            "text/plain": [
              "0.580068826675415"
            ]
          },
          "metadata": {
            "tags": []
          },
          "execution_count": 104
        }
      ]
    },
    {
      "cell_type": "code",
      "metadata": {
        "id": "09V1MI_TLV_b"
      },
      "source": [
        "# Re-train the regularised model\n",
        "regularised_model = get_regularised_model(1e-8, 0.2)\n",
        "regularised_model.compile(optimizer=\"adam\", loss = \"mse\")\n",
        "reg_history = regularised_model.fit(train_data, train_targets, epochs = 100, validation_split = 0.15,\n",
        "                                    batch_size = 64, verbose = False, callbacks = [tf.keras.callbacks.EarlyStopping()])\n"
      ],
      "execution_count": 105,
      "outputs": []
    },
    {
      "cell_type": "code",
      "metadata": {
        "id": "dVW255c6LV_b"
      },
      "source": [
        "# Evaluate the model on the test set\n",
        "\n"
      ],
      "execution_count": null,
      "outputs": []
    },
    {
      "cell_type": "markdown",
      "metadata": {
        "id": "l5WqZctLLV_b"
      },
      "source": [
        "#### Plot the learning curves"
      ]
    },
    {
      "cell_type": "code",
      "metadata": {
        "id": "yN1y1IgYLV_c"
      },
      "source": [
        "# Plot the training and validation loss\n",
        "\n",
        "import matplotlib.pyplot as plt\n",
        "\n",
        "fig = plt.figure(figsize=(12, 5))\n",
        "\n",
        "fig.add_subplot(121)\n",
        "\n",
        "plt.plot(unreg_history.history['loss'])\n",
        "plt.plot(unreg_history.history['val_loss'])\n",
        "plt.title('Unregularised model: loss vs. epochs')\n",
        "plt.ylabel('Loss')\n",
        "plt.xlabel('Epoch')\n",
        "plt.legend(['Training', 'Validation'], loc='upper right')\n",
        "\n",
        "fig.add_subplot(122)\n",
        "\n",
        "plt.plot(reg_history.history['loss'])\n",
        "plt.plot(reg_history.history['val_loss'])\n",
        "plt.title('Regularised model: loss vs. epochs')\n",
        "plt.ylabel('Loss')\n",
        "plt.xlabel('Epoch')\n",
        "plt.legend(['Training', 'Validation'], loc='upper right')\n",
        "\n",
        "plt.show()"
      ],
      "execution_count": null,
      "outputs": []
    }
  ]
}