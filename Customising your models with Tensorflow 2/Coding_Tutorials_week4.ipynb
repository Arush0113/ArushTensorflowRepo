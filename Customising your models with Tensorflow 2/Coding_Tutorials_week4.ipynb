{
  "nbformat": 4,
  "nbformat_minor": 0,
  "metadata": {
    "kernelspec": {
      "display_name": "Python 3",
      "language": "python",
      "name": "python3"
    },
    "language_info": {
      "codemirror_mode": {
        "name": "ipython",
        "version": 3
      },
      "file_extension": ".py",
      "mimetype": "text/x-python",
      "name": "python",
      "nbconvert_exporter": "python",
      "pygments_lexer": "ipython3",
      "version": "3.7.1"
    },
    "colab": {
      "name": "Coding Tutorial.ipynb",
      "provenance": [],
      "collapsed_sections": [],
      "include_colab_link": true
    }
  },
  "cells": [
    {
      "cell_type": "markdown",
      "metadata": {
        "id": "view-in-github",
        "colab_type": "text"
      },
      "source": [
        "<a href=\"https://colab.research.google.com/github/Arush0113/ArushTensorflowRepo/blob/main/Customising%20your%20models%20with%20Tensorflow%202/Coding_Tutorials_week4.ipynb\" target=\"_parent\"><img src=\"https://colab.research.google.com/assets/colab-badge.svg\" alt=\"Open In Colab\"/></a>"
      ]
    },
    {
      "cell_type": "code",
      "metadata": {
        "id": "t5GxGXeJg8V1",
        "colab": {
          "base_uri": "https://localhost:8080/"
        },
        "outputId": "97afede1-feac-4c74-d105-b393ae637396"
      },
      "source": [
        "import tensorflow as tf\n",
        "print(tf.__version__)"
      ],
      "execution_count": null,
      "outputs": [
        {
          "output_type": "stream",
          "text": [
            "2.4.1\n"
          ],
          "name": "stdout"
        }
      ]
    },
    {
      "cell_type": "markdown",
      "metadata": {
        "id": "VJpZbfyDg8V7"
      },
      "source": [
        "# Model subclassing and custom training loops"
      ]
    },
    {
      "cell_type": "code",
      "metadata": {
        "colab": {
          "base_uri": "https://localhost:8080/"
        },
        "id": "FXK34vjDhZNI",
        "outputId": "bf9e52fb-fd73-478a-c0a2-6538ae315a5a"
      },
      "source": [
        "from google.colab import drive\n",
        "drive.mount('/content/drive')"
      ],
      "execution_count": null,
      "outputs": [
        {
          "output_type": "stream",
          "text": [
            "Mounted at /content/drive\n"
          ],
          "name": "stdout"
        }
      ]
    },
    {
      "cell_type": "markdown",
      "metadata": {
        "id": "XLJUdDNzg8V8"
      },
      "source": [
        " ## Coding tutorials\n",
        " #### [1. Model subclassing](#coding_tutorial_1)\n",
        " #### [2. Custom layers](#coding_tutorial_2)\n",
        " #### [3. Automatic differentiation](#coding_tutorial_3)\n",
        " #### [4. Custom training loops](#coding_tutorial_4)\n",
        " #### [5. tf.function decorator](#coding_tutorial_5)"
      ]
    },
    {
      "cell_type": "markdown",
      "metadata": {
        "id": "xpIWbZECg8V-"
      },
      "source": [
        "***\n",
        "<a id=\"coding_tutorial_1\"></a>\n",
        "## Model subclassing"
      ]
    },
    {
      "cell_type": "code",
      "metadata": {
        "id": "U566hQoRg8V_"
      },
      "source": [
        "from tensorflow.keras.models import Model\n",
        "from tensorflow.keras.layers import Dense, Dropout, Softmax, concatenate"
      ],
      "execution_count": null,
      "outputs": []
    },
    {
      "cell_type": "markdown",
      "metadata": {
        "id": "Jae3y8mFg8WA"
      },
      "source": [
        "#### Create a simple model using the model subclassing API"
      ]
    },
    {
      "cell_type": "code",
      "metadata": {
        "id": "jmy8NwR5g8WA"
      },
      "source": [
        "# Build the model\n",
        "\n",
        "class MyModel(Model):\n",
        "\n",
        "  def __init__(self):\n",
        "    super(MyModel, self).__init__()\n",
        "    self.dense_1 = Dense(64, activation='relu')\n",
        "    self.dense_2 = Dense(10)\n",
        "    self.dropout = Dropout(0.4)\n",
        "\n",
        "  def call(self, inputs, training = True):\n",
        "    x = self.dense_1(inputs)\n",
        "    if training:\n",
        "      x = self.dropout(x)\n",
        "    return self.dense_2(x)"
      ],
      "execution_count": null,
      "outputs": []
    },
    {
      "cell_type": "code",
      "metadata": {
        "id": "zNTAZ8ZBg8WB",
        "colab": {
          "base_uri": "https://localhost:8080/"
        },
        "outputId": "e0a633eb-f459-4fec-fb01-45da44be485e"
      },
      "source": [
        "# Print the model summary\n",
        "model = MyModel()\n",
        "model(tf.random.uniform([1,10]))\n",
        "model.summary()"
      ],
      "execution_count": null,
      "outputs": [
        {
          "output_type": "stream",
          "text": [
            "Model: \"my_model\"\n",
            "_________________________________________________________________\n",
            "Layer (type)                 Output Shape              Param #   \n",
            "=================================================================\n",
            "dense (Dense)                multiple                  704       \n",
            "_________________________________________________________________\n",
            "dense_1 (Dense)              multiple                  650       \n",
            "_________________________________________________________________\n",
            "dropout (Dropout)            multiple                  0         \n",
            "=================================================================\n",
            "Total params: 1,354\n",
            "Trainable params: 1,354\n",
            "Non-trainable params: 0\n",
            "_________________________________________________________________\n"
          ],
          "name": "stdout"
        }
      ]
    },
    {
      "cell_type": "code",
      "metadata": {
        "id": "700xuZnKjh4b"
      },
      "source": [
        "# Build the model\n",
        "\n",
        "class MyModel(Model):\n",
        "\n",
        "  def __init__(self):\n",
        "    super(MyModel, self).__init__()\n",
        "    self.dense_1 = Dense(64, activation='relu')\n",
        "    self.dense_2 = Dense(10)\n",
        "    self.dense_3 = Dense(5)\n",
        "    self.softmax = Softmax()\n",
        "\n",
        "  def call(self, inputs,):\n",
        "    x = self.dense_1(inputs)\n",
        "    y1 = self.dense_2(inputs)\n",
        "    y2 = self.dense_3(y1)\n",
        "    concat = concatenate([x,y2])\n",
        "    \n",
        "    return self.softmax(concat)"
      ],
      "execution_count": null,
      "outputs": []
    },
    {
      "cell_type": "code",
      "metadata": {
        "colab": {
          "base_uri": "https://localhost:8080/"
        },
        "id": "DKF4mg4DkQ-f",
        "outputId": "520cc90e-b488-4bd0-9431-fb22fde476dd"
      },
      "source": [
        "# Print the model summary\n",
        "model = MyModel()\n",
        "model(tf.random.uniform([1,10]))\n",
        "model.summary()"
      ],
      "execution_count": null,
      "outputs": [
        {
          "output_type": "stream",
          "text": [
            "Model: \"my_model_1\"\n",
            "_________________________________________________________________\n",
            "Layer (type)                 Output Shape              Param #   \n",
            "=================================================================\n",
            "dense_2 (Dense)              multiple                  704       \n",
            "_________________________________________________________________\n",
            "dense_3 (Dense)              multiple                  110       \n",
            "_________________________________________________________________\n",
            "dense_4 (Dense)              multiple                  55        \n",
            "_________________________________________________________________\n",
            "softmax (Softmax)            multiple                  0         \n",
            "=================================================================\n",
            "Total params: 869\n",
            "Trainable params: 869\n",
            "Non-trainable params: 0\n",
            "_________________________________________________________________\n"
          ],
          "name": "stdout"
        }
      ]
    },
    {
      "cell_type": "markdown",
      "metadata": {
        "id": "DJlVb3Ufg8WB"
      },
      "source": [
        "***\n",
        "<a id=\"coding_tutorial_2\"></a>\n",
        "## Custom layers"
      ]
    },
    {
      "cell_type": "code",
      "metadata": {
        "id": "oLTuI0npg8WC"
      },
      "source": [
        "from tensorflow.keras.models import Model\n",
        "from tensorflow.keras.layers import Layer, Softmax"
      ],
      "execution_count": null,
      "outputs": []
    },
    {
      "cell_type": "markdown",
      "metadata": {
        "id": "iiKP0VUog8WC"
      },
      "source": [
        "#### Create custom layers"
      ]
    },
    {
      "cell_type": "code",
      "metadata": {
        "id": "BOslZHdYg8WD",
        "colab": {
          "base_uri": "https://localhost:8080/"
        },
        "outputId": "1ba0023b-b319-4d4b-d9b5-488d9693c924"
      },
      "source": [
        "# Create a custom layer\n",
        "\n",
        "class MyLayer(Layer):\n",
        "\n",
        "  def __init__(self, units, input_dim):\n",
        "    super(MyLayer, self).__init__()\n",
        "    self.w = self.add_weight(shape = (input_dim, units),\n",
        "                             initializer = 'random_normal')\n",
        "    self.b = self.add_weight(shape = (units, ),\n",
        "                             initializer = 'zeros')\n",
        "    \n",
        "  def call(self, inputs):\n",
        "    return tf.matmul(inputs, self.w) + self.b\n",
        "\n",
        "dense_layer = MyLayer(3,5)\n",
        "x = tf.ones((1,5))\n",
        "print(dense_layer(x))\n",
        "print(dense_layer.weights)"
      ],
      "execution_count": null,
      "outputs": [
        {
          "output_type": "stream",
          "text": [
            "tf.Tensor([[ 0.02285954 -0.20286706  0.06701629]], shape=(1, 3), dtype=float32)\n",
            "[<tf.Variable 'Variable:0' shape=(5, 3) dtype=float32, numpy=\n",
            "array([[ 0.07794089, -0.01999848,  0.09455394],\n",
            "       [-0.06226857, -0.0032694 , -0.05275006],\n",
            "       [ 0.00988195, -0.07633313,  0.04805341],\n",
            "       [ 0.01360572, -0.04776173, -0.03283709],\n",
            "       [-0.01630045, -0.05550431,  0.0099961 ]], dtype=float32)>, <tf.Variable 'Variable:0' shape=(3,) dtype=float32, numpy=array([0., 0., 0.], dtype=float32)>]\n"
          ],
          "name": "stdout"
        }
      ]
    },
    {
      "cell_type": "code",
      "metadata": {
        "id": "JMKatUweg8WF"
      },
      "source": [
        "# Specify trainable weights\n",
        "\n",
        "class MyLayer(Layer):\n",
        "\n",
        "  def __init__(self, units, input_dim):\n",
        "    super(MyLayer, self).__init__()\n",
        "    self.w = self.add_weight(shape = (input_dim, units),\n",
        "                             initializer = 'random_normal',\n",
        "                             trainable = False)\n",
        "    self.b = self.add_weight(shape = (units,),\n",
        "                             initializer = 'zeros',\n",
        "                             trainable = False)\n",
        "    \n",
        "  def call(self, inputs):\n",
        "    return tf.matmul(inputs, self.w) + self.b\n",
        "\n",
        "dense_layer = MyLayer(3,5)"
      ],
      "execution_count": null,
      "outputs": []
    },
    {
      "cell_type": "code",
      "metadata": {
        "id": "-MP3DNSig8WF",
        "colab": {
          "base_uri": "https://localhost:8080/"
        },
        "outputId": "f12ca6a4-d28d-40c5-ac65-c3778d4bc4b3"
      },
      "source": [
        "print('trainable weights:', len(dense_layer.trainable_weights))\n",
        "print('non-trainable weights:', len(dense_layer.non_trainable_weights))"
      ],
      "execution_count": null,
      "outputs": [
        {
          "output_type": "stream",
          "text": [
            "trainable weights: 0\n",
            "non-trainable weights: 2\n"
          ],
          "name": "stdout"
        }
      ]
    },
    {
      "cell_type": "code",
      "metadata": {
        "id": "CgaM7dU2g8WG"
      },
      "source": [
        "# Create a custom layer to accumulate means of output values\n",
        "\n",
        "class MyLayerMean(Layer):\n",
        "\n",
        "  def __init__(self, units, input_dim):\n",
        "    super(MyLayerMean, self).__init__()\n",
        "    self.w = self.add_weight(shape = (input_dim, units),\n",
        "                             initializer = 'random_normal')\n",
        "    self.b = self.add_weight(shape = (input_dim, units),\n",
        "                             initializer = 'random_normal')\n",
        "    self.sum_activation = tf.Variable(initial_value=tf.zeros((units,)),\n",
        "                                      trainable = False)\n",
        "    self.number_call = tf.Variable(initial_value=0,\n",
        "                                   trainable = False)\n",
        "    \n",
        "  def call(self, inputs):\n",
        "    activations = tf.matmul(inputs, self.w) + self.b\n",
        "    self.sum_activation.assign_add(tf.reduce_sum(activations, axis = 0))\n",
        "    self.number_call.assign_add(inputs.shape[0])\n",
        "    return activations, self.sum_activation/tf.cast(self.number_call, tf.float32)\n",
        "\n",
        "dense_layer = MyLayerMean(3,5)\n"
      ],
      "execution_count": null,
      "outputs": []
    },
    {
      "cell_type": "code",
      "metadata": {
        "id": "EIifhb-1g8WH",
        "colab": {
          "base_uri": "https://localhost:8080/"
        },
        "outputId": "84ae6bb5-bcc6-406c-e21f-7770963e272c"
      },
      "source": [
        "# Test the layer\n",
        "\n",
        "y, activation_means = dense_layer(tf.ones((1, 5)))\n",
        "print(activation_means.numpy())\n",
        "\n",
        "y, activation_means = dense_layer(tf.ones((1, 5)))\n",
        "print(activation_means.numpy())"
      ],
      "execution_count": null,
      "outputs": [
        {
          "output_type": "stream",
          "text": [
            "[ 0.46194398  0.53590274 -0.138557  ]\n",
            "[ 0.46194398  0.53590274 -0.138557  ]\n"
          ],
          "name": "stdout"
        }
      ]
    },
    {
      "cell_type": "code",
      "metadata": {
        "id": "tpChFBiDg8WI"
      },
      "source": [
        "# Create a Dropout layer as a custom layer\n",
        "\n",
        "class MyDropout(Layer):\n",
        "\n",
        "    def __init__(self, rate):\n",
        "        super(MyDropout, self).__init__()\n",
        "        self.rate = rate\n",
        "        \n",
        "    def call(self, inputs):\n",
        "        # Define forward pass for dropout layer\n",
        "        return tf.nn.dropout(inputs, rate = self.rate)"
      ],
      "execution_count": null,
      "outputs": []
    },
    {
      "cell_type": "markdown",
      "metadata": {
        "id": "HlS6Hrwwg8WJ"
      },
      "source": [
        "#### Implement the custom layers into a model"
      ]
    },
    {
      "cell_type": "code",
      "metadata": {
        "id": "OjD1nFBIg8WK"
      },
      "source": [
        "# Build the model using custom layers with the model subclassing API\n",
        "\n",
        "class MyModel(Model):\n",
        "\n",
        "    def __init__(self, units_1, input_dim_1, units_2, units_3):\n",
        "        super(MyModel, self).__init__()\n",
        "        # Define layers\n",
        "        self.layer_1 = MyLayer(units_1, input_dim_1)\n",
        "        self.dropout_1 = MyDropout(0.5)\n",
        "        self.layer_2 = MyLayer(units_2, units_1)\n",
        "        self.dropout_2 = MyDropout(0.5)\n",
        "        self.layer_3 = MyLayer(units_3, units_2)\n",
        "        self.softmax = Softmax()\n",
        "           \n",
        "    def call(self, inputs):\n",
        "        # Define forward pass\n",
        "\n",
        "        x = self.layer_1(inputs)\n",
        "        x=  tf.nn.relu(x)\n",
        "        x = self.dropout_1(x)\n",
        "        x = self.layer_2(x)\n",
        "        x=  tf.nn.relu(x)\n",
        "        x = self.dropout_2(x)\n",
        "        x = self.layer_3(x)\n",
        "\n",
        "        return self.softmax(x)"
      ],
      "execution_count": null,
      "outputs": []
    },
    {
      "cell_type": "code",
      "metadata": {
        "id": "nW_XXYZZg8WL",
        "colab": {
          "base_uri": "https://localhost:8080/"
        },
        "outputId": "ea521d1e-f6ef-4d13-b1fc-59370855c797"
      },
      "source": [
        "  # Instantiate a model object\n",
        "\n",
        "model = MyModel(64,10000,64,46)\n",
        "print(model(tf.ones((1, 10000))))\n",
        "model.summary()"
      ],
      "execution_count": null,
      "outputs": [
        {
          "output_type": "stream",
          "text": [
            "tf.Tensor(\n",
            "[[0.03778214 0.01827401 0.01647724 0.01203601 0.01836162 0.02829421\n",
            "  0.02432163 0.02072524 0.03220539 0.01511376 0.00987826 0.02929607\n",
            "  0.01382311 0.02786364 0.02704828 0.01520918 0.01175328 0.01451377\n",
            "  0.01342592 0.02096966 0.0217243  0.03617184 0.02295215 0.01153972\n",
            "  0.01067663 0.01835018 0.02321536 0.02083725 0.03880403 0.02523139\n",
            "  0.01408269 0.02586573 0.01922586 0.04606614 0.01996021 0.01573496\n",
            "  0.02754091 0.03231758 0.01337128 0.04202926 0.01897462 0.03093481\n",
            "  0.02000016 0.01255485 0.01345783 0.01100776]], shape=(1, 46), dtype=float32)\n",
            "Model: \"my_model_5\"\n",
            "_________________________________________________________________\n",
            "Layer (type)                 Output Shape              Param #   \n",
            "=================================================================\n",
            "my_layer_13 (MyLayer)        multiple                  640064    \n",
            "_________________________________________________________________\n",
            "my_dropout_6 (MyDropout)     multiple                  0         \n",
            "_________________________________________________________________\n",
            "my_layer_14 (MyLayer)        multiple                  4160      \n",
            "_________________________________________________________________\n",
            "my_dropout_7 (MyDropout)     multiple                  0         \n",
            "_________________________________________________________________\n",
            "my_layer_15 (MyLayer)        multiple                  2990      \n",
            "_________________________________________________________________\n",
            "softmax_4 (Softmax)          multiple                  0         \n",
            "=================================================================\n",
            "Total params: 647,214\n",
            "Trainable params: 0\n",
            "Non-trainable params: 647,214\n",
            "_________________________________________________________________\n"
          ],
          "name": "stdout"
        }
      ]
    },
    {
      "cell_type": "markdown",
      "metadata": {
        "id": "DX1N5j6Fg8WM"
      },
      "source": [
        "***\n",
        "<a id=\"coding_tutorial_3\"></a>\n",
        "## Automatic differentiation"
      ]
    },
    {
      "cell_type": "code",
      "metadata": {
        "id": "Zkjbbnw-g8WN"
      },
      "source": [
        "import numpy as np\n",
        "import matplotlib.pyplot as plt"
      ],
      "execution_count": null,
      "outputs": []
    },
    {
      "cell_type": "markdown",
      "metadata": {
        "id": "nO1TubSLg8WO"
      },
      "source": [
        "#### Create synthetic data"
      ]
    },
    {
      "cell_type": "code",
      "metadata": {
        "id": "YZEPNHDlg8WO",
        "colab": {
          "base_uri": "https://localhost:8080/",
          "height": 281
        },
        "outputId": "dfa660fe-2e92-4ead-ec1d-38db5d812e8c"
      },
      "source": [
        "# Create data from a noise contaminated linear model\n",
        "\n",
        "def MakeNoisyData(m, b, n=20):\n",
        "    x = tf.random.uniform(shape=(n,))\n",
        "    noise = tf.random.normal(shape=(len(x),), stddev=0.1)\n",
        "    y = m * x + b + noise\n",
        "    return x, y\n",
        "\n",
        "m=1\n",
        "b=2\n",
        "x_train, y_train = MakeNoisyData(m,b)\n",
        "plt.plot(x_train, y_train, 'b.')"
      ],
      "execution_count": null,
      "outputs": [
        {
          "output_type": "execute_result",
          "data": {
            "text/plain": [
              "[<matplotlib.lines.Line2D at 0x7f2e9ac6af10>]"
            ]
          },
          "metadata": {
            "tags": []
          },
          "execution_count": 34
        },
        {
          "output_type": "display_data",
          "data": {
            "image/png": "[encoded data removed]",
            "text/plain": [
              "<Figure size 432x288 with 1 Axes>"
            ]
          },
          "metadata": {
            "tags": [],
            "needs_background": "light"
          }
        }
      ]
    },
    {
      "cell_type": "markdown",
      "metadata": {
        "id": "CjxHNAvYg8WP"
      },
      "source": [
        "#### Define a linear regression model"
      ]
    },
    {
      "cell_type": "code",
      "metadata": {
        "id": "TLGI64Ugg8WQ"
      },
      "source": [
        "from tensorflow.keras.layers import Layer "
      ],
      "execution_count": null,
      "outputs": []
    },
    {
      "cell_type": "code",
      "metadata": {
        "id": "4HwXeB0Cg8WR",
        "colab": {
          "base_uri": "https://localhost:8080/"
        },
        "outputId": "57828fea-1d45-4e7a-b83b-ea39bb445e4b"
      },
      "source": [
        "# Build a custom layer for the linear regression model\n",
        "\n",
        "class LinearLayer(Layer):\n",
        "  def __init__(self):\n",
        "    super(LinearLayer, self).__init__()\n",
        "    self.m = self.add_weight(\n",
        "        shape = (1,),\n",
        "        initializer = 'random_normal',\n",
        "    )\n",
        "    self.b = self.add_weight(\n",
        "        shape = (1,),\n",
        "        initializer = 'zeros'\n",
        "    )\n",
        "\n",
        "  def call(self, inputs):\n",
        "    return self.m * inputs + self.b\n",
        "\n",
        "linear_regression = LinearLayer()\n",
        "\n",
        "print(linear_regression(x_train))\n",
        "print(linear_regression.weights)"
      ],
      "execution_count": null,
      "outputs": [
        {
          "output_type": "stream",
          "text": [
            "tf.Tensor(\n",
            "[0.00262396 0.00240553 0.00182627 0.0015534  0.00338618 0.00382298\n",
            " 0.00363204 0.00327051 0.00169631 0.00375314 0.00273156 0.00337227\n",
            " 0.00157855 0.00284328 0.00381082 0.00251736 0.00119584 0.00199243\n",
            " 0.00325853 0.00019704], shape=(20,), dtype=float32)\n",
            "[<tf.Variable 'Variable:0' shape=(1,) dtype=float32, numpy=array([0.00398529], dtype=float32)>, <tf.Variable 'Variable:0' shape=(1,) dtype=float32, numpy=array([0.], dtype=float32)>]\n"
          ],
          "name": "stdout"
        }
      ]
    },
    {
      "cell_type": "code",
      "metadata": {
        "colab": {
          "base_uri": "https://localhost:8080/"
        },
        "id": "R9jZymCV1ylE",
        "outputId": "55ca9bae-efbc-4fc2-d5d6-2c8da6bfad9e"
      },
      "source": [
        "print(np.random.randn(5,))\n",
        "print(np.random.randn(5,1))\n",
        "print(np.random.randn(1,5))"
      ],
      "execution_count": null,
      "outputs": [
        {
          "output_type": "stream",
          "text": [
            "[-0.14168079 -0.26457106  0.91878852 -0.77658986 -0.770842  ]\n",
            "[[-0.48499173]\n",
            " [ 0.32532766]\n",
            " [-1.0262912 ]\n",
            " [-0.05878749]\n",
            " [-1.1072325 ]]\n",
            "[[ 1.17220288 -2.33934624  1.26386042  2.38317222  0.60423803]]\n"
          ],
          "name": "stdout"
        }
      ]
    },
    {
      "cell_type": "markdown",
      "metadata": {
        "id": "3AqcFGwFg8WS"
      },
      "source": [
        "#### Define the loss function"
      ]
    },
    {
      "cell_type": "code",
      "metadata": {
        "id": "grT14aF8g8WT",
        "colab": {
          "base_uri": "https://localhost:8080/"
        },
        "outputId": "44d9477a-539f-46c8-c768-9df0b2177d47"
      },
      "source": [
        "# Define the mean squared error loss function\n",
        "\n",
        "def SquaredError(y_pred, y_true):\n",
        "    return tf.reduce_mean(tf.square(y_pred - y_true)) \n",
        "\n",
        "starting_loss = SquaredError(linear_regression(x_train), y_train)\n",
        "print(\"Starting loss\", starting_loss.numpy())"
      ],
      "execution_count": null,
      "outputs": [
        {
          "output_type": "stream",
          "text": [
            "Starting loss 6.9796205\n"
          ],
          "name": "stdout"
        }
      ]
    },
    {
      "cell_type": "markdown",
      "metadata": {
        "id": "fMJ7rn_gg8WU"
      },
      "source": [
        "#### Train and plot the model"
      ]
    },
    {
      "cell_type": "code",
      "metadata": {
        "id": "INMQgrw3g8WU",
        "colab": {
          "base_uri": "https://localhost:8080/"
        },
        "outputId": "132750c9-bef1-4adb-cb57-e2ee4800da22"
      },
      "source": [
        "# Implement a gradient descent training loop for the linear regression model\n",
        "\n",
        "learning_rate = 0.05\n",
        "steps = 31\n",
        "\n",
        "for i in range(steps):\n",
        "\n",
        "  with tf.GradientTape() as tape:\n",
        "    predictions = linear_regression(x_train)\n",
        "    loss = SquaredError(predictions, y_train)\n",
        "\n",
        "  gradients = tape.gradient(loss, linear_regression.trainable_variables)\n",
        "\n",
        "  linear_regression.m.assign_sub(learning_rate * gradients[0])\n",
        "  linear_regression.b.assign_sub(learning_rate * gradients[1])\n",
        "\n",
        "  print(\"Step %d, Loss %f\" % (i, loss.numpy()))"
      ],
      "execution_count": null,
      "outputs": [
        {
          "output_type": "stream",
          "text": [
            "Step 0, Loss 6.979620\n",
            "Step 1, Loss 5.123182\n",
            "Step 2, Loss 3.761407\n",
            "Step 3, Loss 2.762486\n",
            "Step 4, Loss 2.029733\n",
            "Step 5, Loss 1.492224\n",
            "Step 6, Loss 1.097933\n",
            "Step 7, Loss 0.808698\n",
            "Step 8, Loss 0.596526\n",
            "Step 9, Loss 0.440883\n",
            "Step 10, Loss 0.326705\n",
            "Step 11, Loss 0.242944\n",
            "Step 12, Loss 0.181495\n",
            "Step 13, Loss 0.136413\n",
            "Step 14, Loss 0.103336\n",
            "Step 15, Loss 0.079066\n",
            "Step 16, Loss 0.061256\n",
            "Step 17, Loss 0.048184\n",
            "Step 18, Loss 0.038589\n",
            "Step 19, Loss 0.031544\n",
            "Step 20, Loss 0.026369\n",
            "Step 21, Loss 0.022567\n",
            "Step 22, Loss 0.019771\n",
            "Step 23, Loss 0.017713\n",
            "Step 24, Loss 0.016197\n",
            "Step 25, Loss 0.015079\n",
            "Step 26, Loss 0.014252\n",
            "Step 27, Loss 0.013639\n",
            "Step 28, Loss 0.013183\n",
            "Step 29, Loss 0.012843\n",
            "Step 30, Loss 0.012586\n"
          ],
          "name": "stdout"
        }
      ]
    },
    {
      "cell_type": "code",
      "metadata": {
        "id": "b1WCRdLtg8WV",
        "colab": {
          "base_uri": "https://localhost:8080/",
          "height": 315
        },
        "outputId": "4522cef2-d25f-4169-b124-199be00adb09"
      },
      "source": [
        "# Plot the learned regression model\n",
        "\n",
        "print(\"m:{},  trained m:{}\".format(m,linear_regression.m.numpy()))\n",
        "print(\"b:{},  trained b:{}\".format(b,linear_regression.b.numpy()))\n",
        "\n",
        "plt.plot(x_train, y_train, 'b.')\n",
        "\n",
        "x_linear_regression=np.linspace(min(x_train), max(x_train),50)\n",
        "plt.plot(x_linear_regression, linear_regression.m*x_linear_regression+linear_regression.b, 'r.')"
      ],
      "execution_count": null,
      "outputs": [
        {
          "output_type": "stream",
          "text": [
            "m:1,  trained m:[1.1955421]\n",
            "b:2,  trained b:[1.8319504]\n"
          ],
          "name": "stdout"
        },
        {
          "output_type": "execute_result",
          "data": {
            "text/plain": [
              "[<matplotlib.lines.Line2D at 0x7fa9b6ed5a10>]"
            ]
          },
          "metadata": {
            "tags": []
          },
          "execution_count": 102
        },
        {
          "output_type": "display_data",
          "data": {
            "image/png": "[encoded data removed]",
            "text/plain": [
              "<Figure size 432x288 with 1 Axes>"
            ]
          },
          "metadata": {
            "tags": [],
            "needs_background": "light"
          }
        }
      ]
    },
    {
      "cell_type": "markdown",
      "metadata": {
        "id": "qLYQ6_I3g8WW"
      },
      "source": [
        "***\n",
        "<a id=\"coding_tutorial_4\"></a>\n",
        "## Custom training loops"
      ]
    },
    {
      "cell_type": "code",
      "metadata": {
        "id": "JgI2cAMwg8WX"
      },
      "source": [
        "import numpy as np\n",
        "import matplotlib.pyplot as plt\n",
        "import time"
      ],
      "execution_count": null,
      "outputs": []
    },
    {
      "cell_type": "markdown",
      "metadata": {
        "id": "nLLiPkKzg8WX"
      },
      "source": [
        "#### Build the model"
      ]
    },
    {
      "cell_type": "code",
      "metadata": {
        "id": "79GCWmR3g8WZ"
      },
      "source": [
        "import tensorflow as tf\n",
        "from tensorflow.keras.models import Model\n",
        "from tensorflow.keras.layers import Layer, Softmax"
      ],
      "execution_count": null,
      "outputs": []
    },
    {
      "cell_type": "code",
      "metadata": {
        "id": "IAKP-vy2g8WZ"
      },
      "source": [
        "# Define the custom layers and model\n",
        "\n",
        "class MyLayer(Layer):\n",
        "\n",
        "  def __init__(self, units):\n",
        "    super(MyLayer, self).__init__()\n",
        "    self.units = units\n",
        "\n",
        "  def build(self, input_shape):\n",
        "    self.w = self.add_weight(shape = (input_shape[-1], self.units),\n",
        "                             initializer = 'random_normal',\n",
        "                             name = 'kernel')\n",
        "    self.b = self.add_weight(shape = (self.units, ),\n",
        "                             initializer = 'zeros',\n",
        "                             name = 'bias')\n",
        "    \n",
        "  def call(self, inputs):\n",
        "    return tf.matmul(inputs, self.w) + self.b\n",
        "\n",
        "\n",
        "class MyDropout(Layer):\n",
        "\n",
        "  def __init__(self, rate):\n",
        "    super(MyDropout, self).__init__()\n",
        "    self.rate = rate\n",
        "\n",
        "  def call(self, inputs):\n",
        "    return tf.nn.dropout(inputs, rate = self.rate)\n",
        "\n",
        "\n",
        "class MyModel(Model):\n",
        "\n",
        "    def __init__(self, units_1, units_2, units_3):\n",
        "        super(MyModel, self).__init__()\n",
        "        # Define layers\n",
        "        self.layer_1 = MyLayer(units_1)\n",
        "        self.dropout_1 = MyDropout(0.5)\n",
        "        self.layer_2 = MyLayer(units_2)\n",
        "        self.dropout_2 = MyDropout(0.5)\n",
        "        self.layer_3 = MyLayer(units_3)\n",
        "        self.softmax = Softmax()\n",
        "           \n",
        "    def call(self, inputs):\n",
        "        # Define forward pass\n",
        "\n",
        "        x = self.layer_1(inputs)\n",
        "        x=  tf.nn.relu(x)\n",
        "        x = self.dropout_1(x)\n",
        "        x = self.layer_2(x)\n",
        "        x=  tf.nn.relu(x)\n",
        "        x = self.dropout_2(x)\n",
        "        x = self.layer_3(x)\n",
        "\n",
        "        return self.softmax(x)"
      ],
      "execution_count": null,
      "outputs": []
    },
    {
      "cell_type": "code",
      "metadata": {
        "id": "KmfIsv4ltlDg",
        "colab": {
          "base_uri": "https://localhost:8080/"
        },
        "outputId": "71fa2175-8d11-480a-db28-24a922735f8b"
      },
      "source": [
        "model = MyModel(64, 64, 46)\n",
        "print(model(tf.ones((1, 10000))))\n",
        "model.summary()"
      ],
      "execution_count": null,
      "outputs": [
        {
          "output_type": "stream",
          "text": [
            "tf.Tensor(\n",
            "[[0.0053197  0.01310875 0.00070779 0.00209897 0.00420385 0.01986113\n",
            "  0.0296     0.00121677 0.00022727 0.02898691 0.02237486 0.08412129\n",
            "  0.0024477  0.0171327  0.08211274 0.00427373 0.00515494 0.16176671\n",
            "  0.07154503 0.00392785 0.02083216 0.00170413 0.14643845 0.00089355\n",
            "  0.00797083 0.00158626 0.03115166 0.00115069 0.00697515 0.00024502\n",
            "  0.00788005 0.07329391 0.00827666 0.00139022 0.01390839 0.01189219\n",
            "  0.04453362 0.01031611 0.00094627 0.01039706 0.00153884 0.00680103\n",
            "  0.00691407 0.00195501 0.01914631 0.0016737 ]], shape=(1, 46), dtype=float32)\n",
            "Model: \"my_model_12\"\n",
            "_________________________________________________________________\n",
            "Layer (type)                 Output Shape              Param #   \n",
            "=================================================================\n",
            "my_layer_35 (MyLayer)        multiple                  640064    \n",
            "_________________________________________________________________\n",
            "my_dropout_20 (MyDropout)    multiple                  0         \n",
            "_________________________________________________________________\n",
            "my_layer_36 (MyLayer)        multiple                  4160      \n",
            "_________________________________________________________________\n",
            "my_dropout_21 (MyDropout)    multiple                  0         \n",
            "_________________________________________________________________\n",
            "my_layer_37 (MyLayer)        multiple                  2990      \n",
            "_________________________________________________________________\n",
            "softmax_11 (Softmax)         multiple                  0         \n",
            "=================================================================\n",
            "Total params: 647,214\n",
            "Trainable params: 647,214\n",
            "Non-trainable params: 0\n",
            "_________________________________________________________________\n"
          ],
          "name": "stdout"
        }
      ]
    },
    {
      "cell_type": "markdown",
      "metadata": {
        "id": "dUlzjE53g8Wa"
      },
      "source": [
        "#### Load the reuters dataset and define the class_names "
      ]
    },
    {
      "cell_type": "code",
      "metadata": {
        "id": "yqZ3efmNg8Wa",
        "colab": {
          "base_uri": "https://localhost:8080/"
        },
        "outputId": "60aae567-fe2d-4318-e617-1c4820b676c5"
      },
      "source": [
        "# Load the dataset\n",
        "\n",
        "from tensorflow.keras.datasets import reuters\n",
        "\n",
        "(train_data, train_labels), (test_data, test_labels) = reuters.load_data(num_words=10000)\n",
        "\n",
        "class_names = ['cocoa','grain','veg-oil','earn','acq','wheat','copper','housing','money-supply',\n",
        "   'coffee','sugar','trade','reserves','ship','cotton','carcass','crude','nat-gas',\n",
        "   'cpi','money-fx','interest','gnp','meal-feed','alum','oilseed','gold','tin',\n",
        "   'strategic-metal','livestock','retail','ipi','iron-steel','rubber','heat','jobs',\n",
        "   'lei','bop','zinc','orange','pet-chem','dlr','gas','silver','wpi','hog','lead']"
      ],
      "execution_count": null,
      "outputs": [
        {
          "output_type": "stream",
          "text": [
            "/usr/local/lib/python3.7/dist-packages/tensorflow/python/keras/datasets/reuters.py:148: VisibleDeprecationWarning: Creating an ndarray from ragged nested sequences (which is a list-or-tuple of lists-or-tuples-or ndarrays with different lengths or shapes) is deprecated. If you meant to do this, you must specify 'dtype=object' when creating the ndarray\n",
            "  x_train, y_train = np.array(xs[:idx]), np.array(labels[:idx])\n",
            "/usr/local/lib/python3.7/dist-packages/tensorflow/python/keras/datasets/reuters.py:149: VisibleDeprecationWarning: Creating an ndarray from ragged nested sequences (which is a list-or-tuple of lists-or-tuples-or ndarrays with different lengths or shapes) is deprecated. If you meant to do this, you must specify 'dtype=object' when creating the ndarray\n",
            "  x_test, y_test = np.array(xs[idx:]), np.array(labels[idx:])\n"
          ],
          "name": "stderr"
        }
      ]
    },
    {
      "cell_type": "code",
      "metadata": {
        "id": "ghNqiB8Ag8Wc",
        "colab": {
          "base_uri": "https://localhost:8080/"
        },
        "outputId": "223a6b6f-d8a4-4902-8e03-f7c89fc7abbe"
      },
      "source": [
        "# Print the class of the first sample\n",
        "\n",
        "print(\"Label: {}\".format(class_names[train_labels[0]]))"
      ],
      "execution_count": null,
      "outputs": [
        {
          "output_type": "stream",
          "text": [
            "Label: earn\n"
          ],
          "name": "stdout"
        }
      ]
    },
    {
      "cell_type": "markdown",
      "metadata": {
        "id": "VpP1Hhzsg8Wc"
      },
      "source": [
        "#### Get the dataset word index"
      ]
    },
    {
      "cell_type": "code",
      "metadata": {
        "id": "o9guyqv3g8Wd"
      },
      "source": [
        "# Load the Reuters word index\n",
        "\n",
        "word_to_index = reuters.get_word_index()\n",
        "invert_word_index = dict([(value, key) for (key, value) in word_to_index.items()])\n",
        "text_news = ' '.join([invert_word_index.get(i - 3, '?') for i in train_data[0]])"
      ],
      "execution_count": null,
      "outputs": []
    },
    {
      "cell_type": "code",
      "metadata": {
        "id": "dJNh3LEkg8We",
        "colab": {
          "base_uri": "https://localhost:8080/",
          "height": 68
        },
        "outputId": "1ee5cd27-c14f-4e78-973b-054bd130df0e"
      },
      "source": [
        "# Print the first data example sentence\n",
        "\n",
        "text_news"
      ],
      "execution_count": null,
      "outputs": [
        {
          "output_type": "execute_result",
          "data": {
            "application/vnd.google.colaboratory.intrinsic+json": {
              "type": "string"
            },
            "text/plain": [
              "'? ? ? said as a result of its december acquisition of space co it expects earnings per share in 1987 of 1 15 to 1 30 dlrs per share up from 70 cts in 1986 the company said pretax net should rise to nine to 10 mln dlrs from six mln dlrs in 1986 and rental operation revenues to 19 to 22 mln dlrs from 12 5 mln dlrs it said cash flow per share this year should be 2 50 to three dlrs reuter 3'"
            ]
          },
          "metadata": {
            "tags": []
          },
          "execution_count": 152
        }
      ]
    },
    {
      "cell_type": "markdown",
      "metadata": {
        "id": "ahoOUuPyg8Wf"
      },
      "source": [
        "#### Preprocess the data"
      ]
    },
    {
      "cell_type": "code",
      "metadata": {
        "id": "gXClGfGkg8Wf",
        "colab": {
          "base_uri": "https://localhost:8080/"
        },
        "outputId": "08e2be09-67b9-4d0c-db76-1bd9a7b7cb53"
      },
      "source": [
        "# Define a function that encodes the data into a 'bag of words' representation\n",
        "\n",
        "def bag_of_words(text_samples, elements=10000):\n",
        "    output = np.zeros((len(text_samples), elements))\n",
        "    for i, word in enumerate(text_samples):\n",
        "        output[i, word] = 1.\n",
        "    return output\n",
        "\n",
        "x_train = bag_of_words(train_data)\n",
        "x_test = bag_of_words(test_data)\n",
        "\n",
        "print(\"Shape of x_train:\", x_train.shape)\n",
        "print(\"Shape of x_test:\", x_test.shape)\n",
        "x_train[0]"
      ],
      "execution_count": null,
      "outputs": [
        {
          "output_type": "stream",
          "text": [
            "Shape of x_train: (8982, 10000)\n",
            "Shape of x_test: (2246, 10000)\n"
          ],
          "name": "stdout"
        },
        {
          "output_type": "execute_result",
          "data": {
            "text/plain": [
              "array([0., 1., 1., ..., 0., 0., 0.])"
            ]
          },
          "metadata": {
            "tags": []
          },
          "execution_count": 153
        }
      ]
    },
    {
      "cell_type": "code",
      "metadata": {
        "id": "HGwk9tDLKDl8"
      },
      "source": [
        "# output = np.zeros((len(sample_data), 10000))\n",
        "# sample_data = train_data[:20]\n",
        "# # print(output)\n",
        "# for i, word in enumerate(sample_data):\n",
        "#   # print(word)\n",
        "#   output[i, word] = 1\n",
        "# output.shape"
      ],
      "execution_count": null,
      "outputs": []
    },
    {
      "cell_type": "markdown",
      "metadata": {
        "id": "PodDiOpqg8Wg"
      },
      "source": [
        "#### Define the loss function and optimizer\n",
        "\n"
      ]
    },
    {
      "cell_type": "code",
      "metadata": {
        "id": "WLvLTYnLg8Wh"
      },
      "source": [
        "# Define the categorical cross entropy loss and Adam optimizer\n",
        "\n",
        "loss_object = tf.keras.losses.SparseCategoricalCrossentropy()\n",
        "\n",
        "def loss(model, x, y, wd):\n",
        "    kernel_variables = []\n",
        "    for l in model.layers:\n",
        "        for w in l.weights:\n",
        "            if 'kernel' in w.name:\n",
        "                kernel_variables.append(w)\n",
        "    wd_penalty = wd * tf.reduce_sum([tf.reduce_sum(tf.square(k)) for k in kernel_variables])\n",
        "    y_ = model(x)\n",
        "    return loss_object(y_true=y, y_pred=y_) + wd_penalty\n",
        "\n",
        "optimizer = tf.keras.optimizers.Adam(learning_rate=0.001)"
      ],
      "execution_count": null,
      "outputs": []
    },
    {
      "cell_type": "markdown",
      "metadata": {
        "id": "iJSeMwsYg8Wh"
      },
      "source": [
        "#### Train the model"
      ]
    },
    {
      "cell_type": "code",
      "metadata": {
        "id": "AwrqhZ_mg8Wi"
      },
      "source": [
        "# Define a function to compute the forward and backward pass\n",
        "\n",
        "def grad(model, inputs, targets, wd):\n",
        "    with tf.GradientTape() as tape:\n",
        "        loss_value = loss(model, inputs, targets, wd)\n",
        "    return loss_value, tape.gradient(loss_value, model.trainable_variables)"
      ],
      "execution_count": null,
      "outputs": []
    },
    {
      "cell_type": "code",
      "metadata": {
        "id": "UvsyZHwDg8Wj",
        "colab": {
          "base_uri": "https://localhost:8080/"
        },
        "outputId": "8d1c2e09-c26e-4a1e-b407-2463e8d1160d"
      },
      "source": [
        "# Implement the training loop\n",
        "\n",
        "from tensorflow.keras.utils import to_categorical\n",
        "import time\n",
        "\n",
        "start_time = time.time()\n",
        "\n",
        "train_dataset = tf.data.Dataset.from_tensors((x_train, train_labels))\n",
        "train_dataset = train_dataset.batch(32)\n",
        "\n",
        "train_loss_results = []\n",
        "train_accuracy_results = []\n",
        "\n",
        "n_epochs = 30\n",
        "weight_decay = 0.005\n",
        "\n",
        "for epoch in range(n_epochs):\n",
        "  epoch_loss_avg = tf.keras.metrics.Mean()\n",
        "  epoch_accuracy = tf.keras.metrics.CategoricalAccuracy()\n",
        "\n",
        "  for x, y in train_dataset:\n",
        "    loss_value, grads = grad(model, x, y, weight_decay)\n",
        "    optimizer.apply_gradients(zip(grads, model.trainable_variables))\n",
        "\n",
        "    epoch_loss_avg(loss_value)\n",
        "    epoch_accuracy(to_categorical(y), model(x))\n",
        "\n",
        "  train_loss_results.append(epoch_loss_avg.result())\n",
        "  train_accuracy_results.append(epoch_accuracy.result())\n",
        "\n",
        "  print(\"Epoch {:03d}: Loss {:.3f}: Accuracy {:.3%}\".format(\n",
        "      epoch,\n",
        "      epoch_loss_avg.result(),\n",
        "      epoch_accuracy.result()\n",
        "  ))\n",
        "    \n",
        "print(\"Duration :{:.3f}\".format(time.time() - start_time))"
      ],
      "execution_count": null,
      "outputs": [
        {
          "output_type": "stream",
          "text": [
            "Epoch 000: Loss 11.935: Accuracy 4.409%\n",
            "Epoch 001: Loss 11.670: Accuracy 7.593%\n",
            "Epoch 002: Loss 11.409: Accuracy 10.911%\n",
            "Epoch 003: Loss 11.156: Accuracy 14.462%\n",
            "Epoch 004: Loss 10.908: Accuracy 18.827%\n",
            "Epoch 005: Loss 10.662: Accuracy 22.044%\n",
            "Epoch 006: Loss 10.423: Accuracy 24.994%\n",
            "Epoch 007: Loss 10.185: Accuracy 27.243%\n",
            "Epoch 008: Loss 9.954: Accuracy 29.481%\n",
            "Epoch 009: Loss 9.719: Accuracy 30.695%\n",
            "Epoch 010: Loss 9.491: Accuracy 31.652%\n",
            "Epoch 011: Loss 9.263: Accuracy 32.554%\n",
            "Epoch 012: Loss 9.037: Accuracy 32.843%\n",
            "Epoch 013: Loss 8.807: Accuracy 33.356%\n",
            "Epoch 014: Loss 8.583: Accuracy 33.612%\n",
            "Epoch 015: Loss 8.353: Accuracy 34.346%\n",
            "Epoch 016: Loss 8.128: Accuracy 34.625%\n",
            "Epoch 017: Loss 7.904: Accuracy 34.413%\n",
            "Epoch 018: Loss 7.696: Accuracy 35.627%\n",
            "Epoch 019: Loss 7.479: Accuracy 35.237%\n",
            "Epoch 020: Loss 7.291: Accuracy 35.460%\n",
            "Epoch 021: Loss 7.095: Accuracy 36.295%\n",
            "Epoch 022: Loss 6.913: Accuracy 36.562%\n",
            "Epoch 023: Loss 6.737: Accuracy 36.874%\n",
            "Epoch 024: Loss 6.588: Accuracy 37.442%\n",
            "Epoch 025: Loss 6.423: Accuracy 38.878%\n",
            "Epoch 026: Loss 6.277: Accuracy 37.653%\n",
            "Epoch 027: Loss 6.125: Accuracy 38.666%\n",
            "Epoch 028: Loss 5.984: Accuracy 38.744%\n",
            "Epoch 029: Loss 5.840: Accuracy 39.123%\n",
            "Duration :53.881\n"
          ],
          "name": "stdout"
        }
      ]
    },
    {
      "cell_type": "markdown",
      "metadata": {
        "id": "oLdePp3jg8Wj"
      },
      "source": [
        "#### Evaluate the model"
      ]
    },
    {
      "cell_type": "code",
      "metadata": {
        "id": "AiCghNmEg8Wk"
      },
      "source": [
        "# Create a Dataset object for the test set\n",
        "\n",
        "test_dataset = tf.data.Dataset.from_tensor_slices((x_test, test_labels))\n",
        "test_dataset = test_dataset.batch(32)"
      ],
      "execution_count": null,
      "outputs": []
    },
    {
      "cell_type": "code",
      "metadata": {
        "id": "q9NOk435g8Wk"
      },
      "source": [
        "# Collect average loss and accuracy\n",
        "\n",
        "epoch_loss_avg = tf.keras.metrics.Mean()\n",
        "epoch_accuracy = tf.keras.metrics.CategoricalAccuracy()"
      ],
      "execution_count": null,
      "outputs": []
    },
    {
      "cell_type": "code",
      "metadata": {
        "id": "KtBVdJCvg8Wk",
        "colab": {
          "base_uri": "https://localhost:8080/"
        },
        "outputId": "d80abfe7-2a9e-44af-d5a1-4c8c5fce7126"
      },
      "source": [
        "# Loop over the test set and print scores\n",
        "\n",
        "from tensorflow.keras.utils import to_categorical\n",
        "\n",
        "for x, y in test_dataset:\n",
        "    # Optimize the model\n",
        "    loss_value = loss(model, x, y, weight_decay)    \n",
        "    # Compute current loss\n",
        "    epoch_loss_avg(loss_value)  \n",
        "    # Compare predicted label to actual label\n",
        "    epoch_accuracy(to_categorical(y), model(x))\n",
        "\n",
        "print(\"Test loss: {:.3f}\".format(epoch_loss_avg.result().numpy()))\n",
        "print(\"Test accuracy: {:.3%}\".format(epoch_accuracy.result().numpy()))"
      ],
      "execution_count": null,
      "outputs": [
        {
          "output_type": "stream",
          "text": [
            "Test loss: 5.764\n",
            "Test accuracy: 38.513%\n"
          ],
          "name": "stdout"
        }
      ]
    },
    {
      "cell_type": "markdown",
      "metadata": {
        "id": "nykL0bnsg8Wl"
      },
      "source": [
        "#### Plot the learning curves"
      ]
    },
    {
      "cell_type": "code",
      "metadata": {
        "id": "33hnfnLbg8Wl",
        "colab": {
          "base_uri": "https://localhost:8080/",
          "height": 558
        },
        "outputId": "390c0809-dd5a-49e5-d287-cf184ddc7251"
      },
      "source": [
        "# Plot the training loss and accuracy\n",
        "\n",
        "fig, axes = plt.subplots(2, sharex=True, figsize=(12, 8))\n",
        "fig.suptitle('Training Metrics')\n",
        "\n",
        "axes[0].set_ylabel(\"Loss\", fontsize=14)\n",
        "axes[0].plot(train_loss_results)\n",
        "\n",
        "axes[1].set_ylabel(\"Accuracy\", fontsize=14)\n",
        "axes[1].set_xlabel(\"Epoch\", fontsize=14)\n",
        "axes[1].plot(train_accuracy_results)\n",
        "plt.show()"
      ],
      "execution_count": null,
      "outputs": [
        {
          "output_type": "display_data",
          "data": {
            "image/png": "[encoded data removed]",
            "text/plain": [
              "<Figure size 864x576 with 2 Axes>"
            ]
          },
          "metadata": {
            "tags": [],
            "needs_background": "light"
          }
        }
      ]
    },
    {
      "cell_type": "markdown",
      "metadata": {
        "id": "WLrEfECWg8Wm"
      },
      "source": [
        "#### Predict from the model"
      ]
    },
    {
      "cell_type": "code",
      "metadata": {
        "id": "cXBxPfG3g8Wn",
        "colab": {
          "base_uri": "https://localhost:8080/"
        },
        "outputId": "fd32f5e1-305f-47c1-f687-2a19e8be0a66"
      },
      "source": [
        "# Get the model prediction for an example input\n",
        "\n",
        "predicted_label = np.argmax(model(x_train[np.newaxis,0]),axis=1)[0]\n",
        "print(\"Prediction: {}\".format(class_names[predicted_label]))\n",
        "print(\"     Label: {}\".format(class_names[train_labels[0]]))"
      ],
      "execution_count": null,
      "outputs": [
        {
          "output_type": "stream",
          "text": [
            "Prediction: earn\n",
            "     Label: earn\n"
          ],
          "name": "stdout"
        }
      ]
    },
    {
      "cell_type": "markdown",
      "metadata": {
        "id": "uLq6de__g8Wo"
      },
      "source": [
        "***\n",
        "<a id=\"coding_tutorial_5\"></a>\n",
        "## tf.function decorator"
      ]
    },
    {
      "cell_type": "code",
      "metadata": {
        "id": "W7kqfYayg8Wo"
      },
      "source": [
        "from tensorflow.keras.models import Model\n",
        "from tensorflow.keras.layers import Layer, Softmax\n",
        "from tensorflow.keras.utils import to_categorical\n",
        "from tensorflow.keras.datasets import reuters\n",
        "import numpy as np\n",
        "import matplotlib.pyplot as plt\n",
        "import time"
      ],
      "execution_count": null,
      "outputs": []
    },
    {
      "cell_type": "markdown",
      "metadata": {
        "id": "0aXu7aDYg8Wp"
      },
      "source": [
        "#### Build the model"
      ]
    },
    {
      "cell_type": "code",
      "metadata": {
        "id": "Ylv4Om6tg8Wp"
      },
      "source": [
        "# Initialize a new model\n",
        "\n",
        "model = MyModel(64, 64, 46)"
      ],
      "execution_count": null,
      "outputs": []
    },
    {
      "cell_type": "markdown",
      "metadata": {
        "id": "IWq6cz0Vg8Wq"
      },
      "source": [
        "#### Redefine the grad function using the @tf.function decorator"
      ]
    },
    {
      "cell_type": "code",
      "metadata": {
        "id": "rejl733Rg8Wq"
      },
      "source": [
        "# Use the @tf.function decorator\n",
        "\n",
        "@tf.function\n",
        "def grad(model, inputs, targets, wd):\n",
        "    with tf.GradientTape() as tape:\n",
        "        loss_value = loss(model, inputs, targets, wd)\n",
        "    return loss_value, tape.gradient(loss_value, model.trainable_variables)"
      ],
      "execution_count": null,
      "outputs": []
    },
    {
      "cell_type": "markdown",
      "metadata": {
        "id": "WfkcKGoCg8Wq"
      },
      "source": [
        "#### Train the model"
      ]
    },
    {
      "cell_type": "code",
      "metadata": {
        "id": "RbLd7QZug8Wr",
        "colab": {
          "base_uri": "https://localhost:8080/"
        },
        "outputId": "82152e5d-e120-4d25-da62-478f9e9e1ca4"
      },
      "source": [
        "# Re-run the training loop\n",
        "\n",
        "from tensorflow.keras.utils import to_categorical\n",
        "\n",
        "start_time = time.time()\n",
        "\n",
        "train_dataset = tf.data.Dataset.from_tensors((x_train, train_labels))\n",
        "train_dataset = train_dataset.batch(32)\n",
        "\n",
        "train_loss_results = []\n",
        "train_accuracy_results = []\n",
        "\n",
        "n_epochs = 30\n",
        "weight_decay = 0.005\n",
        "\n",
        "for epoch in range(n_epochs):\n",
        "  epoch_loss_avg = tf.keras.metrics.Mean()\n",
        "  epoch_accuracy = tf.keras.metrics.CategoricalAccuracy()\n",
        "\n",
        "  for x, y in train_dataset:\n",
        "    loss_value, grads = grad(model, x, y, weight_decay)\n",
        "    optimizer.apply_gradients(zip(grads, model.trainable_variables))\n",
        "\n",
        "    epoch_loss_avg(loss_value)\n",
        "    epoch_accuracy(to_categorical(y), model(x))\n",
        "\n",
        "  train_loss_results.append(epoch_loss_avg.result())\n",
        "  train_accuracy_results.append(epoch_accuracy.result())\n",
        "\n",
        "  print(\"Epoch {:03d}: Loss {:.3f}: Accuracy {:.3%}\".format(\n",
        "      epoch,\n",
        "      epoch_loss_avg.result(),\n",
        "      epoch_accuracy.result()\n",
        "  ))\n",
        "    \n",
        "print(\"Duration :{:.3f}\".format(time.time() - start_time))"
      ],
      "execution_count": null,
      "outputs": [
        {
          "output_type": "stream",
          "text": [
            "Epoch 000: Loss 11.948: Accuracy 1.826%\n",
            "Epoch 001: Loss 11.777: Accuracy 2.694%\n",
            "Epoch 002: Loss 11.547: Accuracy 5.489%\n",
            "Epoch 003: Loss 11.283: Accuracy 10.143%\n",
            "Epoch 004: Loss 11.000: Accuracy 15.620%\n",
            "Epoch 005: Loss 10.704: Accuracy 21.699%\n",
            "Epoch 006: Loss 10.400: Accuracy 26.275%\n",
            "Epoch 007: Loss 10.093: Accuracy 29.904%\n",
            "Epoch 008: Loss 9.783: Accuracy 31.641%\n",
            "Epoch 009: Loss 9.473: Accuracy 32.376%\n",
            "Epoch 010: Loss 9.162: Accuracy 33.979%\n",
            "Epoch 011: Loss 8.853: Accuracy 34.057%\n",
            "Epoch 012: Loss 8.540: Accuracy 33.712%\n",
            "Epoch 013: Loss 8.231: Accuracy 34.291%\n",
            "Epoch 014: Loss 7.915: Accuracy 34.680%\n",
            "Epoch 015: Loss 7.609: Accuracy 34.246%\n",
            "Epoch 016: Loss 7.306: Accuracy 34.736%\n",
            "Epoch 017: Loss 7.019: Accuracy 35.193%\n",
            "Epoch 018: Loss 6.750: Accuracy 34.447%\n",
            "Epoch 019: Loss 6.501: Accuracy 35.181%\n",
            "Epoch 020: Loss 6.254: Accuracy 35.616%\n",
            "Epoch 021: Loss 6.042: Accuracy 36.150%\n",
            "Epoch 022: Loss 5.838: Accuracy 36.662%\n",
            "Epoch 023: Loss 5.644: Accuracy 37.909%\n",
            "Epoch 024: Loss 5.448: Accuracy 38.343%\n",
            "Epoch 025: Loss 5.261: Accuracy 39.000%\n",
            "Epoch 026: Loss 5.080: Accuracy 39.891%\n",
            "Epoch 027: Loss 4.913: Accuracy 41.093%\n",
            "Epoch 028: Loss 4.738: Accuracy 41.438%\n",
            "Epoch 029: Loss 4.580: Accuracy 43.142%\n",
            "Duration :46.543\n"
          ],
          "name": "stdout"
        }
      ]
    },
    {
      "cell_type": "markdown",
      "metadata": {
        "id": "Oq178tw-g8Ws"
      },
      "source": [
        "#### Print the autograph code"
      ]
    },
    {
      "cell_type": "code",
      "metadata": {
        "id": "HN2p_sEEg8Ws",
        "colab": {
          "base_uri": "https://localhost:8080/"
        },
        "outputId": "4232b3d4-9a50-4e6e-d013-5d69b3bdebea"
      },
      "source": [
        "# Use tf.autograph.to_code to see the generated code\n",
        "\n",
        "print(tf.autograph.to_code(grad.python_function))"
      ],
      "execution_count": null,
      "outputs": [
        {
          "output_type": "stream",
          "text": [
            "def tf__grad(model, inputs, targets, wd):\n",
            "    with ag__.FunctionScope('grad', 'fscope', ag__.ConversionOptions(recursive=True, user_requested=True, optional_features=(), internal_convert_user_code=True)) as fscope:\n",
            "        do_return = False\n",
            "        retval_ = ag__.UndefinedReturnValue()\n",
            "        with ag__.ld(tf).GradientTape() as tape:\n",
            "            loss_value = ag__.converted_call(ag__.ld(loss), (ag__.ld(model), ag__.ld(inputs), ag__.ld(targets), ag__.ld(wd)), None, fscope)\n",
            "        try:\n",
            "            do_return = True\n",
            "            retval_ = (ag__.ld(loss_value), ag__.converted_call(ag__.ld(tape).gradient, (ag__.ld(loss_value), ag__.ld(model).trainable_variables), None, fscope))\n",
            "        except:\n",
            "            do_return = False\n",
            "            raise\n",
            "        return fscope.ret(retval_, do_return)\n",
            "\n"
          ],
          "name": "stdout"
        }
      ]
    },
    {
      "cell_type": "code",
      "metadata": {
        "id": "m-iYxM6kraG2"
      },
      "source": [
        ""
      ],
      "execution_count": null,
      "outputs": []
    }
  ]
}