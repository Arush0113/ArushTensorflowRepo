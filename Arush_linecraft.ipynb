{
  "nbformat": 4,
  "nbformat_minor": 0,
  "metadata": {
    "colab": {
      "name": "Arush linecraft.ipynb",
      "provenance": [],
      "collapsed_sections": [],
      "authorship_tag": "ABX9TyOhXwpuH/f8Cgx3fQ3iPn4r",
      "include_colab_link": true
    },
    "kernelspec": {
      "name": "python3",
      "display_name": "Python 3"
    },
    "language_info": {
      "name": "python"
    },
    "accelerator": "GPU"
  },
  "cells": [
    {
      "cell_type": "markdown",
      "metadata": {
        "id": "view-in-github",
        "colab_type": "text"
      },
      "source": [
        "<a href=\"https://colab.research.google.com/github/Arush0113/ArushTensorflowRepo/blob/main/Arush_linecraft.ipynb\" target=\"_parent\"><img src=\"https://colab.research.google.com/assets/colab-badge.svg\" alt=\"Open In Colab\"/></a>"
      ]
    },
    {
      "cell_type": "code",
      "metadata": {
        "id": "b-R0XVdHrd4g"
      },
      "source": [
        "import numpy as np\n",
        "import pandas as pd\n",
        "import matplotlib.pyplot as plt"
      ],
      "execution_count": 1,
      "outputs": []
    },
    {
      "cell_type": "code",
      "metadata": {
        "id": "uvs6BgKtrjA4"
      },
      "source": [
        "import tensorflow as tf\n"
      ],
      "execution_count": 2,
      "outputs": []
    },
    {
      "cell_type": "code",
      "metadata": {
        "colab": {
          "base_uri": "https://localhost:8080/"
        },
        "id": "IAtghgNvsEZL",
        "outputId": "83b0164e-4d92-4f43-d465-b03023a16a0a"
      },
      "source": [
        "from google.colab import drive\n",
        "drive.mount('/content/drive')"
      ],
      "execution_count": 3,
      "outputs": [
        {
          "output_type": "stream",
          "text": [
            "Mounted at /content/drive\n"
          ],
          "name": "stdout"
        }
      ]
    },
    {
      "cell_type": "code",
      "metadata": {
        "id": "R8TLjMVarsGa"
      },
      "source": [
        "df = pd.read_csv('/content/drive/MyDrive/air_quality.csv', delimiter = ',')"
      ],
      "execution_count": 21,
      "outputs": []
    },
    {
      "cell_type": "code",
      "metadata": {
        "colab": {
          "base_uri": "https://localhost:8080/",
          "height": 203
        },
        "id": "IExUCY7XsuR9",
        "outputId": "37078541-3971-4339-d26e-a39e368e730a"
      },
      "source": [
        "df.head()"
      ],
      "execution_count": 22,
      "outputs": [
        {
          "output_type": "execute_result",
          "data": {
            "text/html": [
              "<div>\n",
              "<style scoped>\n",
              "    .dataframe tbody tr th:only-of-type {\n",
              "        vertical-align: middle;\n",
              "    }\n",
              "\n",
              "    .dataframe tbody tr th {\n",
              "        vertical-align: top;\n",
              "    }\n",
              "\n",
              "    .dataframe thead th {\n",
              "        text-align: right;\n",
              "    }\n",
              "</style>\n",
              "<table border=\"1\" class=\"dataframe\">\n",
              "  <thead>\n",
              "    <tr style=\"text-align: right;\">\n",
              "      <th></th>\n",
              "      <th>year</th>\n",
              "      <th>month</th>\n",
              "      <th>day</th>\n",
              "      <th>hour</th>\n",
              "      <th>PM2.5</th>\n",
              "      <th>temperature</th>\n",
              "      <th>pressure</th>\n",
              "      <th>rain</th>\n",
              "      <th>wind_direction</th>\n",
              "      <th>wind_speed</th>\n",
              "    </tr>\n",
              "  </thead>\n",
              "  <tbody>\n",
              "    <tr>\n",
              "      <th>0</th>\n",
              "      <td>2013</td>\n",
              "      <td>3</td>\n",
              "      <td>1</td>\n",
              "      <td>0</td>\n",
              "      <td>4.0</td>\n",
              "      <td>-0.7</td>\n",
              "      <td>1023.0</td>\n",
              "      <td>0.0</td>\n",
              "      <td>NNW</td>\n",
              "      <td>4.4</td>\n",
              "    </tr>\n",
              "    <tr>\n",
              "      <th>1</th>\n",
              "      <td>2013</td>\n",
              "      <td>3</td>\n",
              "      <td>1</td>\n",
              "      <td>1</td>\n",
              "      <td>8.0</td>\n",
              "      <td>-1.1</td>\n",
              "      <td>1023.2</td>\n",
              "      <td>0.0</td>\n",
              "      <td>N</td>\n",
              "      <td>4.7</td>\n",
              "    </tr>\n",
              "    <tr>\n",
              "      <th>2</th>\n",
              "      <td>2013</td>\n",
              "      <td>3</td>\n",
              "      <td>1</td>\n",
              "      <td>2</td>\n",
              "      <td>7.0</td>\n",
              "      <td>-1.1</td>\n",
              "      <td>1023.5</td>\n",
              "      <td>0.0</td>\n",
              "      <td>NNW</td>\n",
              "      <td>5.6</td>\n",
              "    </tr>\n",
              "    <tr>\n",
              "      <th>3</th>\n",
              "      <td>2013</td>\n",
              "      <td>3</td>\n",
              "      <td>1</td>\n",
              "      <td>3</td>\n",
              "      <td>6.0</td>\n",
              "      <td>-1.4</td>\n",
              "      <td>1024.5</td>\n",
              "      <td>0.0</td>\n",
              "      <td>NW</td>\n",
              "      <td>3.1</td>\n",
              "    </tr>\n",
              "    <tr>\n",
              "      <th>4</th>\n",
              "      <td>2013</td>\n",
              "      <td>3</td>\n",
              "      <td>1</td>\n",
              "      <td>4</td>\n",
              "      <td>3.0</td>\n",
              "      <td>-2.0</td>\n",
              "      <td>1025.2</td>\n",
              "      <td>0.0</td>\n",
              "      <td>N</td>\n",
              "      <td>2.0</td>\n",
              "    </tr>\n",
              "  </tbody>\n",
              "</table>\n",
              "</div>"
            ],
            "text/plain": [
              "   year  month  day  hour  ...  pressure  rain  wind_direction  wind_speed\n",
              "0  2013      3    1     0  ...    1023.0   0.0             NNW         4.4\n",
              "1  2013      3    1     1  ...    1023.2   0.0               N         4.7\n",
              "2  2013      3    1     2  ...    1023.5   0.0             NNW         5.6\n",
              "3  2013      3    1     3  ...    1024.5   0.0              NW         3.1\n",
              "4  2013      3    1     4  ...    1025.2   0.0               N         2.0\n",
              "\n",
              "[5 rows x 10 columns]"
            ]
          },
          "metadata": {},
          "execution_count": 22
        }
      ]
    },
    {
      "cell_type": "code",
      "metadata": {
        "id": "QiLX4aWssyJi"
      },
      "source": [
        "wind_directions = df['wind_direction'].unique()"
      ],
      "execution_count": 23,
      "outputs": []
    },
    {
      "cell_type": "code",
      "metadata": {
        "id": "IxdnwJ0a_7eZ"
      },
      "source": [
        "new_df = df.copy()"
      ],
      "execution_count": 24,
      "outputs": []
    },
    {
      "cell_type": "code",
      "metadata": {
        "id": "q79uEpW-AC6j"
      },
      "source": [
        "new_df.drop(['wind_direction'], axis = 1, inplace=True)"
      ],
      "execution_count": 25,
      "outputs": []
    },
    {
      "cell_type": "code",
      "metadata": {
        "id": "Vmf5oGkpIwH2"
      },
      "source": [
        "# new_df['pressure'] = new_df['pressure']/new_df['pressure'].mean()\n",
        "# new_df['wind_speed'] = new_df['wind_speed']/new_df['wind_speed'].mean()\n",
        "# new_df['temperature'] = new_df['temperature']/new_df['temperature'].mean()\n",
        "# new_df['rain'] = new_df['rain']/new_df['rain'].mean()"
      ],
      "execution_count": 26,
      "outputs": []
    },
    {
      "cell_type": "code",
      "metadata": {
        "id": "gS4Rw2XmAC8G"
      },
      "source": [
        "pred_df = new_df[new_df['PM2.5'] == -1.0]\n",
        "new_df = new_df[new_df['PM2.5'] != -1.0]\n",
        "\n",
        "new_df.dropna(inplace=True)\n",
        "y_df = new_df['PM2.5']\n",
        "new_df.drop(['PM2.5'], axis = 1, inplace = True)\n",
        "\n",
        "\n",
        "pred_df.dropna(inplace=True)\n",
        "ypred_df = pred_df['PM2.5']\n",
        "pred_df.drop(['PM2.5'], axis = 1, inplace = True)"
      ],
      "execution_count": 27,
      "outputs": []
    },
    {
      "cell_type": "code",
      "metadata": {
        "id": "si8L_Eq_OIzx"
      },
      "source": [
        "# pred_df"
      ],
      "execution_count": 28,
      "outputs": []
    },
    {
      "cell_type": "code",
      "metadata": {
        "id": "d6TfkUmIE0Dr"
      },
      "source": [
        "# new_df['PM2.5'].dtype"
      ],
      "execution_count": 29,
      "outputs": []
    },
    {
      "cell_type": "code",
      "metadata": {
        "colab": {
          "base_uri": "https://localhost:8080/"
        },
        "id": "wzpnY0ULCjpp",
        "outputId": "80ba56e0-67ff-4a97-8be6-13adc0eed50f"
      },
      "source": [
        "new_df['rain'].unique()"
      ],
      "execution_count": 30,
      "outputs": [
        {
          "output_type": "execute_result",
          "data": {
            "text/plain": [
              "array([ 0. ,  0.1,  0.4,  0.9,  0.2,  0.7,  1.4,  1.8,  1.5,  1.3,  1. ,\n",
              "        1.6,  2.5,  1.9,  1.1,  0.3,  0.8,  0.5,  0.6,  1.2, 10.7,  3.3,\n",
              "        2.2,  7.6,  8.9,  3.2,  2.1,  3.8,  3.6,  4. , 16. ,  5.7, 11.7,\n",
              "       21. , 10.1,  6.4,  2.4,  1.7,  2. ,  4.4, 12.1,  6.6,  2.8, 11.2,\n",
              "        3. ,  4.1,  3.1,  9.8,  8.8,  4.5, 14.7,  2.3, 10.6,  2.9,  6. ,\n",
              "       72.5,  6.8,  3.9,  8.6, 10.9,  3.5,  7. ,  7.3, 11.5, 11.6,  8.2,\n",
              "        5.4,  4.6,  7.8, 14.6, 40.7,  7.5, 23.6, 23.3,  6.5,  6.1, 26.8,\n",
              "        8. ,  5.2,  3.4,  2.6, 11.3, 12.9, 13.6,  3.7,  4.7,  4.2,  5. ,\n",
              "        2.7,  9.9,  4.8,  5.3,  9.6, 33.7, 15.4,  9.5, 29.3,  7.9,  7.2,\n",
              "       17.8, 33.1,  6.9,  5.9,  4.3, 36.6, 13.4,  6.3,  4.9, 17.9,  7.1,\n",
              "       13.8, 23.7, 24.1, 20.3, 20.2,  9. , 16.4, 17.7, 18.3, 17.6, 15.3,\n",
              "        5.5, 21.7, 46.4])"
            ]
          },
          "metadata": {},
          "execution_count": 30
        }
      ]
    },
    {
      "cell_type": "code",
      "metadata": {
        "id": "P31y0PpjAC_v"
      },
      "source": [
        "X = np.array(new_df)\n",
        "y = np.array(y_df)"
      ],
      "execution_count": 31,
      "outputs": []
    },
    {
      "cell_type": "code",
      "metadata": {
        "id": "ntLdVjISZiUI",
        "outputId": "568e4696-0860-4903-f736-aa050661dc6c",
        "colab": {
          "base_uri": "https://localhost:8080/",
          "height": 229
        }
      },
      "source": [
        "X_train = X[:0.8*X.shape[0], :]\n",
        "X_test = X[0.8*X.shape[0]:, :]\n",
        "\n",
        "y_train = y[:0.8*X.shape[0], :]\n",
        "y_test = y[0.8*X.shape[0]:, :]"
      ],
      "execution_count": 49,
      "outputs": [
        {
          "output_type": "error",
          "ename": "TypeError",
          "evalue": "ignored",
          "traceback": [
            "\u001b[0;31m---------------------------------------------------------------------------\u001b[0m",
            "\u001b[0;31mTypeError\u001b[0m                                 Traceback (most recent call last)",
            "\u001b[0;32m<ipython-input-49-c9d66879c9f6>\u001b[0m in \u001b[0;36m<module>\u001b[0;34m()\u001b[0m\n\u001b[0;32m----> 1\u001b[0;31m \u001b[0mX_train\u001b[0m \u001b[0;34m=\u001b[0m \u001b[0mX\u001b[0m\u001b[0;34m[\u001b[0m\u001b[0;34m:\u001b[0m\u001b[0;36m0.8\u001b[0m\u001b[0;34m*\u001b[0m\u001b[0mX\u001b[0m\u001b[0;34m.\u001b[0m\u001b[0mshape\u001b[0m\u001b[0;34m[\u001b[0m\u001b[0;36m0\u001b[0m\u001b[0;34m]\u001b[0m\u001b[0;34m,\u001b[0m \u001b[0;34m:\u001b[0m\u001b[0;34m]\u001b[0m\u001b[0;34m\u001b[0m\u001b[0;34m\u001b[0m\u001b[0m\n\u001b[0m\u001b[1;32m      2\u001b[0m \u001b[0mX_test\u001b[0m \u001b[0;34m=\u001b[0m \u001b[0mX\u001b[0m\u001b[0;34m[\u001b[0m\u001b[0;36m0.8\u001b[0m\u001b[0;34m*\u001b[0m\u001b[0mX\u001b[0m\u001b[0;34m.\u001b[0m\u001b[0mshape\u001b[0m\u001b[0;34m[\u001b[0m\u001b[0;36m0\u001b[0m\u001b[0;34m]\u001b[0m\u001b[0;34m:\u001b[0m\u001b[0;34m,\u001b[0m \u001b[0;34m:\u001b[0m\u001b[0;34m]\u001b[0m\u001b[0;34m\u001b[0m\u001b[0;34m\u001b[0m\u001b[0m\n\u001b[1;32m      3\u001b[0m \u001b[0;34m\u001b[0m\u001b[0m\n\u001b[1;32m      4\u001b[0m \u001b[0my_train\u001b[0m \u001b[0;34m=\u001b[0m \u001b[0my\u001b[0m\u001b[0;34m[\u001b[0m\u001b[0;34m:\u001b[0m\u001b[0;36m0.8\u001b[0m\u001b[0;34m*\u001b[0m\u001b[0mX\u001b[0m\u001b[0;34m.\u001b[0m\u001b[0mshape\u001b[0m\u001b[0;34m[\u001b[0m\u001b[0;36m0\u001b[0m\u001b[0;34m]\u001b[0m\u001b[0;34m,\u001b[0m \u001b[0;34m:\u001b[0m\u001b[0;34m]\u001b[0m\u001b[0;34m\u001b[0m\u001b[0;34m\u001b[0m\u001b[0m\n\u001b[1;32m      5\u001b[0m \u001b[0my_test\u001b[0m \u001b[0;34m=\u001b[0m \u001b[0my\u001b[0m\u001b[0;34m[\u001b[0m\u001b[0;36m0.8\u001b[0m\u001b[0;34m*\u001b[0m\u001b[0mX\u001b[0m\u001b[0;34m.\u001b[0m\u001b[0mshape\u001b[0m\u001b[0;34m[\u001b[0m\u001b[0;36m0\u001b[0m\u001b[0;34m]\u001b[0m\u001b[0;34m:\u001b[0m\u001b[0;34m,\u001b[0m \u001b[0;34m:\u001b[0m\u001b[0;34m]\u001b[0m\u001b[0;34m\u001b[0m\u001b[0;34m\u001b[0m\u001b[0m\n",
            "\u001b[0;31mTypeError\u001b[0m: slice indices must be integers or None or have an __index__ method"
          ]
        }
      ]
    },
    {
      "cell_type": "code",
      "metadata": {
        "colab": {
          "base_uri": "https://localhost:8080/"
        },
        "id": "qDj4_2PcADDn",
        "outputId": "b0c5496e-3232-4218-850b-2a36188d1e93"
      },
      "source": [
        "X.shape\n",
        "# y.shape"
      ],
      "execution_count": 32,
      "outputs": [
        {
          "output_type": "execute_result",
          "data": {
            "text/plain": [
              "(31516, 8)"
            ]
          },
          "metadata": {},
          "execution_count": 32
        }
      ]
    },
    {
      "cell_type": "code",
      "metadata": {
        "id": "3Os9VXvN9j1W"
      },
      "source": [
        "# for item in wind_directions:\n",
        "#   print(item)"
      ],
      "execution_count": 33,
      "outputs": []
    },
    {
      "cell_type": "code",
      "metadata": {
        "id": "DsuMx62J96PV"
      },
      "source": [
        "# data = np.array(new_df)"
      ],
      "execution_count": 34,
      "outputs": []
    },
    {
      "cell_type": "code",
      "metadata": {
        "id": "R2Uja7UE-xlN"
      },
      "source": [
        "# data.shape"
      ],
      "execution_count": 35,
      "outputs": []
    },
    {
      "cell_type": "code",
      "metadata": {
        "id": "dZa303_p_pWx"
      },
      "source": [
        "# X = data[:, :3]\n",
        "# y = data[:, 4]"
      ],
      "execution_count": 36,
      "outputs": []
    },
    {
      "cell_type": "code",
      "metadata": {
        "id": "bDebUVPdMPQ0"
      },
      "source": [
        ""
      ],
      "execution_count": 36,
      "outputs": []
    },
    {
      "cell_type": "code",
      "metadata": {
        "colab": {
          "base_uri": "https://localhost:8080/"
        },
        "id": "8ybfiGFbC9c9",
        "outputId": "df1aa143-84e0-49a5-ce42-ff657623bf71"
      },
      "source": [
        "print(X.shape)\n",
        "print(y.shape)"
      ],
      "execution_count": 37,
      "outputs": [
        {
          "output_type": "stream",
          "text": [
            "(31516, 8)\n",
            "(31516,)\n"
          ],
          "name": "stdout"
        }
      ]
    },
    {
      "cell_type": "code",
      "metadata": {
        "id": "W7Tn9f6ADAht"
      },
      "source": [
        ""
      ],
      "execution_count": 37,
      "outputs": []
    },
    {
      "cell_type": "code",
      "metadata": {
        "id": "lVmfkZNnDHoi"
      },
      "source": [
        "import tensorflow as tf\n",
        "from tensorflow.keras.models import Sequential\n",
        "from tensorflow.keras.layers import RNN, LSTM, Dense\n",
        "import numpy as np\n",
        "import matplotlib.pyplot as plt\n",
        "from sklearn.model_selection import train_test_split\n",
        "from tensorflow.keras.callbacks import ModelCheckpoint\n",
        "from tensorflow.keras.utils import plot_model\n",
        "from sklearn.metrics import confusion_matrix, classification_report\n",
        "import seaborn as sns\n",
        "import pandas as pd"
      ],
      "execution_count": 41,
      "outputs": []
    },
    {
      "cell_type": "code",
      "metadata": {
        "id": "wGBbuQBvDHrc"
      },
      "source": [
        "model = tf.keras.models.Sequential([\n",
        "                                    tf.keras.layers.Dense(32, activation = 'relu', kernel_initializer='random_normal'),\n",
        "                                    tf.keras.layers.Dense(16, activation = 'relu', kernel_initializer='random_normal'),\n",
        "                                    tf.keras.layers.Dense(8, activation = 'relu', kernel_initializer='random_normal'),\n",
        "                                    tf.keras.layers.Dense(1),\n",
        "])"
      ],
      "execution_count": 42,
      "outputs": []
    },
    {
      "cell_type": "code",
      "metadata": {
        "colab": {
          "base_uri": "https://localhost:8080/"
        },
        "id": "CIRjjWCbDHyl",
        "outputId": "24768f04-2873-4acc-8c90-35ce1088cad1"
      },
      "source": [
        "model.compile(loss = \"mae\", optimizer = 'adam')\n",
        "history = model.fit(X, y, epochs = 15, verbose = 1)"
      ],
      "execution_count": 43,
      "outputs": [
        {
          "output_type": "stream",
          "text": [
            "Epoch 1/15\n",
            "985/985 [==============================] - 2s 2ms/step - loss: 56.5642\n",
            "Epoch 2/15\n",
            "985/985 [==============================] - 2s 2ms/step - loss: 55.8421\n",
            "Epoch 3/15\n",
            "985/985 [==============================] - 2s 2ms/step - loss: 55.7855\n",
            "Epoch 4/15\n",
            "985/985 [==============================] - 2s 2ms/step - loss: 55.6884\n",
            "Epoch 5/15\n",
            "985/985 [==============================] - 2s 2ms/step - loss: 55.5244\n",
            "Epoch 6/15\n",
            "985/985 [==============================] - 2s 2ms/step - loss: 55.2154\n",
            "Epoch 7/15\n",
            "985/985 [==============================] - 2s 2ms/step - loss: 54.6655\n",
            "Epoch 8/15\n",
            "985/985 [==============================] - 2s 2ms/step - loss: 53.9542\n",
            "Epoch 9/15\n",
            "985/985 [==============================] - 2s 2ms/step - loss: 53.3939\n",
            "Epoch 10/15\n",
            "985/985 [==============================] - 2s 2ms/step - loss: 53.1144\n",
            "Epoch 11/15\n",
            "985/985 [==============================] - 2s 2ms/step - loss: 52.9497\n",
            "Epoch 12/15\n",
            "985/985 [==============================] - 2s 2ms/step - loss: 52.7687\n",
            "Epoch 13/15\n",
            "985/985 [==============================] - 2s 2ms/step - loss: 52.5811\n",
            "Epoch 14/15\n",
            "985/985 [==============================] - 2s 2ms/step - loss: 52.5320\n",
            "Epoch 15/15\n",
            "985/985 [==============================] - 2s 2ms/step - loss: 52.3485\n"
          ],
          "name": "stdout"
        }
      ]
    },
    {
      "cell_type": "code",
      "metadata": {
        "colab": {
          "base_uri": "https://localhost:8080/",
          "height": 282
        },
        "id": "33YW7eKGDH4F",
        "outputId": "5146fbd1-bb9a-4bdf-f7cc-da37156bd302"
      },
      "source": [
        "plt.figure()\n",
        "plt.plot(history.history['loss'])"
      ],
      "execution_count": 44,
      "outputs": [
        {
          "output_type": "execute_result",
          "data": {
            "text/plain": [
              "[<matplotlib.lines.Line2D at 0x7f67d8112210>]"
            ]
          },
          "metadata": {},
          "execution_count": 44
        },
        {
          "output_type": "display_data",
          "data": {
            "image/png": "[encoded data removed]",
            "text/plain": [
              "<Figure size 432x288 with 1 Axes>"
            ]
          },
          "metadata": {
            "needs_background": "light"
          }
        }
      ]
    },
    {
      "cell_type": "code",
      "metadata": {
        "id": "ofBX4NOxDH-X"
      },
      "source": [
        "X_pred = np.array(pred_df)\n",
        "y_pred = np.array(ypred_df)\n"
      ],
      "execution_count": 45,
      "outputs": []
    },
    {
      "cell_type": "code",
      "metadata": {
        "colab": {
          "base_uri": "https://localhost:8080/",
          "height": 178
        },
        "id": "TdNa6D9NDICn",
        "outputId": "adfda04e-194e-4c7a-c0c2-bdf524b94444"
      },
      "source": [
        "model.predict(X_pred)"
      ],
      "execution_count": 46,
      "outputs": [
        {
          "output_type": "error",
          "ename": "AttributeError",
          "evalue": "ignored",
          "traceback": [
            "\u001b[0;31m---------------------------------------------------------------------------\u001b[0m",
            "\u001b[0;31mAttributeError\u001b[0m                            Traceback (most recent call last)",
            "\u001b[0;32m<ipython-input-46-2cbaa4ee4c80>\u001b[0m in \u001b[0;36m<module>\u001b[0;34m()\u001b[0m\n\u001b[1;32m      1\u001b[0m \u001b[0mlst\u001b[0m \u001b[0;34m=\u001b[0m \u001b[0mmodel\u001b[0m\u001b[0;34m.\u001b[0m\u001b[0mpredict\u001b[0m\u001b[0;34m(\u001b[0m\u001b[0mX_pred\u001b[0m\u001b[0;34m)\u001b[0m\u001b[0;34m\u001b[0m\u001b[0;34m\u001b[0m\u001b[0m\n\u001b[0;32m----> 2\u001b[0;31m \u001b[0mlst\u001b[0m\u001b[0;34m.\u001b[0m\u001b[0mhistory\u001b[0m\u001b[0;34m[\u001b[0m\u001b[0;34m'loss'\u001b[0m\u001b[0;34m]\u001b[0m\u001b[0;34m\u001b[0m\u001b[0;34m\u001b[0m\u001b[0m\n\u001b[0m",
            "\u001b[0;31mAttributeError\u001b[0m: 'numpy.ndarray' object has no attribute 'history'"
          ]
        }
      ]
    },
    {
      "cell_type": "code",
      "metadata": {
        "id": "aJ2_i-PXSBCZ"
      },
      "source": [
        "pred_df['PM2.5'] = lst"
      ],
      "execution_count": null,
      "outputs": []
    },
    {
      "cell_type": "code",
      "metadata": {
        "id": "IKfDMsATTjcr"
      },
      "source": [
        "pred_df"
      ],
      "execution_count": null,
      "outputs": []
    },
    {
      "cell_type": "code",
      "metadata": {
        "id": "x5N1dQTKTk3T"
      },
      "source": [
        "pred_df.to_csv(r'/content/drive/MyDrive/Arush_predictions.csv')"
      ],
      "execution_count": null,
      "outputs": []
    },
    {
      "cell_type": "code",
      "metadata": {
        "id": "AoS7yYuDVXvt"
      },
      "source": [
        ""
      ],
      "execution_count": null,
      "outputs": []
    }
  ]
}