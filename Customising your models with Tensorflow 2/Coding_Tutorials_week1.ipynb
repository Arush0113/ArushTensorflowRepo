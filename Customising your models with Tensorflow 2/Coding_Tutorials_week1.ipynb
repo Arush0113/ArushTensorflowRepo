{
  "nbformat": 4,
  "nbformat_minor": 0,
  "metadata": {
    "kernelspec": {
      "display_name": "Python 3",
      "language": "python",
      "name": "python3"
    },
    "language_info": {
      "codemirror_mode": {
        "name": "ipython",
        "version": 3
      },
      "file_extension": ".py",
      "mimetype": "text/x-python",
      "name": "python",
      "nbconvert_exporter": "python",
      "pygments_lexer": "ipython3",
      "version": "3.7.1"
    },
    "colab": {
      "name": "Coding Tutorial.ipynb",
      "provenance": [],
      "collapsed_sections": [
        "Vw_mtaCSKURC",
        "m5zoXn36KURd",
        "FCXImgxwKURi",
        "LogIRCGRKURr",
        "2D5WmZvkKURz",
        "XEKAybugKUSD",
        "9rOpqQVNKUSO",
        "1fn43vXfKUSj",
        "wQunv2imKUTH",
        "lLnXno5vKUUH",
        "hT_nP5czKUUe",
        "gZ615uKaKUUv",
        "yclV6KiFKUU3",
        "cMYjnJDIKUVC"
      ],
      "include_colab_link": true
    }
  },
  "cells": [
    {
      "cell_type": "markdown",
      "metadata": {
        "id": "view-in-github",
        "colab_type": "text"
      },
      "source": [
        "<a href=\"https://colab.research.google.com/github/Arush0113/ArushTensorflowRepo/blob/main/Customising%20your%20models%20with%20Tensorflow%202/Coding_Tutorials_week1.ipynb\" target=\"_parent\"><img src=\"https://colab.research.google.com/assets/colab-badge.svg\" alt=\"Open In Colab\"/></a>"
      ]
    },
    {
      "cell_type": "code",
      "metadata": {
        "scrolled": false,
        "id": "teOpfw0hKUQh",
        "colab": {
          "base_uri": "https://localhost:8080/"
        },
        "outputId": "82b08d28-9309-402b-cfcb-1cec2bc92cf1"
      },
      "source": [
        "import tensorflow as tf\n",
        "print(tf.__version__)"
      ],
      "execution_count": 1,
      "outputs": [
        {
          "output_type": "stream",
          "text": [
            "2.4.1\n"
          ],
          "name": "stdout"
        }
      ]
    },
    {
      "cell_type": "markdown",
      "metadata": {
        "id": "2U6iIpalKUQr"
      },
      "source": [
        "# The Keras functional API"
      ]
    },
    {
      "cell_type": "markdown",
      "metadata": {
        "id": "jIoR--DrKUQs"
      },
      "source": [
        " ## Coding tutorials\n",
        " #### [1. Multiple inputs and outputs](#coding_tutorial_1)\n",
        " #### [2. Tensors and Variables](#coding_tutorial_2)\n",
        " #### [3. Accessing model layers](#coding_tutorial_3)\n",
        " #### [4. Freezing layers](#coding_tutorial_4)"
      ]
    },
    {
      "cell_type": "markdown",
      "metadata": {
        "id": "qhZ0R9arKUQt"
      },
      "source": [
        "***\n",
        "<a id=\"coding_tutorial_1\"></a>\n",
        "## Multiple inputs and outputs"
      ]
    },
    {
      "cell_type": "code",
      "metadata": {
        "scrolled": false,
        "id": "Atjv7GqMKUQu"
      },
      "source": [
        "import numpy as np\n",
        "import pandas as pd\n",
        "import matplotlib.pyplot as plt\n",
        "%matplotlib inline"
      ],
      "execution_count": 2,
      "outputs": []
    },
    {
      "cell_type": "markdown",
      "metadata": {
        "id": "CCNmLCsKKUQy"
      },
      "source": [
        "#### Load the acute inflammations dataset\n",
        "\n",
        "The `acute inflammations` was created by a medical expert as a data set to test the expert system, which will perform the presumptive diagnosis of two diseases of the urinary system. You can find out more about the dataset [here](https://archive.ics.uci.edu/ml/datasets/Acute+Inflammations).\n",
        "\n",
        "Attribute information:\n",
        "\n",
        "Inputs:\n",
        "- Temperature of patient : 35C-42C\n",
        "- Occurrence of nausea : yes/no\n",
        "- Lumbar pain : yes/no\n",
        "- Urine pushing (continuous need for urination) : yes/no\n",
        "- Micturition pains : yes/no\n",
        "- Burning of urethra, itch, swelling of urethra outlet : yes/no\n",
        "\n",
        "Outputs:\n",
        "- decision 1: Inflammation of urinary bladder : yes/no\n",
        "- decision 2: Nephritis of renal pelvis origin : yes/no"
      ]
    },
    {
      "cell_type": "markdown",
      "metadata": {
        "id": "BsE7ATcyKV7E"
      },
      "source": [
        "#### Import the data\n",
        "\n",
        "The dataset required for this tutorial can be downloaded from the following link:\n",
        "\n",
        "https://drive.google.com/open?id=1CDPQSqpI7OjNIgOERWaI-BlQMI6vjzb9\n",
        "\n",
        "You should store this file in Drive for use in this Colab notebook."
      ]
    },
    {
      "cell_type": "markdown",
      "metadata": {
        "id": "mldOoZD-KUQ0"
      },
      "source": [
        "#### Load the data"
      ]
    },
    {
      "cell_type": "code",
      "metadata": {
        "id": "uM2ETK5qKXDq",
        "colab": {
          "base_uri": "https://localhost:8080/"
        },
        "outputId": "0a978ccb-43af-41fb-b6df-f335436b8395"
      },
      "source": [
        "# Run this cell to connect to your Drive folder\n",
        "\n",
        "from google.colab import drive\n",
        "drive.mount('/content/gdrive')"
      ],
      "execution_count": 5,
      "outputs": [
        {
          "output_type": "stream",
          "text": [
            "Drive already mounted at /content/gdrive; to attempt to forcibly remount, call drive.mount(\"/content/gdrive\", force_remount=True).\n"
          ],
          "name": "stdout"
        }
      ]
    },
    {
      "cell_type": "code",
      "metadata": {
        "scrolled": false,
        "id": "__6I4CYqKUQ1",
        "colab": {
          "base_uri": "https://localhost:8080/",
          "height": 195
        },
        "outputId": "c059ca0c-c2c5-4a3d-f56c-397ecebe7382"
      },
      "source": [
        "# Load the dataset\n",
        "\n",
        "from sklearn.model_selection import train_test_split\n",
        "\n",
        "pd_dat = pd.read_csv('/content/gdrive/MyDrive/diagnosis.csv')\n",
        "dataset = pd_dat.values\n",
        "pd_dat.head()\n",
        "# np.transpose(dataset)"
      ],
      "execution_count": 8,
      "outputs": [
        {
          "output_type": "execute_result",
          "data": {
            "text/html": [
              "<div>\n",
              "<style scoped>\n",
              "    .dataframe tbody tr th:only-of-type {\n",
              "        vertical-align: middle;\n",
              "    }\n",
              "\n",
              "    .dataframe tbody tr th {\n",
              "        vertical-align: top;\n",
              "    }\n",
              "\n",
              "    .dataframe thead th {\n",
              "        text-align: right;\n",
              "    }\n",
              "</style>\n",
              "<table border=\"1\" class=\"dataframe\">\n",
              "  <thead>\n",
              "    <tr style=\"text-align: right;\">\n",
              "      <th></th>\n",
              "      <th>0</th>\n",
              "      <th>1</th>\n",
              "      <th>2</th>\n",
              "      <th>3</th>\n",
              "      <th>4</th>\n",
              "      <th>5</th>\n",
              "      <th>6</th>\n",
              "      <th>7</th>\n",
              "    </tr>\n",
              "  </thead>\n",
              "  <tbody>\n",
              "    <tr>\n",
              "      <th>0</th>\n",
              "      <td>35.5</td>\n",
              "      <td>0</td>\n",
              "      <td>1</td>\n",
              "      <td>0</td>\n",
              "      <td>0</td>\n",
              "      <td>0</td>\n",
              "      <td>0</td>\n",
              "      <td>0</td>\n",
              "    </tr>\n",
              "    <tr>\n",
              "      <th>1</th>\n",
              "      <td>35.9</td>\n",
              "      <td>0</td>\n",
              "      <td>0</td>\n",
              "      <td>1</td>\n",
              "      <td>1</td>\n",
              "      <td>1</td>\n",
              "      <td>1</td>\n",
              "      <td>0</td>\n",
              "    </tr>\n",
              "    <tr>\n",
              "      <th>2</th>\n",
              "      <td>35.9</td>\n",
              "      <td>0</td>\n",
              "      <td>1</td>\n",
              "      <td>0</td>\n",
              "      <td>0</td>\n",
              "      <td>0</td>\n",
              "      <td>0</td>\n",
              "      <td>0</td>\n",
              "    </tr>\n",
              "    <tr>\n",
              "      <th>3</th>\n",
              "      <td>36.0</td>\n",
              "      <td>0</td>\n",
              "      <td>0</td>\n",
              "      <td>1</td>\n",
              "      <td>1</td>\n",
              "      <td>1</td>\n",
              "      <td>1</td>\n",
              "      <td>0</td>\n",
              "    </tr>\n",
              "    <tr>\n",
              "      <th>4</th>\n",
              "      <td>36.0</td>\n",
              "      <td>0</td>\n",
              "      <td>1</td>\n",
              "      <td>0</td>\n",
              "      <td>0</td>\n",
              "      <td>0</td>\n",
              "      <td>0</td>\n",
              "      <td>0</td>\n",
              "    </tr>\n",
              "  </tbody>\n",
              "</table>\n",
              "</div>"
            ],
            "text/plain": [
              "      0  1  2  3  4  5  6  7\n",
              "0  35.5  0  1  0  0  0  0  0\n",
              "1  35.9  0  0  1  1  1  1  0\n",
              "2  35.9  0  1  0  0  0  0  0\n",
              "3  36.0  0  0  1  1  1  1  0\n",
              "4  36.0  0  1  0  0  0  0  0"
            ]
          },
          "metadata": {
            "tags": []
          },
          "execution_count": 8
        }
      ]
    },
    {
      "cell_type": "code",
      "metadata": {
        "scrolled": false,
        "id": "-wVA5JI8KUQ5"
      },
      "source": [
        "# Build train and test data splits\n",
        "\n",
        "X_train, X_test, Y_train, Y_test = train_test_split(dataset[:,:6], dataset[:,6:], test_size=0.33)"
      ],
      "execution_count": 9,
      "outputs": []
    },
    {
      "cell_type": "code",
      "metadata": {
        "scrolled": false,
        "id": "K03GPQNZKUQ9"
      },
      "source": [
        "# Assign training and testing inputs/outputs\n",
        "\n",
        "temp_train, nocc_train, lumbp_train, up_train, mict_train, bis_train = np.transpose(X_train)\n",
        "temp_test, nocc_test, lumbp_test, up_test, mict_test, bis_test = np.transpose(X_test)\n",
        "\n",
        "inflam_train, nephr_train = Y_train[:, 0], Y_train[:, 1]\n",
        "inflam_test, nephr_test = Y_test[:, 0], Y_test[:, 1]"
      ],
      "execution_count": 10,
      "outputs": []
    },
    {
      "cell_type": "markdown",
      "metadata": {
        "id": "Vw_mtaCSKURC"
      },
      "source": [
        "#### Build the model"
      ]
    },
    {
      "cell_type": "code",
      "metadata": {
        "scrolled": false,
        "id": "Xjtuk2OmKURE"
      },
      "source": [
        "# Build the input layers\n",
        "from tensorflow.keras import Input, layers\n",
        "\n",
        "shape_inputs = (1,)\n",
        "temperature = Input(shape = shape_inputs, name = 'temp')\n",
        "nausea_occurence = Input(shape = shape_inputs, name = 'nocc')\n",
        "lumbar_pain = Input(shape = shape_inputs, name = 'lumbp')\n",
        "urine_pushing = Input(shape = shape_inputs, name = 'up')\n",
        "micturition_pains = Input(shape = shape_inputs, name = 'mict')\n",
        "bis = Input(shape = shape_inputs, name = 'bis')"
      ],
      "execution_count": 11,
      "outputs": []
    },
    {
      "cell_type": "code",
      "metadata": {
        "scrolled": true,
        "id": "rJDt1D0LKURI"
      },
      "source": [
        "# Create a list of all the inputs\n",
        "\n",
        "list_inputs = [temperature, nausea_occurence, lumbar_pain, urine_pushing, \n",
        "               micturition_pains, bis]"
      ],
      "execution_count": 12,
      "outputs": []
    },
    {
      "cell_type": "code",
      "metadata": {
        "scrolled": false,
        "id": "P41WGVnqKURM"
      },
      "source": [
        "# Merge all input features into a single large vector\n",
        "x = layers.concatenate(list_inputs)\n"
      ],
      "execution_count": 13,
      "outputs": []
    },
    {
      "cell_type": "code",
      "metadata": {
        "scrolled": false,
        "id": "BKZOJR-PKURR"
      },
      "source": [
        "# Use a logistic regression classifier for disease prediction\n",
        "inflammation_pred = layers.Dense(1, activation='sigmoid', name = 'inflam')(x) \n",
        "nephritis_pred = layers.Dense(1, activation='sigmoid', name = 'nephr')(x)"
      ],
      "execution_count": 14,
      "outputs": []
    },
    {
      "cell_type": "code",
      "metadata": {
        "scrolled": true,
        "id": "M2tESqXWKURV"
      },
      "source": [
        "# Create a list of all the outputs\n",
        "\n",
        "list_outputs = [inflammation_pred, nephritis_pred]"
      ],
      "execution_count": 15,
      "outputs": []
    },
    {
      "cell_type": "code",
      "metadata": {
        "scrolled": false,
        "id": "AZFVEYX8KURZ"
      },
      "source": [
        "# Create the model object\n",
        "\n",
        "model = tf.keras.Model(inputs = list_inputs, outputs = list_outputs)\n"
      ],
      "execution_count": 16,
      "outputs": []
    },
    {
      "cell_type": "markdown",
      "metadata": {
        "id": "m5zoXn36KURd"
      },
      "source": [
        "#### Plot the model"
      ]
    },
    {
      "cell_type": "code",
      "metadata": {
        "scrolled": false,
        "id": "b3-_VOYiKURe",
        "colab": {
          "base_uri": "https://localhost:8080/",
          "height": 211
        },
        "outputId": "0cba1863-fe9a-412e-bef5-44ea1fb39beb"
      },
      "source": [
        "# Display the multiple input/output model\n",
        "\n",
        "tf.keras.utils.plot_model(model, 'mulit_input_output_model.png', show_shapes=True)\n"
      ],
      "execution_count": 17,
      "outputs": [
        {
          "output_type": "execute_result",
          "data": {
            "image/png": "[encoded data removed]",
            "text/plain": [
              "<IPython.core.display.Image object>"
            ]
          },
          "metadata": {
            "tags": []
          },
          "execution_count": 17
        }
      ]
    },
    {
      "cell_type": "markdown",
      "metadata": {
        "id": "FCXImgxwKURi"
      },
      "source": [
        "#### Compile the model"
      ]
    },
    {
      "cell_type": "code",
      "metadata": {
        "scrolled": true,
        "id": "MpGzpAeYKURn"
      },
      "source": [
        "# Compile the model\n",
        "\n",
        "model.compile(optimizer=tf.keras.optimizers.RMSprop(1e-3),\n",
        "              loss = {'inflam' : 'binary_crossentropy', \n",
        "                      'nephr' : 'binary_crossentropy'},\n",
        "              metrics = {'inflam': ['acc'], 'nephr' : ['acc']},\n",
        "              loss_weights = [1., 0.2])\n"
      ],
      "execution_count": 18,
      "outputs": []
    },
    {
      "cell_type": "markdown",
      "metadata": {
        "id": "LogIRCGRKURr"
      },
      "source": [
        "#### Fit the model "
      ]
    },
    {
      "cell_type": "code",
      "metadata": {
        "scrolled": false,
        "id": "WVDztBCHKURs"
      },
      "source": [
        "# Define training inputs and outputs\n",
        "\n",
        "inputs_train = {'temp': temp_train, 'nocc': nocc_train, 'lumbp': lumbp_train,\n",
        "                'up': up_train, 'mict': mict_train, 'bis': bis_train}\n",
        "\n",
        "outputs_train = {'inflam': inflam_train, 'nephr': nephr_train}"
      ],
      "execution_count": 19,
      "outputs": []
    },
    {
      "cell_type": "code",
      "metadata": {
        "id": "Nd9z2B7NKURw"
      },
      "source": [
        "# Train the model\n",
        "history = model.fit(\n",
        "    inputs_train,\n",
        "    outputs_train,\n",
        "    epochs = 1000,\n",
        "    batch_size = 128,\n",
        "    verbose = False,\n",
        ")\n"
      ],
      "execution_count": 20,
      "outputs": []
    },
    {
      "cell_type": "markdown",
      "metadata": {
        "id": "2D5WmZvkKURz"
      },
      "source": [
        "#### Plot the learning curves"
      ]
    },
    {
      "cell_type": "code",
      "metadata": {
        "scrolled": false,
        "id": "6GgUOXPPKUR0",
        "colab": {
          "base_uri": "https://localhost:8080/",
          "height": 573
        },
        "outputId": "f6348fb4-a961-44f8-b10b-eaa8836718c2"
      },
      "source": [
        "# Plot the training accuracy\n",
        "\n",
        "acc_keys = [k for k in history.history.keys() if k in ('inflam_acc', 'nephr_acc')] \n",
        "loss_keys = [k for k in history.history.keys() if not k in acc_keys]\n",
        "\n",
        "for k, v in history.history.items():\n",
        "    if k in acc_keys:\n",
        "        plt.figure(1)\n",
        "        plt.plot(v)\n",
        "    else:\n",
        "        plt.figure(2)\n",
        "        plt.plot(v)\n",
        "\n",
        "plt.figure(1)\n",
        "plt.title('Accuracy vs. epochs')\n",
        "plt.ylabel('Accuracy')\n",
        "plt.xlabel('Epoch')\n",
        "plt.legend(acc_keys, loc='upper right')\n",
        "\n",
        "plt.figure(2)\n",
        "plt.title('Loss vs. epochs')\n",
        "plt.ylabel('Loss')\n",
        "plt.xlabel('Epoch')\n",
        "plt.legend(loss_keys, loc='upper right')\n",
        "\n",
        "plt.show()"
      ],
      "execution_count": 21,
      "outputs": [
        {
          "output_type": "display_data",
          "data": {
            "image/png": "[encoded data removed]",
            "text/plain": [
              "<Figure size 432x288 with 1 Axes>"
            ]
          },
          "metadata": {
            "tags": [],
            "needs_background": "light"
          }
        },
        {
          "output_type": "display_data",
          "data": {
            "image/png": "[encoded data removed]",
            "text/plain": [
              "<Figure size 432x288 with 1 Axes>"
            ]
          },
          "metadata": {
            "tags": [],
            "needs_background": "light"
          }
        }
      ]
    },
    {
      "cell_type": "code",
      "metadata": {
        "scrolled": false,
        "id": "gGnXQLRyKUR4",
        "colab": {
          "base_uri": "https://localhost:8080/"
        },
        "outputId": "87bece2d-ebd3-497f-b9cb-a0bb0744cf27"
      },
      "source": [
        "# Evaluate the model\n",
        "\n",
        "model.evaluate([temp_test, nocc_test, lumbp_test, up_test, mict_test, bis_test],\n",
        "               [inflam_test, nephr_test], verbose = 2)\n"
      ],
      "execution_count": 22,
      "outputs": [
        {
          "output_type": "stream",
          "text": [
            "2/2 - 0s - loss: 0.6195 - inflam_loss: 0.5250 - nephr_loss: 0.4726 - inflam_acc: 0.7250 - nephr_acc: 0.9500\n"
          ],
          "name": "stdout"
        },
        {
          "output_type": "execute_result",
          "data": {
            "text/plain": [
              "[0.6194980144500732,\n",
              " 0.5249845385551453,\n",
              " 0.4725673794746399,\n",
              " 0.7250000238418579,\n",
              " 0.949999988079071]"
            ]
          },
          "metadata": {
            "tags": []
          },
          "execution_count": 22
        }
      ]
    },
    {
      "cell_type": "markdown",
      "metadata": {
        "id": "G5xxvVY3KUR8"
      },
      "source": [
        "***\n",
        "<a id=\"coding_tutorial_2\"></a>\n",
        "## Tensors and Variables"
      ]
    },
    {
      "cell_type": "code",
      "metadata": {
        "scrolled": false,
        "id": "fTIe7EbMKUR9"
      },
      "source": [
        "import numpy as np"
      ],
      "execution_count": 23,
      "outputs": []
    },
    {
      "cell_type": "markdown",
      "metadata": {
        "id": "XEKAybugKUSD"
      },
      "source": [
        "#### Create Variable objects"
      ]
    },
    {
      "cell_type": "code",
      "metadata": {
        "scrolled": false,
        "id": "PQnCI7UPKUSF"
      },
      "source": [
        "# Create Variable objects of different type with tf.Variable\n",
        "\n",
        "strings = tf.Variable([\"Hello world!\"], tf.string)\n",
        "floats  = tf.Variable([3.14159, 2.71828], tf.float64)\n",
        "ints = tf.Variable([1, 2, 3], tf.int32)\n",
        "complexs = tf.Variable([25.9 - 7.39j, 1.23 - 4.91j], tf.complex128)"
      ],
      "execution_count": 24,
      "outputs": []
    },
    {
      "cell_type": "code",
      "metadata": {
        "scrolled": false,
        "id": "8st30T0kKUSJ",
        "colab": {
          "base_uri": "https://localhost:8080/"
        },
        "outputId": "2a3ec81f-aca2-440f-a1e4-32a017e4fe00"
      },
      "source": [
        "# Initialise a Variable value\n",
        "tf.Variable(tf.constant(4.2, shape=(3,3)))\n"
      ],
      "execution_count": 25,
      "outputs": [
        {
          "output_type": "execute_result",
          "data": {
            "text/plain": [
              "<tf.Variable 'Variable:0' shape=(3, 3) dtype=float32, numpy=\n",
              "array([[4.2, 4.2, 4.2],\n",
              "       [4.2, 4.2, 4.2],\n",
              "       [4.2, 4.2, 4.2]], dtype=float32)>"
            ]
          },
          "metadata": {
            "tags": []
          },
          "execution_count": 25
        }
      ]
    },
    {
      "cell_type": "markdown",
      "metadata": {
        "id": "9rOpqQVNKUSO"
      },
      "source": [
        "#### Use and modify Variable values"
      ]
    },
    {
      "cell_type": "code",
      "metadata": {
        "scrolled": false,
        "id": "BM_P9WM1KUSP",
        "colab": {
          "base_uri": "https://localhost:8080/"
        },
        "outputId": "645ca12b-42a1-4cf7-ac4d-3c2ae267e130"
      },
      "source": [
        "# Use the value of a Variable\n",
        "\n",
        "v = tf.Variable(0.0)\n",
        "w = v + 1  # w is a tf.Tensor which is computed based on the value of v.\n",
        "\n",
        "print(type(w))\n",
        "print('\\n', v, '\\n', w)\n",
        "# print(f'\\n{w}')"
      ],
      "execution_count": 26,
      "outputs": [
        {
          "output_type": "stream",
          "text": [
            "<class 'tensorflow.python.framework.ops.EagerTensor'>\n",
            "\n",
            " <tf.Variable 'Variable:0' shape=() dtype=float32, numpy=0.0> \n",
            " tf.Tensor(1.0, shape=(), dtype=float32)\n"
          ],
          "name": "stdout"
        }
      ]
    },
    {
      "cell_type": "code",
      "metadata": {
        "scrolled": false,
        "id": "ZphqbA9bKUSV",
        "colab": {
          "base_uri": "https://localhost:8080/"
        },
        "outputId": "0bcf9cee-a05c-47be-86c3-b0f6f4fd5460"
      },
      "source": [
        "# Increment the value of a Variable\n",
        "\n",
        "v.assign_add(1)\n",
        "v"
      ],
      "execution_count": 27,
      "outputs": [
        {
          "output_type": "execute_result",
          "data": {
            "text/plain": [
              "<tf.Variable 'Variable:0' shape=() dtype=float32, numpy=1.0>"
            ]
          },
          "metadata": {
            "tags": []
          },
          "execution_count": 27
        }
      ]
    },
    {
      "cell_type": "code",
      "metadata": {
        "scrolled": false,
        "id": "bUTr5IMKKUSc",
        "colab": {
          "base_uri": "https://localhost:8080/"
        },
        "outputId": "7a4d4261-eb65-484e-9deb-048717362d60"
      },
      "source": [
        "# Decrement the value of a Variable\n",
        "v.assign_sub(1)\n",
        "v"
      ],
      "execution_count": 28,
      "outputs": [
        {
          "output_type": "execute_result",
          "data": {
            "text/plain": [
              "<tf.Variable 'Variable:0' shape=() dtype=float32, numpy=0.0>"
            ]
          },
          "metadata": {
            "tags": []
          },
          "execution_count": 28
        }
      ]
    },
    {
      "cell_type": "markdown",
      "metadata": {
        "id": "1fn43vXfKUSj"
      },
      "source": [
        "#### Create Tensor objects"
      ]
    },
    {
      "cell_type": "markdown",
      "metadata": {
        "id": "ydXIlRLVKUSk"
      },
      "source": [
        "Create a constant tensor and print its type as well as its shape:"
      ]
    },
    {
      "cell_type": "code",
      "metadata": {
        "scrolled": false,
        "id": "ynmKF5WBKUSn",
        "colab": {
          "base_uri": "https://localhost:8080/"
        },
        "outputId": "d0af1091-de24-47e7-92ab-74ff90f99d56"
      },
      "source": [
        "# Create a constant Tensor\n",
        "\n",
        "x = tf.constant([[1, 2, 3], [4, 5, 6], [7, 8, 9]])\n",
        "print(x)\n",
        "print(\"dtype:\", x.dtype)\n",
        "print(\"shape:\", x.shape)"
      ],
      "execution_count": 29,
      "outputs": [
        {
          "output_type": "stream",
          "text": [
            "tf.Tensor(\n",
            "[[1 2 3]\n",
            " [4 5 6]\n",
            " [7 8 9]], shape=(3, 3), dtype=int32)\n",
            "dtype: <dtype: 'int32'>\n",
            "shape: (3, 3)\n"
          ],
          "name": "stdout"
        }
      ]
    },
    {
      "cell_type": "code",
      "metadata": {
        "scrolled": false,
        "id": "ONzNFdvBKUSw",
        "colab": {
          "base_uri": "https://localhost:8080/"
        },
        "outputId": "3c42ea8c-7953-4ab3-c9e5-21989319f531"
      },
      "source": [
        "# Obtain the value as a numpy array\n",
        "\n",
        "x.numpy()"
      ],
      "execution_count": 30,
      "outputs": [
        {
          "output_type": "execute_result",
          "data": {
            "text/plain": [
              "array([[1, 2, 3],\n",
              "       [4, 5, 6],\n",
              "       [7, 8, 9]], dtype=int32)"
            ]
          },
          "metadata": {
            "tags": []
          },
          "execution_count": 30
        }
      ]
    },
    {
      "cell_type": "code",
      "metadata": {
        "scrolled": false,
        "id": "Z_coR5e_KUS1",
        "colab": {
          "base_uri": "https://localhost:8080/"
        },
        "outputId": "3f52d7b3-6b17-4ec6-e831-e89fe47129af"
      },
      "source": [
        "# Create a Tensor of type float32\n",
        "\n",
        "x = tf.constant([[1,2,3],[4,5,6],[7,8,9]], dtype = tf.float32)\n",
        "print(x.dtype)"
      ],
      "execution_count": 31,
      "outputs": [
        {
          "output_type": "stream",
          "text": [
            "<dtype: 'float32'>\n"
          ],
          "name": "stdout"
        }
      ]
    },
    {
      "cell_type": "code",
      "metadata": {
        "scrolled": false,
        "id": "66vsJ2nDKUS6"
      },
      "source": [
        "# Create coefficients\n",
        "\n",
        "coeffs = np.arange(16)"
      ],
      "execution_count": 32,
      "outputs": []
    },
    {
      "cell_type": "code",
      "metadata": {
        "id": "oklUSgBkKUS_"
      },
      "source": [
        "# Initialise shapes\n",
        "shape1 = [8,2]\n",
        "shape2 = [4,4]\n",
        "shape3 = [2,2,2,2]"
      ],
      "execution_count": 33,
      "outputs": []
    },
    {
      "cell_type": "code",
      "metadata": {
        "id": "xDueGPOZKUTE",
        "colab": {
          "base_uri": "https://localhost:8080/"
        },
        "outputId": "7580244e-0025-479f-f69a-0e4911f63ab7"
      },
      "source": [
        "# Create Tensors of different shape\n",
        "\n",
        "a = tf.constant(coeffs, shape=shape1)\n",
        "print(\"\\n a:\\n \", a)\n",
        "\n",
        "b = tf.constant(coeffs, shape=shape2)\n",
        "print(\"\\n b:\\n \", b)\n",
        "\n",
        "c = tf.constant(coeffs, shape=shape3)\n",
        "print(\"\\n c:\\n \", c)"
      ],
      "execution_count": 34,
      "outputs": [
        {
          "output_type": "stream",
          "text": [
            "\n",
            " a:\n",
            "  tf.Tensor(\n",
            "[[ 0  1]\n",
            " [ 2  3]\n",
            " [ 4  5]\n",
            " [ 6  7]\n",
            " [ 8  9]\n",
            " [10 11]\n",
            " [12 13]\n",
            " [14 15]], shape=(8, 2), dtype=int64)\n",
            "\n",
            " b:\n",
            "  tf.Tensor(\n",
            "[[ 0  1  2  3]\n",
            " [ 4  5  6  7]\n",
            " [ 8  9 10 11]\n",
            " [12 13 14 15]], shape=(4, 4), dtype=int64)\n",
            "\n",
            " c:\n",
            "  tf.Tensor(\n",
            "[[[[ 0  1]\n",
            "   [ 2  3]]\n",
            "\n",
            "  [[ 4  5]\n",
            "   [ 6  7]]]\n",
            "\n",
            "\n",
            " [[[ 8  9]\n",
            "   [10 11]]\n",
            "\n",
            "  [[12 13]\n",
            "   [14 15]]]], shape=(2, 2, 2, 2), dtype=int64)\n"
          ],
          "name": "stdout"
        }
      ]
    },
    {
      "cell_type": "markdown",
      "metadata": {
        "id": "wQunv2imKUTH"
      },
      "source": [
        "#### Useful Tensor operations"
      ]
    },
    {
      "cell_type": "code",
      "metadata": {
        "scrolled": false,
        "id": "ckoPBCdeKUTI"
      },
      "source": [
        "# Create a constant Tensor\n",
        "\n",
        "t = tf.constant(np.arange(80), shape=[5,2,8])"
      ],
      "execution_count": 35,
      "outputs": []
    },
    {
      "cell_type": "code",
      "metadata": {
        "id": "QIgKN6x_KUTN"
      },
      "source": [
        "# Get the rank of a Tensor\n",
        "rank = tf.rank(t)\n",
        "# rank"
      ],
      "execution_count": 36,
      "outputs": []
    },
    {
      "cell_type": "code",
      "metadata": {
        "id": "w1lcPqXbKUTU",
        "colab": {
          "base_uri": "https://localhost:8080/"
        },
        "outputId": "5fec81c8-ceea-4c35-c88b-384cc602ceac"
      },
      "source": [
        "# Display the rank\n",
        "\n",
        "print(\"rank: \", rank)"
      ],
      "execution_count": 37,
      "outputs": [
        {
          "output_type": "stream",
          "text": [
            "rank:  tf.Tensor(3, shape=(), dtype=int32)\n"
          ],
          "name": "stdout"
        }
      ]
    },
    {
      "cell_type": "code",
      "metadata": {
        "scrolled": false,
        "id": "bDZTFUpKKUTY"
      },
      "source": [
        "# Reshape a Tensor\n",
        "t2 = tf.reshape(t, (8,10))\n"
      ],
      "execution_count": 38,
      "outputs": []
    },
    {
      "cell_type": "code",
      "metadata": {
        "id": "-Jh0xAmhKUTb",
        "colab": {
          "base_uri": "https://localhost:8080/"
        },
        "outputId": "ea80815e-9165-4960-df96-abfcfa00ec65"
      },
      "source": [
        "# Display the new shape\n",
        "\n",
        "print(\"t2.shape: \", t2.shape)"
      ],
      "execution_count": 39,
      "outputs": [
        {
          "output_type": "stream",
          "text": [
            "t2.shape:  (8, 10)\n"
          ],
          "name": "stdout"
        }
      ]
    },
    {
      "cell_type": "code",
      "metadata": {
        "scrolled": false,
        "id": "LLGauT00KUTd"
      },
      "source": [
        "# Create ones, zeros, identity and constant Tensors\n",
        "ones = tf.ones(shape = (2,3))\n",
        "zeros = tf.zeros(shape = (2,4))\n",
        "eye = tf.eye(3)\n",
        "tensor7 = tf.constant(7.0, shape = (2,2))"
      ],
      "execution_count": 40,
      "outputs": []
    },
    {
      "cell_type": "code",
      "metadata": {
        "id": "rqVS1qx7KUTf",
        "colab": {
          "base_uri": "https://localhost:8080/"
        },
        "outputId": "995ea3cb-a832-4ff3-ee10-bed12d360c31"
      },
      "source": [
        "# Display the created tensors\n",
        "\n",
        "print(\"\\n Ones:\\n \", ones)\n",
        "print(\"\\n Zeros:\\n \", zeros)\n",
        "print(\"\\n Identity:\\n \", eye)\n",
        "print(\"\\n Tensor filled with 7: \", tensor7)"
      ],
      "execution_count": 41,
      "outputs": [
        {
          "output_type": "stream",
          "text": [
            "\n",
            " Ones:\n",
            "  tf.Tensor(\n",
            "[[1. 1. 1.]\n",
            " [1. 1. 1.]], shape=(2, 3), dtype=float32)\n",
            "\n",
            " Zeros:\n",
            "  tf.Tensor(\n",
            "[[0. 0. 0. 0.]\n",
            " [0. 0. 0. 0.]], shape=(2, 4), dtype=float32)\n",
            "\n",
            " Identity:\n",
            "  tf.Tensor(\n",
            "[[1. 0. 0.]\n",
            " [0. 1. 0.]\n",
            " [0. 0. 1.]], shape=(3, 3), dtype=float32)\n",
            "\n",
            " Tensor filled with 7:  tf.Tensor(\n",
            "[[7. 7.]\n",
            " [7. 7.]], shape=(2, 2), dtype=float32)\n"
          ],
          "name": "stdout"
        }
      ]
    },
    {
      "cell_type": "code",
      "metadata": {
        "scrolled": false,
        "id": "HWrvSDxNKUTl"
      },
      "source": [
        "# Create a ones Tensor and a zeros Tensor\n",
        "\n",
        "t1 = tf.ones(shape=(2, 2))\n",
        "t2 = tf.zeros(shape=(2, 2))"
      ],
      "execution_count": 42,
      "outputs": []
    },
    {
      "cell_type": "code",
      "metadata": {
        "scrolled": false,
        "id": "1j_bYOrhKUTq"
      },
      "source": [
        "# Concatentate two Tensors\n",
        "\n",
        "concat0 = tf.concat([t1,t2], 0)\n",
        "concat1 = tf.concat([t1,t2], 1)"
      ],
      "execution_count": 43,
      "outputs": []
    },
    {
      "cell_type": "code",
      "metadata": {
        "id": "FtbFujr7KUTt",
        "colab": {
          "base_uri": "https://localhost:8080/"
        },
        "outputId": "03ff3577-91e5-4276-fe9d-e5883218e353"
      },
      "source": [
        "# Display the concatenated tensors\n",
        "\n",
        "print(concat0)\n",
        "print(concat1)"
      ],
      "execution_count": 44,
      "outputs": [
        {
          "output_type": "stream",
          "text": [
            "tf.Tensor(\n",
            "[[1. 1.]\n",
            " [1. 1.]\n",
            " [0. 0.]\n",
            " [0. 0.]], shape=(4, 2), dtype=float32)\n",
            "tf.Tensor(\n",
            "[[1. 1. 0. 0.]\n",
            " [1. 1. 0. 0.]], shape=(2, 4), dtype=float32)\n"
          ],
          "name": "stdout"
        }
      ]
    },
    {
      "cell_type": "code",
      "metadata": {
        "scrolled": false,
        "id": "M-WVtu8DKUTw",
        "colab": {
          "base_uri": "https://localhost:8080/"
        },
        "outputId": "a297ae40-fcf2-4fc1-a397-b34659b41bf8"
      },
      "source": [
        "# Create a constant Tensor\n",
        "\n",
        "t = tf.constant(np.arange(24), shape=(3, 2, 4))\n",
        "print(\"\\n t shape: \", t.shape)"
      ],
      "execution_count": 45,
      "outputs": [
        {
          "output_type": "stream",
          "text": [
            "\n",
            " t shape:  (3, 2, 4)\n"
          ],
          "name": "stdout"
        }
      ]
    },
    {
      "cell_type": "code",
      "metadata": {
        "scrolled": false,
        "id": "RrN4aMQWKUT2"
      },
      "source": [
        "# Expanding the rank of Tensors\n",
        "\n",
        "t1 = tf.expand_dims(t, 0)\n",
        "t2 = tf.expand_dims(t, 1)\n",
        "t3 = tf.expand_dims(t, 3)"
      ],
      "execution_count": 46,
      "outputs": []
    },
    {
      "cell_type": "code",
      "metadata": {
        "scrolled": false,
        "id": "kB-r55xiKUT5",
        "colab": {
          "base_uri": "https://localhost:8080/"
        },
        "outputId": "7739a0d1-b6a9-47f9-ac1f-eedaecc2fdb2"
      },
      "source": [
        "# Display the shapes after tf.expand_dims\n",
        "\n",
        "print(\"\\n After expanding dims:\\n t1 shape: \", t1.shape, \"\\n t2 shape: \", t2.shape, \"\\n t3 shape: \", t3.shape)"
      ],
      "execution_count": 47,
      "outputs": [
        {
          "output_type": "stream",
          "text": [
            "\n",
            " After expanding dims:\n",
            " t1 shape:  (1, 3, 2, 4) \n",
            " t2 shape:  (3, 1, 2, 4) \n",
            " t3 shape:  (3, 2, 4, 1)\n"
          ],
          "name": "stdout"
        }
      ]
    },
    {
      "cell_type": "code",
      "metadata": {
        "scrolled": false,
        "id": "q1zKORaAKUT9"
      },
      "source": [
        "# Squeezing redundant dimensions\n",
        "\n",
        "t1 = tf.squeeze(t1, 0)\n",
        "t2 = tf.squeeze(t2, 1)\n",
        "t3 = tf.squeeze(t3, 3)"
      ],
      "execution_count": 48,
      "outputs": []
    },
    {
      "cell_type": "code",
      "metadata": {
        "scrolled": false,
        "id": "94Uy3Y5GKUUB",
        "colab": {
          "base_uri": "https://localhost:8080/"
        },
        "outputId": "e01099e9-0345-4b98-b476-2522c5d5c40e"
      },
      "source": [
        "# Display the shapes after tf.squeeze\n",
        "\n",
        "print(\"\\n After squeezing:\\n t1 shape: \", t1.shape, \"\\n t2 shape: \", t2.shape, \"\\n t3 shape: \", t3.shape)"
      ],
      "execution_count": 49,
      "outputs": [
        {
          "output_type": "stream",
          "text": [
            "\n",
            " After squeezing:\n",
            " t1 shape:  (3, 2, 4) \n",
            " t2 shape:  (3, 2, 4) \n",
            " t3 shape:  (3, 2, 4)\n"
          ],
          "name": "stdout"
        }
      ]
    },
    {
      "cell_type": "code",
      "metadata": {
        "scrolled": false,
        "id": "bSnXwk3YKUUE",
        "colab": {
          "base_uri": "https://localhost:8080/"
        },
        "outputId": "123f034c-0b7f-468e-8a58-7cdfee519193"
      },
      "source": [
        "# Slicing a Tensor\n",
        "x = tf.constant([1,2,3,4,5,6,7])\n",
        "print(x[1:4])"
      ],
      "execution_count": 50,
      "outputs": [
        {
          "output_type": "stream",
          "text": [
            "tf.Tensor([2 3 4], shape=(3,), dtype=int32)\n"
          ],
          "name": "stdout"
        }
      ]
    },
    {
      "cell_type": "markdown",
      "metadata": {
        "id": "lLnXno5vKUUH"
      },
      "source": [
        "#### Doing maths with Tensors"
      ]
    },
    {
      "cell_type": "code",
      "metadata": {
        "id": "8cvyLI90KUUH"
      },
      "source": [
        "# Create two constant Tensors\n",
        "\n",
        "c = tf.constant([[1.0, 2.0], [3.0, 4.0]])\n",
        "d = tf.constant([[1.0, 1.0], [0.0, 1.0]])"
      ],
      "execution_count": 51,
      "outputs": []
    },
    {
      "cell_type": "code",
      "metadata": {
        "scrolled": false,
        "id": "zOr2CRcYKUUM"
      },
      "source": [
        "# Matrix multiplication\n",
        "matmul_cd = tf.matmul(c,d)\n"
      ],
      "execution_count": 52,
      "outputs": []
    },
    {
      "cell_type": "code",
      "metadata": {
        "id": "MlBvG6UxKUUP",
        "colab": {
          "base_uri": "https://localhost:8080/"
        },
        "outputId": "d458b657-fa73-44fd-b248-21ae0e2d30b3"
      },
      "source": [
        "# Display the result\n",
        "\n",
        "print(\"\\n tf.matmul(c,d):\\n\", matmul_cd)"
      ],
      "execution_count": 53,
      "outputs": [
        {
          "output_type": "stream",
          "text": [
            "\n",
            " tf.matmul(c,d):\n",
            " tf.Tensor(\n",
            "[[1. 3.]\n",
            " [3. 7.]], shape=(2, 2), dtype=float32)\n"
          ],
          "name": "stdout"
        }
      ]
    },
    {
      "cell_type": "code",
      "metadata": {
        "scrolled": false,
        "id": "lMJMXHoMKUUR"
      },
      "source": [
        "# Elementwise operations\n",
        "\n",
        "c_times_d = c*d\n",
        "c_plus_d = c+d\n",
        "c_minus_d = c-d\n",
        "c_div_c = c/c"
      ],
      "execution_count": 54,
      "outputs": []
    },
    {
      "cell_type": "code",
      "metadata": {
        "id": "_eoHiulOKUUT",
        "colab": {
          "base_uri": "https://localhost:8080/"
        },
        "outputId": "df5b1354-3d66-4420-f646-6ca86727b2d7"
      },
      "source": [
        "# Display the results\n",
        "\n",
        "print(\"\\n c*d:\\n\", c_times_d)\n",
        "print(\"\\n c+d:\\n\", c_plus_d)\n",
        "print(\"\\n c-d:\\n\", c_minus_d)\n",
        "print(\"\\n c/c:\\n\", c_div_c)"
      ],
      "execution_count": 55,
      "outputs": [
        {
          "output_type": "stream",
          "text": [
            "\n",
            " c*d:\n",
            " tf.Tensor(\n",
            "[[1. 2.]\n",
            " [0. 4.]], shape=(2, 2), dtype=float32)\n",
            "\n",
            " c+d:\n",
            " tf.Tensor(\n",
            "[[2. 3.]\n",
            " [3. 5.]], shape=(2, 2), dtype=float32)\n",
            "\n",
            " c-d:\n",
            " tf.Tensor(\n",
            "[[0. 1.]\n",
            " [3. 3.]], shape=(2, 2), dtype=float32)\n",
            "\n",
            " c/c:\n",
            " tf.Tensor(\n",
            "[[1. 1.]\n",
            " [1. 1.]], shape=(2, 2), dtype=float32)\n"
          ],
          "name": "stdout"
        }
      ]
    },
    {
      "cell_type": "code",
      "metadata": {
        "scrolled": false,
        "id": "UTjk8RmQKUUV"
      },
      "source": [
        "# Create Tensors\n",
        "\n",
        "a = tf.constant([[2, 3], [3, 3]])\n",
        "b = tf.constant([[8, 7], [2, 3]])\n",
        "x = tf.constant([[-6.89 + 1.78j], [-2.54 + 2.15j]])"
      ],
      "execution_count": 56,
      "outputs": []
    },
    {
      "cell_type": "code",
      "metadata": {
        "id": "5fKpXUAWKUUY"
      },
      "source": [
        "# Absolute value of a Tensor\n",
        "\n",
        "absx = tf.abs(x)"
      ],
      "execution_count": 57,
      "outputs": []
    },
    {
      "cell_type": "code",
      "metadata": {
        "id": "8_slSXaBKUUa"
      },
      "source": [
        "# Power of a Tensor\n",
        "\n",
        "powaa = tf.pow(a,a)"
      ],
      "execution_count": 58,
      "outputs": []
    },
    {
      "cell_type": "code",
      "metadata": {
        "scrolled": false,
        "id": "-XlewNGEKUUc",
        "colab": {
          "base_uri": "https://localhost:8080/"
        },
        "outputId": "5b728f8e-1d05-4c0f-b599-dd2eccb07996"
      },
      "source": [
        "# Display the results\n",
        "\n",
        "print(\"\\n \", absx)\n",
        "print(\"\\n \", powaa)"
      ],
      "execution_count": 59,
      "outputs": [
        {
          "output_type": "stream",
          "text": [
            "\n",
            "  tf.Tensor(\n",
            "[[7.11621388]\n",
            " [3.32777704]], shape=(2, 1), dtype=float64)\n",
            "\n",
            "  tf.Tensor(\n",
            "[[ 4 27]\n",
            " [27 27]], shape=(2, 2), dtype=int32)\n"
          ],
          "name": "stdout"
        }
      ]
    },
    {
      "cell_type": "markdown",
      "metadata": {
        "id": "hT_nP5czKUUe"
      },
      "source": [
        "#### Randomly sampled constant tensors"
      ]
    },
    {
      "cell_type": "code",
      "metadata": {
        "scrolled": false,
        "id": "BCYaFEZpKUUe"
      },
      "source": [
        "# Create a Tensor with samples from a Normal distribution\n",
        "\n",
        "tn = tf.random.normal(shape = (2,2), mean = 0, stddev = 1.0)"
      ],
      "execution_count": 60,
      "outputs": []
    },
    {
      "cell_type": "code",
      "metadata": {
        "scrolled": false,
        "id": "TQuZhEUjKUUi"
      },
      "source": [
        "# Create a Tensor with samples from a Uniform distribution\n",
        "\n",
        "tu = tf.random.uniform(shape = (2,1), minval = 0, maxval = 10, dtype = 'int32')"
      ],
      "execution_count": 61,
      "outputs": []
    },
    {
      "cell_type": "code",
      "metadata": {
        "scrolled": false,
        "id": "XJfvSj97KUUo"
      },
      "source": [
        "# Create a Tensor with samples from a Poisson distribution\n",
        "\n",
        "tp = tf.random.poisson((2,2), 5)"
      ],
      "execution_count": 62,
      "outputs": []
    },
    {
      "cell_type": "code",
      "metadata": {
        "scrolled": false,
        "id": "CdHl0f_AKUUq"
      },
      "source": [
        "# More maths operations\n",
        "\n",
        "d = tf.square(tn)\n",
        "e = tf.exp(d)\n",
        "f = tf.cos(c)"
      ],
      "execution_count": 63,
      "outputs": []
    },
    {
      "cell_type": "markdown",
      "metadata": {
        "id": "P_y5iM-XKUUs"
      },
      "source": [
        "***\n",
        "<a id=\"coding_tutorial_3\"></a>\n",
        "## Accessing model layers"
      ]
    },
    {
      "cell_type": "code",
      "metadata": {
        "scrolled": false,
        "id": "x-XwASmfKUUt"
      },
      "source": [
        "import numpy as np\n",
        "import matplotlib.pyplot as plt\n",
        "%matplotlib inline"
      ],
      "execution_count": 64,
      "outputs": []
    },
    {
      "cell_type": "markdown",
      "metadata": {
        "id": "gZ615uKaKUUv"
      },
      "source": [
        "#### Load the pre-trained model"
      ]
    },
    {
      "cell_type": "markdown",
      "metadata": {
        "id": "ZEnVLPANKUUv"
      },
      "source": [
        "In this section, we aim to demonstrate accessing layer attributes within a model.\n",
        "\n",
        "Let's get started by loading the `VGG19` pre-trained model from the `keras.applications` library, which is a very deep network trained on more than a million images from the ImageNet database. The network is trained to classify images into 1000 object categories."
      ]
    },
    {
      "cell_type": "code",
      "metadata": {
        "scrolled": false,
        "id": "_4qCBLtSKUUw",
        "colab": {
          "base_uri": "https://localhost:8080/"
        },
        "outputId": "683bf795-1f1c-4fb0-c9b0-5605cbd2c095"
      },
      "source": [
        "# Load the VGG19 model\n",
        "from tensorflow.keras.applications import VGG19\n",
        "vgg_model = VGG19()"
      ],
      "execution_count": 65,
      "outputs": [
        {
          "output_type": "stream",
          "text": [
            "Downloading data from https://storage.googleapis.com/tensorflow/keras-applications/vgg19/vgg19_weights_tf_dim_ordering_tf_kernels.h5\n",
            "574717952/574710816 [==============================] - 4s 0us/step\n"
          ],
          "name": "stdout"
        }
      ]
    },
    {
      "cell_type": "code",
      "metadata": {
        "id": "zFI6-6oJKUUy",
        "colab": {
          "base_uri": "https://localhost:8080/"
        },
        "outputId": "9e1ac890-2247-4d8c-a953-386fd6c50920"
      },
      "source": [
        "# Get the inputs, layers and display the summary\n",
        "\n",
        "vgg_input = vgg_model.input\n",
        "vgg_layers = vgg_model.layers\n",
        "vgg_model.summary()"
      ],
      "execution_count": 66,
      "outputs": [
        {
          "output_type": "stream",
          "text": [
            "Model: \"vgg19\"\n",
            "_________________________________________________________________\n",
            "Layer (type)                 Output Shape              Param #   \n",
            "=================================================================\n",
            "input_1 (InputLayer)         [(None, 224, 224, 3)]     0         \n",
            "_________________________________________________________________\n",
            "block1_conv1 (Conv2D)        (None, 224, 224, 64)      1792      \n",
            "_________________________________________________________________\n",
            "block1_conv2 (Conv2D)        (None, 224, 224, 64)      36928     \n",
            "_________________________________________________________________\n",
            "block1_pool (MaxPooling2D)   (None, 112, 112, 64)      0         \n",
            "_________________________________________________________________\n",
            "block2_conv1 (Conv2D)        (None, 112, 112, 128)     73856     \n",
            "_________________________________________________________________\n",
            "block2_conv2 (Conv2D)        (None, 112, 112, 128)     147584    \n",
            "_________________________________________________________________\n",
            "block2_pool (MaxPooling2D)   (None, 56, 56, 128)       0         \n",
            "_________________________________________________________________\n",
            "block3_conv1 (Conv2D)        (None, 56, 56, 256)       295168    \n",
            "_________________________________________________________________\n",
            "block3_conv2 (Conv2D)        (None, 56, 56, 256)       590080    \n",
            "_________________________________________________________________\n",
            "block3_conv3 (Conv2D)        (None, 56, 56, 256)       590080    \n",
            "_________________________________________________________________\n",
            "block3_conv4 (Conv2D)        (None, 56, 56, 256)       590080    \n",
            "_________________________________________________________________\n",
            "block3_pool (MaxPooling2D)   (None, 28, 28, 256)       0         \n",
            "_________________________________________________________________\n",
            "block4_conv1 (Conv2D)        (None, 28, 28, 512)       1180160   \n",
            "_________________________________________________________________\n",
            "block4_conv2 (Conv2D)        (None, 28, 28, 512)       2359808   \n",
            "_________________________________________________________________\n",
            "block4_conv3 (Conv2D)        (None, 28, 28, 512)       2359808   \n",
            "_________________________________________________________________\n",
            "block4_conv4 (Conv2D)        (None, 28, 28, 512)       2359808   \n",
            "_________________________________________________________________\n",
            "block4_pool (MaxPooling2D)   (None, 14, 14, 512)       0         \n",
            "_________________________________________________________________\n",
            "block5_conv1 (Conv2D)        (None, 14, 14, 512)       2359808   \n",
            "_________________________________________________________________\n",
            "block5_conv2 (Conv2D)        (None, 14, 14, 512)       2359808   \n",
            "_________________________________________________________________\n",
            "block5_conv3 (Conv2D)        (None, 14, 14, 512)       2359808   \n",
            "_________________________________________________________________\n",
            "block5_conv4 (Conv2D)        (None, 14, 14, 512)       2359808   \n",
            "_________________________________________________________________\n",
            "block5_pool (MaxPooling2D)   (None, 7, 7, 512)         0         \n",
            "_________________________________________________________________\n",
            "flatten (Flatten)            (None, 25088)             0         \n",
            "_________________________________________________________________\n",
            "fc1 (Dense)                  (None, 4096)              102764544 \n",
            "_________________________________________________________________\n",
            "fc2 (Dense)                  (None, 4096)              16781312  \n",
            "_________________________________________________________________\n",
            "predictions (Dense)          (None, 1000)              4097000   \n",
            "=================================================================\n",
            "Total params: 143,667,240\n",
            "Trainable params: 143,667,240\n",
            "Non-trainable params: 0\n",
            "_________________________________________________________________\n"
          ],
          "name": "stdout"
        }
      ]
    },
    {
      "cell_type": "markdown",
      "metadata": {
        "id": "yclV6KiFKUU3"
      },
      "source": [
        "#### Build a model to access the layer outputs"
      ]
    },
    {
      "cell_type": "code",
      "metadata": {
        "id": "Cov4lXwdKUU4"
      },
      "source": [
        "from tensorflow.keras.models import Model"
      ],
      "execution_count": 72,
      "outputs": []
    },
    {
      "cell_type": "code",
      "metadata": {
        "scrolled": false,
        "id": "aQsJZr1YKUU6"
      },
      "source": [
        "# Build a model that returns the layer outputs\n",
        "\n",
        "layer_outputs = [layer.output for layer in vgg_layers]\n",
        "features = Model(inputs = vgg_input, outputs = layer_outputs)"
      ],
      "execution_count": 73,
      "outputs": []
    },
    {
      "cell_type": "code",
      "metadata": {
        "scrolled": true,
        "id": "78R_lcAwKUU7"
      },
      "source": [
        "# Plot the model\n",
        "\n"
      ],
      "execution_count": 69,
      "outputs": []
    },
    {
      "cell_type": "code",
      "metadata": {
        "scrolled": false,
        "id": "j35hgDZZKUU9"
      },
      "source": [
        "# Test the model on a random input\n",
        "\n"
      ],
      "execution_count": null,
      "outputs": []
    },
    {
      "cell_type": "markdown",
      "metadata": {
        "id": "Ogh9UxE8KUU_"
      },
      "source": [
        "#### Load the 'cool cat' picture"
      ]
    },
    {
      "cell_type": "markdown",
      "metadata": {
        "id": "BUxx2lk0KUU_"
      },
      "source": [
        "In Zambia’s South Luangwa National Park, a photographer had been watching a pride of lions while they slept off a feast from a buffalo kill. When this female walked away, he anticipated that she might be going for a drink and so he positioned his vehicle on the opposite side of the waterhole. The `cool cat` picture is one of the highly commended 2018 Image from Wildlife Photographer of the Year."
      ]
    },
    {
      "cell_type": "markdown",
      "metadata": {
        "id": "rWLD97iOK5ut"
      },
      "source": [
        "#### Import the picture\n",
        "\n",
        "The dataset required for this tutorial can be downloaded from the following link:\n",
        "\n",
        "https://drive.google.com/open?id=1myXpP8QFvhATqg0bPYhCpVS48_OgAC0L\n",
        "\n",
        "You should store this file in Drive for use in this Colab notebook."
      ]
    },
    {
      "cell_type": "code",
      "metadata": {
        "scrolled": false,
        "id": "ylT-Kt65KUVA"
      },
      "source": [
        "# Display the original image\n",
        "\n",
        "import IPython.display as display\n",
        "from PIL import Image\n",
        "\n",
        "display.display(Image.open('path/to/cool_cat.jpg'))"
      ],
      "execution_count": null,
      "outputs": []
    },
    {
      "cell_type": "markdown",
      "metadata": {
        "id": "cMYjnJDIKUVC"
      },
      "source": [
        "#### Visualise network features from the input image"
      ]
    },
    {
      "cell_type": "code",
      "metadata": {
        "scrolled": false,
        "id": "96Z1V9XsKUVD"
      },
      "source": [
        "# Preprocess the image\n",
        "\n",
        "from tensorflow.keras.applications.vgg19 import preprocess_input\n",
        "from tensorflow.keras.preprocessing import image\n",
        "\n",
        "img_path = 'path/to/cool_cat.jpg'\n",
        "img = image.load_img(img_path, target_size=(224, 224))\n",
        "x = image.img_to_array(img)\n",
        "x = np.expand_dims(x, axis=0)\n",
        "x = preprocess_input(x)"
      ],
      "execution_count": null,
      "outputs": []
    },
    {
      "cell_type": "code",
      "metadata": {
        "scrolled": false,
        "id": "Bg74WXDCKUVF"
      },
      "source": [
        "# Extract the features\n",
        "\n"
      ],
      "execution_count": null,
      "outputs": []
    },
    {
      "cell_type": "code",
      "metadata": {
        "scrolled": false,
        "id": "eR_e_HmmKUVH"
      },
      "source": [
        "# Visualise the input channels\n",
        "\n"
      ],
      "execution_count": null,
      "outputs": []
    },
    {
      "cell_type": "code",
      "metadata": {
        "scrolled": false,
        "id": "Ke-6Vpj3KUVI"
      },
      "source": [
        "# Visualise some features in the first hidden layer\n",
        "\n"
      ],
      "execution_count": null,
      "outputs": []
    },
    {
      "cell_type": "code",
      "metadata": {
        "scrolled": false,
        "id": "eTV70KvoKUVK"
      },
      "source": [
        "# Build a model to extract features by layer name\n",
        "\n"
      ],
      "execution_count": null,
      "outputs": []
    },
    {
      "cell_type": "code",
      "metadata": {
        "scrolled": false,
        "id": "WQvb0OuUKUVM"
      },
      "source": [
        "# Visualise some features from the extracted layer output\n",
        "\n"
      ],
      "execution_count": null,
      "outputs": []
    },
    {
      "cell_type": "code",
      "metadata": {
        "scrolled": false,
        "id": "We6poZ7dKUVP"
      },
      "source": [
        "# Extract features from a layer deeper in the network\n",
        "\n"
      ],
      "execution_count": null,
      "outputs": []
    },
    {
      "cell_type": "code",
      "metadata": {
        "scrolled": false,
        "id": "8hOJSdVQKUVR"
      },
      "source": [
        "# Visualise some features from the extracted layer output\n",
        "\n"
      ],
      "execution_count": null,
      "outputs": []
    },
    {
      "cell_type": "markdown",
      "metadata": {
        "id": "0FV766ybKUVS"
      },
      "source": [
        "***\n",
        "<a id=\"coding_tutorial_4\"></a>\n",
        "## Freezing layers"
      ]
    },
    {
      "cell_type": "code",
      "metadata": {
        "scrolled": false,
        "id": "qvMmt0s5KUVS"
      },
      "source": [
        "import numpy as np\n",
        "import matplotlib.pyplot as plt\n",
        "%matplotlib inline"
      ],
      "execution_count": null,
      "outputs": []
    },
    {
      "cell_type": "markdown",
      "metadata": {
        "id": "muJ3y73wKUVU"
      },
      "source": [
        "#### Build the model"
      ]
    },
    {
      "cell_type": "code",
      "metadata": {
        "scrolled": false,
        "id": "a7XUKYHpKUVU"
      },
      "source": [
        "# Build a small Sequential model\n",
        "\n",
        "from tensorflow.keras.models import Sequential\n",
        "from tensorflow.keras import layers\n",
        "\n",
        "model = Sequential([\n",
        "    layers.Dense(4, input_shape=(4,), activation='relu', kernel_initializer='random_uniform',\n",
        "                 bias_initializer='ones'),\n",
        "    layers.Dense(2, activation='relu', kernel_initializer='lecun_normal', bias_initializer='ones'),\n",
        "    layers.Dense(4, activation='softmax'),\n",
        "])"
      ],
      "execution_count": null,
      "outputs": []
    },
    {
      "cell_type": "code",
      "metadata": {
        "scrolled": false,
        "id": "cl9gvwc_KUVV"
      },
      "source": [
        "# Display the model summary\n",
        "\n",
        "model.summary()"
      ],
      "execution_count": null,
      "outputs": []
    },
    {
      "cell_type": "markdown",
      "metadata": {
        "id": "oLZVUklBKUVX"
      },
      "source": [
        "#### Examine the weight matrix variation over training"
      ]
    },
    {
      "cell_type": "code",
      "metadata": {
        "scrolled": false,
        "id": "kLSwnr6IKUVX"
      },
      "source": [
        "# Retrieve the weights and biases\n",
        "\n"
      ],
      "execution_count": null,
      "outputs": []
    },
    {
      "cell_type": "code",
      "metadata": {
        "scrolled": false,
        "id": "vpxvNkMnKUVa"
      },
      "source": [
        "# Construct a synthetic dataset\n",
        "\n",
        "x_train = np.random.random((100, 4))\n",
        "y_train = x_train\n",
        "\n",
        "x_test = np.random.random((20, 4))\n",
        "y_test = x_test"
      ],
      "execution_count": null,
      "outputs": []
    },
    {
      "cell_type": "code",
      "metadata": {
        "scrolled": false,
        "id": "ZTNGzE9-KUVc"
      },
      "source": [
        "# Compile and fit the model\n",
        "\n",
        "model.compile(optimizer='adam',\n",
        "              loss='mse',\n",
        "              metrics=['acc'])\n",
        "\n",
        "model.fit(x_train, y_train, epochs=50, verbose=False);"
      ],
      "execution_count": null,
      "outputs": []
    },
    {
      "cell_type": "code",
      "metadata": {
        "scrolled": false,
        "id": "jjY6rOOkKUVd"
      },
      "source": [
        "# Retrieve weights and biases\n",
        "\n"
      ],
      "execution_count": null,
      "outputs": []
    },
    {
      "cell_type": "code",
      "metadata": {
        "scrolled": false,
        "id": "1ZDHstynKUVe"
      },
      "source": [
        "# Plot the variation\n",
        "\n",
        "plt.figure(figsize=(8,8))\n",
        "for n in range(3):\n",
        "    delta_l = W1_layers[n] - W0_layers[n]\n",
        "    print('Layer '+str(n)+': bias variation: ', np.linalg.norm(b1_layers[n] - b0_layers[n]))\n",
        "    ax = plt.subplot(1,3,n+1)\n",
        "    plt.imshow(delta_l)\n",
        "    plt.title('Layer '+str(n))\n",
        "    plt.axis('off')\n",
        "plt.colorbar()\n",
        "plt.suptitle('Weight matrices variation');"
      ],
      "execution_count": null,
      "outputs": []
    },
    {
      "cell_type": "markdown",
      "metadata": {
        "id": "hrhsfqdwKUVg"
      },
      "source": [
        "#### Freeze layers at build time"
      ]
    },
    {
      "cell_type": "code",
      "metadata": {
        "scrolled": false,
        "id": "xlxrMUF5KUVg"
      },
      "source": [
        "# Count the trainable and non trainable variables before the freezing\n",
        "\n"
      ],
      "execution_count": null,
      "outputs": []
    },
    {
      "cell_type": "code",
      "metadata": {
        "id": "dNpfvfSXKUVi"
      },
      "source": [
        "# Display the number of trainable and non trainable variables before the freezing\n",
        "\n",
        "print(\"\\n Before freezing:\\n\\t Number of trainable variables: \", n_trainable_variables,\n",
        "                         \"\\n\\t Number of non trainable variables: \", n_non_trainable_variables)"
      ],
      "execution_count": null,
      "outputs": []
    },
    {
      "cell_type": "code",
      "metadata": {
        "scrolled": false,
        "id": "AGpSC4ZAKUVn"
      },
      "source": [
        "# Build the model\n",
        "\n"
      ],
      "execution_count": null,
      "outputs": []
    },
    {
      "cell_type": "code",
      "metadata": {
        "scrolled": false,
        "id": "lWmPkL-pKUVo"
      },
      "source": [
        "# Count the trainable and non trainable variables after the freezing\n",
        "\n"
      ],
      "execution_count": null,
      "outputs": []
    },
    {
      "cell_type": "code",
      "metadata": {
        "id": "_Bzhnsr7KUVp"
      },
      "source": [
        "# Display the number of trainable and non trainable variables after the freezing\n",
        "\n",
        "print(\"\\n After freezing:\\n\\t Number of trainable variables: \", n_trainable_variables,\n",
        "                         \"\\n\\t Number of non trainable variables: \", n_non_trainable_variables)"
      ],
      "execution_count": null,
      "outputs": []
    },
    {
      "cell_type": "code",
      "metadata": {
        "scrolled": false,
        "id": "Kl6-nIeYKUVr"
      },
      "source": [
        "# Retrieve weights and biases\n",
        "\n"
      ],
      "execution_count": null,
      "outputs": []
    },
    {
      "cell_type": "code",
      "metadata": {
        "scrolled": false,
        "id": "aoOhSvdCKUVs"
      },
      "source": [
        "# Compile and fit the model\n",
        "\n",
        "model.compile(optimizer='adam',\n",
        "              loss='mse',\n",
        "              metrics=['acc'])\n",
        "\n",
        "model.fit(x_train, y_train, epochs=50, verbose=False);"
      ],
      "execution_count": null,
      "outputs": []
    },
    {
      "cell_type": "code",
      "metadata": {
        "scrolled": false,
        "id": "VW2Ij7rGKUVt"
      },
      "source": [
        "# Retrieve weights and biases\n",
        "\n"
      ],
      "execution_count": null,
      "outputs": []
    },
    {
      "cell_type": "code",
      "metadata": {
        "scrolled": false,
        "id": "SJv_yc34KUVv"
      },
      "source": [
        "# Plot the variation\n",
        "\n"
      ],
      "execution_count": null,
      "outputs": []
    },
    {
      "cell_type": "markdown",
      "metadata": {
        "id": "FkbrhuxUKUVw"
      },
      "source": [
        "#### Freeze layers of a pre-built model"
      ]
    },
    {
      "cell_type": "code",
      "metadata": {
        "scrolled": false,
        "id": "1EuSNnI1KUVx"
      },
      "source": [
        "# Count the trainable and non trainable variables before the freezing\n",
        "\n",
        "print(\"\\n Before freezing:\\n\\t Number of trainable variables: \", len(model.trainable_variables),\n",
        "                         \"\\n\\t Number of non trainable variables: \", len(model.non_trainable_variables))"
      ],
      "execution_count": null,
      "outputs": []
    },
    {
      "cell_type": "code",
      "metadata": {
        "scrolled": false,
        "id": "xKISfPTaKUVz"
      },
      "source": [
        "# Freeze the second layer\n",
        "\n"
      ],
      "execution_count": null,
      "outputs": []
    },
    {
      "cell_type": "code",
      "metadata": {
        "scrolled": false,
        "id": "lS1xI65tKUV0"
      },
      "source": [
        "# Count the trainable and non trainable variables after the freezing\n",
        "\n",
        "print(\"\\n After freezing:\\n\\t Number of trainable variables: \", len(model.trainable_variables),\n",
        "                        \"\\n\\t Number of non trainable variables: \", len(model.non_trainable_variables))"
      ],
      "execution_count": null,
      "outputs": []
    },
    {
      "cell_type": "code",
      "metadata": {
        "scrolled": false,
        "id": "e0yk7ZZoKUV3"
      },
      "source": [
        "# Compile and fit the model\n",
        "\n",
        "model.compile(optimizer='adam',\n",
        "              loss='mse',\n",
        "              metrics=['acc'])\n",
        "\n",
        "model.fit(x_train, y_train, epochs=50, verbose=False);"
      ],
      "execution_count": null,
      "outputs": []
    },
    {
      "cell_type": "code",
      "metadata": {
        "scrolled": false,
        "id": "2nlvj0k-KUV4"
      },
      "source": [
        "# Retrieve weights and biases\n",
        "\n"
      ],
      "execution_count": null,
      "outputs": []
    },
    {
      "cell_type": "code",
      "metadata": {
        "scrolled": false,
        "id": "O7LO4ZWvKUV5"
      },
      "source": [
        "# Plot the variation\n",
        "\n"
      ],
      "execution_count": null,
      "outputs": []
    }
  ]
}