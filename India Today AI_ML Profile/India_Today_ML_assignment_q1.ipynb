{
  "nbformat": 4,
  "nbformat_minor": 0,
  "metadata": {
    "colab": {
      "name": "India Today ML assignment q1.ipynb",
      "provenance": [],
      "collapsed_sections": [],
      "mount_file_id": "177lQ6G_ZfmJ38WevJSoY4I7WpAgxXyIE",
      "authorship_tag": "ABX9TyN9HRQZoy3RVZ/PtktvrBnV",
      "include_colab_link": true
    },
    "kernelspec": {
      "name": "python3",
      "display_name": "Python 3"
    },
    "language_info": {
      "name": "python"
    },
    "accelerator": "GPU"
  },
  "cells": [
    {
      "cell_type": "markdown",
      "metadata": {
        "id": "view-in-github",
        "colab_type": "text"
      },
      "source": [
        "<a href=\"https://colab.research.google.com/github/Arush0113/ArushTensorflowRepo/blob/main/India%20Today%20AI_ML%20Profile/India_Today_ML_assignment_q1.ipynb\" target=\"_parent\"><img src=\"https://colab.research.google.com/assets/colab-badge.svg\" alt=\"Open In Colab\"/></a>"
      ]
    },
    {
      "cell_type": "code",
      "metadata": {
        "colab": {
          "base_uri": "https://localhost:8080/"
        },
        "id": "jj8pi98Td866",
        "outputId": "e58aa880-457a-4280-8caa-9d2e6c2cedd8"
      },
      "source": [
        "from google.colab import drive\n",
        "drive.mount('/content/drive')"
      ],
      "execution_count": 1,
      "outputs": [
        {
          "output_type": "stream",
          "name": "stdout",
          "text": [
            "Drive already mounted at /content/drive; to attempt to forcibly remount, call drive.mount(\"/content/drive\", force_remount=True).\n"
          ]
        }
      ]
    },
    {
      "cell_type": "code",
      "metadata": {
        "id": "Y0W1fngafRiy"
      },
      "source": [
        "import pandas as pd\n",
        "df = pd.read_csv('/content/drive/MyDrive/eyewear_ml_challenge.csv', delimiter = ',')"
      ],
      "execution_count": 2,
      "outputs": []
    },
    {
      "cell_type": "code",
      "metadata": {
        "colab": {
          "base_uri": "https://localhost:8080/",
          "height": 614
        },
        "id": "r6gAotkAfxRT",
        "outputId": "dcf7ce81-bac4-4792-edc7-f24533fb6fd6"
      },
      "source": [
        "df"
      ],
      "execution_count": 3,
      "outputs": [
        {
          "output_type": "execute_result",
          "data": {
            "text/html": [
              "<div>\n",
              "<style scoped>\n",
              "    .dataframe tbody tr th:only-of-type {\n",
              "        vertical-align: middle;\n",
              "    }\n",
              "\n",
              "    .dataframe tbody tr th {\n",
              "        vertical-align: top;\n",
              "    }\n",
              "\n",
              "    .dataframe thead th {\n",
              "        text-align: right;\n",
              "    }\n",
              "</style>\n",
              "<table border=\"1\" class=\"dataframe\">\n",
              "  <thead>\n",
              "    <tr style=\"text-align: right;\">\n",
              "      <th></th>\n",
              "      <th>Unnamed: 0</th>\n",
              "      <th>product_name</th>\n",
              "      <th>product_id</th>\n",
              "      <th>parent_category</th>\n",
              "      <th>Image_Front</th>\n",
              "      <th>frame_shape</th>\n",
              "    </tr>\n",
              "  </thead>\n",
              "  <tbody>\n",
              "    <tr>\n",
              "      <th>0</th>\n",
              "      <td>0</td>\n",
              "      <td>Vintage Persona C4</td>\n",
              "      <td>7641</td>\n",
              "      <td>eyeframe</td>\n",
              "      <td>http://tak-apps-dev.s3.amazonaws.com/recruitme...</td>\n",
              "      <td>Rectangle</td>\n",
              "    </tr>\n",
              "    <tr>\n",
              "      <th>1</th>\n",
              "      <td>1</td>\n",
              "      <td>Vintage Crazy-X C2 Red</td>\n",
              "      <td>7643</td>\n",
              "      <td>eyeframe</td>\n",
              "      <td>http://tak-apps-dev.s3.amazonaws.com/recruitme...</td>\n",
              "      <td>Rectangle</td>\n",
              "    </tr>\n",
              "    <tr>\n",
              "      <th>2</th>\n",
              "      <td>2</td>\n",
              "      <td>Jialedi Eyewear 1086 C8 Blue</td>\n",
              "      <td>8254</td>\n",
              "      <td>eyeframe</td>\n",
              "      <td>http://tak-apps-dev.s3.amazonaws.com/recruitme...</td>\n",
              "      <td>Rectangle</td>\n",
              "    </tr>\n",
              "    <tr>\n",
              "      <th>3</th>\n",
              "      <td>3</td>\n",
              "      <td>Jialedi Eyewear 1086 C6 Red</td>\n",
              "      <td>8255</td>\n",
              "      <td>eyeframe</td>\n",
              "      <td>http://tak-apps-dev.s3.amazonaws.com/recruitme...</td>\n",
              "      <td>Rectangle</td>\n",
              "    </tr>\n",
              "    <tr>\n",
              "      <th>4</th>\n",
              "      <td>4</td>\n",
              "      <td>Jialedi Eyewear 1086 C4 Tortoise Transperent</td>\n",
              "      <td>8256</td>\n",
              "      <td>eyeframe</td>\n",
              "      <td>http://tak-apps-dev.s3.amazonaws.com/recruitme...</td>\n",
              "      <td>Rectangle</td>\n",
              "    </tr>\n",
              "    <tr>\n",
              "      <th>...</th>\n",
              "      <td>...</td>\n",
              "      <td>...</td>\n",
              "      <td>...</td>\n",
              "      <td>...</td>\n",
              "      <td>...</td>\n",
              "      <td>...</td>\n",
              "    </tr>\n",
              "    <tr>\n",
              "      <th>5564</th>\n",
              "      <td>5565</td>\n",
              "      <td>Black White Full Rim Rectangle Vincent Chase O...</td>\n",
              "      <td>99444</td>\n",
              "      <td>Non-Power Reading</td>\n",
              "      <td>http://tak-apps-dev.s3.amazonaws.com/recruitme...</td>\n",
              "      <td>Rectangle</td>\n",
              "    </tr>\n",
              "    <tr>\n",
              "      <th>5565</th>\n",
              "      <td>5566</td>\n",
              "      <td>Maroon Full Rim Rectangle Vincent Chase Online...</td>\n",
              "      <td>99445</td>\n",
              "      <td>Non-Power Reading</td>\n",
              "      <td>http://tak-apps-dev.s3.amazonaws.com/recruitme...</td>\n",
              "      <td>Rectangle</td>\n",
              "    </tr>\n",
              "    <tr>\n",
              "      <th>5566</th>\n",
              "      <td>5567</td>\n",
              "      <td>Todaywear TOI Special: Black Blue Full Rim Rec...</td>\n",
              "      <td>99446</td>\n",
              "      <td>Non-Power Reading</td>\n",
              "      <td>http://tak-apps-dev.s3.amazonaws.com/recruitme...</td>\n",
              "      <td>Rectangle</td>\n",
              "    </tr>\n",
              "    <tr>\n",
              "      <th>5567</th>\n",
              "      <td>5568</td>\n",
              "      <td>Tortoise Full Rim Rectangle Vincent Chase Onli...</td>\n",
              "      <td>99447</td>\n",
              "      <td>Non-Power Reading</td>\n",
              "      <td>http://tak-apps-dev.s3.amazonaws.com/recruitme...</td>\n",
              "      <td>Rectangle</td>\n",
              "    </tr>\n",
              "    <tr>\n",
              "      <th>5568</th>\n",
              "      <td>5569</td>\n",
              "      <td>Black Red Full Rim Rectangle Vincent Chase Onl...</td>\n",
              "      <td>99448</td>\n",
              "      <td>Non-Power Reading</td>\n",
              "      <td>http://tak-apps-dev.s3.amazonaws.com/recruitme...</td>\n",
              "      <td>Rectangle</td>\n",
              "    </tr>\n",
              "  </tbody>\n",
              "</table>\n",
              "<p>5569 rows × 6 columns</p>\n",
              "</div>"
            ],
            "text/plain": [
              "      Unnamed: 0  ... frame_shape\n",
              "0              0  ...   Rectangle\n",
              "1              1  ...   Rectangle\n",
              "2              2  ...   Rectangle\n",
              "3              3  ...   Rectangle\n",
              "4              4  ...   Rectangle\n",
              "...          ...  ...         ...\n",
              "5564        5565  ...   Rectangle\n",
              "5565        5566  ...   Rectangle\n",
              "5566        5567  ...   Rectangle\n",
              "5567        5568  ...   Rectangle\n",
              "5568        5569  ...   Rectangle\n",
              "\n",
              "[5569 rows x 6 columns]"
            ]
          },
          "metadata": {},
          "execution_count": 3
        }
      ]
    },
    {
      "cell_type": "code",
      "metadata": {
        "id": "lD7a-1haLd9a"
      },
      "source": [
        "import pandas as pd\n",
        "import numpy as np\n",
        "import tensorflow as tf\n",
        "import requests\n",
        "from tqdm.notebook import trange, tqdm\n",
        "import shutil\n",
        "import os\n",
        "from sklearn.model_selection import train_test_split"
      ],
      "execution_count": 15,
      "outputs": []
    },
    {
      "cell_type": "code",
      "metadata": {
        "colab": {
          "base_uri": "https://localhost:8080/"
        },
        "id": "EmHvDiwYRYWz",
        "outputId": "e3e1a9e8-dfc9-4b27-bae2-cfd914ca32e9"
      },
      "source": [
        "!mkdir /content/drive/MyDrive/india_today_images"
      ],
      "execution_count": 5,
      "outputs": [
        {
          "output_type": "stream",
          "name": "stdout",
          "text": [
            "mkdir: cannot create directory ‘/content/drive/MyDrive/india_today_images’: File exists\n"
          ]
        }
      ]
    },
    {
      "cell_type": "code",
      "metadata": {
        "id": "718mRvLpfxlt"
      },
      "source": [
        "# for i,row in tqdm(df.iterrows()):\n",
        "#     image_url = row['Image_Front']\n",
        "#     # print(image_url)\n",
        "#     filename = image_url.split(\"/\")[-1]\n",
        "\n",
        "#     r = requests.get(image_url, stream = True)\n",
        "\n",
        "#     if r.status_code == 200:\n",
        "#         r.raw.decode_content = True\n",
        "        \n",
        "#         with open('/content/drive/MyDrive/india_today_images/'+filename,'wb') as f:\n",
        "#             shutil.copyfileobj(r.raw, f)\n",
        "            \n",
        "#         print('Image sucessfully Downloaded: ',filename)\n",
        "#     else:\n",
        "#         print('Image Couldn\\'t be retreived')"
      ],
      "execution_count": 6,
      "outputs": []
    },
    {
      "cell_type": "code",
      "metadata": {
        "colab": {
          "base_uri": "https://localhost:8080/"
        },
        "id": "gc5efmMOm716",
        "outputId": "e4c054df-a333-4983-ef80-e00380830c3b"
      },
      "source": [
        "file_path = os.listdir('/content/drive/MyDrive/india_today_images')\n",
        "print(len(file_path))\n",
        "\n",
        "train_images, test_images = train_test_split(file_path, test_size = 0.15)"
      ],
      "execution_count": 16,
      "outputs": [
        {
          "output_type": "stream",
          "name": "stdout",
          "text": [
            "5534\n"
          ]
        }
      ]
    },
    {
      "cell_type": "code",
      "metadata": {
        "colab": {
          "base_uri": "https://localhost:8080/"
        },
        "id": "T6zuzoJq7719",
        "outputId": "9ddf6cab-07c4-4485-a3ae-efcdc5269b4a"
      },
      "source": [
        "print(len(train_images))\n",
        "print(len(test_images))"
      ],
      "execution_count": 19,
      "outputs": [
        {
          "output_type": "stream",
          "name": "stdout",
          "text": [
            "4703\n",
            "831\n"
          ]
        }
      ]
    },
    {
      "cell_type": "code",
      "metadata": {
        "id": "EsgDNZs38Ibq"
      },
      "source": [
        ""
      ],
      "execution_count": 21,
      "outputs": []
    },
    {
      "cell_type": "code",
      "metadata": {
        "id": "7OI1tpq59bJ_"
      },
      "source": [
        ""
      ],
      "execution_count": null,
      "outputs": []
    }
  ]
}