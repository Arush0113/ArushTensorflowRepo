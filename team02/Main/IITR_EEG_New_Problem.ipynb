{
  "nbformat": 4,
  "nbformat_minor": 0,
  "metadata": {
    "colab": {
      "name": "IITR_EEG_New_Problem.ipynb",
      "provenance": [],
      "collapsed_sections": [],
      "include_colab_link": true
    },
    "kernelspec": {
      "name": "python3",
      "display_name": "Python 3"
    },
    "language_info": {
      "name": "python"
    },
    "accelerator": "GPU"
  },
  "cells": [
    {
      "cell_type": "markdown",
      "metadata": {
        "id": "view-in-github",
        "colab_type": "text"
      },
      "source": [
        "<a href=\"https://colab.research.google.com/github/Arush0113/ArushTensorflowRepo/blob/main/team02/Main/IITR_EEG_New_Problem.ipynb\" target=\"_parent\"><img src=\"https://colab.research.google.com/assets/colab-badge.svg\" alt=\"Open In Colab\"/></a>"
      ]
    },
    {
      "cell_type": "code",
      "source": [
        "from google.colab import drive\n",
        "drive.mount('/content/drive')"
      ],
      "metadata": {
        "id": "mJxFwmqrSSzO",
        "colab": {
          "base_uri": "https://localhost:8080/"
        },
        "outputId": "be8cdeba-7a67-447b-daaf-65a1f3346dfd"
      },
      "execution_count": 2,
      "outputs": [
        {
          "output_type": "stream",
          "name": "stdout",
          "text": [
            "Mounted at /content/drive\n"
          ]
        }
      ]
    },
    {
      "cell_type": "code",
      "source": [
        "import sys\n",
        "sys.path.insert(0,\"/content/drive/MyDrive/IITR EEG Intern/New Problem\")"
      ],
      "metadata": {
        "id": "NFRdYDjr00zo"
      },
      "execution_count": 3,
      "outputs": []
    },
    {
      "cell_type": "code",
      "execution_count": 4,
      "metadata": {
        "id": "MOa-aUIX5Y1B"
      },
      "outputs": [],
      "source": [
        "import tensorflow as tf\n",
        "from sklearn.model_selection import train_test_split\n",
        "from tensorflow.keras.models import Sequential\n",
        "from tensorflow.keras.layers import Dense, InputLayer\n",
        "import numpy as np\n",
        "from tensorboard.plugins.hparams import api as hp\n",
        "from tensorflow.keras.optimizers import Adam\n",
        "from sklearn.preprocessing import StandardScaler"
      ]
    },
    {
      "cell_type": "code",
      "source": [
        "# def read_data():\n",
        "#     X_data = np.zeros((2, 38252, 14))\n",
        "#     Y_data = np.zeros((2,))\n",
        "\n",
        "#     sequence_length = 50\n",
        "#     list_dataset = []\n",
        "\n",
        "#     for index in range(X_data.shape[0]):\n",
        "#         target = Y_data[index]     #taget shape -- (1,)\n",
        "#         targets = np.repeat(target, X_data[index].shape[0])\n",
        "#         dataset = tensorflow.keras.preprocessing.timeseries_dataset_from_array(X_data[index], targets, sequence_stride=50, sequence_length=50)\n",
        "#         list_dataset.append(dataset)\n",
        "\n",
        "#     dataset = list_dataset[0]\n",
        "#     for i in list_dataset[1:]:\n",
        "#         dataset = dataset.concatenate(i)\n",
        "#     training_elements = int(len(dataset)*0.7) \n",
        "\n",
        "#     train_dataset = dataset.take(training_elements)\n",
        "#     test_dataset = dataset.skip(training_elements) \n",
        "\n",
        "#     validation_elements = int(len(train_dataset)*0.2)\n",
        "#     validation_dataset = train_dataset.take(validation_elements)\n",
        "#     train_dataset = train_dataset.skip(validation_elements)\n",
        "#     return train_dataset,validation_dataset,test_dataset"
      ],
      "metadata": {
        "id": "_efLjLOm5f_0"
      },
      "execution_count": 5,
      "outputs": []
    },
    {
      "cell_type": "code",
      "source": [
        "# train_dataset,validation_dataset,test_dataset = read_data()"
      ],
      "metadata": {
        "id": "YQYKXj0lqrlk"
      },
      "execution_count": 6,
      "outputs": []
    },
    {
      "cell_type": "code",
      "source": [
        "import scipy.io\n",
        "mat = scipy.io.loadmat('/content/drive/MyDrive/IITR EEG Intern/New Problem/data/subject_01/worry_visual_rejection_data.mat')"
      ],
      "metadata": {
        "id": "8Y2USsgR5gGH"
      },
      "execution_count": 7,
      "outputs": []
    },
    {
      "cell_type": "code",
      "source": [
        "type(mat)"
      ],
      "metadata": {
        "id": "1dNIkwCQ5gQf",
        "colab": {
          "base_uri": "https://localhost:8080/"
        },
        "outputId": "b45038c5-633f-46f9-b25a-19a4ba5a15bd"
      },
      "execution_count": 8,
      "outputs": [
        {
          "output_type": "execute_result",
          "data": {
            "text/plain": [
              "dict"
            ]
          },
          "metadata": {},
          "execution_count": 8
        }
      ]
    },
    {
      "cell_type": "code",
      "source": [
        "mat.keys()"
      ],
      "metadata": {
        "id": "y2cqq_yR5gTb",
        "colab": {
          "base_uri": "https://localhost:8080/"
        },
        "outputId": "330d4b65-b7f6-4fda-f427-b74133cf62b8"
      },
      "execution_count": 9,
      "outputs": [
        {
          "output_type": "execute_result",
          "data": {
            "text/plain": [
              "dict_keys(['__header__', '__version__', '__globals__', 'hdr', 'label', 'time', 'trial', 'fsample', 'sampleinfo', 'trialinfo', 'cfg'])"
            ]
          },
          "metadata": {},
          "execution_count": 9
        }
      ]
    },
    {
      "cell_type": "code",
      "source": [
        "import glob\n",
        "import pandas as pd\n",
        "import numpy as np\n",
        "from scipy import io\n",
        "\n",
        "\n",
        "def create_file(data_path:str,n_subjects:int, channels='all',band='alpha'):\n",
        "    \"\"\"\n",
        "    A function to create the file by reading all the data.\n",
        "    Args:\n",
        "    ---------------\n",
        "        data_path: string; path to read data from\n",
        "        n_subjects: int; number of subjects \n",
        "    Returns:\n",
        "        final_data: numpy array; contains concatenated data of all conditions\n",
        "    ----------------\n",
        "    \"\"\"\n",
        "    subject_list = [\"subject_0\" + str(i) for i in range(1,10)]\n",
        "    subject_list.extend([\"subject_\" + str(i) for i in range(10,n_subjects+1)])\n",
        "    del subject_list[3:5] # Removes subject 4 and 5\n",
        "    # check if overwrite is True\n",
        "    l_breath_data = []\n",
        "    l_feet_data = []\n",
        "    l_future_data = []\n",
        "    l_worry_data = []\n",
        "    print(f\"Creating combined file for {channels} channels and {band} band\\n\")\n",
        "    \n",
        "    for dirs in glob.glob(data_path + str(\"/*\")):\n",
        "            if dirs.split('/')[-1] in subject_list: \n",
        "                for subject_files in glob.glob(dirs+str(\"/*\")):\n",
        "                    if subject_files.split(\"/\")[-1] == f\"breath_{channels}_{band}_data.mat\":\n",
        "                        content = io.loadmat(subject_files)[f'data_{channels}_{band}']\n",
        "                        l_breath_data.append(content)\n",
        "                        #print(f\"here with {subject_files}\")\n",
        "                    elif subject_files.split(\"/\")[-1] == f\"feet_{channels}_{band}_data.mat\":\n",
        "                        content = io.loadmat(subject_files)[f'data_{channels}_{band}']\n",
        "                        l_feet_data.append(content)\n",
        "                    elif subject_files.split(\"/\")[-1] == f\"future_{channels}_{band}_data.mat\":\n",
        "                        content = io.loadmat(subject_files)[f'data_{channels}_{band}']\n",
        "                        l_future_data.append(content)\n",
        "                    elif subject_files.split(\"/\")[-1] == f\"worry_{channels}_{band}_data.mat\":\n",
        "                        content = io.loadmat(subject_files)[f'data_{channels}_{band}']\n",
        "                        l_worry_data.append(content)\n",
        "                    else:\n",
        "                        continue\n",
        "\n",
        "    breath_data = np.concatenate(l_breath_data,axis=0)\n",
        "    feet_data = np.concatenate(l_feet_data,axis=0)\n",
        "    future_data = np.concatenate(l_future_data,axis=0)\n",
        "    worry_data = np.concatenate(l_worry_data,axis=0)\n",
        "    \n",
        "    # assert shapes and make sure they have four columns\n",
        "#     breath_data.shape,feet_data.shape,future_data.shape,worry_data.shape\n",
        "    \n",
        "    breath_labels = np.zeros(breath_data.shape[0])\n",
        "    feet_labels = np.ones(feet_data.shape[0])\n",
        "    future_labels = np.full(future_data.shape[0],2)\n",
        "    worry_labels = np.full(worry_data.shape[0],3)\n",
        "    \n",
        "    breath_data = np.c_[breath_data,breath_labels]\n",
        "    feet_data = np.c_[feet_data,feet_labels]\n",
        "    future_data = np.c_[future_data,future_labels]\n",
        "    worry_data = np.c_[worry_data,worry_labels]\n",
        "    \n",
        "    final_data = np.concatenate((breath_data,feet_data,future_data,worry_data),axis=0)\n",
        "    \n",
        "    data_frame = pd.DataFrame(final_data)\n",
        "    data_frame.to_csv(f\"{data_path}/combined_{channels}_{band}.csv\",index=None)\n",
        "\n",
        "    return data_frame"
      ],
      "metadata": {
        "id": "OwNQY9cdmLu_"
      },
      "execution_count": 10,
      "outputs": []
    },
    {
      "cell_type": "code",
      "source": [
        "import glob\n",
        "import pandas as pd\n",
        "import numpy as np\n",
        "from scipy import io\n",
        "\n",
        "\n",
        "def create_file_subject_wise(file_path:str,n_subjects:int,channels=\"all\", band=\"alpha\"):\n",
        "    \"\"\"\n",
        "    A function to create the file by reading all the data.\n",
        "    Args:\n",
        "    ---------------\n",
        "        data_path: string; path to read data from\n",
        "        n_subjects: int; number of subjects \n",
        "    Returns:\n",
        "        final_data: numpy array; contains concatenated data of all conditions\n",
        "    ----------------\n",
        "    \"\"\"\n",
        "#     subject_list_part1 = [\"subject_0\"+str(i) for i in range(1,10)]\n",
        "#     subject_list_part2 = [\"subject_\" + str(i) for i in range(10,n_subjects+1)]\n",
        "#     subject_list_final = subject_list_part1 + subject_list_part2\n",
        "\n",
        "    l_breath_data = []\n",
        "    l_feet_data = []\n",
        "    l_future_data = []\n",
        "    l_worry_data = []\n",
        "    for subject_files in glob.glob(file_path+str(\"/*\")):\n",
        "        #print(f\"here {subject_files}\")\n",
        "        if subject_files.split(\"/\")[-1] == f\"breath_{channels}_{band}_data.mat\":\n",
        "            content = io.loadmat(subject_files)[f'data_{channels}_{band}']\n",
        "            l_breath_data.append(content)\n",
        "            #print(f\"here with {subject_files}\")\n",
        "        elif subject_files.split(\"/\")[-1] == f\"feet_{channels}_{band}_data.mat\":\n",
        "            content = io.loadmat(subject_files)[f'data_{channels}_{band}']\n",
        "            l_feet_data.append(content)\n",
        "        elif subject_files.split(\"/\")[-1] == f\"future_{channels}_{band}_data.mat\":\n",
        "            content = io.loadmat(subject_files)[f'data_{channels}_{band}']\n",
        "            l_future_data.append(content)\n",
        "        elif subject_files.split(\"/\")[-1] == f\"worry_{channels}_{band}_data.mat\":\n",
        "            content = io.loadmat(subject_files)[f'data_{channels}_{band}']\n",
        "            l_worry_data.append(content)\n",
        "        else:\n",
        "            continue\n",
        "\n",
        "    breath_data = np.concatenate(l_breath_data,axis=0)\n",
        "    feet_data = np.concatenate(l_feet_data,axis=0)\n",
        "    future_data = np.concatenate(l_future_data,axis=0)\n",
        "    worry_data = np.concatenate(l_worry_data,axis=0)\n",
        "\n",
        "    breath_labels = np.zeros(breath_data.shape[0])\n",
        "    feet_labels = np.ones(feet_data.shape[0])\n",
        "    future_labels = np.full(future_data.shape[0],2)\n",
        "    worry_labels = np.full(worry_data.shape[0],3)\n",
        "\n",
        "    breath_data = np.c_[breath_data,breath_labels]\n",
        "    feet_data = np.c_[feet_data,feet_labels]\n",
        "    future_data = np.c_[future_data,future_labels]\n",
        "    worry_data = np.c_[worry_data,worry_labels]\n",
        "\n",
        "    final_data = np.concatenate((breath_data,feet_data,future_data,worry_data),axis=0)\n",
        "\n",
        "    data_frame = pd.DataFrame(final_data)\n",
        "    data_frame.to_csv(file_path + str(f\"/combined_{channels}_{band}.csv\"),index=None)\n",
        "\n",
        "\n",
        "\n",
        "    return data_frame"
      ],
      "metadata": {
        "id": "SxK-vCCUmUim"
      },
      "execution_count": 11,
      "outputs": []
    },
    {
      "cell_type": "code",
      "source": [
        "import os\n",
        "from pathlib import Path\n",
        "import glob\n",
        "import pandas as pd\n",
        "# from create_file import *\n",
        "# from create_file_subject_wise import *\n",
        "\n",
        "def read_data(file_path, data_path, n_subjects, channels=\"all\", band=\"alpha\",return_dataframe=False, overwrite=False):\n",
        "    \n",
        "    \"\"\"\n",
        "    A function to read the data from given file or create it.\n",
        "    \n",
        "    Args:\n",
        "    ---------------\n",
        "        file_path: string; check if the file exists or not\n",
        "        data_path: string; path to read data from\n",
        "        n_subjects: int; number of subjects \n",
        "        overwrite: boolean; whether to overwrite the existing data or not\n",
        "    \n",
        "    Returns:\n",
        "        x: Feature columns of the data read\n",
        "        y: labels of the data read\n",
        "    ----------------\n",
        "    \"\"\"\n",
        "    if not overwrite:\n",
        "        # check if the file exists and set exists\n",
        "        config = Path(file_path)\n",
        "        try:\n",
        "            absolute_path = config.resolve()\n",
        "            data = pd.read_csv(absolute_path)\n",
        "            print(f\"File found {file_path}\")\n",
        "        except FileNotFoundError as e:         \n",
        "            print(e)\n",
        "            print(\"\\n====================================\\n\")\n",
        "            print(f\"Reading the data and creating the file at {data_path}\")\n",
        "            data = create_file(data_path,n_subjects,channels=channels, band=band)\n",
        "    else:\n",
        "        data = create_file(data_path,n_subjects,channels=channels, band=band)\n",
        "   \n",
        "    data_np = np.array(data)\n",
        "    \n",
        "    x = data_np[:,0:data_np.shape[-1]-1]\n",
        "    y = data_np[:,data_np.shape[-1]-1]\n",
        "\n",
        "    if return_dataframe==False:\n",
        "        return x,y\n",
        "    else:\n",
        "        return x,y,data\n",
        "\n",
        "\n",
        "def read_data_subject_wise(file_path, data_path, n_subjects,channels=\"all\", band=\"alpha\",return_dataframe=False, overwrite=False):\n",
        "    \n",
        "    \"\"\"\n",
        "    A function to read the data from given file or create it.\n",
        "    \n",
        "    Args:\n",
        "    ---------------\n",
        "        file_path: string; check if the file exists or not\n",
        "        data_path: string; path to read data from\n",
        "        n_subjects: int; number of subjects \n",
        "        overwrite: boolean; whether to overwrite the existing data or not\n",
        "    \n",
        "    Returns:\n",
        "        x: Feature columns of the data read\n",
        "        y: labels of the data read\n",
        "    ----------------\n",
        "    \"\"\"\n",
        "    if not overwrite:\n",
        "        # check if the file exists and set exists\n",
        "        config = Path(file_path)\n",
        "        try:\n",
        "            absolute_path = config.resolve()\n",
        "            data = pd.read_csv(absolute_path)\n",
        "            print(f\"File found {file_path}\")\n",
        "        except FileNotFoundError as e:         \n",
        "            print(e)\n",
        "            print(\"\\n====================================\\n\")\n",
        "            print(f\"Reading the data and creating the file at {data_path}\")\n",
        "            data = create_file_subject_wise(data_path,n_subjects,channels=channels, band=band)\n",
        "    else:\n",
        "        data = create_file_subject_wise(data_path,n_subjects,channels=channels, band=band)\n",
        "   \n",
        "    #print(f\"Data read looks like {data.head()} and the shape of data is {data.shape}\")\n",
        "    data_np = np.array(data)\n",
        "    #print(data_np.shape)\n",
        "    x = data_np[:,0:data_np.shape[1]-1]\n",
        "    y = data_np[:,data_np.shape[1]-1]\n",
        "    \n",
        "    if return_dataframe==False:\n",
        "        return x,y\n",
        "    else:\n",
        "        return x,y,data"
      ],
      "metadata": {
        "id": "5pToAD4Flg-h"
      },
      "execution_count": 12,
      "outputs": []
    },
    {
      "cell_type": "code",
      "source": [
        "!pip install keras-tuner"
      ],
      "metadata": {
        "id": "gt9Kpg9mmm48",
        "colab": {
          "base_uri": "https://localhost:8080/"
        },
        "outputId": "071408e2-84f8-4526-e6fa-444cf5fac9e5"
      },
      "execution_count": 13,
      "outputs": [
        {
          "output_type": "stream",
          "name": "stdout",
          "text": [
            "Collecting keras-tuner\n",
            "  Downloading keras_tuner-1.1.0-py3-none-any.whl (98 kB)\n",
            "\u001b[?25l\r\u001b[K     |███▍                            | 10 kB 17.5 MB/s eta 0:00:01\r\u001b[K     |██████▊                         | 20 kB 23.6 MB/s eta 0:00:01\r\u001b[K     |██████████                      | 30 kB 20.1 MB/s eta 0:00:01\r\u001b[K     |█████████████▍                  | 40 kB 16.7 MB/s eta 0:00:01\r\u001b[K     |████████████████▊               | 51 kB 5.7 MB/s eta 0:00:01\r\u001b[K     |████████████████████            | 61 kB 6.2 MB/s eta 0:00:01\r\u001b[K     |███████████████████████▍        | 71 kB 5.6 MB/s eta 0:00:01\r\u001b[K     |██████████████████████████▊     | 81 kB 6.2 MB/s eta 0:00:01\r\u001b[K     |██████████████████████████████  | 92 kB 6.2 MB/s eta 0:00:01\r\u001b[K     |████████████████████████████████| 98 kB 3.8 MB/s \n",
            "\u001b[?25hRequirement already satisfied: ipython in /usr/local/lib/python3.7/dist-packages (from keras-tuner) (5.5.0)\n",
            "Requirement already satisfied: requests in /usr/local/lib/python3.7/dist-packages (from keras-tuner) (2.23.0)\n",
            "Requirement already satisfied: scipy in /usr/local/lib/python3.7/dist-packages (from keras-tuner) (1.4.1)\n",
            "Requirement already satisfied: numpy in /usr/local/lib/python3.7/dist-packages (from keras-tuner) (1.19.5)\n",
            "Requirement already satisfied: tensorboard in /usr/local/lib/python3.7/dist-packages (from keras-tuner) (2.7.0)\n",
            "Requirement already satisfied: packaging in /usr/local/lib/python3.7/dist-packages (from keras-tuner) (21.3)\n",
            "Collecting kt-legacy\n",
            "  Downloading kt_legacy-1.0.4-py3-none-any.whl (9.6 kB)\n",
            "Requirement already satisfied: pygments in /usr/local/lib/python3.7/dist-packages (from ipython->keras-tuner) (2.6.1)\n",
            "Requirement already satisfied: simplegeneric>0.8 in /usr/local/lib/python3.7/dist-packages (from ipython->keras-tuner) (0.8.1)\n",
            "Requirement already satisfied: prompt-toolkit<2.0.0,>=1.0.4 in /usr/local/lib/python3.7/dist-packages (from ipython->keras-tuner) (1.0.18)\n",
            "Requirement already satisfied: setuptools>=18.5 in /usr/local/lib/python3.7/dist-packages (from ipython->keras-tuner) (57.4.0)\n",
            "Requirement already satisfied: traitlets>=4.2 in /usr/local/lib/python3.7/dist-packages (from ipython->keras-tuner) (5.1.1)\n",
            "Requirement already satisfied: pexpect in /usr/local/lib/python3.7/dist-packages (from ipython->keras-tuner) (4.8.0)\n",
            "Requirement already satisfied: decorator in /usr/local/lib/python3.7/dist-packages (from ipython->keras-tuner) (4.4.2)\n",
            "Requirement already satisfied: pickleshare in /usr/local/lib/python3.7/dist-packages (from ipython->keras-tuner) (0.7.5)\n",
            "Requirement already satisfied: six>=1.9.0 in /usr/local/lib/python3.7/dist-packages (from prompt-toolkit<2.0.0,>=1.0.4->ipython->keras-tuner) (1.15.0)\n",
            "Requirement already satisfied: wcwidth in /usr/local/lib/python3.7/dist-packages (from prompt-toolkit<2.0.0,>=1.0.4->ipython->keras-tuner) (0.2.5)\n",
            "Requirement already satisfied: pyparsing!=3.0.5,>=2.0.2 in /usr/local/lib/python3.7/dist-packages (from packaging->keras-tuner) (3.0.6)\n",
            "Requirement already satisfied: ptyprocess>=0.5 in /usr/local/lib/python3.7/dist-packages (from pexpect->ipython->keras-tuner) (0.7.0)\n",
            "Requirement already satisfied: idna<3,>=2.5 in /usr/local/lib/python3.7/dist-packages (from requests->keras-tuner) (2.10)\n",
            "Requirement already satisfied: urllib3!=1.25.0,!=1.25.1,<1.26,>=1.21.1 in /usr/local/lib/python3.7/dist-packages (from requests->keras-tuner) (1.24.3)\n",
            "Requirement already satisfied: certifi>=2017.4.17 in /usr/local/lib/python3.7/dist-packages (from requests->keras-tuner) (2021.10.8)\n",
            "Requirement already satisfied: chardet<4,>=3.0.2 in /usr/local/lib/python3.7/dist-packages (from requests->keras-tuner) (3.0.4)\n",
            "Requirement already satisfied: protobuf>=3.6.0 in /usr/local/lib/python3.7/dist-packages (from tensorboard->keras-tuner) (3.17.3)\n",
            "Requirement already satisfied: werkzeug>=0.11.15 in /usr/local/lib/python3.7/dist-packages (from tensorboard->keras-tuner) (1.0.1)\n",
            "Requirement already satisfied: wheel>=0.26 in /usr/local/lib/python3.7/dist-packages (from tensorboard->keras-tuner) (0.37.0)\n",
            "Requirement already satisfied: google-auth-oauthlib<0.5,>=0.4.1 in /usr/local/lib/python3.7/dist-packages (from tensorboard->keras-tuner) (0.4.6)\n",
            "Requirement already satisfied: grpcio>=1.24.3 in /usr/local/lib/python3.7/dist-packages (from tensorboard->keras-tuner) (1.42.0)\n",
            "Requirement already satisfied: tensorboard-data-server<0.7.0,>=0.6.0 in /usr/local/lib/python3.7/dist-packages (from tensorboard->keras-tuner) (0.6.1)\n",
            "Requirement already satisfied: tensorboard-plugin-wit>=1.6.0 in /usr/local/lib/python3.7/dist-packages (from tensorboard->keras-tuner) (1.8.0)\n",
            "Requirement already satisfied: google-auth<3,>=1.6.3 in /usr/local/lib/python3.7/dist-packages (from tensorboard->keras-tuner) (1.35.0)\n",
            "Requirement already satisfied: absl-py>=0.4 in /usr/local/lib/python3.7/dist-packages (from tensorboard->keras-tuner) (0.12.0)\n",
            "Requirement already satisfied: markdown>=2.6.8 in /usr/local/lib/python3.7/dist-packages (from tensorboard->keras-tuner) (3.3.6)\n",
            "Requirement already satisfied: rsa<5,>=3.1.4 in /usr/local/lib/python3.7/dist-packages (from google-auth<3,>=1.6.3->tensorboard->keras-tuner) (4.8)\n",
            "Requirement already satisfied: pyasn1-modules>=0.2.1 in /usr/local/lib/python3.7/dist-packages (from google-auth<3,>=1.6.3->tensorboard->keras-tuner) (0.2.8)\n",
            "Requirement already satisfied: cachetools<5.0,>=2.0.0 in /usr/local/lib/python3.7/dist-packages (from google-auth<3,>=1.6.3->tensorboard->keras-tuner) (4.2.4)\n",
            "Requirement already satisfied: requests-oauthlib>=0.7.0 in /usr/local/lib/python3.7/dist-packages (from google-auth-oauthlib<0.5,>=0.4.1->tensorboard->keras-tuner) (1.3.0)\n",
            "Requirement already satisfied: importlib-metadata>=4.4 in /usr/local/lib/python3.7/dist-packages (from markdown>=2.6.8->tensorboard->keras-tuner) (4.8.2)\n",
            "Requirement already satisfied: typing-extensions>=3.6.4 in /usr/local/lib/python3.7/dist-packages (from importlib-metadata>=4.4->markdown>=2.6.8->tensorboard->keras-tuner) (3.10.0.2)\n",
            "Requirement already satisfied: zipp>=0.5 in /usr/local/lib/python3.7/dist-packages (from importlib-metadata>=4.4->markdown>=2.6.8->tensorboard->keras-tuner) (3.6.0)\n",
            "Requirement already satisfied: pyasn1<0.5.0,>=0.4.6 in /usr/local/lib/python3.7/dist-packages (from pyasn1-modules>=0.2.1->google-auth<3,>=1.6.3->tensorboard->keras-tuner) (0.4.8)\n",
            "Requirement already satisfied: oauthlib>=3.0.0 in /usr/local/lib/python3.7/dist-packages (from requests-oauthlib>=0.7.0->google-auth-oauthlib<0.5,>=0.4.1->tensorboard->keras-tuner) (3.1.1)\n",
            "Installing collected packages: kt-legacy, keras-tuner\n",
            "Successfully installed keras-tuner-1.1.0 kt-legacy-1.0.4\n"
          ]
        }
      ]
    },
    {
      "cell_type": "code",
      "source": [
        "import kerastuner as kt\n",
        "from tensorboard.plugins.hparams import api as hp\n",
        "from kerastuner import HyperModel\n",
        "from tensorflow.keras.models import Sequential\n",
        "from tensorflow.keras.layers import Dense, InputLayer\n",
        "from kerastuner.tuners import Hyperband\n",
        "from tensorflow.keras.optimizers import Adam\n",
        "\n",
        "class Model(HyperModel):\n",
        "    def __init__(self, classifier):\n",
        "        self.classifier_name = classifier.name\n",
        "        self.act_values = classifier.act_values\n",
        "        self.LRs = classifier.LRs\n",
        "        self.min_value = classifier.min_value\n",
        "        self.max_value = classifier.max_value\n",
        "        self.step = classifier.step\n",
        "\n",
        "    def build(self, hp):\n",
        "        model = Sequential()\n",
        "        model.add(InputLayer(input_shape = (50, 14)))   \n",
        "        model.add(Dense(hp.Int(name = 'start_neurons', min_value = self.min_value, max_value = self.max_value, step = self.step),                               kernel_regularizer='l2', activation = hp.Choice(name = 'activation', values = list(self.act_values), ordered = False)))\n",
        "        model.add(Dense(1, kernel_regularizer='l2',activation = 'sigmoid'))\n",
        "        model.compile(optimizer = Adam( hp.Choice('learning_rate',\n",
        "                          values=list(self.LRs))),\n",
        "                        loss = 'binary_crossentropy',\n",
        "                        metrics = ['accuracy'])\n",
        "        return model\n",
        "    \n",
        "    def __str__(self):\n",
        "        return f\"The {self.classifier_name} is runnning with the configuration as defined in conf/classifier/{self.classifier_name}.yaml\""
      ],
      "metadata": {
        "id": "HLQkgsXap_b5",
        "colab": {
          "base_uri": "https://localhost:8080/"
        },
        "outputId": "d0c0285a-9540-417d-f8e5-f4440523dffe"
      },
      "execution_count": 14,
      "outputs": [
        {
          "output_type": "stream",
          "name": "stderr",
          "text": [
            "/usr/local/lib/python3.7/dist-packages/ipykernel_launcher.py:1: DeprecationWarning: `import kerastuner` is deprecated, please use `import keras_tuner`.\n",
            "  \"\"\"Entry point for launching an IPython kernel.\n"
          ]
        }
      ]
    },
    {
      "cell_type": "code",
      "source": [
        "# Adding path to import files from src folder\n",
        "import sys\n",
        "# insert at 1, 0 is the script path (or '' in REPL)\n",
        "# 1 in the insert function ensures that it’s loaded with higher priority and avoids some naming conflicts\n",
        "sys.path.insert(1, '../src')\n",
        "\n",
        "import glob \n",
        "import os\n",
        "import numpy as np\n",
        "import sklearn\n",
        "import logging\n",
        "from sklearn.model_selection import train_test_split\n",
        "from sklearn.model_selection import GridSearchCV\n",
        "from sklearn.svm import SVC\n",
        "from sklearn import metrics\n",
        "from sklearn.metrics import classification_report, confusion_matrix\n",
        "from sklearn.pipeline import Pipeline\n",
        "from sklearn.preprocessing import StandardScaler\n",
        "# from utils import *\n",
        "\n",
        "# Display progress logs on stdout\n",
        "logging.basicConfig(level=logging.INFO, format='%(asctime)s %(message)s')\n",
        "\n",
        "%load_ext autoreload\n",
        "%autoreload "
      ],
      "metadata": {
        "id": "pw6Ndo4Bqne4"
      },
      "execution_count": 15,
      "outputs": []
    },
    {
      "cell_type": "code",
      "source": [
        "n_subjects = 21\n",
        "data_path = \"/content/drive/MyDrive/IITR EEG Intern/New Problem/data/\"\n",
        "channels = \"occipital\"\n",
        "band= \"alpha\"\n",
        "file_path = f\"/content/drive/MyDrive/IITR EEG Intern/New Problem/data/combined_{channels}_{band}.csv\""
      ],
      "metadata": {
        "id": "PMfuzuVsqWao"
      },
      "execution_count": 16,
      "outputs": []
    },
    {
      "cell_type": "code",
      "source": [
        "# /content/drive/MyDrive/IITR EEG Intern/New Problem/data/subject_01/worry_visual_rejection_data.mat"
      ],
      "metadata": {
        "id": "sJ6QGtVP0Bc9"
      },
      "execution_count": 17,
      "outputs": []
    },
    {
      "cell_type": "code",
      "source": [
        "x, y  = read_data(file_path, data_path, n_subjects, channels=channels, band=band, overwrite=False)"
      ],
      "metadata": {
        "id": "gKXTpl_xzDsk",
        "colab": {
          "base_uri": "https://localhost:8080/"
        },
        "outputId": "4a0c6c31-0633-475b-9eef-f0f7876221b5"
      },
      "execution_count": 18,
      "outputs": [
        {
          "output_type": "stream",
          "name": "stdout",
          "text": [
            "File found /content/drive/MyDrive/IITR EEG Intern/New Problem/data/combined_occipital_alpha.csv\n"
          ]
        }
      ]
    },
    {
      "cell_type": "code",
      "source": [
        "x.shape"
      ],
      "metadata": {
        "id": "uTwDP14ozHm8",
        "colab": {
          "base_uri": "https://localhost:8080/"
        },
        "outputId": "31810319-3f1a-4d09-b7e8-115ae824dd5c"
      },
      "execution_count": 19,
      "outputs": [
        {
          "output_type": "execute_result",
          "data": {
            "text/plain": [
              "(17947, 4)"
            ]
          },
          "metadata": {},
          "execution_count": 19
        }
      ]
    },
    {
      "cell_type": "code",
      "source": [
        "y.shape"
      ],
      "metadata": {
        "id": "T7uGOKc_3C07",
        "colab": {
          "base_uri": "https://localhost:8080/"
        },
        "outputId": "6b6cdfbb-e0d6-4a5f-d633-8f4ac76aa606"
      },
      "execution_count": 20,
      "outputs": [
        {
          "output_type": "execute_result",
          "data": {
            "text/plain": [
              "(17947,)"
            ]
          },
          "metadata": {},
          "execution_count": 20
        }
      ]
    },
    {
      "cell_type": "code",
      "source": [
        "type(x)"
      ],
      "metadata": {
        "id": "tyPrvtKN3G4a",
        "colab": {
          "base_uri": "https://localhost:8080/"
        },
        "outputId": "5be09246-62b4-4d5c-80a5-99585abdb91f"
      },
      "execution_count": 21,
      "outputs": [
        {
          "output_type": "execute_result",
          "data": {
            "text/plain": [
              "numpy.ndarray"
            ]
          },
          "metadata": {},
          "execution_count": 21
        }
      ]
    },
    {
      "cell_type": "code",
      "source": [
        "y"
      ],
      "metadata": {
        "id": "_LPW3Lin4DXL",
        "colab": {
          "base_uri": "https://localhost:8080/"
        },
        "outputId": "9ab6642a-8c62-44cb-f115-9c7f59e77449"
      },
      "execution_count": 22,
      "outputs": [
        {
          "output_type": "execute_result",
          "data": {
            "text/plain": [
              "array([0., 0., 0., ..., 3., 3., 3.])"
            ]
          },
          "metadata": {},
          "execution_count": 22
        }
      ]
    },
    {
      "cell_type": "code",
      "source": [
        "#printing all unique values in y\n",
        "list(set(y))"
      ],
      "metadata": {
        "colab": {
          "base_uri": "https://localhost:8080/"
        },
        "id": "MSeF7I6H4Yp7",
        "outputId": "a4a2e08e-116f-459d-c8c5-a878bc52c1eb"
      },
      "execution_count": 23,
      "outputs": [
        {
          "output_type": "execute_result",
          "data": {
            "text/plain": [
              "[0.0, 1.0, 2.0, 3.0]"
            ]
          },
          "metadata": {},
          "execution_count": 23
        }
      ]
    },
    {
      "cell_type": "code",
      "source": [
        "num_classes = 4\n",
        "y = tf.keras.utils.to_categorical(y, num_classes)\n",
        "y"
      ],
      "metadata": {
        "colab": {
          "base_uri": "https://localhost:8080/"
        },
        "id": "VNGE2dM-7HP7",
        "outputId": "7c723530-9267-48eb-a2c8-7c721bcaf86c"
      },
      "execution_count": 24,
      "outputs": [
        {
          "output_type": "execute_result",
          "data": {
            "text/plain": [
              "array([[1., 0., 0., 0.],\n",
              "       [1., 0., 0., 0.],\n",
              "       [1., 0., 0., 0.],\n",
              "       ...,\n",
              "       [0., 0., 0., 1.],\n",
              "       [0., 0., 0., 1.],\n",
              "       [0., 0., 0., 1.]], dtype=float32)"
            ]
          },
          "metadata": {},
          "execution_count": 24
        }
      ]
    },
    {
      "cell_type": "code",
      "source": [
        "x_train,x_temp,y_train,y_temp = train_test_split(x,y,test_size=0.30,shuffle=True,stratify=y,random_state=42)\n",
        "x_val,x_test,y_val,y_test = train_test_split(x_temp,y_temp,test_size=0.50,shuffle=True,stratify=y_temp,random_state=42)"
      ],
      "metadata": {
        "id": "DkXm0tlPGbgH"
      },
      "execution_count": 25,
      "outputs": []
    },
    {
      "cell_type": "code",
      "source": [
        "# list(set(y))"
      ],
      "metadata": {
        "id": "YYNLVyXj7ND_"
      },
      "execution_count": 26,
      "outputs": []
    },
    {
      "cell_type": "code",
      "source": [
        "import tensorflow as tf\n",
        "from tensorflow.keras.models import Sequential\n",
        "from tensorflow.keras.layers import Dense,Dropout,Flatten\n",
        "from tensorflow.keras.callbacks import EarlyStopping, ModelCheckpoint\n",
        "import matplotlib.pyplot as plt\n",
        "%matplotlib inline"
      ],
      "metadata": {
        "id": "MNvSiKoJ51dW"
      },
      "execution_count": 27,
      "outputs": []
    },
    {
      "cell_type": "code",
      "source": [
        "#Creating model architecture\n",
        "\n",
        "num_classes = 4\n",
        "\n",
        "inp_shape = (4,)\n",
        "ip = tf.keras.Input(shape = inp_shape)\n",
        "dense1 = tf.keras.layers.Dense(units = 32, activation = 'relu', kernel_initializer = 'random_normal')(ip)\n",
        "dense2 = tf.keras.layers.Dense(units = 16, activation = 'relu', kernel_initializer = 'random_normal')(dense1)\n",
        "drop2 = tf.keras.layers.Dropout(.3)(dense2)\n",
        "out = tf.keras.layers.Dense(num_classes, activation = 'softmax')(drop2)\n",
        "\n",
        "mlp = tf.keras.Model(inputs = ip, outputs = out)\n",
        "mlp.summary()\n",
        "# inp_shape = (None, )"
      ],
      "metadata": {
        "colab": {
          "base_uri": "https://localhost:8080/"
        },
        "id": "hWyUMEbr4dvb",
        "outputId": "20abe63c-186d-4246-bde0-329e30040d42"
      },
      "execution_count": 28,
      "outputs": [
        {
          "output_type": "stream",
          "name": "stdout",
          "text": [
            "Model: \"model\"\n",
            "_________________________________________________________________\n",
            " Layer (type)                Output Shape              Param #   \n",
            "=================================================================\n",
            " input_1 (InputLayer)        [(None, 4)]               0         \n",
            "                                                                 \n",
            " dense (Dense)               (None, 32)                160       \n",
            "                                                                 \n",
            " dense_1 (Dense)             (None, 16)                528       \n",
            "                                                                 \n",
            " dropout (Dropout)           (None, 16)                0         \n",
            "                                                                 \n",
            " dense_2 (Dense)             (None, 4)                 68        \n",
            "                                                                 \n",
            "=================================================================\n",
            "Total params: 756\n",
            "Trainable params: 756\n",
            "Non-trainable params: 0\n",
            "_________________________________________________________________\n"
          ]
        }
      ]
    },
    {
      "cell_type": "code",
      "source": [
        "tf.keras.utils.plot_model(mlp)"
      ],
      "metadata": {
        "colab": {
          "base_uri": "https://localhost:8080/",
          "height": 466
        },
        "id": "xHmX1gYXImsY",
        "outputId": "44c362ad-9fc1-48fe-af3f-926509bee0d3"
      },
      "execution_count": 29,
      "outputs": [
        {
          "output_type": "execute_result",
          "data": {
            "image/png": "[encoded data removed]",
            "text/plain": [
              "<IPython.core.display.Image object>"
            ]
          },
          "metadata": {},
          "execution_count": 29
        }
      ]
    },
    {
      "cell_type": "code",
      "source": [
        "# Compiling the model\n",
        "mlp_earlystop = EarlyStopping(patience = 20, min_delta = 0.001, monitor = 'val_acc')\n",
        "\n",
        "path = 'mlp_checkpoint/checkpoint_{epoch:02d}';\n",
        "mlp_checkpoint = ModelCheckpoint(filepath = path,\n",
        "                            verbose = 1,\n",
        "                            monitor = 'val_acc',\n",
        "                            save_freq = 'epoch',\n",
        "                            save_best_only = True,\n",
        "                            save_weights_only = True)\n",
        "\n",
        "mlp.compile(loss = 'categorical_crossentropy', metrics = ['acc'], optimizer = 'adam')"
      ],
      "metadata": {
        "id": "xe-xKwU35mK-"
      },
      "execution_count": 30,
      "outputs": []
    },
    {
      "cell_type": "code",
      "source": [
        "mlp_history = mlp.fit(x_train, y_train,\n",
        "                      validation_data = (x_temp, y_temp),\n",
        "                      epochs = 100,\n",
        "                      batch_size = 32,\n",
        "                      shuffle = True,\n",
        "                      callbacks = [\n",
        "                                  #  mlp_earlystop,\n",
        "                                   mlp_checkpoint,\n",
        "                                   ],\n",
        "                     ) #Fitting the model"
      ],
      "metadata": {
        "colab": {
          "base_uri": "https://localhost:8080/"
        },
        "id": "y_EFlgZ-5r2M",
        "outputId": "491b4d76-85fb-46f2-fccf-633547bef183"
      },
      "execution_count": 31,
      "outputs": [
        {
          "output_type": "stream",
          "name": "stdout",
          "text": [
            "Epoch 1/100\n",
            "382/393 [============================>.] - ETA: 0s - loss: 1.3914 - acc: 0.2505\n",
            "Epoch 00001: val_acc improved from -inf to 0.25571, saving model to mlp_checkpoint/checkpoint_01\n",
            "393/393 [==============================] - 5s 6ms/step - loss: 1.3913 - acc: 0.2501 - val_loss: 1.3861 - val_acc: 0.2557\n",
            "Epoch 2/100\n",
            "393/393 [==============================] - ETA: 0s - loss: 1.3864 - acc: 0.2532\n",
            "Epoch 00002: val_acc improved from 0.25571 to 0.25812, saving model to mlp_checkpoint/checkpoint_02\n",
            "393/393 [==============================] - 2s 6ms/step - loss: 1.3864 - acc: 0.2532 - val_loss: 1.3860 - val_acc: 0.2581\n",
            "Epoch 3/100\n",
            "382/393 [============================>.] - ETA: 0s - loss: 1.3862 - acc: 0.2528\n",
            "Epoch 00003: val_acc did not improve from 0.25812\n",
            "393/393 [==============================] - 2s 5ms/step - loss: 1.3861 - acc: 0.2533 - val_loss: 1.3861 - val_acc: 0.2565\n",
            "Epoch 4/100\n",
            "389/393 [============================>.] - ETA: 0s - loss: 1.3863 - acc: 0.2553\n",
            "Epoch 00004: val_acc did not improve from 0.25812\n",
            "393/393 [==============================] - 2s 6ms/step - loss: 1.3863 - acc: 0.2555 - val_loss: 1.3859 - val_acc: 0.2576\n",
            "Epoch 5/100\n",
            "381/393 [============================>.] - ETA: 0s - loss: 1.3862 - acc: 0.2551\n",
            "Epoch 00005: val_acc improved from 0.25812 to 0.26202, saving model to mlp_checkpoint/checkpoint_05\n",
            "393/393 [==============================] - 2s 6ms/step - loss: 1.3862 - acc: 0.2545 - val_loss: 1.3857 - val_acc: 0.2620\n",
            "Epoch 6/100\n",
            "390/393 [============================>.] - ETA: 0s - loss: 1.3861 - acc: 0.2584\n",
            "Epoch 00006: val_acc did not improve from 0.26202\n",
            "393/393 [==============================] - 2s 5ms/step - loss: 1.3861 - acc: 0.2580 - val_loss: 1.3859 - val_acc: 0.2583\n",
            "Epoch 7/100\n",
            "390/393 [============================>.] - ETA: 0s - loss: 1.3859 - acc: 0.2601\n",
            "Epoch 00007: val_acc improved from 0.26202 to 0.27651, saving model to mlp_checkpoint/checkpoint_07\n",
            "393/393 [==============================] - 4s 10ms/step - loss: 1.3859 - acc: 0.2601 - val_loss: 1.3833 - val_acc: 0.2765\n",
            "Epoch 8/100\n",
            "392/393 [============================>.] - ETA: 0s - loss: 1.3852 - acc: 0.2665\n",
            "Epoch 00008: val_acc improved from 0.27651 to 0.27725, saving model to mlp_checkpoint/checkpoint_08\n",
            "393/393 [==============================] - 4s 9ms/step - loss: 1.3852 - acc: 0.2665 - val_loss: 1.3836 - val_acc: 0.2773\n",
            "Epoch 9/100\n",
            "393/393 [==============================] - ETA: 0s - loss: 1.3847 - acc: 0.2653\n",
            "Epoch 00009: val_acc improved from 0.27725 to 0.28022, saving model to mlp_checkpoint/checkpoint_09\n",
            "393/393 [==============================] - 4s 10ms/step - loss: 1.3847 - acc: 0.2653 - val_loss: 1.3829 - val_acc: 0.2802\n",
            "Epoch 10/100\n",
            "392/393 [============================>.] - ETA: 0s - loss: 1.3844 - acc: 0.2628\n",
            "Epoch 00010: val_acc improved from 0.28022 to 0.28208, saving model to mlp_checkpoint/checkpoint_10\n",
            "393/393 [==============================] - 4s 11ms/step - loss: 1.3844 - acc: 0.2627 - val_loss: 1.3821 - val_acc: 0.2821\n",
            "Epoch 11/100\n",
            "388/393 [============================>.] - ETA: 0s - loss: 1.3844 - acc: 0.2671\n",
            "Epoch 00011: val_acc did not improve from 0.28208\n",
            "393/393 [==============================] - 4s 10ms/step - loss: 1.3844 - acc: 0.2667 - val_loss: 1.3823 - val_acc: 0.2763\n",
            "Epoch 12/100\n",
            "387/393 [============================>.] - ETA: 0s - loss: 1.3835 - acc: 0.2709\n",
            "Epoch 00012: val_acc did not improve from 0.28208\n",
            "393/393 [==============================] - 4s 11ms/step - loss: 1.3835 - acc: 0.2707 - val_loss: 1.3846 - val_acc: 0.2713\n",
            "Epoch 13/100\n",
            "391/393 [============================>.] - ETA: 0s - loss: 1.3840 - acc: 0.2693\n",
            "Epoch 00013: val_acc improved from 0.28208 to 0.28839, saving model to mlp_checkpoint/checkpoint_13\n",
            "393/393 [==============================] - 4s 11ms/step - loss: 1.3840 - acc: 0.2693 - val_loss: 1.3821 - val_acc: 0.2884\n",
            "Epoch 14/100\n",
            "393/393 [==============================] - ETA: 0s - loss: 1.3842 - acc: 0.2713\n",
            "Epoch 00014: val_acc did not improve from 0.28839\n",
            "393/393 [==============================] - 3s 8ms/step - loss: 1.3842 - acc: 0.2713 - val_loss: 1.3826 - val_acc: 0.2797\n",
            "Epoch 15/100\n",
            "389/393 [============================>.] - ETA: 0s - loss: 1.3837 - acc: 0.2657\n",
            "Epoch 00015: val_acc did not improve from 0.28839\n",
            "393/393 [==============================] - 2s 5ms/step - loss: 1.3837 - acc: 0.2656 - val_loss: 1.3818 - val_acc: 0.2860\n",
            "Epoch 16/100\n",
            "384/393 [============================>.] - ETA: 0s - loss: 1.3827 - acc: 0.2672\n",
            "Epoch 00016: val_acc did not improve from 0.28839\n",
            "393/393 [==============================] - 2s 5ms/step - loss: 1.3829 - acc: 0.2666 - val_loss: 1.3818 - val_acc: 0.2875\n",
            "Epoch 17/100\n",
            "388/393 [============================>.] - ETA: 0s - loss: 1.3818 - acc: 0.2719\n",
            "Epoch 00017: val_acc did not improve from 0.28839\n",
            "393/393 [==============================] - 2s 5ms/step - loss: 1.3819 - acc: 0.2713 - val_loss: 1.3820 - val_acc: 0.2810\n",
            "Epoch 18/100\n",
            "389/393 [============================>.] - ETA: 0s - loss: 1.3828 - acc: 0.2716\n",
            "Epoch 00018: val_acc did not improve from 0.28839\n",
            "393/393 [==============================] - 2s 5ms/step - loss: 1.3827 - acc: 0.2720 - val_loss: 1.3811 - val_acc: 0.2860\n",
            "Epoch 19/100\n",
            "384/393 [============================>.] - ETA: 0s - loss: 1.3825 - acc: 0.2642\n",
            "Epoch 00019: val_acc did not improve from 0.28839\n",
            "393/393 [==============================] - 2s 5ms/step - loss: 1.3824 - acc: 0.2655 - val_loss: 1.3813 - val_acc: 0.2839\n",
            "Epoch 20/100\n",
            "386/393 [============================>.] - ETA: 0s - loss: 1.3825 - acc: 0.2693\n",
            "Epoch 00020: val_acc did not improve from 0.28839\n",
            "393/393 [==============================] - 2s 5ms/step - loss: 1.3825 - acc: 0.2692 - val_loss: 1.3821 - val_acc: 0.2812\n",
            "Epoch 21/100\n",
            "383/393 [============================>.] - ETA: 0s - loss: 1.3817 - acc: 0.2700\n",
            "Epoch 00021: val_acc did not improve from 0.28839\n",
            "393/393 [==============================] - 2s 5ms/step - loss: 1.3817 - acc: 0.2704 - val_loss: 1.3811 - val_acc: 0.2806\n",
            "Epoch 22/100\n",
            "385/393 [============================>.] - ETA: 0s - loss: 1.3812 - acc: 0.2670\n",
            "Epoch 00022: val_acc did not improve from 0.28839\n",
            "393/393 [==============================] - 2s 5ms/step - loss: 1.3811 - acc: 0.2671 - val_loss: 1.3807 - val_acc: 0.2867\n",
            "Epoch 23/100\n",
            "385/393 [============================>.] - ETA: 0s - loss: 1.3811 - acc: 0.2773\n",
            "Epoch 00023: val_acc did not improve from 0.28839\n",
            "393/393 [==============================] - 2s 5ms/step - loss: 1.3809 - acc: 0.2764 - val_loss: 1.3803 - val_acc: 0.2810\n",
            "Epoch 24/100\n",
            "385/393 [============================>.] - ETA: 0s - loss: 1.3808 - acc: 0.2735\n",
            "Epoch 00024: val_acc did not improve from 0.28839\n",
            "393/393 [==============================] - 2s 5ms/step - loss: 1.3809 - acc: 0.2735 - val_loss: 1.3806 - val_acc: 0.2774\n",
            "Epoch 25/100\n",
            "388/393 [============================>.] - ETA: 0s - loss: 1.3796 - acc: 0.2792\n",
            "Epoch 00025: val_acc did not improve from 0.28839\n",
            "393/393 [==============================] - 2s 6ms/step - loss: 1.3797 - acc: 0.2789 - val_loss: 1.3796 - val_acc: 0.2797\n",
            "Epoch 26/100\n",
            "385/393 [============================>.] - ETA: 0s - loss: 1.3801 - acc: 0.2777\n",
            "Epoch 00026: val_acc did not improve from 0.28839\n",
            "393/393 [==============================] - 2s 5ms/step - loss: 1.3802 - acc: 0.2769 - val_loss: 1.3807 - val_acc: 0.2865\n",
            "Epoch 27/100\n",
            "385/393 [============================>.] - ETA: 0s - loss: 1.3798 - acc: 0.2723\n",
            "Epoch 00027: val_acc did not improve from 0.28839\n",
            "393/393 [==============================] - 2s 6ms/step - loss: 1.3798 - acc: 0.2726 - val_loss: 1.3791 - val_acc: 0.2767\n",
            "Epoch 28/100\n",
            "393/393 [==============================] - ETA: 0s - loss: 1.3805 - acc: 0.2793\n",
            "Epoch 00028: val_acc did not improve from 0.28839\n",
            "393/393 [==============================] - 2s 6ms/step - loss: 1.3805 - acc: 0.2793 - val_loss: 1.3788 - val_acc: 0.2839\n",
            "Epoch 29/100\n",
            "392/393 [============================>.] - ETA: 0s - loss: 1.3789 - acc: 0.2816\n",
            "Epoch 00029: val_acc did not improve from 0.28839\n",
            "393/393 [==============================] - 2s 5ms/step - loss: 1.3789 - acc: 0.2816 - val_loss: 1.3791 - val_acc: 0.2815\n",
            "Epoch 30/100\n",
            "386/393 [============================>.] - ETA: 0s - loss: 1.3796 - acc: 0.2782\n",
            "Epoch 00030: val_acc did not improve from 0.28839\n",
            "393/393 [==============================] - 2s 5ms/step - loss: 1.3794 - acc: 0.2788 - val_loss: 1.3787 - val_acc: 0.2813\n",
            "Epoch 31/100\n",
            "382/393 [============================>.] - ETA: 0s - loss: 1.3791 - acc: 0.2736\n",
            "Epoch 00031: val_acc did not improve from 0.28839\n",
            "393/393 [==============================] - 2s 5ms/step - loss: 1.3790 - acc: 0.2738 - val_loss: 1.3781 - val_acc: 0.2858\n",
            "Epoch 32/100\n",
            "383/393 [============================>.] - ETA: 0s - loss: 1.3793 - acc: 0.2778\n",
            "Epoch 00032: val_acc did not improve from 0.28839\n",
            "393/393 [==============================] - 2s 5ms/step - loss: 1.3793 - acc: 0.2779 - val_loss: 1.3788 - val_acc: 0.2862\n",
            "Epoch 33/100\n",
            "385/393 [============================>.] - ETA: 0s - loss: 1.3798 - acc: 0.2778\n",
            "Epoch 00033: val_acc did not improve from 0.28839\n",
            "393/393 [==============================] - 2s 6ms/step - loss: 1.3795 - acc: 0.2785 - val_loss: 1.3781 - val_acc: 0.2864\n",
            "Epoch 34/100\n",
            "390/393 [============================>.] - ETA: 0s - loss: 1.3789 - acc: 0.2776\n",
            "Epoch 00034: val_acc did not improve from 0.28839\n",
            "393/393 [==============================] - 2s 5ms/step - loss: 1.3788 - acc: 0.2773 - val_loss: 1.3780 - val_acc: 0.2845\n",
            "Epoch 35/100\n",
            "391/393 [============================>.] - ETA: 0s - loss: 1.3780 - acc: 0.2792\n",
            "Epoch 00035: val_acc did not improve from 0.28839\n",
            "393/393 [==============================] - 2s 5ms/step - loss: 1.3780 - acc: 0.2796 - val_loss: 1.3780 - val_acc: 0.2834\n",
            "Epoch 36/100\n",
            "380/393 [============================>.] - ETA: 0s - loss: 1.3786 - acc: 0.2798\n",
            "Epoch 00036: val_acc did not improve from 0.28839\n",
            "393/393 [==============================] - 2s 5ms/step - loss: 1.3785 - acc: 0.2795 - val_loss: 1.3781 - val_acc: 0.2856\n",
            "Epoch 37/100\n",
            "392/393 [============================>.] - ETA: 0s - loss: 1.3780 - acc: 0.2814\n",
            "Epoch 00037: val_acc did not improve from 0.28839\n",
            "393/393 [==============================] - 2s 5ms/step - loss: 1.3780 - acc: 0.2813 - val_loss: 1.3778 - val_acc: 0.2878\n",
            "Epoch 38/100\n",
            "380/393 [============================>.] - ETA: 0s - loss: 1.3770 - acc: 0.2812\n",
            "Epoch 00038: val_acc did not improve from 0.28839\n",
            "393/393 [==============================] - 2s 5ms/step - loss: 1.3774 - acc: 0.2800 - val_loss: 1.3771 - val_acc: 0.2826\n",
            "Epoch 39/100\n",
            "383/393 [============================>.] - ETA: 0s - loss: 1.3778 - acc: 0.2810\n",
            "Epoch 00039: val_acc did not improve from 0.28839\n",
            "393/393 [==============================] - 2s 5ms/step - loss: 1.3775 - acc: 0.2813 - val_loss: 1.3773 - val_acc: 0.2860\n",
            "Epoch 40/100\n",
            "385/393 [============================>.] - ETA: 0s - loss: 1.3772 - acc: 0.2781\n",
            "Epoch 00040: val_acc did not improve from 0.28839\n",
            "393/393 [==============================] - 2s 5ms/step - loss: 1.3772 - acc: 0.2778 - val_loss: 1.3772 - val_acc: 0.2838\n",
            "Epoch 41/100\n",
            "391/393 [============================>.] - ETA: 0s - loss: 1.3780 - acc: 0.2776\n",
            "Epoch 00041: val_acc did not improve from 0.28839\n",
            "393/393 [==============================] - 2s 6ms/step - loss: 1.3779 - acc: 0.2781 - val_loss: 1.3777 - val_acc: 0.2817\n",
            "Epoch 42/100\n",
            "390/393 [============================>.] - ETA: 0s - loss: 1.3765 - acc: 0.2778\n",
            "Epoch 00042: val_acc did not improve from 0.28839\n",
            "393/393 [==============================] - 2s 5ms/step - loss: 1.3764 - acc: 0.2780 - val_loss: 1.3930 - val_acc: 0.2676\n",
            "Epoch 43/100\n",
            "384/393 [============================>.] - ETA: 0s - loss: 1.3782 - acc: 0.2785\n",
            "Epoch 00043: val_acc did not improve from 0.28839\n",
            "393/393 [==============================] - 2s 6ms/step - loss: 1.3783 - acc: 0.2780 - val_loss: 1.3780 - val_acc: 0.2815\n",
            "Epoch 44/100\n",
            "385/393 [============================>.] - ETA: 0s - loss: 1.3776 - acc: 0.2795\n",
            "Epoch 00044: val_acc did not improve from 0.28839\n",
            "393/393 [==============================] - 2s 5ms/step - loss: 1.3778 - acc: 0.2782 - val_loss: 1.3785 - val_acc: 0.2754\n",
            "Epoch 45/100\n",
            "382/393 [============================>.] - ETA: 0s - loss: 1.3788 - acc: 0.2784\n",
            "Epoch 00045: val_acc did not improve from 0.28839\n",
            "393/393 [==============================] - 2s 5ms/step - loss: 1.3785 - acc: 0.2794 - val_loss: 1.3779 - val_acc: 0.2841\n",
            "Epoch 46/100\n",
            "387/393 [============================>.] - ETA: 0s - loss: 1.3772 - acc: 0.2802\n",
            "Epoch 00046: val_acc did not improve from 0.28839\n",
            "393/393 [==============================] - 2s 6ms/step - loss: 1.3775 - acc: 0.2797 - val_loss: 1.3784 - val_acc: 0.2804\n",
            "Epoch 47/100\n",
            "384/393 [============================>.] - ETA: 0s - loss: 1.3764 - acc: 0.2807\n",
            "Epoch 00047: val_acc did not improve from 0.28839\n",
            "393/393 [==============================] - 2s 5ms/step - loss: 1.3763 - acc: 0.2809 - val_loss: 1.3770 - val_acc: 0.2858\n",
            "Epoch 48/100\n",
            "390/393 [============================>.] - ETA: 0s - loss: 1.3771 - acc: 0.2772\n",
            "Epoch 00048: val_acc did not improve from 0.28839\n",
            "393/393 [==============================] - 2s 6ms/step - loss: 1.3772 - acc: 0.2771 - val_loss: 1.3772 - val_acc: 0.2821\n",
            "Epoch 49/100\n",
            "392/393 [============================>.] - ETA: 0s - loss: 1.3778 - acc: 0.2792\n",
            "Epoch 00049: val_acc did not improve from 0.28839\n",
            "393/393 [==============================] - 2s 5ms/step - loss: 1.3777 - acc: 0.2793 - val_loss: 1.3769 - val_acc: 0.2826\n",
            "Epoch 50/100\n",
            "382/393 [============================>.] - ETA: 0s - loss: 1.3762 - acc: 0.2810\n",
            "Epoch 00050: val_acc did not improve from 0.28839\n",
            "393/393 [==============================] - 2s 6ms/step - loss: 1.3762 - acc: 0.2816 - val_loss: 1.3780 - val_acc: 0.2838\n",
            "Epoch 51/100\n",
            "390/393 [============================>.] - ETA: 0s - loss: 1.3763 - acc: 0.2816\n",
            "Epoch 00051: val_acc did not improve from 0.28839\n",
            "393/393 [==============================] - 2s 5ms/step - loss: 1.3763 - acc: 0.2816 - val_loss: 1.3775 - val_acc: 0.2858\n",
            "Epoch 52/100\n",
            "389/393 [============================>.] - ETA: 0s - loss: 1.3769 - acc: 0.2810\n",
            "Epoch 00052: val_acc did not improve from 0.28839\n",
            "393/393 [==============================] - 2s 6ms/step - loss: 1.3769 - acc: 0.2812 - val_loss: 1.3765 - val_acc: 0.2860\n",
            "Epoch 53/100\n",
            "387/393 [============================>.] - ETA: 0s - loss: 1.3769 - acc: 0.2800\n",
            "Epoch 00053: val_acc did not improve from 0.28839\n",
            "393/393 [==============================] - 2s 5ms/step - loss: 1.3768 - acc: 0.2797 - val_loss: 1.3767 - val_acc: 0.2823\n",
            "Epoch 54/100\n",
            "384/393 [============================>.] - ETA: 0s - loss: 1.3769 - acc: 0.2785\n",
            "Epoch 00054: val_acc did not improve from 0.28839\n",
            "393/393 [==============================] - 2s 6ms/step - loss: 1.3769 - acc: 0.2785 - val_loss: 1.3776 - val_acc: 0.2800\n",
            "Epoch 55/100\n",
            "389/393 [============================>.] - ETA: 0s - loss: 1.3774 - acc: 0.2753\n",
            "Epoch 00055: val_acc did not improve from 0.28839\n",
            "393/393 [==============================] - 2s 6ms/step - loss: 1.3776 - acc: 0.2752 - val_loss: 1.3770 - val_acc: 0.2813\n",
            "Epoch 56/100\n",
            "383/393 [============================>.] - ETA: 0s - loss: 1.3771 - acc: 0.2791\n",
            "Epoch 00056: val_acc did not improve from 0.28839\n",
            "393/393 [==============================] - 2s 5ms/step - loss: 1.3772 - acc: 0.2797 - val_loss: 1.3763 - val_acc: 0.2854\n",
            "Epoch 57/100\n",
            "387/393 [============================>.] - ETA: 0s - loss: 1.3769 - acc: 0.2803\n",
            "Epoch 00057: val_acc did not improve from 0.28839\n",
            "393/393 [==============================] - 2s 5ms/step - loss: 1.3768 - acc: 0.2806 - val_loss: 1.3772 - val_acc: 0.2841\n",
            "Epoch 58/100\n",
            "392/393 [============================>.] - ETA: 0s - loss: 1.3769 - acc: 0.2816\n",
            "Epoch 00058: val_acc did not improve from 0.28839\n",
            "393/393 [==============================] - 2s 5ms/step - loss: 1.3769 - acc: 0.2816 - val_loss: 1.3769 - val_acc: 0.2854\n",
            "Epoch 59/100\n",
            "390/393 [============================>.] - ETA: 0s - loss: 1.3767 - acc: 0.2783\n",
            "Epoch 00059: val_acc did not improve from 0.28839\n",
            "393/393 [==============================] - 2s 6ms/step - loss: 1.3769 - acc: 0.2781 - val_loss: 1.3773 - val_acc: 0.2763\n",
            "Epoch 60/100\n",
            "390/393 [============================>.] - ETA: 0s - loss: 1.3752 - acc: 0.2815\n",
            "Epoch 00060: val_acc did not improve from 0.28839\n",
            "393/393 [==============================] - 2s 5ms/step - loss: 1.3753 - acc: 0.2806 - val_loss: 1.3781 - val_acc: 0.2823\n",
            "Epoch 61/100\n",
            "393/393 [==============================] - ETA: 0s - loss: 1.3759 - acc: 0.2792\n",
            "Epoch 00061: val_acc did not improve from 0.28839\n",
            "393/393 [==============================] - 3s 7ms/step - loss: 1.3759 - acc: 0.2792 - val_loss: 1.3772 - val_acc: 0.2815\n",
            "Epoch 62/100\n",
            "390/393 [============================>.] - ETA: 0s - loss: 1.3771 - acc: 0.2813\n",
            "Epoch 00062: val_acc did not improve from 0.28839\n",
            "393/393 [==============================] - 3s 8ms/step - loss: 1.3770 - acc: 0.2816 - val_loss: 1.3771 - val_acc: 0.2823\n",
            "Epoch 63/100\n",
            "381/393 [============================>.] - ETA: 0s - loss: 1.3743 - acc: 0.2812\n",
            "Epoch 00063: val_acc did not improve from 0.28839\n",
            "393/393 [==============================] - 2s 5ms/step - loss: 1.3745 - acc: 0.2815 - val_loss: 1.3768 - val_acc: 0.2845\n",
            "Epoch 64/100\n",
            "387/393 [============================>.] - ETA: 0s - loss: 1.3770 - acc: 0.2817\n",
            "Epoch 00064: val_acc did not improve from 0.28839\n",
            "393/393 [==============================] - 2s 6ms/step - loss: 1.3769 - acc: 0.2817 - val_loss: 1.3771 - val_acc: 0.2841\n",
            "Epoch 65/100\n",
            "390/393 [============================>.] - ETA: 0s - loss: 1.3764 - acc: 0.2792\n",
            "Epoch 00065: val_acc did not improve from 0.28839\n",
            "393/393 [==============================] - 2s 6ms/step - loss: 1.3765 - acc: 0.2791 - val_loss: 1.3775 - val_acc: 0.2821\n",
            "Epoch 66/100\n",
            "382/393 [============================>.] - ETA: 0s - loss: 1.3753 - acc: 0.2795\n",
            "Epoch 00066: val_acc did not improve from 0.28839\n",
            "393/393 [==============================] - 2s 5ms/step - loss: 1.3755 - acc: 0.2784 - val_loss: 1.3777 - val_acc: 0.2804\n",
            "Epoch 67/100\n",
            "385/393 [============================>.] - ETA: 0s - loss: 1.3776 - acc: 0.2800\n",
            "Epoch 00067: val_acc did not improve from 0.28839\n",
            "393/393 [==============================] - 2s 5ms/step - loss: 1.3774 - acc: 0.2803 - val_loss: 1.3772 - val_acc: 0.2804\n",
            "Epoch 68/100\n",
            "383/393 [============================>.] - ETA: 0s - loss: 1.3760 - acc: 0.2796\n",
            "Epoch 00068: val_acc did not improve from 0.28839\n",
            "393/393 [==============================] - 2s 5ms/step - loss: 1.3760 - acc: 0.2792 - val_loss: 1.3760 - val_acc: 0.2828\n",
            "Epoch 69/100\n",
            "388/393 [============================>.] - ETA: 0s - loss: 1.3773 - acc: 0.2785\n",
            "Epoch 00069: val_acc did not improve from 0.28839\n",
            "393/393 [==============================] - 2s 6ms/step - loss: 1.3774 - acc: 0.2777 - val_loss: 1.3774 - val_acc: 0.2782\n",
            "Epoch 70/100\n",
            "382/393 [============================>.] - ETA: 0s - loss: 1.3763 - acc: 0.2790\n",
            "Epoch 00070: val_acc did not improve from 0.28839\n",
            "393/393 [==============================] - 2s 5ms/step - loss: 1.3762 - acc: 0.2793 - val_loss: 1.3772 - val_acc: 0.2830\n",
            "Epoch 71/100\n",
            "389/393 [============================>.] - ETA: 0s - loss: 1.3764 - acc: 0.2804\n",
            "Epoch 00071: val_acc did not improve from 0.28839\n",
            "393/393 [==============================] - 2s 5ms/step - loss: 1.3763 - acc: 0.2802 - val_loss: 1.3762 - val_acc: 0.2836\n",
            "Epoch 72/100\n",
            "388/393 [============================>.] - ETA: 0s - loss: 1.3766 - acc: 0.2799\n",
            "Epoch 00072: val_acc did not improve from 0.28839\n",
            "393/393 [==============================] - 2s 5ms/step - loss: 1.3766 - acc: 0.2797 - val_loss: 1.3773 - val_acc: 0.2799\n",
            "Epoch 73/100\n",
            "386/393 [============================>.] - ETA: 0s - loss: 1.3769 - acc: 0.2787\n",
            "Epoch 00073: val_acc did not improve from 0.28839\n",
            "393/393 [==============================] - 2s 5ms/step - loss: 1.3767 - acc: 0.2781 - val_loss: 1.3770 - val_acc: 0.2771\n",
            "Epoch 74/100\n",
            "389/393 [============================>.] - ETA: 0s - loss: 1.3758 - acc: 0.2803\n",
            "Epoch 00074: val_acc did not improve from 0.28839\n",
            "393/393 [==============================] - 2s 5ms/step - loss: 1.3758 - acc: 0.2809 - val_loss: 1.3761 - val_acc: 0.2804\n",
            "Epoch 75/100\n",
            "383/393 [============================>.] - ETA: 0s - loss: 1.3763 - acc: 0.2803\n",
            "Epoch 00075: val_acc did not improve from 0.28839\n",
            "393/393 [==============================] - 2s 6ms/step - loss: 1.3760 - acc: 0.2812 - val_loss: 1.3763 - val_acc: 0.2823\n",
            "Epoch 76/100\n",
            "391/393 [============================>.] - ETA: 0s - loss: 1.3759 - acc: 0.2779\n",
            "Epoch 00076: val_acc did not improve from 0.28839\n",
            "393/393 [==============================] - 2s 5ms/step - loss: 1.3756 - acc: 0.2783 - val_loss: 1.3774 - val_acc: 0.2808\n",
            "Epoch 77/100\n",
            "391/393 [============================>.] - ETA: 0s - loss: 1.3744 - acc: 0.2808\n",
            "Epoch 00077: val_acc did not improve from 0.28839\n",
            "393/393 [==============================] - 2s 6ms/step - loss: 1.3745 - acc: 0.2805 - val_loss: 1.3764 - val_acc: 0.2802\n",
            "Epoch 78/100\n",
            "389/393 [============================>.] - ETA: 0s - loss: 1.3745 - acc: 0.2845\n",
            "Epoch 00078: val_acc did not improve from 0.28839\n",
            "393/393 [==============================] - 2s 6ms/step - loss: 1.3746 - acc: 0.2840 - val_loss: 1.3770 - val_acc: 0.2867\n",
            "Epoch 79/100\n",
            "390/393 [============================>.] - ETA: 0s - loss: 1.3757 - acc: 0.2805\n",
            "Epoch 00079: val_acc did not improve from 0.28839\n",
            "393/393 [==============================] - 2s 5ms/step - loss: 1.3758 - acc: 0.2802 - val_loss: 1.3761 - val_acc: 0.2806\n",
            "Epoch 80/100\n",
            "388/393 [============================>.] - ETA: 0s - loss: 1.3751 - acc: 0.2808\n",
            "Epoch 00080: val_acc did not improve from 0.28839\n",
            "393/393 [==============================] - 2s 6ms/step - loss: 1.3750 - acc: 0.2804 - val_loss: 1.3774 - val_acc: 0.2817\n",
            "Epoch 81/100\n",
            "384/393 [============================>.] - ETA: 0s - loss: 1.3753 - acc: 0.2819\n",
            "Epoch 00081: val_acc did not improve from 0.28839\n",
            "393/393 [==============================] - 2s 5ms/step - loss: 1.3753 - acc: 0.2821 - val_loss: 1.3795 - val_acc: 0.2760\n",
            "Epoch 82/100\n",
            "388/393 [============================>.] - ETA: 0s - loss: 1.3766 - acc: 0.2776\n",
            "Epoch 00082: val_acc did not improve from 0.28839\n",
            "393/393 [==============================] - 2s 5ms/step - loss: 1.3764 - acc: 0.2777 - val_loss: 1.3789 - val_acc: 0.2789\n",
            "Epoch 83/100\n",
            "380/393 [============================>.] - ETA: 0s - loss: 1.3761 - acc: 0.2803\n",
            "Epoch 00083: val_acc did not improve from 0.28839\n",
            "393/393 [==============================] - 2s 5ms/step - loss: 1.3765 - acc: 0.2806 - val_loss: 1.3759 - val_acc: 0.2834\n",
            "Epoch 84/100\n",
            "391/393 [============================>.] - ETA: 0s - loss: 1.3743 - acc: 0.2803\n",
            "Epoch 00084: val_acc did not improve from 0.28839\n",
            "393/393 [==============================] - 2s 5ms/step - loss: 1.3743 - acc: 0.2801 - val_loss: 1.3762 - val_acc: 0.2830\n",
            "Epoch 85/100\n",
            "380/393 [============================>.] - ETA: 0s - loss: 1.3752 - acc: 0.2819\n",
            "Epoch 00085: val_acc did not improve from 0.28839\n",
            "393/393 [==============================] - 2s 5ms/step - loss: 1.3753 - acc: 0.2818 - val_loss: 1.3772 - val_acc: 0.2834\n",
            "Epoch 86/100\n",
            "386/393 [============================>.] - ETA: 0s - loss: 1.3748 - acc: 0.2799\n",
            "Epoch 00086: val_acc did not improve from 0.28839\n",
            "393/393 [==============================] - 2s 5ms/step - loss: 1.3748 - acc: 0.2795 - val_loss: 1.3759 - val_acc: 0.2813\n",
            "Epoch 87/100\n",
            "392/393 [============================>.] - ETA: 0s - loss: 1.3761 - acc: 0.2815\n",
            "Epoch 00087: val_acc did not improve from 0.28839\n",
            "393/393 [==============================] - 2s 5ms/step - loss: 1.3760 - acc: 0.2817 - val_loss: 1.3769 - val_acc: 0.2836\n",
            "Epoch 88/100\n",
            "385/393 [============================>.] - ETA: 0s - loss: 1.3750 - acc: 0.2851\n",
            "Epoch 00088: val_acc did not improve from 0.28839\n",
            "393/393 [==============================] - 2s 5ms/step - loss: 1.3749 - acc: 0.2854 - val_loss: 1.3764 - val_acc: 0.2826\n",
            "Epoch 89/100\n",
            "393/393 [==============================] - ETA: 0s - loss: 1.3759 - acc: 0.2792\n",
            "Epoch 00089: val_acc did not improve from 0.28839\n",
            "393/393 [==============================] - 2s 6ms/step - loss: 1.3759 - acc: 0.2792 - val_loss: 1.3762 - val_acc: 0.2834\n",
            "Epoch 90/100\n",
            "387/393 [============================>.] - ETA: 0s - loss: 1.3758 - acc: 0.2799\n",
            "Epoch 00090: val_acc did not improve from 0.28839\n",
            "393/393 [==============================] - 2s 6ms/step - loss: 1.3760 - acc: 0.2798 - val_loss: 1.3763 - val_acc: 0.2845\n",
            "Epoch 91/100\n",
            "387/393 [============================>.] - ETA: 0s - loss: 1.3740 - acc: 0.2845\n",
            "Epoch 00091: val_acc did not improve from 0.28839\n",
            "393/393 [==============================] - 2s 5ms/step - loss: 1.3741 - acc: 0.2840 - val_loss: 1.3782 - val_acc: 0.2841\n",
            "Epoch 92/100\n",
            "393/393 [==============================] - ETA: 0s - loss: 1.3740 - acc: 0.2834\n",
            "Epoch 00092: val_acc did not improve from 0.28839\n",
            "393/393 [==============================] - 2s 5ms/step - loss: 1.3740 - acc: 0.2834 - val_loss: 1.3773 - val_acc: 0.2839\n",
            "Epoch 93/100\n",
            "386/393 [============================>.] - ETA: 0s - loss: 1.3734 - acc: 0.2811\n",
            "Epoch 00093: val_acc did not improve from 0.28839\n",
            "393/393 [==============================] - 2s 6ms/step - loss: 1.3734 - acc: 0.2813 - val_loss: 1.3783 - val_acc: 0.2732\n",
            "Epoch 94/100\n",
            "392/393 [============================>.] - ETA: 0s - loss: 1.3738 - acc: 0.2860\n",
            "Epoch 00094: val_acc did not improve from 0.28839\n",
            "393/393 [==============================] - 2s 5ms/step - loss: 1.3738 - acc: 0.2860 - val_loss: 1.3771 - val_acc: 0.2819\n",
            "Epoch 95/100\n",
            "384/393 [============================>.] - ETA: 0s - loss: 1.3760 - acc: 0.2830\n",
            "Epoch 00095: val_acc did not improve from 0.28839\n",
            "393/393 [==============================] - 2s 5ms/step - loss: 1.3759 - acc: 0.2834 - val_loss: 1.3770 - val_acc: 0.2841\n",
            "Epoch 96/100\n",
            "388/393 [============================>.] - ETA: 0s - loss: 1.3737 - acc: 0.2839\n",
            "Epoch 00096: val_acc did not improve from 0.28839\n",
            "393/393 [==============================] - 2s 5ms/step - loss: 1.3737 - acc: 0.2839 - val_loss: 1.3773 - val_acc: 0.2843\n",
            "Epoch 97/100\n",
            "381/393 [============================>.] - ETA: 0s - loss: 1.3750 - acc: 0.2797\n",
            "Epoch 00097: val_acc did not improve from 0.28839\n",
            "393/393 [==============================] - 2s 5ms/step - loss: 1.3754 - acc: 0.2789 - val_loss: 1.3773 - val_acc: 0.2819\n",
            "Epoch 98/100\n",
            "381/393 [============================>.] - ETA: 0s - loss: 1.3736 - acc: 0.2844\n",
            "Epoch 00098: val_acc did not improve from 0.28839\n",
            "393/393 [==============================] - 2s 6ms/step - loss: 1.3741 - acc: 0.2842 - val_loss: 1.3768 - val_acc: 0.2791\n",
            "Epoch 99/100\n",
            "383/393 [============================>.] - ETA: 0s - loss: 1.3757 - acc: 0.2784\n",
            "Epoch 00099: val_acc did not improve from 0.28839\n",
            "393/393 [==============================] - 2s 5ms/step - loss: 1.3758 - acc: 0.2789 - val_loss: 1.3774 - val_acc: 0.2735\n",
            "Epoch 100/100\n",
            "381/393 [============================>.] - ETA: 0s - loss: 1.3735 - acc: 0.2840\n",
            "Epoch 00100: val_acc did not improve from 0.28839\n",
            "393/393 [==============================] - 2s 6ms/step - loss: 1.3734 - acc: 0.2843 - val_loss: 1.3770 - val_acc: 0.2823\n"
          ]
        }
      ]
    },
    {
      "cell_type": "code",
      "source": [
        "#Plotting model history\n",
        "plt.plot(mlp_history.history['acc'])\n",
        "plt.plot(mlp_history.history['loss'])\n",
        "plt.legend(['Training Accuracy', 'Training Loss'])\n",
        "plt.title('Training History')\n",
        "plt.ylabel('Value')\n",
        "plt.xlabel('epochs')\n",
        "plt.show()\n",
        "print(\"Initial training accuracy is: \", mlp_history.history['acc'][0])\n",
        "print(\"Final training accuracy is: \", mlp_history.history['acc'][-1])\n",
        "\n",
        "print(\"Initial training loss is: \", mlp_history.history['loss'][0])\n",
        "print(\"Final training loss is: \", mlp_history.history['loss'][-1])"
      ],
      "metadata": {
        "id": "gIEEQrNcJ-H6",
        "colab": {
          "base_uri": "https://localhost:8080/",
          "height": 368
        },
        "outputId": "dc720c25-7169-404d-fc59-2af9418173d6"
      },
      "execution_count": 32,
      "outputs": [
        {
          "output_type": "display_data",
          "data": {
            "image/png": "[encoded data removed]",
            "text/plain": [
              "<Figure size 432x288 with 1 Axes>"
            ]
          },
          "metadata": {
            "needs_background": "light"
          }
        },
        {
          "output_type": "stream",
          "name": "stdout",
          "text": [
            "Initial training accuracy is:  0.2501194179058075\n",
            "Final training accuracy is:  0.28434962034225464\n",
            "Initial training loss is:  1.3912708759307861\n",
            "Final training loss is:  1.3733985424041748\n"
          ]
        }
      ]
    },
    {
      "cell_type": "code",
      "source": [
        "#Plotting model history\n",
        "plt.plot(mlp_history.history['val_acc'])\n",
        "plt.plot(mlp_history.history['val_loss'])\n",
        "plt.legend(['Valdation Accuracy', 'Validation Loss'])\n",
        "plt.title('Validation History')\n",
        "plt.ylabel('Value')\n",
        "plt.xlabel('epochs')\n",
        "plt.show()\n",
        "print(\"Initial validation accuracy is: \", mlp_history.history['val_acc'][0])\n",
        "print(\"Final validation accuracy is: \", mlp_history.history['val_acc'][-1])\n",
        "\n",
        "print(\"Initial validation loss is: \", mlp_history.history['val_loss'][0])\n",
        "print(\"Final validation loss is: \", mlp_history.history['val_loss'][-1])"
      ],
      "metadata": {
        "id": "k_PJ7DCPJ-Ky",
        "colab": {
          "base_uri": "https://localhost:8080/",
          "height": 368
        },
        "outputId": "2d331ad7-2749-4a44-c41a-9a61cc04a5c5"
      },
      "execution_count": 33,
      "outputs": [
        {
          "output_type": "display_data",
          "data": {
            "image/png": "[encoded data removed]",
            "text/plain": [
              "<Figure size 432x288 with 1 Axes>"
            ]
          },
          "metadata": {
            "needs_background": "light"
          }
        },
        {
          "output_type": "stream",
          "name": "stdout",
          "text": [
            "Initial validation accuracy is:  0.25571030378341675\n",
            "Final validation accuracy is:  0.2822655439376831\n",
            "Initial validation loss is:  1.3860995769500732\n",
            "Final validation loss is:  1.376991629600525\n"
          ]
        }
      ]
    },
    {
      "cell_type": "markdown",
      "source": [
        "## Feature Extract Model"
      ],
      "metadata": {
        "id": "nh1XjFUZGqc5"
      }
    },
    {
      "cell_type": "code",
      "source": [
        "x"
      ],
      "metadata": {
        "id": "N7leHZZz-nKM",
        "colab": {
          "base_uri": "https://localhost:8080/"
        },
        "outputId": "bba62307-c0f1-4a32-d58e-c1df771fb454"
      },
      "execution_count": 47,
      "outputs": [
        {
          "output_type": "execute_result",
          "data": {
            "text/plain": [
              "array([[[  9.02371982],\n",
              "        [  3.74238   ],\n",
              "        [ 12.72616877],\n",
              "        [  9.22876301]],\n",
              "\n",
              "       [[ 11.08615172],\n",
              "        [  7.2494996 ],\n",
              "        [ 21.52443057],\n",
              "        [ 14.28126423]],\n",
              "\n",
              "       [[ 13.1138586 ],\n",
              "        [  7.29578872],\n",
              "        [ 13.23728385],\n",
              "        [  6.3918014 ]],\n",
              "\n",
              "       ...,\n",
              "\n",
              "       [[ 76.35266874],\n",
              "        [104.22933575],\n",
              "        [ 49.61709483],\n",
              "        [ 66.43769832]],\n",
              "\n",
              "       [[ 73.28219835],\n",
              "        [ 67.17111916],\n",
              "        [ 14.156779  ],\n",
              "        [ 62.38203396]],\n",
              "\n",
              "       [[ 53.31600865],\n",
              "        [ 39.76976057],\n",
              "        [  8.86479039],\n",
              "        [  8.18965969]]])"
            ]
          },
          "metadata": {},
          "execution_count": 47
        }
      ]
    },
    {
      "cell_type": "code",
      "source": [
        "x = np.expand_dims(x, -1)"
      ],
      "metadata": {
        "id": "B5b7U6n5-nN8"
      },
      "execution_count": 35,
      "outputs": []
    },
    {
      "cell_type": "code",
      "source": [
        "x.shape"
      ],
      "metadata": {
        "id": "Ux0Q7CMR_L7e",
        "colab": {
          "base_uri": "https://localhost:8080/"
        },
        "outputId": "27b4ac1a-aad5-4615-9472-274fc09c46ff"
      },
      "execution_count": 48,
      "outputs": [
        {
          "output_type": "execute_result",
          "data": {
            "text/plain": [
              "(17947, 4, 1)"
            ]
          },
          "metadata": {},
          "execution_count": 48
        }
      ]
    },
    {
      "cell_type": "code",
      "source": [
        "dims_lstm_1 = 4\n",
        "dims_lstm_2 = 1"
      ],
      "metadata": {
        "id": "ZC8gMOXa_YT5"
      },
      "execution_count": 37,
      "outputs": []
    },
    {
      "cell_type": "code",
      "source": [
        "print(x.shape)\n",
        "print(y.shape)"
      ],
      "metadata": {
        "id": "IT77uo9SGy_4",
        "colab": {
          "base_uri": "https://localhost:8080/"
        },
        "outputId": "5f1bb5f3-97f7-4c57-a30c-21a77b4c163c"
      },
      "execution_count": 38,
      "outputs": [
        {
          "output_type": "stream",
          "name": "stdout",
          "text": [
            "(17947, 4, 1)\n",
            "(17947, 4)\n"
          ]
        }
      ]
    },
    {
      "cell_type": "code",
      "source": [
        "x_train,x_temp,y_train,y_temp = train_test_split(x,y,test_size=0.30)"
      ],
      "metadata": {
        "id": "ZpbLBj6IHMuk"
      },
      "execution_count": 49,
      "outputs": []
    },
    {
      "cell_type": "code",
      "source": [
        "inp_shape = (dims_lstm_1, dims_lstm_2)\n",
        "ip = tf.keras.Input(shape = inp_shape)\n",
        "conv1 = tf.keras.layers.Conv1D(16, 3, activation = 'relu')(ip)\n",
        "conv1 = tf.keras.layers.ZeroPadding1D(padding=1)(conv1)\n",
        "rel1 = tf.keras.layers.ReLU()(conv1)\n",
        "# maxpool1 = tf.keras.layers.MaxPooling1D()(conv1)\n",
        "skip1 = rel1\n",
        "conv2 = tf.keras.layers.Conv1D(16, 3, activation = 'relu')(rel1)\n",
        "conv2 = tf.keras.layers.ZeroPadding1D(padding=1)(conv2)\n",
        "rel2 = tf.keras.layers.ReLU()(conv2)\n",
        "# maxpool2 = tf.keras.layers.MaxPooling1D()(conv2)\n",
        "# maxpool2 = tf.keras.layers.ZeroPadding1D(padding=(44,43))(maxpool2)\n",
        "skip2 = rel2\n",
        "conv3 = tf.keras.layers.Conv1D(16, 3, activation = 'relu')(rel2)\n",
        "conv3 = tf.keras.layers.ZeroPadding1D(padding=1)(conv3)\n",
        "rel3 = tf.keras.layers.ReLU()(conv3)\n",
        "# conv4 = tf.keras.layers.Conv1D(32,)(conv3)\n",
        "# conv4 = tf.keras.layers.ZeroPadding1D(padding=1)(conv4)\n",
        "# conv5 = tf.keras.layers.Conv1D(32,)(conv4)\n",
        "# conv5 = tf.keras.layers.ZeroPadding1D(padding=1)(conv5)\n",
        "# maxpool5 = tf.keras.layers.MaxPooling1D()(conv5)\n",
        "# maxpool5 = tf.keras.layers.ZeroPadding1D(padding=(44, 43))(maxpool5)\n",
        "addlayer1 = tf.keras.layers.Add()([skip1, skip2, rel3])\n",
        "\n",
        "# lstm = tf.keras.layers.LSTM(16, return_sequences=True)(ip)\n",
        "flatten = tf.keras.layers.Flatten()(addlayer1)\n",
        "dense1 = tf.keras.layers.Dense(units = 32, kernel_initializer = 'random_normal')(flatten)\n",
        "# leakyRelu = tf.keras.layers.LeakyReLU()(dense1)\n",
        "# drop1 = tf.keras.layers.Dropout(.4)(dense1)\n",
        "dense2 = tf.keras.layers.Dense(units = 16, kernel_initializer = 'random_normal')(dense1)\n",
        "# leakyRelu2 = tf.keras.layers.LeakyReLU()(dense2)\n",
        "drop2 = tf.keras.layers.Dropout(.3)(dense2)\n",
        "out = tf.keras.layers.Dense(num_classes, activation = 'softmax')(drop2)\n",
        "\n",
        "ftExtract = tf.keras.Model(inputs = ip, outputs = out)\n",
        "ftExtract.summary()"
      ],
      "metadata": {
        "id": "LEwRFkm7FPDk",
        "colab": {
          "base_uri": "https://localhost:8080/"
        },
        "outputId": "2ed71e8d-13ba-4bd6-b023-a1d2852c373d"
      },
      "execution_count": 60,
      "outputs": [
        {
          "output_type": "stream",
          "name": "stdout",
          "text": [
            "Model: \"model_5\"\n",
            "__________________________________________________________________________________________________\n",
            " Layer (type)                   Output Shape         Param #     Connected to                     \n",
            "==================================================================================================\n",
            " input_6 (InputLayer)           [(None, 4, 1)]       0           []                               \n",
            "                                                                                                  \n",
            " conv1d_12 (Conv1D)             (None, 2, 16)        64          ['input_6[0][0]']                \n",
            "                                                                                                  \n",
            " zero_padding1d_12 (ZeroPadding  (None, 4, 16)       0           ['conv1d_12[0][0]']              \n",
            " 1D)                                                                                              \n",
            "                                                                                                  \n",
            " re_lu_10 (ReLU)                (None, 4, 16)        0           ['zero_padding1d_12[0][0]']      \n",
            "                                                                                                  \n",
            " conv1d_13 (Conv1D)             (None, 2, 16)        784         ['re_lu_10[0][0]']               \n",
            "                                                                                                  \n",
            " zero_padding1d_13 (ZeroPadding  (None, 4, 16)       0           ['conv1d_13[0][0]']              \n",
            " 1D)                                                                                              \n",
            "                                                                                                  \n",
            " re_lu_11 (ReLU)                (None, 4, 16)        0           ['zero_padding1d_13[0][0]']      \n",
            "                                                                                                  \n",
            " conv1d_14 (Conv1D)             (None, 2, 16)        784         ['re_lu_11[0][0]']               \n",
            "                                                                                                  \n",
            " zero_padding1d_14 (ZeroPadding  (None, 4, 16)       0           ['conv1d_14[0][0]']              \n",
            " 1D)                                                                                              \n",
            "                                                                                                  \n",
            " re_lu_12 (ReLU)                (None, 4, 16)        0           ['zero_padding1d_14[0][0]']      \n",
            "                                                                                                  \n",
            " add_4 (Add)                    (None, 4, 16)        0           ['re_lu_10[0][0]',               \n",
            "                                                                  're_lu_11[0][0]',               \n",
            "                                                                  're_lu_12[0][0]']               \n",
            "                                                                                                  \n",
            " flatten_4 (Flatten)            (None, 64)           0           ['add_4[0][0]']                  \n",
            "                                                                                                  \n",
            " dense_15 (Dense)               (None, 32)           2080        ['flatten_4[0][0]']              \n",
            "                                                                                                  \n",
            " dense_16 (Dense)               (None, 16)           528         ['dense_15[0][0]']               \n",
            "                                                                                                  \n",
            " dropout_5 (Dropout)            (None, 16)           0           ['dense_16[0][0]']               \n",
            "                                                                                                  \n",
            " dense_17 (Dense)               (None, 4)            68          ['dropout_5[0][0]']              \n",
            "                                                                                                  \n",
            "==================================================================================================\n",
            "Total params: 4,308\n",
            "Trainable params: 4,308\n",
            "Non-trainable params: 0\n",
            "__________________________________________________________________________________________________\n"
          ]
        }
      ]
    },
    {
      "cell_type": "code",
      "source": [
        "tf.keras.utils.plot_model(ftExtract)"
      ],
      "metadata": {
        "id": "VU_at0XoH3Ix",
        "colab": {
          "base_uri": "https://localhost:8080/",
          "height": 1000
        },
        "outputId": "dcad7ac4-bce8-4d2a-dc0b-1a9078c820f3"
      },
      "execution_count": 61,
      "outputs": [
        {
          "output_type": "execute_result",
          "data": {
            "image/png": "[encoded data removed]",
            "text/plain": [
              "<IPython.core.display.Image object>"
            ]
          },
          "metadata": {},
          "execution_count": 61
        }
      ]
    },
    {
      "cell_type": "code",
      "source": [
        "# Compiling the model\n",
        "fte_earlystop = EarlyStopping(patience = 15, min_delta = 0.001, monitor = 'val_acc')\n",
        "\n",
        "path = 'fte_checkpoint/checkpoint_{epoch:02d}';\n",
        "fte_checkpoint = ModelCheckpoint(filepath = path,\n",
        "                            verbose = 1,\n",
        "                            monitor = 'val_acc',\n",
        "                            save_freq = 'epoch',\n",
        "                            save_best_only = True,\n",
        "                            save_weights_only = True)\n",
        "\n",
        "ftExtract.compile(loss = 'categorical_crossentropy', metrics = ['acc'], optimizer = 'adam')"
      ],
      "metadata": {
        "id": "5ysMJkfg_W_t"
      },
      "execution_count": 62,
      "outputs": []
    },
    {
      "cell_type": "code",
      "source": [
        "ftExtract_history = ftExtract.fit(x_train, y_train,\n",
        "                      validation_data = (x_temp, y_temp),\n",
        "#                         steps_per_epoch= 449,\n",
        "                        batch_size = 32,\n",
        "                        epochs = 50,\n",
        "                        callbacks = [fte_checkpoint],\n",
        "                    ) #Fitting the model"
      ],
      "metadata": {
        "id": "Z0koEdXHGGMn",
        "colab": {
          "base_uri": "https://localhost:8080/"
        },
        "outputId": "8f360553-3de6-4fe9-f59e-cd616e18b10d"
      },
      "execution_count": 63,
      "outputs": [
        {
          "output_type": "stream",
          "name": "stdout",
          "text": [
            "Epoch 1/50\n",
            "393/393 [==============================] - ETA: 0s - loss: 1.4088 - acc: 0.2609\n",
            "Epoch 00001: val_acc improved from -inf to 0.27447, saving model to fte_checkpoint/checkpoint_01\n",
            "393/393 [==============================] - 4s 9ms/step - loss: 1.4088 - acc: 0.2609 - val_loss: 1.3871 - val_acc: 0.2745\n",
            "Epoch 2/50\n",
            "392/393 [============================>.] - ETA: 0s - loss: 1.3902 - acc: 0.2674\n",
            "Epoch 00002: val_acc improved from 0.27447 to 0.27762, saving model to fte_checkpoint/checkpoint_02\n",
            "393/393 [==============================] - 3s 8ms/step - loss: 1.3902 - acc: 0.2672 - val_loss: 1.3870 - val_acc: 0.2776\n",
            "Epoch 3/50\n",
            "393/393 [==============================] - ETA: 0s - loss: 1.3864 - acc: 0.2715\n",
            "Epoch 00003: val_acc did not improve from 0.27762\n",
            "393/393 [==============================] - 3s 7ms/step - loss: 1.3864 - acc: 0.2715 - val_loss: 1.3887 - val_acc: 0.2628\n",
            "Epoch 4/50\n",
            "388/393 [============================>.] - ETA: 0s - loss: 1.3850 - acc: 0.2693\n",
            "Epoch 00004: val_acc improved from 0.27762 to 0.27781, saving model to fte_checkpoint/checkpoint_04\n",
            "393/393 [==============================] - 3s 8ms/step - loss: 1.3848 - acc: 0.2699 - val_loss: 1.3841 - val_acc: 0.2778\n",
            "Epoch 5/50\n",
            "393/393 [==============================] - ETA: 0s - loss: 1.3836 - acc: 0.2758\n",
            "Epoch 00005: val_acc did not improve from 0.27781\n",
            "393/393 [==============================] - 3s 8ms/step - loss: 1.3836 - acc: 0.2758 - val_loss: 1.3833 - val_acc: 0.2761\n",
            "Epoch 6/50\n",
            "385/393 [============================>.] - ETA: 0s - loss: 1.3827 - acc: 0.2774\n",
            "Epoch 00006: val_acc did not improve from 0.27781\n",
            "393/393 [==============================] - 3s 8ms/step - loss: 1.3827 - acc: 0.2773 - val_loss: 1.3827 - val_acc: 0.2735\n",
            "Epoch 7/50\n",
            "391/393 [============================>.] - ETA: 0s - loss: 1.3807 - acc: 0.2825\n",
            "Epoch 00007: val_acc improved from 0.27781 to 0.28765, saving model to fte_checkpoint/checkpoint_07\n",
            "393/393 [==============================] - 3s 7ms/step - loss: 1.3808 - acc: 0.2824 - val_loss: 1.3804 - val_acc: 0.2877\n",
            "Epoch 8/50\n",
            "392/393 [============================>.] - ETA: 0s - loss: 1.3795 - acc: 0.2866\n",
            "Epoch 00008: val_acc did not improve from 0.28765\n",
            "393/393 [==============================] - 3s 8ms/step - loss: 1.3795 - acc: 0.2867 - val_loss: 1.3825 - val_acc: 0.2748\n",
            "Epoch 9/50\n",
            "385/393 [============================>.] - ETA: 0s - loss: 1.3785 - acc: 0.2888\n",
            "Epoch 00009: val_acc did not improve from 0.28765\n",
            "393/393 [==============================] - 3s 8ms/step - loss: 1.3788 - acc: 0.2890 - val_loss: 1.3853 - val_acc: 0.2791\n",
            "Epoch 10/50\n",
            "385/393 [============================>.] - ETA: 0s - loss: 1.3786 - acc: 0.2877\n",
            "Epoch 00010: val_acc did not improve from 0.28765\n",
            "393/393 [==============================] - 3s 8ms/step - loss: 1.3785 - acc: 0.2871 - val_loss: 1.3816 - val_acc: 0.2804\n",
            "Epoch 11/50\n",
            "387/393 [============================>.] - ETA: 0s - loss: 1.3772 - acc: 0.2850\n",
            "Epoch 00011: val_acc did not improve from 0.28765\n",
            "393/393 [==============================] - 3s 8ms/step - loss: 1.3768 - acc: 0.2857 - val_loss: 1.3806 - val_acc: 0.2828\n",
            "Epoch 12/50\n",
            "393/393 [==============================] - ETA: 0s - loss: 1.3768 - acc: 0.2891\n",
            "Epoch 00012: val_acc did not improve from 0.28765\n",
            "393/393 [==============================] - 3s 8ms/step - loss: 1.3768 - acc: 0.2891 - val_loss: 1.3806 - val_acc: 0.2795\n",
            "Epoch 13/50\n",
            "390/393 [============================>.] - ETA: 0s - loss: 1.3755 - acc: 0.2886\n",
            "Epoch 00013: val_acc did not improve from 0.28765\n",
            "393/393 [==============================] - 3s 7ms/step - loss: 1.3756 - acc: 0.2889 - val_loss: 1.3776 - val_acc: 0.2799\n",
            "Epoch 14/50\n",
            "390/393 [============================>.] - ETA: 0s - loss: 1.3755 - acc: 0.2884\n",
            "Epoch 00014: val_acc did not improve from 0.28765\n",
            "393/393 [==============================] - 3s 8ms/step - loss: 1.3753 - acc: 0.2887 - val_loss: 1.3791 - val_acc: 0.2847\n",
            "Epoch 15/50\n",
            "385/393 [============================>.] - ETA: 0s - loss: 1.3742 - acc: 0.2920\n",
            "Epoch 00015: val_acc did not improve from 0.28765\n",
            "393/393 [==============================] - 3s 9ms/step - loss: 1.3744 - acc: 0.2918 - val_loss: 1.3766 - val_acc: 0.2856\n",
            "Epoch 16/50\n",
            "390/393 [============================>.] - ETA: 0s - loss: 1.3732 - acc: 0.2919\n",
            "Epoch 00016: val_acc did not improve from 0.28765\n",
            "393/393 [==============================] - 3s 7ms/step - loss: 1.3735 - acc: 0.2911 - val_loss: 1.3754 - val_acc: 0.2865\n",
            "Epoch 17/50\n",
            "391/393 [============================>.] - ETA: 0s - loss: 1.3719 - acc: 0.2960\n",
            "Epoch 00017: val_acc did not improve from 0.28765\n",
            "393/393 [==============================] - 3s 8ms/step - loss: 1.3724 - acc: 0.2961 - val_loss: 1.3789 - val_acc: 0.2841\n",
            "Epoch 18/50\n",
            "386/393 [============================>.] - ETA: 0s - loss: 1.3728 - acc: 0.2950\n",
            "Epoch 00018: val_acc did not improve from 0.28765\n",
            "393/393 [==============================] - 4s 10ms/step - loss: 1.3733 - acc: 0.2949 - val_loss: 1.3760 - val_acc: 0.2845\n",
            "Epoch 19/50\n",
            "392/393 [============================>.] - ETA: 0s - loss: 1.3726 - acc: 0.2980\n",
            "Epoch 00019: val_acc improved from 0.28765 to 0.28988, saving model to fte_checkpoint/checkpoint_19\n",
            "393/393 [==============================] - 3s 8ms/step - loss: 1.3725 - acc: 0.2982 - val_loss: 1.3764 - val_acc: 0.2899\n",
            "Epoch 20/50\n",
            "390/393 [============================>.] - ETA: 0s - loss: 1.3719 - acc: 0.3002\n",
            "Epoch 00020: val_acc did not improve from 0.28988\n",
            "393/393 [==============================] - 3s 7ms/step - loss: 1.3719 - acc: 0.3003 - val_loss: 1.3783 - val_acc: 0.2808\n",
            "Epoch 21/50\n",
            "384/393 [============================>.] - ETA: 0s - loss: 1.3710 - acc: 0.2996\n",
            "Epoch 00021: val_acc did not improve from 0.28988\n",
            "393/393 [==============================] - 3s 8ms/step - loss: 1.3713 - acc: 0.2986 - val_loss: 1.3765 - val_acc: 0.2893\n",
            "Epoch 22/50\n",
            "386/393 [============================>.] - ETA: 0s - loss: 1.3713 - acc: 0.2994\n",
            "Epoch 00022: val_acc did not improve from 0.28988\n",
            "393/393 [==============================] - 3s 7ms/step - loss: 1.3717 - acc: 0.2984 - val_loss: 1.3772 - val_acc: 0.2882\n",
            "Epoch 23/50\n",
            "391/393 [============================>.] - ETA: 0s - loss: 1.3699 - acc: 0.2972\n",
            "Epoch 00023: val_acc did not improve from 0.28988\n",
            "393/393 [==============================] - 5s 12ms/step - loss: 1.3697 - acc: 0.2976 - val_loss: 1.3763 - val_acc: 0.2830\n",
            "Epoch 24/50\n",
            "390/393 [============================>.] - ETA: 0s - loss: 1.3701 - acc: 0.3038\n",
            "Epoch 00024: val_acc improved from 0.28988 to 0.29155, saving model to fte_checkpoint/checkpoint_24\n",
            "393/393 [==============================] - 3s 8ms/step - loss: 1.3699 - acc: 0.3042 - val_loss: 1.3740 - val_acc: 0.2916\n",
            "Epoch 25/50\n",
            "388/393 [============================>.] - ETA: 0s - loss: 1.3702 - acc: 0.3022\n",
            "Epoch 00025: val_acc improved from 0.29155 to 0.29656, saving model to fte_checkpoint/checkpoint_25\n",
            "393/393 [==============================] - 3s 8ms/step - loss: 1.3702 - acc: 0.3028 - val_loss: 1.3737 - val_acc: 0.2966\n",
            "Epoch 26/50\n",
            "390/393 [============================>.] - ETA: 0s - loss: 1.3690 - acc: 0.3027\n",
            "Epoch 00026: val_acc did not improve from 0.29656\n",
            "393/393 [==============================] - 3s 8ms/step - loss: 1.3692 - acc: 0.3026 - val_loss: 1.3752 - val_acc: 0.2873\n",
            "Epoch 27/50\n",
            "389/393 [============================>.] - ETA: 0s - loss: 1.3699 - acc: 0.3011\n",
            "Epoch 00027: val_acc did not improve from 0.29656\n",
            "393/393 [==============================] - 3s 7ms/step - loss: 1.3701 - acc: 0.3006 - val_loss: 1.3737 - val_acc: 0.2960\n",
            "Epoch 28/50\n",
            "385/393 [============================>.] - ETA: 0s - loss: 1.3685 - acc: 0.3055\n",
            "Epoch 00028: val_acc did not improve from 0.29656\n",
            "393/393 [==============================] - 3s 8ms/step - loss: 1.3687 - acc: 0.3060 - val_loss: 1.3756 - val_acc: 0.2945\n",
            "Epoch 29/50\n",
            "387/393 [============================>.] - ETA: 0s - loss: 1.3672 - acc: 0.3071\n",
            "Epoch 00029: val_acc did not improve from 0.29656\n",
            "393/393 [==============================] - 3s 8ms/step - loss: 1.3671 - acc: 0.3066 - val_loss: 1.3763 - val_acc: 0.2890\n",
            "Epoch 30/50\n",
            "386/393 [============================>.] - ETA: 0s - loss: 1.3677 - acc: 0.3025\n",
            "Epoch 00030: val_acc did not improve from 0.29656\n",
            "393/393 [==============================] - 3s 8ms/step - loss: 1.3678 - acc: 0.3020 - val_loss: 1.3750 - val_acc: 0.2917\n",
            "Epoch 31/50\n",
            "387/393 [============================>.] - ETA: 0s - loss: 1.3675 - acc: 0.3101\n",
            "Epoch 00031: val_acc did not improve from 0.29656\n",
            "393/393 [==============================] - 3s 8ms/step - loss: 1.3672 - acc: 0.3107 - val_loss: 1.3749 - val_acc: 0.2910\n",
            "Epoch 32/50\n",
            "390/393 [============================>.] - ETA: 0s - loss: 1.3679 - acc: 0.3062\n",
            "Epoch 00032: val_acc did not improve from 0.29656\n",
            "393/393 [==============================] - 3s 8ms/step - loss: 1.3678 - acc: 0.3060 - val_loss: 1.3741 - val_acc: 0.2893\n",
            "Epoch 33/50\n",
            "393/393 [==============================] - ETA: 0s - loss: 1.3675 - acc: 0.3039\n",
            "Epoch 00033: val_acc improved from 0.29656 to 0.29675, saving model to fte_checkpoint/checkpoint_33\n",
            "393/393 [==============================] - 3s 8ms/step - loss: 1.3675 - acc: 0.3039 - val_loss: 1.3728 - val_acc: 0.2968\n",
            "Epoch 34/50\n",
            "391/393 [============================>.] - ETA: 0s - loss: 1.3675 - acc: 0.3063\n",
            "Epoch 00034: val_acc did not improve from 0.29675\n",
            "393/393 [==============================] - 3s 8ms/step - loss: 1.3676 - acc: 0.3065 - val_loss: 1.3732 - val_acc: 0.2955\n",
            "Epoch 35/50\n",
            "385/393 [============================>.] - ETA: 0s - loss: 1.3655 - acc: 0.3062\n",
            "Epoch 00035: val_acc did not improve from 0.29675\n",
            "393/393 [==============================] - 3s 8ms/step - loss: 1.3654 - acc: 0.3056 - val_loss: 1.3795 - val_acc: 0.2893\n",
            "Epoch 36/50\n",
            "393/393 [==============================] - ETA: 0s - loss: 1.3666 - acc: 0.3080\n",
            "Epoch 00036: val_acc did not improve from 0.29675\n",
            "393/393 [==============================] - 3s 8ms/step - loss: 1.3666 - acc: 0.3080 - val_loss: 1.3746 - val_acc: 0.2925\n",
            "Epoch 37/50\n",
            "390/393 [============================>.] - ETA: 0s - loss: 1.3657 - acc: 0.3138\n",
            "Epoch 00037: val_acc did not improve from 0.29675\n",
            "393/393 [==============================] - 3s 8ms/step - loss: 1.3658 - acc: 0.3134 - val_loss: 1.3775 - val_acc: 0.2927\n",
            "Epoch 38/50\n",
            "392/393 [============================>.] - ETA: 0s - loss: 1.3649 - acc: 0.3068\n",
            "Epoch 00038: val_acc did not improve from 0.29675\n",
            "393/393 [==============================] - 3s 8ms/step - loss: 1.3650 - acc: 0.3067 - val_loss: 1.3758 - val_acc: 0.2895\n",
            "Epoch 39/50\n",
            "386/393 [============================>.] - ETA: 0s - loss: 1.3645 - acc: 0.3114\n",
            "Epoch 00039: val_acc improved from 0.29675 to 0.29694, saving model to fte_checkpoint/checkpoint_39\n",
            "393/393 [==============================] - 3s 8ms/step - loss: 1.3644 - acc: 0.3113 - val_loss: 1.3724 - val_acc: 0.2969\n",
            "Epoch 40/50\n",
            "387/393 [============================>.] - ETA: 0s - loss: 1.3649 - acc: 0.3137\n",
            "Epoch 00040: val_acc did not improve from 0.29694\n",
            "393/393 [==============================] - 3s 8ms/step - loss: 1.3648 - acc: 0.3141 - val_loss: 1.3758 - val_acc: 0.2841\n",
            "Epoch 41/50\n",
            "393/393 [==============================] - ETA: 0s - loss: 1.3647 - acc: 0.3079\n",
            "Epoch 00041: val_acc did not improve from 0.29694\n",
            "393/393 [==============================] - 3s 7ms/step - loss: 1.3647 - acc: 0.3079 - val_loss: 1.3737 - val_acc: 0.2934\n",
            "Epoch 42/50\n",
            "390/393 [============================>.] - ETA: 0s - loss: 1.3647 - acc: 0.3076\n",
            "Epoch 00042: val_acc did not improve from 0.29694\n",
            "393/393 [==============================] - 3s 8ms/step - loss: 1.3647 - acc: 0.3076 - val_loss: 1.3742 - val_acc: 0.2932\n",
            "Epoch 43/50\n",
            "391/393 [============================>.] - ETA: 0s - loss: 1.3633 - acc: 0.3130\n",
            "Epoch 00043: val_acc improved from 0.29694 to 0.29861, saving model to fte_checkpoint/checkpoint_43\n",
            "393/393 [==============================] - 3s 8ms/step - loss: 1.3633 - acc: 0.3127 - val_loss: 1.3726 - val_acc: 0.2986\n",
            "Epoch 44/50\n",
            "392/393 [============================>.] - ETA: 0s - loss: 1.3632 - acc: 0.3170\n",
            "Epoch 00044: val_acc did not improve from 0.29861\n",
            "393/393 [==============================] - 3s 8ms/step - loss: 1.3631 - acc: 0.3171 - val_loss: 1.3732 - val_acc: 0.2917\n",
            "Epoch 45/50\n",
            "390/393 [============================>.] - ETA: 0s - loss: 1.3634 - acc: 0.3096\n",
            "Epoch 00045: val_acc did not improve from 0.29861\n",
            "393/393 [==============================] - 3s 8ms/step - loss: 1.3636 - acc: 0.3094 - val_loss: 1.3765 - val_acc: 0.2940\n",
            "Epoch 46/50\n",
            "385/393 [============================>.] - ETA: 0s - loss: 1.3628 - acc: 0.3166\n",
            "Epoch 00046: val_acc did not improve from 0.29861\n",
            "393/393 [==============================] - 3s 8ms/step - loss: 1.3627 - acc: 0.3164 - val_loss: 1.3744 - val_acc: 0.2904\n",
            "Epoch 47/50\n",
            "392/393 [============================>.] - ETA: 0s - loss: 1.3623 - acc: 0.3090\n",
            "Epoch 00047: val_acc did not improve from 0.29861\n",
            "393/393 [==============================] - 3s 8ms/step - loss: 1.3623 - acc: 0.3092 - val_loss: 1.3826 - val_acc: 0.2942\n",
            "Epoch 48/50\n",
            "386/393 [============================>.] - ETA: 0s - loss: 1.3620 - acc: 0.3140\n",
            "Epoch 00048: val_acc did not improve from 0.29861\n",
            "393/393 [==============================] - 3s 8ms/step - loss: 1.3620 - acc: 0.3144 - val_loss: 1.3737 - val_acc: 0.2947\n",
            "Epoch 49/50\n",
            "390/393 [============================>.] - ETA: 0s - loss: 1.3621 - acc: 0.3125\n",
            "Epoch 00049: val_acc did not improve from 0.29861\n",
            "393/393 [==============================] - 3s 8ms/step - loss: 1.3621 - acc: 0.3126 - val_loss: 1.3755 - val_acc: 0.2960\n",
            "Epoch 50/50\n",
            "392/393 [============================>.] - ETA: 0s - loss: 1.3617 - acc: 0.3164\n",
            "Epoch 00050: val_acc did not improve from 0.29861\n",
            "393/393 [==============================] - 3s 8ms/step - loss: 1.3617 - acc: 0.3164 - val_loss: 1.3759 - val_acc: 0.2904\n"
          ]
        }
      ]
    },
    {
      "cell_type": "code",
      "source": [
        "#Plotting model history\n",
        "plt.plot(ftExtract_history.history['acc'])\n",
        "plt.plot(ftExtract_history.history['loss'])\n",
        "plt.legend(['Training Accuracy', 'Training Loss'])\n",
        "plt.title('Training History')\n",
        "plt.ylabel('Value')\n",
        "plt.xlabel('epochs')\n",
        "plt.show()\n",
        "print(\"Initial training accuracy with preprocessing is: \", ftExtract_history.history['acc'][0])\n",
        "print(\"Final training accuracy with preprocessing is: \", ftExtract_history.history['acc'][-1])\n",
        "\n",
        "print(\"Initial training loss with preprocessing is: \", ftExtract_history.history['loss'][0])\n",
        "print(\"Final training loss with preprocessing is: \", ftExtract_history.history['loss'][-1])"
      ],
      "metadata": {
        "id": "UDkdUXs9HeIX",
        "colab": {
          "base_uri": "https://localhost:8080/",
          "height": 368
        },
        "outputId": "01ca1c06-eaf3-4589-819a-ce3cc9395ace"
      },
      "execution_count": 64,
      "outputs": [
        {
          "output_type": "display_data",
          "data": {
            "image/png": "[encoded data removed]",
            "text/plain": [
              "<Figure size 432x288 with 1 Axes>"
            ]
          },
          "metadata": {
            "needs_background": "light"
          }
        },
        {
          "output_type": "stream",
          "name": "stdout",
          "text": [
            "Initial training accuracy with preprocessing is:  0.26086610555648804\n",
            "Final training accuracy with preprocessing is:  0.3164305090904236\n",
            "Initial training loss with preprocessing is:  1.408787727355957\n",
            "Final training loss with preprocessing is:  1.3616915941238403\n"
          ]
        }
      ]
    },
    {
      "cell_type": "code",
      "source": [
        "#Plotting model history\n",
        "plt.plot(ftExtract_history.history['val_acc'])\n",
        "plt.plot(ftExtract_history.history['val_loss'])\n",
        "plt.legend(['Valdation Accuracy', 'Validation Loss'])\n",
        "plt.title('Validation History')\n",
        "plt.ylabel('Value')\n",
        "plt.xlabel('epochs')\n",
        "plt.show()\n",
        "print(\"Initial Validation accuracy with preprocessing is: \", ftExtract_history.history['val_acc'][0])\n",
        "print(\"Final Validation accuracy with preprocessing is: \", ftExtract_history.history['val_acc'][-1])\n",
        "\n",
        "print(\"Initial Validation loss with preprocessing is: \", ftExtract_history.history['val_loss'][0])\n",
        "print(\"Final Validation loss with preprocessing is: \", ftExtract_history.history['val_loss'][-1])"
      ],
      "metadata": {
        "id": "Anw-jvRHGI-W",
        "colab": {
          "base_uri": "https://localhost:8080/",
          "height": 368
        },
        "outputId": "06767460-40f2-429b-edd7-2469d11022d6"
      },
      "execution_count": 65,
      "outputs": [
        {
          "output_type": "display_data",
          "data": {
            "image/png": "[encoded data removed]",
            "text/plain": [
              "<Figure size 432x288 with 1 Axes>"
            ]
          },
          "metadata": {
            "needs_background": "light"
          }
        },
        {
          "output_type": "stream",
          "name": "stdout",
          "text": [
            "Initial Validation accuracy with preprocessing is:  0.2744660973548889\n",
            "Final Validation accuracy with preprocessing is:  0.29043638706207275\n",
            "Initial Validation loss with preprocessing is:  1.3871111869812012\n",
            "Final Validation loss with preprocessing is:  1.3759102821350098\n"
          ]
        }
      ]
    },
    {
      "cell_type": "code",
      "source": [
        ""
      ],
      "metadata": {
        "id": "naIa4eOw4rNi"
      },
      "execution_count": null,
      "outputs": []
    }
  ]
}