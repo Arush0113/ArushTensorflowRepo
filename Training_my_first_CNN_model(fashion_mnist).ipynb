{
  "nbformat": 4,
  "nbformat_minor": 0,
  "metadata": {
    "kernelspec": {
      "display_name": "Python 3",
      "language": "python",
      "name": "python3"
    },
    "language_info": {
      "codemirror_mode": {
        "name": "ipython",
        "version": 3
      },
      "file_extension": ".py",
      "mimetype": "text/x-python",
      "name": "python",
      "nbconvert_exporter": "python",
      "pygments_lexer": "ipython3",
      "version": "3.7.1"
    },
    "colab": {
      "name": "Training my first CNN model(fashion mnist).ipynb",
      "provenance": [],
      "collapsed_sections": [],
      "include_colab_link": true
    }
  },
  "cells": [
    {
      "cell_type": "markdown",
      "metadata": {
        "id": "view-in-github",
        "colab_type": "text"
      },
      "source": [
        "<a href=\"https://colab.research.google.com/github/Arush0113/ArushTensorflowRepo/blob/main/Training_my_first_CNN_model(fashion_mnist).ipynb\" target=\"_parent\"><img src=\"https://colab.research.google.com/assets/colab-badge.svg\" alt=\"Open In Colab\"/></a>"
      ]
    },
    {
      "cell_type": "code",
      "metadata": {
        "colab": {
          "base_uri": "https://localhost:8080/"
        },
        "id": "nDem3IczKHFU",
        "outputId": "a7a706dd-e195-4433-f458-e6519ae4c927"
      },
      "source": [
        "import tensorflow as tf\n",
        "print(tf.__version__)"
      ],
      "execution_count": 9,
      "outputs": [
        {
          "output_type": "stream",
          "text": [
            "2.4.1\n"
          ],
          "name": "stdout"
        }
      ]
    },
    {
      "cell_type": "markdown",
      "metadata": {
        "id": "3i9M1S2IKHFd"
      },
      "source": [
        "# The Sequential model API"
      ]
    },
    {
      "cell_type": "markdown",
      "metadata": {
        "id": "ox6ufpuFKHFe"
      },
      "source": [
        " ## Coding tutorials\n",
        " #### [1. Building a Sequential model](#coding_tutorial_1)\n",
        " #### [2. Convolutional and pooling layers](#coding_tutorial_2)\n",
        " #### [3. The compile method](#coding_tutorial_3)\n",
        " #### [4. The fit method](#coding_tutorial_4)\n",
        " #### [5. The evaluate and predict methods](#coding_tutorial_5)"
      ]
    },
    {
      "cell_type": "markdown",
      "metadata": {
        "id": "-RoXkaUKKHFe"
      },
      "source": [
        "***\n",
        "<a id=\"coding_tutorial_1\"></a>\n",
        "## Building a Sequential model"
      ]
    },
    {
      "cell_type": "code",
      "metadata": {
        "id": "VORTO1gmKHFe"
      },
      "source": [
        "from tensorflow.keras.models import Sequential\n",
        "from tensorflow.keras.layers import Dense, Flatten, Softmax"
      ],
      "execution_count": 10,
      "outputs": []
    },
    {
      "cell_type": "markdown",
      "metadata": {
        "id": "ro_-yuNZKHFf"
      },
      "source": [
        "#### Build a feedforward neural network model"
      ]
    },
    {
      "cell_type": "code",
      "metadata": {
        "id": "I1qXsx0VKHFf"
      },
      "source": [
        "# Build the Sequential feedforward neural network model\n",
        "model = Sequential([\n",
        "                    Flatten(input_shape = (28, 28)),\n",
        "                    Dense(16, activation='relu', name = 'layer1'),\n",
        "                    Dense(16, activation= 'relu'),\n",
        "                    Dense(10),\n",
        "                    Softmax(),\n",
        "])\n"
      ],
      "execution_count": 24,
      "outputs": []
    },
    {
      "cell_type": "code",
      "metadata": {
        "colab": {
          "base_uri": "https://localhost:8080/"
        },
        "id": "oHy_8C58KHFf",
        "outputId": "e84d65e4-0893-4df9-841c-9f1b95552e99"
      },
      "source": [
        "# Print the model summary\n",
        "model.weights\n",
        "model.summary()"
      ],
      "execution_count": 25,
      "outputs": [
        {
          "output_type": "stream",
          "text": [
            "Model: \"sequential_3\"\n",
            "_________________________________________________________________\n",
            "Layer (type)                 Output Shape              Param #   \n",
            "=================================================================\n",
            "flatten_2 (Flatten)          (None, 784)               0         \n",
            "_________________________________________________________________\n",
            "layer1 (Dense)               (None, 16)                12560     \n",
            "_________________________________________________________________\n",
            "dense_4 (Dense)              (None, 16)                272       \n",
            "_________________________________________________________________\n",
            "dense_5 (Dense)              (None, 10)                170       \n",
            "_________________________________________________________________\n",
            "softmax_2 (Softmax)          (None, 10)                0         \n",
            "=================================================================\n",
            "Total params: 13,002\n",
            "Trainable params: 13,002\n",
            "Non-trainable params: 0\n",
            "_________________________________________________________________\n"
          ],
          "name": "stdout"
        }
      ]
    },
    {
      "cell_type": "markdown",
      "metadata": {
        "id": "p83eBoJJKHFg"
      },
      "source": [
        "***\n",
        "<a id=\"coding_tutorial_2\"></a>\n",
        "## Convolutional and pooling layers"
      ]
    },
    {
      "cell_type": "code",
      "metadata": {
        "id": "L5kcK3YQKHFg"
      },
      "source": [
        "from tensorflow.keras.models import Sequential\n",
        "from tensorflow.keras.layers import Dense, Flatten, Conv2D, MaxPooling2D"
      ],
      "execution_count": 67,
      "outputs": []
    },
    {
      "cell_type": "markdown",
      "metadata": {
        "id": "wYyvtlKBKHFg"
      },
      "source": [
        "#### Build a convolutional neural network model"
      ]
    },
    {
      "cell_type": "code",
      "metadata": {
        "id": "vGNkwKKpKHFh"
      },
      "source": [
        "# Build the Sequential convolutional neural network model\n",
        "model1 = Sequential([\n",
        "                     Conv2D(16, (3,3), strides=(1,1), padding= 'valid', input_shape = (28, 28, 1)),\n",
        "                     MaxPooling2D((3,3)),\n",
        "                     Flatten(),\n",
        "                     Dense(10, activation='softmax')\n",
        "])\n"
      ],
      "execution_count": 68,
      "outputs": []
    },
    {
      "cell_type": "code",
      "metadata": {
        "id": "9hyDRPVuKHFh"
      },
      "source": [
        "# Print the model summary\n",
        "\n"
      ],
      "execution_count": 69,
      "outputs": []
    },
    {
      "cell_type": "markdown",
      "metadata": {
        "id": "daE7SajdKHFh"
      },
      "source": [
        "***\n",
        "<a id=\"coding_tutorial_3\"></a>\n",
        "## The compile method"
      ]
    },
    {
      "cell_type": "markdown",
      "metadata": {
        "id": "x_J8MTvtKHFh"
      },
      "source": [
        "#### Compile the model"
      ]
    },
    {
      "cell_type": "code",
      "metadata": {
        "id": "2EtXsMpOKHFh"
      },
      "source": [
        "# Define the model optimizer, loss function and metrics\n",
        "\n",
        "# model.compile(\n",
        "#     optimizer = 'adam',\n",
        "#     loss = 'sparse_categorical_loss',\n",
        "#     metrics = ['accuracy']\n",
        "# )\n",
        "\n",
        "opt = tf.keras.optimizers.Adam(learning_rate=0.01)\n",
        "# loss = tf.keras.losses.CategoricalCrossentropy()\n",
        "acc = tf.keras.metrics.SparseCategoricalAccuracy()\n",
        "mae = tf.keras.metrics.MeanAbsoluteError()\n",
        "# print(acc)\n",
        "# print(mae)\n",
        "\n",
        "model1.compile(\n",
        "    optimizer = opt,\n",
        "    loss = 'sparse_categorical_crossentropy',\n",
        "    metrics = [acc, mae],  #IT DOESN'T SHOW ANY METRICS WHEN I TRY TO PRINT IT.\n",
        "    # metrics = ['accuracy', 'mae']\n",
        "    # metrics = 'accuracy'\n",
        ")"
      ],
      "execution_count": 70,
      "outputs": []
    },
    {
      "cell_type": "code",
      "metadata": {
        "id": "G9iejjYyKHFi",
        "colab": {
          "base_uri": "https://localhost:8080/"
        },
        "outputId": "abeba0f7-26e8-4417-9a9c-3cc8630f463c"
      },
      "source": [
        "# Print the resulting model attributes\n",
        "print(model1.optimizer)\n",
        "print(model1.loss)\n",
        "\n",
        "###########\n",
        "print(model1.metrics)  # I AM FACING A PROBLEM HERE BECAUSE I'M UNABLE TO PRINT THE METRICS IN MY MODEL.\n",
        "###########\n",
        "\n",
        "print(model1.optimizer.lr)\n"
      ],
      "execution_count": 72,
      "outputs": [
        {
          "output_type": "stream",
          "text": [
            "<tensorflow.python.keras.optimizer_v2.adam.Adam object at 0x7ff0d5d65f98>\n",
            "sparse_categorical_crossentropy\n",
            "[]\n",
            "<tf.Variable 'learning_rate:0' shape=() dtype=float32, numpy=0.01>\n"
          ],
          "name": "stdout"
        }
      ]
    },
    {
      "cell_type": "markdown",
      "metadata": {
        "id": "7Y4OEOzvKHFi"
      },
      "source": [
        "***\n",
        "<a id=\"coding_tutorial_4\"></a>\n",
        "## The fit method"
      ]
    },
    {
      "cell_type": "code",
      "metadata": {
        "id": "Z59SrmyEKHFi"
      },
      "source": [
        "from tensorflow.keras.preprocessing import image\n",
        "import matplotlib.pyplot as plt\n",
        "import numpy as np\n",
        "import pandas as pd"
      ],
      "execution_count": 73,
      "outputs": []
    },
    {
      "cell_type": "markdown",
      "metadata": {
        "id": "ux1rRxZAKHFi"
      },
      "source": [
        "#### Load the data"
      ]
    },
    {
      "cell_type": "code",
      "metadata": {
        "id": "HDl6GFzMKHFj"
      },
      "source": [
        "# Load the Fashion-MNIST dataset\n",
        "\n",
        "fashion_mnist_data = tf.keras.datasets.fashion_mnist\n",
        "(train_images, train_labels), (test_images, test_labels) = fashion_mnist_data.load_data()"
      ],
      "execution_count": 74,
      "outputs": []
    },
    {
      "cell_type": "code",
      "metadata": {
        "id": "IvSW3cqiKHFj",
        "colab": {
          "base_uri": "https://localhost:8080/"
        },
        "outputId": "5d71ffc4-47bb-40ed-d398-07c714067d2b"
      },
      "source": [
        "# Print the shape of the training data\n",
        "print(train_images.shape)\n",
        "print(test_images.shape)"
      ],
      "execution_count": 75,
      "outputs": [
        {
          "output_type": "stream",
          "text": [
            "(60000, 28, 28)\n",
            "(10000, 28, 28)\n"
          ],
          "name": "stdout"
        }
      ]
    },
    {
      "cell_type": "code",
      "metadata": {
        "id": "CVNRzcL8KHFj",
        "colab": {
          "base_uri": "https://localhost:8080/"
        },
        "outputId": "7d0e8f5b-3757-4375-ed80-44990bda20cf"
      },
      "source": [
        "# Define the labels\n",
        "\n",
        "labels = [\n",
        "    'T-shirt/top',\n",
        "    'Trouser',\n",
        "    'Pullover',\n",
        "    'Dress',\n",
        "    'Coat',\n",
        "    'Sandal',\n",
        "    'Shirt',\n",
        "    'Sneaker',\n",
        "    'Bag',\n",
        "    'Ankle boot'\n",
        "]\n",
        "\n",
        "train_labels[0]"
      ],
      "execution_count": 76,
      "outputs": [
        {
          "output_type": "execute_result",
          "data": {
            "text/plain": [
              "9"
            ]
          },
          "metadata": {
            "tags": []
          },
          "execution_count": 76
        }
      ]
    },
    {
      "cell_type": "code",
      "metadata": {
        "id": "Q5-o5LS4KHFj"
      },
      "source": [
        "# Rescale the image values so that they lie in between 0 and 1.\n",
        "train_images, test_images = train_images/255., test_images/255.\n"
      ],
      "execution_count": 77,
      "outputs": []
    },
    {
      "cell_type": "code",
      "metadata": {
        "id": "riUWnQ9lKHFj",
        "colab": {
          "base_uri": "https://localhost:8080/",
          "height": 811
        },
        "outputId": "1273e1fc-87c7-4f22-d6ce-13642677c8c4"
      },
      "source": [
        "# Display one of the images\n",
        "for i in range(3):\n",
        "  img = train_images[i, :, :]\n",
        "  plt.imshow(img)\n",
        "  plt.show()\n",
        "  print(f\"label: {labels[train_labels[i]]}\")\n"
      ],
      "execution_count": 78,
      "outputs": [
        {
          "output_type": "display_data",
          "data": {
            "image/png": "[encoded data removed]",
            "text/plain": [
              "<Figure size 432x288 with 1 Axes>"
            ]
          },
          "metadata": {
            "tags": [],
            "needs_background": "light"
          }
        },
        {
          "output_type": "stream",
          "text": [
            "label: Ankle boot\n"
          ],
          "name": "stdout"
        },
        {
          "output_type": "display_data",
          "data": {
            "image/png": "[encoded data removed]",
            "text/plain": [
              "<Figure size 432x288 with 1 Axes>"
            ]
          },
          "metadata": {
            "tags": [],
            "needs_background": "light"
          }
        },
        {
          "output_type": "stream",
          "text": [
            "label: T-shirt/top\n"
          ],
          "name": "stdout"
        },
        {
          "output_type": "display_data",
          "data": {
            "image/png": "[encoded data removed]",
            "text/plain": [
              "<Figure size 432x288 with 1 Axes>"
            ]
          },
          "metadata": {
            "tags": [],
            "needs_background": "light"
          }
        },
        {
          "output_type": "stream",
          "text": [
            "label: T-shirt/top\n"
          ],
          "name": "stdout"
        }
      ]
    },
    {
      "cell_type": "markdown",
      "metadata": {
        "id": "GLAnUUz7KHFk"
      },
      "source": [
        "#### Fit the model"
      ]
    },
    {
      "cell_type": "code",
      "metadata": {
        "id": "_FqMtgyVKHFk",
        "colab": {
          "base_uri": "https://localhost:8080/"
        },
        "outputId": "26b5e753-0335-4b91-c347-37d55353d3fd"
      },
      "source": [
        "# Fit the model\n",
        "\n",
        "history = model1.fit(train_images[..., np.newaxis], train_labels, epochs = 8, batch_size=256, verbose=2)\n",
        "history"
      ],
      "execution_count": 82,
      "outputs": [
        {
          "output_type": "stream",
          "text": [
            "Epoch 1/8\n",
            "235/235 - 10s - loss: 0.3136 - sparse_categorical_accuracy: 0.8878 - mean_absolute_error: 4.4200\n",
            "Epoch 2/8\n",
            "235/235 - 11s - loss: 0.3057 - sparse_categorical_accuracy: 0.8902 - mean_absolute_error: 4.4200\n",
            "Epoch 3/8\n",
            "235/235 - 10s - loss: 0.2965 - sparse_categorical_accuracy: 0.8929 - mean_absolute_error: 4.4200\n",
            "Epoch 4/8\n",
            "235/235 - 10s - loss: 0.2950 - sparse_categorical_accuracy: 0.8952 - mean_absolute_error: 4.4200\n",
            "Epoch 5/8\n",
            "235/235 - 11s - loss: 0.2866 - sparse_categorical_accuracy: 0.8975 - mean_absolute_error: 4.4200\n",
            "Epoch 6/8\n",
            "235/235 - 11s - loss: 0.2817 - sparse_categorical_accuracy: 0.8990 - mean_absolute_error: 4.4200\n",
            "Epoch 7/8\n",
            "235/235 - 10s - loss: 0.2773 - sparse_categorical_accuracy: 0.9002 - mean_absolute_error: 4.4200\n",
            "Epoch 8/8\n",
            "235/235 - 11s - loss: 0.2740 - sparse_categorical_accuracy: 0.9014 - mean_absolute_error: 4.4200\n"
          ],
          "name": "stdout"
        },
        {
          "output_type": "execute_result",
          "data": {
            "text/plain": [
              "<tensorflow.python.keras.callbacks.History at 0x7ff0d5ea6ac8>"
            ]
          },
          "metadata": {
            "tags": []
          },
          "execution_count": 82
        }
      ]
    },
    {
      "cell_type": "markdown",
      "metadata": {
        "id": "Wxm5eFwuKHFk"
      },
      "source": [
        "#### Plot training history"
      ]
    },
    {
      "cell_type": "code",
      "metadata": {
        "id": "dE1IABRcKHFk",
        "colab": {
          "base_uri": "https://localhost:8080/",
          "height": 284
        },
        "outputId": "3d1d8c13-c8ef-4350-ef5e-d39bd72862a9"
      },
      "source": [
        "# Load the history into a pandas Dataframe\n",
        "df = pd.DataFrame(history.history)\n",
        "df.head(10)\n",
        "\n"
      ],
      "execution_count": 83,
      "outputs": [
        {
          "output_type": "execute_result",
          "data": {
            "text/html": [
              "<div>\n",
              "<style scoped>\n",
              "    .dataframe tbody tr th:only-of-type {\n",
              "        vertical-align: middle;\n",
              "    }\n",
              "\n",
              "    .dataframe tbody tr th {\n",
              "        vertical-align: top;\n",
              "    }\n",
              "\n",
              "    .dataframe thead th {\n",
              "        text-align: right;\n",
              "    }\n",
              "</style>\n",
              "<table border=\"1\" class=\"dataframe\">\n",
              "  <thead>\n",
              "    <tr style=\"text-align: right;\">\n",
              "      <th></th>\n",
              "      <th>loss</th>\n",
              "      <th>sparse_categorical_accuracy</th>\n",
              "      <th>mean_absolute_error</th>\n",
              "    </tr>\n",
              "  </thead>\n",
              "  <tbody>\n",
              "    <tr>\n",
              "      <th>0</th>\n",
              "      <td>0.313610</td>\n",
              "      <td>0.887850</td>\n",
              "      <td>4.420000</td>\n",
              "    </tr>\n",
              "    <tr>\n",
              "      <th>1</th>\n",
              "      <td>0.305700</td>\n",
              "      <td>0.890167</td>\n",
              "      <td>4.420000</td>\n",
              "    </tr>\n",
              "    <tr>\n",
              "      <th>2</th>\n",
              "      <td>0.296538</td>\n",
              "      <td>0.892867</td>\n",
              "      <td>4.420001</td>\n",
              "    </tr>\n",
              "    <tr>\n",
              "      <th>3</th>\n",
              "      <td>0.294969</td>\n",
              "      <td>0.895150</td>\n",
              "      <td>4.420000</td>\n",
              "    </tr>\n",
              "    <tr>\n",
              "      <th>4</th>\n",
              "      <td>0.286580</td>\n",
              "      <td>0.897550</td>\n",
              "      <td>4.419999</td>\n",
              "    </tr>\n",
              "    <tr>\n",
              "      <th>5</th>\n",
              "      <td>0.281727</td>\n",
              "      <td>0.899017</td>\n",
              "      <td>4.420000</td>\n",
              "    </tr>\n",
              "    <tr>\n",
              "      <th>6</th>\n",
              "      <td>0.277299</td>\n",
              "      <td>0.900233</td>\n",
              "      <td>4.419999</td>\n",
              "    </tr>\n",
              "    <tr>\n",
              "      <th>7</th>\n",
              "      <td>0.273965</td>\n",
              "      <td>0.901417</td>\n",
              "      <td>4.420001</td>\n",
              "    </tr>\n",
              "  </tbody>\n",
              "</table>\n",
              "</div>"
            ],
            "text/plain": [
              "       loss  sparse_categorical_accuracy  mean_absolute_error\n",
              "0  0.313610                     0.887850             4.420000\n",
              "1  0.305700                     0.890167             4.420000\n",
              "2  0.296538                     0.892867             4.420001\n",
              "3  0.294969                     0.895150             4.420000\n",
              "4  0.286580                     0.897550             4.419999\n",
              "5  0.281727                     0.899017             4.420000\n",
              "6  0.277299                     0.900233             4.419999\n",
              "7  0.273965                     0.901417             4.420001"
            ]
          },
          "metadata": {
            "tags": []
          },
          "execution_count": 83
        }
      ]
    },
    {
      "cell_type": "code",
      "metadata": {
        "id": "6Z5EwPxCKHFl",
        "colab": {
          "base_uri": "https://localhost:8080/",
          "height": 312
        },
        "outputId": "8a200d28-261d-4166-ccb0-141e2e1af2bc"
      },
      "source": [
        "# Make a plot for the loss\n",
        "loss_plot = df.plot(y='loss', title='Loss vs. Epochs', legend=False)\n",
        "loss_plot.set(xlabel='Epochs', ylabel='Loss')"
      ],
      "execution_count": 84,
      "outputs": [
        {
          "output_type": "execute_result",
          "data": {
            "text/plain": [
              "[Text(0, 0.5, 'Loss'), Text(0.5, 0, 'Epochs')]"
            ]
          },
          "metadata": {
            "tags": []
          },
          "execution_count": 84
        },
        {
          "output_type": "display_data",
          "data": {
            "image/png": "[encoded data removed]",
            "text/plain": [
              "<Figure size 432x288 with 1 Axes>"
            ]
          },
          "metadata": {
            "tags": [],
            "needs_background": "light"
          }
        }
      ]
    },
    {
      "cell_type": "code",
      "metadata": {
        "id": "6hHJM2T4KHFm"
      },
      "source": [
        "# Make a plot for the accuracy\n",
        "\n"
      ],
      "execution_count": null,
      "outputs": []
    },
    {
      "cell_type": "code",
      "metadata": {
        "id": "0cCUCsqaKHFm"
      },
      "source": [
        "# Make a plot for the additional metric\n",
        "\n"
      ],
      "execution_count": null,
      "outputs": []
    },
    {
      "cell_type": "markdown",
      "metadata": {
        "id": "CZNenpFOKHFm"
      },
      "source": [
        "***\n",
        "<a id=\"coding_tutorial_5\"></a>\n",
        "## The evaluate and predict methods"
      ]
    },
    {
      "cell_type": "code",
      "metadata": {
        "id": "x3oiFslxKHFn"
      },
      "source": [
        "import matplotlib.pyplot as plt\n",
        "import numpy as np"
      ],
      "execution_count": null,
      "outputs": []
    },
    {
      "cell_type": "markdown",
      "metadata": {
        "id": "uksrkFPOKHFn"
      },
      "source": [
        "#### Evaluate the model on the test set"
      ]
    },
    {
      "cell_type": "code",
      "metadata": {
        "id": "-u_hv5pYKHFn"
      },
      "source": [
        "# Evaluate the model\n",
        "\n"
      ],
      "execution_count": null,
      "outputs": []
    },
    {
      "cell_type": "markdown",
      "metadata": {
        "id": "fpi6yy9VKHFo"
      },
      "source": [
        "#### Make predictions from the model"
      ]
    },
    {
      "cell_type": "code",
      "metadata": {
        "id": "OCgtx4E9KHFo"
      },
      "source": [
        "# Choose a random test image\n",
        "\n",
        "random_inx = np.random.choice(test_images.shape[0])\n",
        "\n",
        "test_image = test_images[random_inx]\n",
        "plt.imshow(test_image)\n",
        "plt.show()\n",
        "print(f\"Label: {labels[test_labels[random_inx]]}\")"
      ],
      "execution_count": null,
      "outputs": []
    },
    {
      "cell_type": "code",
      "metadata": {
        "id": "lxsmnsVOKHFo"
      },
      "source": [
        "# Get the model predictions\n",
        "\n"
      ],
      "execution_count": null,
      "outputs": []
    }
  ]
}