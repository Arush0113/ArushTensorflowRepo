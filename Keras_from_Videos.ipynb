{
  "nbformat": 4,
  "nbformat_minor": 0,
  "metadata": {
    "colab": {
      "name": "Keras_from_Videos.ipynb",
      "provenance": [],
      "authorship_tag": "ABX9TyMdzfyQhW89MaPqWPwvNu1Y",
      "include_colab_link": true
    },
    "kernelspec": {
      "name": "python3",
      "display_name": "Python 3"
    },
    "language_info": {
      "name": "python"
    }
  },
  "cells": [
    {
      "cell_type": "markdown",
      "metadata": {
        "id": "view-in-github",
        "colab_type": "text"
      },
      "source": [
        "<a href=\"https://colab.research.google.com/github/Arush0113/ArushTensorflowRepo/blob/main/Keras_from_Videos.ipynb\" target=\"_parent\"><img src=\"https://colab.research.google.com/assets/colab-badge.svg\" alt=\"Open In Colab\"/></a>"
      ]
    },
    {
      "cell_type": "code",
      "metadata": {
        "id": "DBzRCKpvp08j"
      },
      "source": [
        "from tensorflow.keras.layers import Input, Dense, Flatten, Conv1D, AveragePooling1D\n",
        "from tensorflow.keras.models import Model"
      ],
      "execution_count": 6,
      "outputs": []
    },
    {
      "cell_type": "code",
      "metadata": {
        "id": "kp4XMwwEqMiJ"
      },
      "source": [
        "inputs = Input(shape = (32,1))\n",
        "h = Conv1D(16, 5, activation='relu')(inputs)\n",
        "h = AveragePooling1D(3)(h)\n",
        "h = Flatten()(h)\n",
        "outputs = Dense(20, activation='sigmoid')(h)\n",
        "\n",
        "model = Model(inputs = inputs, outputs = outputs)\n",
        "\n",
        "model.compile(loss = 'binary_crossentropy', optimizer= 'rmsprop', metrics = 'accuracy')"
      ],
      "execution_count": 8,
      "outputs": []
    },
    {
      "cell_type": "code",
      "metadata": {
        "colab": {
          "base_uri": "https://localhost:8080/",
          "height": 204
        },
        "id": "MUY31g8TqhRe",
        "outputId": "161f1191-0002-4c74-b148-36b0fac4678c"
      },
      "source": [
        "history = model.fit(X_train, y_train, validation_data=[X_train, y_train], epochs = 20)\n",
        "test_loss, test_accuracy = model.evaluate(X_test, y_test)\n",
        "preds = model.predict(X_sample)"
      ],
      "execution_count": 11,
      "outputs": [
        {
          "output_type": "error",
          "ename": "NameError",
          "evalue": "ignored",
          "traceback": [
            "\u001b[0;31m---------------------------------------------------------------------------\u001b[0m",
            "\u001b[0;31mNameError\u001b[0m                                 Traceback (most recent call last)",
            "\u001b[0;32m<ipython-input-11-76fd2033199b>\u001b[0m in \u001b[0;36m<module>\u001b[0;34m()\u001b[0m\n\u001b[0;32m----> 1\u001b[0;31m \u001b[0mhistory\u001b[0m \u001b[0;34m=\u001b[0m \u001b[0mmodel\u001b[0m\u001b[0;34m.\u001b[0m\u001b[0mfit\u001b[0m\u001b[0;34m(\u001b[0m\u001b[0mX_train\u001b[0m\u001b[0;34m,\u001b[0m \u001b[0my_train\u001b[0m\u001b[0;34m,\u001b[0m \u001b[0mvalidation_data\u001b[0m\u001b[0;34m=\u001b[0m\u001b[0;34m[\u001b[0m\u001b[0mX_train\u001b[0m\u001b[0;34m,\u001b[0m \u001b[0my_train\u001b[0m\u001b[0;34m]\u001b[0m\u001b[0;34m,\u001b[0m \u001b[0mepochs\u001b[0m \u001b[0;34m=\u001b[0m \u001b[0;36m20\u001b[0m\u001b[0;34m)\u001b[0m\u001b[0;34m\u001b[0m\u001b[0;34m\u001b[0m\u001b[0m\n\u001b[0m\u001b[1;32m      2\u001b[0m \u001b[0mtest_loss\u001b[0m\u001b[0;34m,\u001b[0m \u001b[0mtest_accuracy\u001b[0m \u001b[0;34m=\u001b[0m \u001b[0mmodel\u001b[0m\u001b[0;34m.\u001b[0m\u001b[0mevaluate\u001b[0m\u001b[0;34m(\u001b[0m\u001b[0mX_test\u001b[0m\u001b[0;34m,\u001b[0m \u001b[0my_test\u001b[0m\u001b[0;34m)\u001b[0m\u001b[0;34m\u001b[0m\u001b[0;34m\u001b[0m\u001b[0m\n\u001b[1;32m      3\u001b[0m \u001b[0mpreds\u001b[0m \u001b[0;34m=\u001b[0m \u001b[0mmodel\u001b[0m\u001b[0;34m.\u001b[0m\u001b[0mpredict\u001b[0m\u001b[0;34m(\u001b[0m\u001b[0mX_sample\u001b[0m\u001b[0;34m)\u001b[0m\u001b[0;34m\u001b[0m\u001b[0;34m\u001b[0m\u001b[0m\n",
            "\u001b[0;31mNameError\u001b[0m: name 'X_train' is not defined"
          ]
        }
      ]
    },
    {
      "cell_type": "code",
      "metadata": {
        "id": "gIfkkJKXq3Vt"
      },
      "source": [
        ""
      ],
      "execution_count": null,
      "outputs": []
    },
    {
      "cell_type": "markdown",
      "metadata": {
        "id": "F4_4VQYMrkUs"
      },
      "source": [
        "# Multiple Inputs and Outputs"
      ]
    },
    {
      "cell_type": "code",
      "metadata": {
        "id": "_8zhyEVUrm1A"
      },
      "source": [
        "from tensorflow.keras.layers import Input, Dense, Flatten, Conv1D, AveragePooling1D, Concatenate\n",
        "from tensorflow.keras.models import Model"
      ],
      "execution_count": 14,
      "outputs": []
    },
    {
      "cell_type": "code",
      "metadata": {
        "id": "NGeS6cwwsKiV"
      },
      "source": [
        "inputs = Input(shape=(32,1))\n",
        "h = Conv1D(16, 5, activation = 'relu')(inputs)\n",
        "h = AveragePooling1D(3)(h)\n",
        "h = Flatten()(h)\n",
        "aux_inputs = Input(shape = (12,))\n",
        "h = Concatenate()([h, aux_inputs])\n",
        "outputs = Dense(20, activation = 'sigmoid')(h)\n",
        "aux_outputs = Dense(1, activation='linear')(h)\n",
        "\n",
        "model = Model(inputs = [inputs, aux_inputs], outputs = [outputs, aux_outputs])\n",
        "\n",
        "model.compile(loss = ['binary_crossentropy', 'mse'], loss_weights=[1,0.4], metrics = ['accuracy'])"
      ],
      "execution_count": 18,
      "outputs": []
    },
    {
      "cell_type": "code",
      "metadata": {
        "colab": {
          "base_uri": "https://localhost:8080/",
          "height": 168
        },
        "id": "kxXv2pROLDoB",
        "outputId": "84ec2152-67e5-493f-e95b-d08cef7664a3"
      },
      "source": [
        "history = model.fit([X_train, X_aux], [y_train, y_aux], validation_split=0.2, epochs = 20)"
      ],
      "execution_count": 19,
      "outputs": [
        {
          "output_type": "error",
          "ename": "NameError",
          "evalue": "ignored",
          "traceback": [
            "\u001b[0;31m---------------------------------------------------------------------------\u001b[0m",
            "\u001b[0;31mNameError\u001b[0m                                 Traceback (most recent call last)",
            "\u001b[0;32m<ipython-input-19-cb4d6a7bce19>\u001b[0m in \u001b[0;36m<module>\u001b[0;34m()\u001b[0m\n\u001b[0;32m----> 1\u001b[0;31m \u001b[0mhistory\u001b[0m \u001b[0;34m=\u001b[0m \u001b[0mmodel\u001b[0m\u001b[0;34m.\u001b[0m\u001b[0mfit\u001b[0m\u001b[0;34m(\u001b[0m\u001b[0;34m[\u001b[0m\u001b[0mX_train\u001b[0m\u001b[0;34m,\u001b[0m \u001b[0mX_aux\u001b[0m\u001b[0;34m]\u001b[0m\u001b[0;34m,\u001b[0m \u001b[0;34m[\u001b[0m\u001b[0my_train\u001b[0m\u001b[0;34m,\u001b[0m \u001b[0my_aux\u001b[0m\u001b[0;34m]\u001b[0m\u001b[0;34m,\u001b[0m \u001b[0mvalidation_split\u001b[0m\u001b[0;34m=\u001b[0m\u001b[0;36m0.2\u001b[0m\u001b[0;34m,\u001b[0m \u001b[0mepochs\u001b[0m \u001b[0;34m=\u001b[0m \u001b[0;36m20\u001b[0m\u001b[0;34m)\u001b[0m\u001b[0;34m\u001b[0m\u001b[0;34m\u001b[0m\u001b[0m\n\u001b[0m",
            "\u001b[0;31mNameError\u001b[0m: name 'X_train' is not defined"
          ]
        }
      ]
    },
    {
      "cell_type": "code",
      "metadata": {
        "id": "uQfpDfYGshUC"
      },
      "source": [
        "inputs = Input(shape=(32,1), name = 'inputs')\n",
        "h = Conv1D(16, 5, activation = 'relu')(inputs)\n",
        "h = AveragePooling1D(3)(h)\n",
        "h = Flatten()(h)\n",
        "aux_inputs = Input(shape = (12,), name='aux_inputs')\n",
        "h = Concatenate()([h, aux_inputs])\n",
        "outputs = Dense(20, activation = 'sigmoid', name = 'outputs')(h)\n",
        "aux_outputs = Dense(1, activation='linear', name = 'aux_outputs')(h)\n",
        "\n",
        "model = Model(inputs = [inputs, aux_inputs], outputs = [outputs, aux_outputs])\n",
        "\n",
        "model.compile(loss = {'outputs':'binary_crossentropy', 'aux_outputs':'mse'}, loss_weights={'outputs':1, 'aux_outputs':0.4}, metrics = ['accuracy'])"
      ],
      "execution_count": 20,
      "outputs": []
    },
    {
      "cell_type": "code",
      "metadata": {
        "colab": {
          "base_uri": "https://localhost:8080/",
          "height": 221
        },
        "id": "msfvutmwK5gD",
        "outputId": "801b0dce-c9ed-43b1-97a0-d4028563aac9"
      },
      "source": [
        "history = model.fit({'inputs':X_train, 'aux_inputs':X_aux},\n",
        "                    {'outputs':y_train, 'aux_outputs':y_aux},\n",
        "                    validation_split = 0.2,\n",
        "                    epochs = 20)"
      ],
      "execution_count": 21,
      "outputs": [
        {
          "output_type": "error",
          "ename": "NameError",
          "evalue": "ignored",
          "traceback": [
            "\u001b[0;31m---------------------------------------------------------------------------\u001b[0m",
            "\u001b[0;31mNameError\u001b[0m                                 Traceback (most recent call last)",
            "\u001b[0;32m<ipython-input-21-ccb7a75607f8>\u001b[0m in \u001b[0;36m<module>\u001b[0;34m()\u001b[0m\n\u001b[0;32m----> 1\u001b[0;31m history = model.fit({'inputs':X_train, 'aux_inputs':X_aux},\n\u001b[0m\u001b[1;32m      2\u001b[0m                     \u001b[0;34m{\u001b[0m\u001b[0;34m'outputs'\u001b[0m\u001b[0;34m:\u001b[0m\u001b[0my_train\u001b[0m\u001b[0;34m,\u001b[0m \u001b[0;34m'aux_outputs'\u001b[0m\u001b[0;34m:\u001b[0m\u001b[0my_aux\u001b[0m\u001b[0;34m}\u001b[0m\u001b[0;34m,\u001b[0m\u001b[0;34m\u001b[0m\u001b[0;34m\u001b[0m\u001b[0m\n\u001b[1;32m      3\u001b[0m                     \u001b[0mvalidation_split\u001b[0m \u001b[0;34m=\u001b[0m \u001b[0;36m0.2\u001b[0m\u001b[0;34m,\u001b[0m\u001b[0;34m\u001b[0m\u001b[0;34m\u001b[0m\u001b[0m\n\u001b[1;32m      4\u001b[0m                     epochs = 20)\n",
            "\u001b[0;31mNameError\u001b[0m: name 'X_train' is not defined"
          ]
        }
      ]
    },
    {
      "cell_type": "code",
      "metadata": {
        "id": "xd38XFNqLIDE"
      },
      "source": [
        ""
      ],
      "execution_count": null,
      "outputs": []
    }
  ]
}