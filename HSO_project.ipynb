{
  "nbformat": 4,
  "nbformat_minor": 0,
  "metadata": {
    "colab": {
      "name": "HSO_project.ipynb",
      "provenance": [],
      "collapsed_sections": [],
      "include_colab_link": true
    },
    "kernelspec": {
      "name": "python3",
      "display_name": "Python 3"
    }
  },
  "cells": [
    {
      "cell_type": "markdown",
      "metadata": {
        "id": "view-in-github",
        "colab_type": "text"
      },
      "source": [
        "<a href=\"https://colab.research.google.com/github/Arush0113/ArushTensorflowRepo/blob/main/HSO_project.ipynb\" target=\"_parent\"><img src=\"https://colab.research.google.com/assets/colab-badge.svg\" alt=\"Open In Colab\"/></a>"
      ]
    },
    {
      "cell_type": "code",
      "metadata": {
        "id": "54nfstZzZUdZ"
      },
      "source": [
        "import numpy as np\r\n",
        "import pandas as pd\r\n",
        "import matplotlib.pyplot as plt"
      ],
      "execution_count": null,
      "outputs": []
    },
    {
      "cell_type": "code",
      "metadata": {
        "colab": {
          "resources": {
            "http://localhost:8080/nbextensions/google.colab/files.js": {
              "data": "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",
              "ok": true,
              "headers": [
                [
                  "content-type",
                  "application/javascript"
                ]
              ],
              "status": 200,
              "status_text": ""
            }
          },
          "base_uri": "https://localhost:8080/",
          "height": 73
        },
        "id": "VCFF3ayVk9kO",
        "outputId": "94670eda-33ba-4015-a097-3a9d8b246349"
      },
      "source": [
        "from google.colab import files\r\n",
        "uploaded = files.upload()"
      ],
      "execution_count": null,
      "outputs": [
        {
          "output_type": "display_data",
          "data": {
            "text/html": [
              "\n",
              "     <input type=\"file\" id=\"files-a2a68c6f-a8cb-4784-bd17-73d576014613\" name=\"files[]\" multiple disabled\n",
              "        style=\"border:none\" />\n",
              "     <output id=\"result-a2a68c6f-a8cb-4784-bd17-73d576014613\">\n",
              "      Upload widget is only available when the cell has been executed in the\n",
              "      current browser session. Please rerun this cell to enable.\n",
              "      </output>\n",
              "      <script src=\"/nbextensions/google.colab/files.js\"></script> "
            ],
            "text/plain": [
              "<IPython.core.display.HTML object>"
            ]
          },
          "metadata": {
            "tags": []
          }
        },
        {
          "output_type": "stream",
          "text": [
            "Saving table1_hso.txt to table1_hso (3).txt\n"
          ],
          "name": "stdout"
        }
      ]
    },
    {
      "cell_type": "code",
      "metadata": {
        "colab": {
          "base_uri": "https://localhost:8080/",
          "height": 554
        },
        "id": "iAbSkQ9HppRa",
        "outputId": "ffae0d95-c570-4e10-da62-0631fe388a04"
      },
      "source": [
        "dataframe1 = pd.read_csv(\"table1_hso.txt\") \r\n",
        "  \r\n",
        "# storing this dataframe in a csv file \r\n",
        "dataframe1.to_csv('table1_hso.csv',  \r\n",
        "                  index = None)"
      ],
      "execution_count": null,
      "outputs": [
        {
          "output_type": "error",
          "ename": "ParserError",
          "evalue": "ignored",
          "traceback": [
            "\u001b[0;31m---------------------------------------------------------------------------\u001b[0m",
            "\u001b[0;31mParserError\u001b[0m                               Traceback (most recent call last)",
            "\u001b[0;32m<ipython-input-26-5f4b44ea4044>\u001b[0m in \u001b[0;36m<module>\u001b[0;34m()\u001b[0m\n\u001b[0;32m----> 1\u001b[0;31m \u001b[0mdataframe1\u001b[0m \u001b[0;34m=\u001b[0m \u001b[0mpd\u001b[0m\u001b[0;34m.\u001b[0m\u001b[0mread_csv\u001b[0m\u001b[0;34m(\u001b[0m\u001b[0;34m\"table1_hso.txt\"\u001b[0m\u001b[0;34m)\u001b[0m\u001b[0;34m\u001b[0m\u001b[0;34m\u001b[0m\u001b[0m\n\u001b[0m\u001b[1;32m      2\u001b[0m \u001b[0;34m\u001b[0m\u001b[0m\n\u001b[1;32m      3\u001b[0m \u001b[0;31m# storing this dataframe in a csv file\u001b[0m\u001b[0;34m\u001b[0m\u001b[0;34m\u001b[0m\u001b[0;34m\u001b[0m\u001b[0m\n\u001b[1;32m      4\u001b[0m dataframe1.to_csv('table1_hso.csv',  \n\u001b[1;32m      5\u001b[0m                   index = None)\n",
            "\u001b[0;32m/usr/local/lib/python3.7/dist-packages/pandas/io/parsers.py\u001b[0m in \u001b[0;36mread_csv\u001b[0;34m(filepath_or_buffer, sep, delimiter, header, names, index_col, usecols, squeeze, prefix, mangle_dupe_cols, dtype, engine, converters, true_values, false_values, skipinitialspace, skiprows, skipfooter, nrows, na_values, keep_default_na, na_filter, verbose, skip_blank_lines, parse_dates, infer_datetime_format, keep_date_col, date_parser, dayfirst, cache_dates, iterator, chunksize, compression, thousands, decimal, lineterminator, quotechar, quoting, doublequote, escapechar, comment, encoding, dialect, error_bad_lines, warn_bad_lines, delim_whitespace, low_memory, memory_map, float_precision)\u001b[0m\n\u001b[1;32m    686\u001b[0m     )\n\u001b[1;32m    687\u001b[0m \u001b[0;34m\u001b[0m\u001b[0m\n\u001b[0;32m--> 688\u001b[0;31m     \u001b[0;32mreturn\u001b[0m \u001b[0m_read\u001b[0m\u001b[0;34m(\u001b[0m\u001b[0mfilepath_or_buffer\u001b[0m\u001b[0;34m,\u001b[0m \u001b[0mkwds\u001b[0m\u001b[0;34m)\u001b[0m\u001b[0;34m\u001b[0m\u001b[0;34m\u001b[0m\u001b[0m\n\u001b[0m\u001b[1;32m    689\u001b[0m \u001b[0;34m\u001b[0m\u001b[0m\n\u001b[1;32m    690\u001b[0m \u001b[0;34m\u001b[0m\u001b[0m\n",
            "\u001b[0;32m/usr/local/lib/python3.7/dist-packages/pandas/io/parsers.py\u001b[0m in \u001b[0;36m_read\u001b[0;34m(filepath_or_buffer, kwds)\u001b[0m\n\u001b[1;32m    458\u001b[0m \u001b[0;34m\u001b[0m\u001b[0m\n\u001b[1;32m    459\u001b[0m     \u001b[0;32mtry\u001b[0m\u001b[0;34m:\u001b[0m\u001b[0;34m\u001b[0m\u001b[0;34m\u001b[0m\u001b[0m\n\u001b[0;32m--> 460\u001b[0;31m         \u001b[0mdata\u001b[0m \u001b[0;34m=\u001b[0m \u001b[0mparser\u001b[0m\u001b[0;34m.\u001b[0m\u001b[0mread\u001b[0m\u001b[0;34m(\u001b[0m\u001b[0mnrows\u001b[0m\u001b[0;34m)\u001b[0m\u001b[0;34m\u001b[0m\u001b[0;34m\u001b[0m\u001b[0m\n\u001b[0m\u001b[1;32m    461\u001b[0m     \u001b[0;32mfinally\u001b[0m\u001b[0;34m:\u001b[0m\u001b[0;34m\u001b[0m\u001b[0;34m\u001b[0m\u001b[0m\n\u001b[1;32m    462\u001b[0m         \u001b[0mparser\u001b[0m\u001b[0;34m.\u001b[0m\u001b[0mclose\u001b[0m\u001b[0;34m(\u001b[0m\u001b[0;34m)\u001b[0m\u001b[0;34m\u001b[0m\u001b[0;34m\u001b[0m\u001b[0m\n",
            "\u001b[0;32m/usr/local/lib/python3.7/dist-packages/pandas/io/parsers.py\u001b[0m in \u001b[0;36mread\u001b[0;34m(self, nrows)\u001b[0m\n\u001b[1;32m   1196\u001b[0m     \u001b[0;32mdef\u001b[0m \u001b[0mread\u001b[0m\u001b[0;34m(\u001b[0m\u001b[0mself\u001b[0m\u001b[0;34m,\u001b[0m \u001b[0mnrows\u001b[0m\u001b[0;34m=\u001b[0m\u001b[0;32mNone\u001b[0m\u001b[0;34m)\u001b[0m\u001b[0;34m:\u001b[0m\u001b[0;34m\u001b[0m\u001b[0;34m\u001b[0m\u001b[0m\n\u001b[1;32m   1197\u001b[0m         \u001b[0mnrows\u001b[0m \u001b[0;34m=\u001b[0m \u001b[0m_validate_integer\u001b[0m\u001b[0;34m(\u001b[0m\u001b[0;34m\"nrows\"\u001b[0m\u001b[0;34m,\u001b[0m \u001b[0mnrows\u001b[0m\u001b[0;34m)\u001b[0m\u001b[0;34m\u001b[0m\u001b[0;34m\u001b[0m\u001b[0m\n\u001b[0;32m-> 1198\u001b[0;31m         \u001b[0mret\u001b[0m \u001b[0;34m=\u001b[0m \u001b[0mself\u001b[0m\u001b[0;34m.\u001b[0m\u001b[0m_engine\u001b[0m\u001b[0;34m.\u001b[0m\u001b[0mread\u001b[0m\u001b[0;34m(\u001b[0m\u001b[0mnrows\u001b[0m\u001b[0;34m)\u001b[0m\u001b[0;34m\u001b[0m\u001b[0;34m\u001b[0m\u001b[0m\n\u001b[0m\u001b[1;32m   1199\u001b[0m \u001b[0;34m\u001b[0m\u001b[0m\n\u001b[1;32m   1200\u001b[0m         \u001b[0;31m# May alter columns / col_dict\u001b[0m\u001b[0;34m\u001b[0m\u001b[0;34m\u001b[0m\u001b[0;34m\u001b[0m\u001b[0m\n",
            "\u001b[0;32m/usr/local/lib/python3.7/dist-packages/pandas/io/parsers.py\u001b[0m in \u001b[0;36mread\u001b[0;34m(self, nrows)\u001b[0m\n\u001b[1;32m   2155\u001b[0m     \u001b[0;32mdef\u001b[0m \u001b[0mread\u001b[0m\u001b[0;34m(\u001b[0m\u001b[0mself\u001b[0m\u001b[0;34m,\u001b[0m \u001b[0mnrows\u001b[0m\u001b[0;34m=\u001b[0m\u001b[0;32mNone\u001b[0m\u001b[0;34m)\u001b[0m\u001b[0;34m:\u001b[0m\u001b[0;34m\u001b[0m\u001b[0;34m\u001b[0m\u001b[0m\n\u001b[1;32m   2156\u001b[0m         \u001b[0;32mtry\u001b[0m\u001b[0;34m:\u001b[0m\u001b[0;34m\u001b[0m\u001b[0;34m\u001b[0m\u001b[0m\n\u001b[0;32m-> 2157\u001b[0;31m             \u001b[0mdata\u001b[0m \u001b[0;34m=\u001b[0m \u001b[0mself\u001b[0m\u001b[0;34m.\u001b[0m\u001b[0m_reader\u001b[0m\u001b[0;34m.\u001b[0m\u001b[0mread\u001b[0m\u001b[0;34m(\u001b[0m\u001b[0mnrows\u001b[0m\u001b[0;34m)\u001b[0m\u001b[0;34m\u001b[0m\u001b[0;34m\u001b[0m\u001b[0m\n\u001b[0m\u001b[1;32m   2158\u001b[0m         \u001b[0;32mexcept\u001b[0m \u001b[0mStopIteration\u001b[0m\u001b[0;34m:\u001b[0m\u001b[0;34m\u001b[0m\u001b[0;34m\u001b[0m\u001b[0m\n\u001b[1;32m   2159\u001b[0m             \u001b[0;32mif\u001b[0m \u001b[0mself\u001b[0m\u001b[0;34m.\u001b[0m\u001b[0m_first_chunk\u001b[0m\u001b[0;34m:\u001b[0m\u001b[0;34m\u001b[0m\u001b[0;34m\u001b[0m\u001b[0m\n",
            "\u001b[0;32mpandas/_libs/parsers.pyx\u001b[0m in \u001b[0;36mpandas._libs.parsers.TextReader.read\u001b[0;34m()\u001b[0m\n",
            "\u001b[0;32mpandas/_libs/parsers.pyx\u001b[0m in \u001b[0;36mpandas._libs.parsers.TextReader._read_low_memory\u001b[0;34m()\u001b[0m\n",
            "\u001b[0;32mpandas/_libs/parsers.pyx\u001b[0m in \u001b[0;36mpandas._libs.parsers.TextReader._read_rows\u001b[0;34m()\u001b[0m\n",
            "\u001b[0;32mpandas/_libs/parsers.pyx\u001b[0m in \u001b[0;36mpandas._libs.parsers.TextReader._tokenize_rows\u001b[0;34m()\u001b[0m\n",
            "\u001b[0;32mpandas/_libs/parsers.pyx\u001b[0m in \u001b[0;36mpandas._libs.parsers.raise_parser_error\u001b[0;34m()\u001b[0m\n",
            "\u001b[0;31mParserError\u001b[0m: Error tokenizing data. C error: Expected 5 fields in line 19, saw 39\n"
          ]
        }
      ]
    },
    {
      "cell_type": "code",
      "metadata": {
        "colab": {
          "base_uri": "https://localhost:8080/",
          "height": 120
        },
        "id": "d8TqMlQ5nCtS",
        "outputId": "e6eb366c-6391-41b5-c99b-a44db89f047f"
      },
      "source": [
        "file_name = \"table1_hso.txt\"\r\n",
        "dataset_1 = uploaded[file_name].decode(\"utf-8\")\r\n",
        "dataset_1"
      ],
      "execution_count": null,
      "outputs": [
        {
          "output_type": "execute_result",
          "data": {
            "application/vnd.google.colaboratory.intrinsic+json": {
              "type": "string"
            },
            "text/plain": [
              "'Table 203.20. Enrollment in public elementary and secondary schools, by region, state, and jurisdiction: Selected years, fall 1990 through fall 2029\\r\\nRegion, state, and\\r\\njurisdiction\\r\\nActual total enrollment\\r\\nPercent\\r\\nchange\\r\\nin total\\r\\nenrollment,\\r\\n2012 to\\r\\n2017\\r\\nProjected enrollment\\r\\nPercent\\r\\nchange\\r\\nin total\\r\\nenrollment,\\r\\n2017 to\\r\\nFall 1990 Fall 2000 Fall 2007 Fall 2008 Fall 2009 Fall 2010 Fall 2011 Fall 2012 Fall 2013 Fall 2014 Fall 2015 2029 1 Fall 20162 Fall 20171 Fall 2018 Fall 2019 Fall 2020 Fall 2021 Fall 2022 Fall 2029\\r\\n1 2 3 4 5 6 7 8 9 10 11 12 13 14 15 16 17 18 19 20 21 22\\r\\nUnited States 41,216,683 47,203,539 49,290,559 49,265,572 49,360,982 49,484,181 49,521,669 49,771,118 50,044,522 50,312,581 50,438,043 50,615,189 50,685,567 1.8 50,649,800 50,634,000 50,654,200 50,643,100 50,721,200 51,068,100 0.8\\r\\nRegion\\r\\nNortheast 7,281,763 8,222,127 8,122,022 8,052,985 8,092,029 8,071,335 7,953,981 7,959,128 7,961,243 7,979,856 7,933,762 7,959,304 7,946,536 -0.2 7,915,600 7,889,500 7,866,800 7,838,300 7,824,100 7,705,000 -3.0\\r\\nMidwest 9,943,761 10,729,987 10,770,210 10,742,973 10,672,171 10,609,604 10,573,792 10,559,230 10,572,920 10,560,539 10,555,579 10,538,947 10,523,753 -0.3 10,488,200 10,455,400 10,437,400 10,413,800 10,400,300 10,300,900 -2.1\\r\\nSouth 14,807,016 17,007,261 18,422,773 18,490,770 18,651,889 18,805,000 18,955,932 19,128,376 19,298,714 19,506,193 19,641,472 19,749,816 19,824,469 3.6 19,849,000 19,878,600 19,926,300 19,975,000 20,065,800 20,519,200 3.5\\r\\nWest 9,184,143 11,244,164 11,975,554 11,978,844 11,944,893 11,998,242 12,037,964 12,124,384 12,211,645 12,265,993 12,307,230 12,367,122 12,390,809 2.2 12,397,100 12,410,500 12,423,700 12,416,000 12,431,000 12,543,100 1.2\\r\\nState\\r\\nAlabama 721,806 739,992 742,919 745,668 748,889 755,552 744,621 744,637 746,204 744,164 743,789 744,930 742,444 -0.3 737,200 733,500 732,900 733,500 735,200 743,900 0.2\\r\\nAlaska 113,903 133,356 131,029 130,662 131,661 132,104 131,167 131,489 130,944 131,176 132,477 132,737 132,872 1.1 133,200 133,500 134,100 134,600 135,500 138,100 4.0\\r\\nArizona 639,853 877,696 1,087,447 1,087,817 1,077,831 1,071,751 1,080,319 1,089,384 1,102,445 1,111,695 1,109,040 1,123,137 1,110,851 2.0 1,111,000 1,112,600 1,113,200 1,113,400 1,115,400 1,139,300 2.6\\r\\nArkansas 436,286 449,959 479,016 478,965 480,559 482,114 483,114 486,157 489,979 490,917 492,132 493,447 496,085 2.0 496,100 496,300 496,600 497,400 499,400 510,900 3.0\\r\\nCalifornia 4,950,474 6,140,814 6,343,471 6,322,528 6,263,438 6,289,578 6,287,834 6,299,451 6,312,623 6,312,161 6,305,347 6,309,138 6,304,266 0.1 6,285,300 6,269,700 6,251,900 6,220,500 6,200,300 6,112,700 -3.0\\r\\nColorado 574,213 724,508 801,867 818,443 832,368 843,316 854,265 863,561 876,999 889,006 899,112 905,019 910,280 5.4 912,600 915,000 917,600 918,300 921,800 951,100 4.5\\r\\nConnecticut 469,123 562,179 570,626 567,198 563,968 560,546 554,437 550,954 546,200 542,678 537,933 535,118 531,288 -3.6 524,300 517,900 511,900 505,600 501,100 478,000 -10.0\\r\\nDelaware 99,658 114,676 122,574 125,430 126,801 129,403 128,946 129,026 131,687 134,042 134,847 136,264 136,293 5.6 136,900 137,500 138,000 138,200 138,800 138,800 1.8\\r\\nDistrict of Columbia 80,694 68,925 78,422 68,681 69,433 71,284 73,911 76,140 78,153 80,958 84,024 85,850 87,315 14.7 87,200 89,700 91,800 94,000 96,100 99,800 14.3\\r\\nFlorida 1,861,592 2,434,821 2,666,811 2,631,020 2,634,522 2,643,347 2,668,156 2,692,162 2,720,744 2,756,944 2,792,234 2,816,791 2,832,424 5.2 2,849,400 2,865,200 2,887,200 2,908,600 2,935,700 3,109,900 9.8\\r\\nGeorgia 1,151,687 1,444,937 1,649,589 1,655,792 1,667,685 1,677,067 1,685,016 1,703,332 1,723,909 1,744,437 1,757,237 1,764,346 1,768,642 3.8 1,767,200 1,765,600 1,765,900 1,767,200 1,770,700 1,785,300 0.9\\r\\nHawaii 171,708 184,360 179,897 179,478 180,196 179,601 182,706 184,760 186,825 182,384 181,995 181,550 180,837 -2.1 180,600 180,300 179,500 178,500 177,400 168,600 -6.8\\r\\nIdaho 220,840 245,117 272,119 275,051 276,299 275,859 279,873 284,834 296,476 290,885 292,277 297,200 301,186 5.7 303,500 305,900 308,100 310,300 312,600 326,200 8.3\\r\\nIllinois 1,821,407 2,048,792 2,112,805 2,119,707 2,104,175 2,091,654 2,083,097 2,072,880 2,066,990 2,050,239 2,041,779 2,026,718 2,005,153 -3.3 2,000,200 1,991,600 1,984,800 1,976,800 1,966,000 1,872,000 -6.6\\r\\nIndiana 954,525 989,267 1,046,764 1,046,147 1,046,661 1,047,232 1,040,765 1,041,369 1,047,385 1,046,269 1,046,757 1,049,547 1,054,187 1.2 1,053,400 1,050,400 1,050,200 1,051,100 1,052,500 1,065,700 1.1\\r\\nIowa 483,652 495,080 485,115 487,559 491,842 495,775 495,870 499,825 502,964 505,311 508,014 509,831 511,850 2.4 511,700 512,600 513,800 514,100 516,400 521,800 1.9\\r\\nKansas 437,034 470,610 468,295 471,060 474,489 483,701 486,108 489,043 496,440 497,275 495,884 494,347 497,088 1.6 495,100 493,700 492,400 490,300 489,200 478,900 -3.7\\r\\nKentucky 636,401 665,850 666,225 670,030 680,089 673,128 681,987 685,167 677,389 688,640 686,598 684,017 680,978 -0.6 678,900 677,000 676,000 674,800 675,300 683,100 0.3\\r\\nLouisiana 784,757 743,089 681,038 684,873 690,915 696,558 703,390 710,903 711,491 716,800 718,711 716,293 715,135 0.6 710,600 706,800 703,900 702,800 702,700 700,900 -2.0\\r\\nMaine 215,149 207,037 196,245 192,935 189,225 189,077 188,969 185,739 183,995 182,470 181,613 180,512 180,473 -2.8 179,200 178,100 177,300 176,700 176,100 174,500 -3.3\\r\\nMaryland 715,176 852,920 845,700 843,861 848,412 852,211 854,086 859,638 866,169 874,514 879,601 886,221 893,684 4.0 898,800 904,800 908,300 911,000 914,600 910,500 1.9\\r\\nMassachusetts 834,314 975,150 962,958 958,910 957,053 955,563 953,369 954,773 955,739 955,844 964,026 964,514 964,791 1.0 963,100 960,800 958,400 955,100 953,600 945,400 -2.0\\r\\nMichigan 1,584,431 1,720,626 1,692,739 1,659,921 1,649,082 1,587,067 1,573,537 1,555,370 1,548,841 1,537,922 1,536,231 1,528,666 1,516,398 -2.5 1,499,800 1,484,200 1,473,200 1,461,600 1,452,300 1,421,500 -6.3\\r\\nMinnesota 756,374 854,340 837,578 836,048 837,053 838,037 839,738 845,404 850,973 857,235 864,384 875,021 884,944 4.7 892,200 897,200 903,300 907,800 912,200 929,300 5.0\\r\\nMississippi 502,417 497,871 494,122 491,962 492,481 490,526 490,619 493,650 492,586 490,917 487,200 483,150 478,321 -3.1 471,400 465,500 460,600 456,400 452,500 427,100 -10.7\\r\\nMissouri 816,558 912,744 917,188 917,871 917,982 918,710 916,584 917,900 918,288 917,785 919,234 915,040 915,472 -0.3 913,100 911,800 911,700 911,100 912,600 918,100 0.3\\r\\nMontana 152,974 154,875 142,823 141,899 141,807 141,693 142,349 142,908 144,129 144,532 145,319 146,375 149,474 4.6 150,400 151,500 152,400 153,100 154,100 159,500 6.7\\r\\nNebraska 274,081 286,199 291,244 292,590 295,368 298,500 301,296 303,505 307,677 312,635 316,014 319,194 323,766 6.7 325,900 328,300 330,400 331,900 333,800 345,700 6.8\\r\\nNevada 201,316 340,706 429,362 433,371 428,947 437,149 439,634 445,707 451,831 459,189 467,527 473,744 485,785 9.0 492,200 499,300 506,200 512,600 519,700 554,000 14.0\\r\\nNew Hampshire 172,785 208,461 200,772 197,934 197,140 194,711 191,900 188,974 186,310 184,670 182,425 180,888 179,433 -5.0 177,900 176,400 174,600 173,000 171,600 166,100 -7.4\\r\\nNew Jersey 1,089,646 1,313,405 1,382,348 1,381,420 1,396,029 1,402,548 1,356,431 1,372,203 1,370,295 1,400,579 1,408,845 1,410,421 1,408,102 2.6 1,402,200 1,396,800 1,392,000 1,385,600 1,381,300 1,353,100 -3.9\\r\\nNew Mexico 301,881 320,306 329,040 330,245 334,419 338,122 337,225 338,220 339,244 340,365 335,694 336,263 334,345 -1.1 330,600 327,200 323,700 320,100 317,000 294,200 -12.0\\r\\nNew York 2,598,337 2,882,188 2,765,435 2,740,592 2,766,052 2,734,955 2,704,718 2,710,703 2,732,770 2,741,185 2,711,626 2,729,776 2,724,663 0.5 2,718,900 2,715,500 2,710,800 2,704,500 2,704,400 2,661,500 -2.3\\r\\nNorth Carolina 1,086,871 1,293,638 1,489,492 1,488,645 1,483,397 1,490,605 1,507,864 1,518,465 1,530,857 1,548,895 1,544,934 1,550,062 1,553,513 2.3 1,550,400 1,548,600 1,550,200 1,551,800 1,563,200 1,598,400 2.9\\r\\nNorth Dakota 117,825 109,201 95,059 94,728 95,073 96,323 97,646 101,111 103,947 106,586 108,644 109,706 111,920 10.7 111,100 113,000 115,100 117,000 119,000 130,300 16.5\\r\\nOhio 1,771,089 1,835,049 1,827,184 1,817,163 1,764,297 1,754,191 1,740,030 1,729,916 1,724,111 1,724,810 1,716,585 1,710,143 1,704,399 -1.5 1,690,900 1,679,900 1,671,100 1,662,400 1,657,200 1,631,400 -4.3\\r\\nOklahoma 579,087 623,110 642,065 645,108 654,802 659,911 666,120 673,483 681,848 688,511 692,878 693,903 695,092 3.2 697,400 698,500 699,900 700,100 702,500 709,900 2.1\\r\\nOregon 472,394 546,231 565,586 575,393 582,839 570,720 568,208 587,564 593,000 601,318 608,825 606,277 608,014 3.5 610,200 612,600 616,200 619,000 623,000 637,100 4.8\\r\\nPennsylvania 1,667,834 1,814,311 1,801,971 1,775,029 1,785,993 1,793,284 1,771,395 1,763,677 1,755,236 1,743,160 1,717,414 1,727,497 1,726,809 -2.1 1,719,900 1,714,700 1,713,800 1,711,000 1,709,800 1,704,500 -1.3\\r\\nRhode Island 138,813 157,347 147,629 145,342 145,118 143,793 142,854 142,481 142,008 141,959 142,014 142,150 142,949 0.3 143,200 142,800 142,100 141,600 141,200 139,900 -2.1'"
            ]
          },
          "metadata": {
            "tags": []
          },
          "execution_count": 23
        }
      ]
    },
    {
      "cell_type": "code",
      "metadata": {
        "colab": {
          "base_uri": "https://localhost:8080/"
        },
        "id": "JDlt0PWInVt4",
        "outputId": "ead33e86-dcd8-454e-95db-0016bcabc3dc"
      },
      "source": [
        "data = uploaded[file_name].decode(\"utf-8\").split(\"\\r\\n\")\r\n",
        "\r\n",
        "for i in range(len(data)):\r\n",
        "  data[i] = data[i].split(\",\")\r\n",
        "\r\n",
        "print(data)"
      ],
      "execution_count": null,
      "outputs": [
        {
          "output_type": "stream",
          "text": [
            "[['Table 203.20. Enrollment in public elementary and secondary schools', ' by region', ' state', ' and jurisdiction: Selected years', ' fall 1990 through fall 2029'], ['Region', ' state', ' and'], ['jurisdiction'], ['Actual total enrollment'], ['Percent'], ['change'], ['in total'], ['enrollment', ''], ['2012 to'], ['2017'], ['Projected enrollment'], ['Percent'], ['change'], ['in total'], ['enrollment', ''], ['2017 to'], ['Fall 1990 Fall 2000 Fall 2007 Fall 2008 Fall 2009 Fall 2010 Fall 2011 Fall 2012 Fall 2013 Fall 2014 Fall 2015 2029 1 Fall 20162 Fall 20171 Fall 2018 Fall 2019 Fall 2020 Fall 2021 Fall 2022 Fall 2029'], ['1 2 3 4 5 6 7 8 9 10 11 12 13 14 15 16 17 18 19 20 21 22'], ['United States 41', '216', '683 47', '203', '539 49', '290', '559 49', '265', '572 49', '360', '982 49', '484', '181 49', '521', '669 49', '771', '118 50', '044', '522 50', '312', '581 50', '438', '043 50', '615', '189 50', '685', '567 1.8 50', '649', '800 50', '634', '000 50', '654', '200 50', '643', '100 50', '721', '200 51', '068', '100 0.8'], ['Region'], ['Northeast 7', '281', '763 8', '222', '127 8', '122', '022 8', '052', '985 8', '092', '029 8', '071', '335 7', '953', '981 7', '959', '128 7', '961', '243 7', '979', '856 7', '933', '762 7', '959', '304 7', '946', '536 -0.2 7', '915', '600 7', '889', '500 7', '866', '800 7', '838', '300 7', '824', '100 7', '705', '000 -3.0'], ['Midwest 9', '943', '761 10', '729', '987 10', '770', '210 10', '742', '973 10', '672', '171 10', '609', '604 10', '573', '792 10', '559', '230 10', '572', '920 10', '560', '539 10', '555', '579 10', '538', '947 10', '523', '753 -0.3 10', '488', '200 10', '455', '400 10', '437', '400 10', '413', '800 10', '400', '300 10', '300', '900 -2.1'], ['South 14', '807', '016 17', '007', '261 18', '422', '773 18', '490', '770 18', '651', '889 18', '805', '000 18', '955', '932 19', '128', '376 19', '298', '714 19', '506', '193 19', '641', '472 19', '749', '816 19', '824', '469 3.6 19', '849', '000 19', '878', '600 19', '926', '300 19', '975', '000 20', '065', '800 20', '519', '200 3.5'], ['West 9', '184', '143 11', '244', '164 11', '975', '554 11', '978', '844 11', '944', '893 11', '998', '242 12', '037', '964 12', '124', '384 12', '211', '645 12', '265', '993 12', '307', '230 12', '367', '122 12', '390', '809 2.2 12', '397', '100 12', '410', '500 12', '423', '700 12', '416', '000 12', '431', '000 12', '543', '100 1.2'], ['State'], ['Alabama 721', '806 739', '992 742', '919 745', '668 748', '889 755', '552 744', '621 744', '637 746', '204 744', '164 743', '789 744', '930 742', '444 -0.3 737', '200 733', '500 732', '900 733', '500 735', '200 743', '900 0.2'], ['Alaska 113', '903 133', '356 131', '029 130', '662 131', '661 132', '104 131', '167 131', '489 130', '944 131', '176 132', '477 132', '737 132', '872 1.1 133', '200 133', '500 134', '100 134', '600 135', '500 138', '100 4.0'], ['Arizona 639', '853 877', '696 1', '087', '447 1', '087', '817 1', '077', '831 1', '071', '751 1', '080', '319 1', '089', '384 1', '102', '445 1', '111', '695 1', '109', '040 1', '123', '137 1', '110', '851 2.0 1', '111', '000 1', '112', '600 1', '113', '200 1', '113', '400 1', '115', '400 1', '139', '300 2.6'], ['Arkansas 436', '286 449', '959 479', '016 478', '965 480', '559 482', '114 483', '114 486', '157 489', '979 490', '917 492', '132 493', '447 496', '085 2.0 496', '100 496', '300 496', '600 497', '400 499', '400 510', '900 3.0'], ['California 4', '950', '474 6', '140', '814 6', '343', '471 6', '322', '528 6', '263', '438 6', '289', '578 6', '287', '834 6', '299', '451 6', '312', '623 6', '312', '161 6', '305', '347 6', '309', '138 6', '304', '266 0.1 6', '285', '300 6', '269', '700 6', '251', '900 6', '220', '500 6', '200', '300 6', '112', '700 -3.0'], ['Colorado 574', '213 724', '508 801', '867 818', '443 832', '368 843', '316 854', '265 863', '561 876', '999 889', '006 899', '112 905', '019 910', '280 5.4 912', '600 915', '000 917', '600 918', '300 921', '800 951', '100 4.5'], ['Connecticut 469', '123 562', '179 570', '626 567', '198 563', '968 560', '546 554', '437 550', '954 546', '200 542', '678 537', '933 535', '118 531', '288 -3.6 524', '300 517', '900 511', '900 505', '600 501', '100 478', '000 -10.0'], ['Delaware 99', '658 114', '676 122', '574 125', '430 126', '801 129', '403 128', '946 129', '026 131', '687 134', '042 134', '847 136', '264 136', '293 5.6 136', '900 137', '500 138', '000 138', '200 138', '800 138', '800 1.8'], ['District of Columbia 80', '694 68', '925 78', '422 68', '681 69', '433 71', '284 73', '911 76', '140 78', '153 80', '958 84', '024 85', '850 87', '315 14.7 87', '200 89', '700 91', '800 94', '000 96', '100 99', '800 14.3'], ['Florida 1', '861', '592 2', '434', '821 2', '666', '811 2', '631', '020 2', '634', '522 2', '643', '347 2', '668', '156 2', '692', '162 2', '720', '744 2', '756', '944 2', '792', '234 2', '816', '791 2', '832', '424 5.2 2', '849', '400 2', '865', '200 2', '887', '200 2', '908', '600 2', '935', '700 3', '109', '900 9.8'], ['Georgia 1', '151', '687 1', '444', '937 1', '649', '589 1', '655', '792 1', '667', '685 1', '677', '067 1', '685', '016 1', '703', '332 1', '723', '909 1', '744', '437 1', '757', '237 1', '764', '346 1', '768', '642 3.8 1', '767', '200 1', '765', '600 1', '765', '900 1', '767', '200 1', '770', '700 1', '785', '300 0.9'], ['Hawaii 171', '708 184', '360 179', '897 179', '478 180', '196 179', '601 182', '706 184', '760 186', '825 182', '384 181', '995 181', '550 180', '837 -2.1 180', '600 180', '300 179', '500 178', '500 177', '400 168', '600 -6.8'], ['Idaho 220', '840 245', '117 272', '119 275', '051 276', '299 275', '859 279', '873 284', '834 296', '476 290', '885 292', '277 297', '200 301', '186 5.7 303', '500 305', '900 308', '100 310', '300 312', '600 326', '200 8.3'], ['Illinois 1', '821', '407 2', '048', '792 2', '112', '805 2', '119', '707 2', '104', '175 2', '091', '654 2', '083', '097 2', '072', '880 2', '066', '990 2', '050', '239 2', '041', '779 2', '026', '718 2', '005', '153 -3.3 2', '000', '200 1', '991', '600 1', '984', '800 1', '976', '800 1', '966', '000 1', '872', '000 -6.6'], ['Indiana 954', '525 989', '267 1', '046', '764 1', '046', '147 1', '046', '661 1', '047', '232 1', '040', '765 1', '041', '369 1', '047', '385 1', '046', '269 1', '046', '757 1', '049', '547 1', '054', '187 1.2 1', '053', '400 1', '050', '400 1', '050', '200 1', '051', '100 1', '052', '500 1', '065', '700 1.1'], ['Iowa 483', '652 495', '080 485', '115 487', '559 491', '842 495', '775 495', '870 499', '825 502', '964 505', '311 508', '014 509', '831 511', '850 2.4 511', '700 512', '600 513', '800 514', '100 516', '400 521', '800 1.9'], ['Kansas 437', '034 470', '610 468', '295 471', '060 474', '489 483', '701 486', '108 489', '043 496', '440 497', '275 495', '884 494', '347 497', '088 1.6 495', '100 493', '700 492', '400 490', '300 489', '200 478', '900 -3.7'], ['Kentucky 636', '401 665', '850 666', '225 670', '030 680', '089 673', '128 681', '987 685', '167 677', '389 688', '640 686', '598 684', '017 680', '978 -0.6 678', '900 677', '000 676', '000 674', '800 675', '300 683', '100 0.3'], ['Louisiana 784', '757 743', '089 681', '038 684', '873 690', '915 696', '558 703', '390 710', '903 711', '491 716', '800 718', '711 716', '293 715', '135 0.6 710', '600 706', '800 703', '900 702', '800 702', '700 700', '900 -2.0'], ['Maine 215', '149 207', '037 196', '245 192', '935 189', '225 189', '077 188', '969 185', '739 183', '995 182', '470 181', '613 180', '512 180', '473 -2.8 179', '200 178', '100 177', '300 176', '700 176', '100 174', '500 -3.3'], ['Maryland 715', '176 852', '920 845', '700 843', '861 848', '412 852', '211 854', '086 859', '638 866', '169 874', '514 879', '601 886', '221 893', '684 4.0 898', '800 904', '800 908', '300 911', '000 914', '600 910', '500 1.9'], ['Massachusetts 834', '314 975', '150 962', '958 958', '910 957', '053 955', '563 953', '369 954', '773 955', '739 955', '844 964', '026 964', '514 964', '791 1.0 963', '100 960', '800 958', '400 955', '100 953', '600 945', '400 -2.0'], ['Michigan 1', '584', '431 1', '720', '626 1', '692', '739 1', '659', '921 1', '649', '082 1', '587', '067 1', '573', '537 1', '555', '370 1', '548', '841 1', '537', '922 1', '536', '231 1', '528', '666 1', '516', '398 -2.5 1', '499', '800 1', '484', '200 1', '473', '200 1', '461', '600 1', '452', '300 1', '421', '500 -6.3'], ['Minnesota 756', '374 854', '340 837', '578 836', '048 837', '053 838', '037 839', '738 845', '404 850', '973 857', '235 864', '384 875', '021 884', '944 4.7 892', '200 897', '200 903', '300 907', '800 912', '200 929', '300 5.0'], ['Mississippi 502', '417 497', '871 494', '122 491', '962 492', '481 490', '526 490', '619 493', '650 492', '586 490', '917 487', '200 483', '150 478', '321 -3.1 471', '400 465', '500 460', '600 456', '400 452', '500 427', '100 -10.7'], ['Missouri 816', '558 912', '744 917', '188 917', '871 917', '982 918', '710 916', '584 917', '900 918', '288 917', '785 919', '234 915', '040 915', '472 -0.3 913', '100 911', '800 911', '700 911', '100 912', '600 918', '100 0.3'], ['Montana 152', '974 154', '875 142', '823 141', '899 141', '807 141', '693 142', '349 142', '908 144', '129 144', '532 145', '319 146', '375 149', '474 4.6 150', '400 151', '500 152', '400 153', '100 154', '100 159', '500 6.7'], ['Nebraska 274', '081 286', '199 291', '244 292', '590 295', '368 298', '500 301', '296 303', '505 307', '677 312', '635 316', '014 319', '194 323', '766 6.7 325', '900 328', '300 330', '400 331', '900 333', '800 345', '700 6.8'], ['Nevada 201', '316 340', '706 429', '362 433', '371 428', '947 437', '149 439', '634 445', '707 451', '831 459', '189 467', '527 473', '744 485', '785 9.0 492', '200 499', '300 506', '200 512', '600 519', '700 554', '000 14.0'], ['New Hampshire 172', '785 208', '461 200', '772 197', '934 197', '140 194', '711 191', '900 188', '974 186', '310 184', '670 182', '425 180', '888 179', '433 -5.0 177', '900 176', '400 174', '600 173', '000 171', '600 166', '100 -7.4'], ['New Jersey 1', '089', '646 1', '313', '405 1', '382', '348 1', '381', '420 1', '396', '029 1', '402', '548 1', '356', '431 1', '372', '203 1', '370', '295 1', '400', '579 1', '408', '845 1', '410', '421 1', '408', '102 2.6 1', '402', '200 1', '396', '800 1', '392', '000 1', '385', '600 1', '381', '300 1', '353', '100 -3.9'], ['New Mexico 301', '881 320', '306 329', '040 330', '245 334', '419 338', '122 337', '225 338', '220 339', '244 340', '365 335', '694 336', '263 334', '345 -1.1 330', '600 327', '200 323', '700 320', '100 317', '000 294', '200 -12.0'], ['New York 2', '598', '337 2', '882', '188 2', '765', '435 2', '740', '592 2', '766', '052 2', '734', '955 2', '704', '718 2', '710', '703 2', '732', '770 2', '741', '185 2', '711', '626 2', '729', '776 2', '724', '663 0.5 2', '718', '900 2', '715', '500 2', '710', '800 2', '704', '500 2', '704', '400 2', '661', '500 -2.3'], ['North Carolina 1', '086', '871 1', '293', '638 1', '489', '492 1', '488', '645 1', '483', '397 1', '490', '605 1', '507', '864 1', '518', '465 1', '530', '857 1', '548', '895 1', '544', '934 1', '550', '062 1', '553', '513 2.3 1', '550', '400 1', '548', '600 1', '550', '200 1', '551', '800 1', '563', '200 1', '598', '400 2.9'], ['North Dakota 117', '825 109', '201 95', '059 94', '728 95', '073 96', '323 97', '646 101', '111 103', '947 106', '586 108', '644 109', '706 111', '920 10.7 111', '100 113', '000 115', '100 117', '000 119', '000 130', '300 16.5'], ['Ohio 1', '771', '089 1', '835', '049 1', '827', '184 1', '817', '163 1', '764', '297 1', '754', '191 1', '740', '030 1', '729', '916 1', '724', '111 1', '724', '810 1', '716', '585 1', '710', '143 1', '704', '399 -1.5 1', '690', '900 1', '679', '900 1', '671', '100 1', '662', '400 1', '657', '200 1', '631', '400 -4.3'], ['Oklahoma 579', '087 623', '110 642', '065 645', '108 654', '802 659', '911 666', '120 673', '483 681', '848 688', '511 692', '878 693', '903 695', '092 3.2 697', '400 698', '500 699', '900 700', '100 702', '500 709', '900 2.1'], ['Oregon 472', '394 546', '231 565', '586 575', '393 582', '839 570', '720 568', '208 587', '564 593', '000 601', '318 608', '825 606', '277 608', '014 3.5 610', '200 612', '600 616', '200 619', '000 623', '000 637', '100 4.8'], ['Pennsylvania 1', '667', '834 1', '814', '311 1', '801', '971 1', '775', '029 1', '785', '993 1', '793', '284 1', '771', '395 1', '763', '677 1', '755', '236 1', '743', '160 1', '717', '414 1', '727', '497 1', '726', '809 -2.1 1', '719', '900 1', '714', '700 1', '713', '800 1', '711', '000 1', '709', '800 1', '704', '500 -1.3'], ['Rhode Island 138', '813 157', '347 147', '629 145', '342 145', '118 143', '793 142', '854 142', '481 142', '008 141', '959 142', '014 142', '150 142', '949 0.3 143', '200 142', '800 142', '100 141', '600 141', '200 139', '900 -2.1']]\n"
          ],
          "name": "stdout"
        }
      ]
    },
    {
      "cell_type": "code",
      "metadata": {
        "id": "93YePkwbnV6n",
        "colab": {
          "base_uri": "https://localhost:8080/",
          "height": 218
        },
        "outputId": "fedd8a35-ac67-4e47-9fd7-490ba8fd57e2"
      },
      "source": [
        "data_top = file_name.head()  \r\n",
        "    \r\n",
        "# display  \r\n",
        "data_top "
      ],
      "execution_count": null,
      "outputs": [
        {
          "output_type": "error",
          "ename": "AttributeError",
          "evalue": "ignored",
          "traceback": [
            "\u001b[0;31m---------------------------------------------------------------------------\u001b[0m",
            "\u001b[0;31mAttributeError\u001b[0m                            Traceback (most recent call last)",
            "\u001b[0;32m<ipython-input-25-abd2357ab307>\u001b[0m in \u001b[0;36m<module>\u001b[0;34m()\u001b[0m\n\u001b[0;32m----> 1\u001b[0;31m \u001b[0mdata_top\u001b[0m \u001b[0;34m=\u001b[0m \u001b[0mfile_name\u001b[0m\u001b[0;34m.\u001b[0m\u001b[0mhead\u001b[0m\u001b[0;34m(\u001b[0m\u001b[0;34m)\u001b[0m\u001b[0;34m\u001b[0m\u001b[0;34m\u001b[0m\u001b[0m\n\u001b[0m\u001b[1;32m      2\u001b[0m \u001b[0;34m\u001b[0m\u001b[0m\n\u001b[1;32m      3\u001b[0m \u001b[0;31m# display\u001b[0m\u001b[0;34m\u001b[0m\u001b[0;34m\u001b[0m\u001b[0;34m\u001b[0m\u001b[0m\n\u001b[1;32m      4\u001b[0m \u001b[0mdata_top\u001b[0m\u001b[0;34m\u001b[0m\u001b[0;34m\u001b[0m\u001b[0m\n",
            "\u001b[0;31mAttributeError\u001b[0m: 'str' object has no attribute 'head'"
          ]
        }
      ]
    },
    {
      "cell_type": "code",
      "metadata": {
        "id": "PzdJaPD9nWGf"
      },
      "source": [
        ""
      ],
      "execution_count": null,
      "outputs": []
    },
    {
      "cell_type": "code",
      "metadata": {
        "id": "W4hx0sgWnWQz"
      },
      "source": [
        ""
      ],
      "execution_count": null,
      "outputs": []
    },
    {
      "cell_type": "code",
      "metadata": {
        "colab": {
          "base_uri": "https://localhost:8080/",
          "height": 183
        },
        "id": "GCL5U_AElPwQ",
        "outputId": "2a581bb5-dbae-4ae9-e062-b9728869debe"
      },
      "source": [
        "import io\r\n",
        "df2 = pd.read_csv(io.BytesIO(uploaded['table1_hso.txt']))"
      ],
      "execution_count": null,
      "outputs": [
        {
          "output_type": "error",
          "ename": "KeyError",
          "evalue": "ignored",
          "traceback": [
            "\u001b[0;31m---------------------------------------------------------------------------\u001b[0m",
            "\u001b[0;31mKeyError\u001b[0m                                  Traceback (most recent call last)",
            "\u001b[0;32m<ipython-input-6-467737fc817c>\u001b[0m in \u001b[0;36m<module>\u001b[0;34m()\u001b[0m\n\u001b[1;32m      1\u001b[0m \u001b[0;32mimport\u001b[0m \u001b[0mio\u001b[0m\u001b[0;34m\u001b[0m\u001b[0;34m\u001b[0m\u001b[0m\n\u001b[0;32m----> 2\u001b[0;31m \u001b[0mdf2\u001b[0m \u001b[0;34m=\u001b[0m \u001b[0mpd\u001b[0m\u001b[0;34m.\u001b[0m\u001b[0mread_csv\u001b[0m\u001b[0;34m(\u001b[0m\u001b[0mio\u001b[0m\u001b[0;34m.\u001b[0m\u001b[0mBytesIO\u001b[0m\u001b[0;34m(\u001b[0m\u001b[0muploaded\u001b[0m\u001b[0;34m[\u001b[0m\u001b[0;34m'table1_hso.txt'\u001b[0m\u001b[0;34m]\u001b[0m\u001b[0;34m)\u001b[0m\u001b[0;34m)\u001b[0m\u001b[0;34m\u001b[0m\u001b[0;34m\u001b[0m\u001b[0m\n\u001b[0m",
            "\u001b[0;31mKeyError\u001b[0m: 'table1_hso.txt'"
          ]
        }
      ]
    },
    {
      "cell_type": "code",
      "metadata": {
        "id": "own-bz1BnUks"
      },
      "source": [
        ""
      ],
      "execution_count": null,
      "outputs": []
    },
    {
      "cell_type": "code",
      "metadata": {
        "id": "UjpfP86jaSsA",
        "colab": {
          "base_uri": "https://localhost:8080/",
          "height": 178
        },
        "outputId": "b3007280-346d-487b-f4fd-778060f0362e"
      },
      "source": [
        "with open(file='', mode='r', ) as dataFile:\r\n",
        "  print(dataFile)"
      ],
      "execution_count": null,
      "outputs": [
        {
          "output_type": "error",
          "ename": "FileNotFoundError",
          "evalue": "ignored",
          "traceback": [
            "\u001b[0;31m---------------------------------------------------------------------------\u001b[0m",
            "\u001b[0;31mFileNotFoundError\u001b[0m                         Traceback (most recent call last)",
            "\u001b[0;32m<ipython-input-3-32b71de23ac4>\u001b[0m in \u001b[0;36m<module>\u001b[0;34m()\u001b[0m\n\u001b[0;32m----> 1\u001b[0;31m \u001b[0;32mwith\u001b[0m \u001b[0mopen\u001b[0m\u001b[0;34m(\u001b[0m\u001b[0mfile\u001b[0m\u001b[0;34m=\u001b[0m\u001b[0;34m''\u001b[0m\u001b[0;34m,\u001b[0m \u001b[0mmode\u001b[0m\u001b[0;34m=\u001b[0m\u001b[0;34m'r'\u001b[0m\u001b[0;34m,\u001b[0m \u001b[0;34m)\u001b[0m \u001b[0;32mas\u001b[0m \u001b[0mdataFile\u001b[0m\u001b[0;34m:\u001b[0m\u001b[0;34m\u001b[0m\u001b[0;34m\u001b[0m\u001b[0m\n\u001b[0m\u001b[1;32m      2\u001b[0m   \u001b[0mprint\u001b[0m\u001b[0;34m(\u001b[0m\u001b[0mdataFile\u001b[0m\u001b[0;34m)\u001b[0m\u001b[0;34m\u001b[0m\u001b[0;34m\u001b[0m\u001b[0m\n",
            "\u001b[0;31mFileNotFoundError\u001b[0m: [Errno 2] No such file or directory: ''"
          ]
        }
      ]
    },
    {
      "cell_type": "code",
      "metadata": {
        "id": "8drGJI-MbOps"
      },
      "source": [
        ""
      ],
      "execution_count": null,
      "outputs": []
    },
    {
      "cell_type": "code",
      "metadata": {
        "id": "njk_ssOEelHf",
        "colab": {
          "base_uri": "https://localhost:8080/"
        },
        "outputId": "b0d18ee1-0dd5-46a8-d380-29c9393f8d4f"
      },
      "source": [
        "from google.colab import drive\n",
        "drive.mount('/content/drive')"
      ],
      "execution_count": null,
      "outputs": [
        {
          "output_type": "stream",
          "text": [
            "Drive already mounted at /content/drive; to attempt to forcibly remount, call drive.mount(\"/content/drive\", force_remount=True).\n"
          ],
          "name": "stdout"
        }
      ]
    },
    {
      "cell_type": "markdown",
      "metadata": {
        "id": "5BrC3qQ4ffjq"
      },
      "source": [
        "# New Section"
      ]
    },
    {
      "cell_type": "code",
      "metadata": {
        "id": "dpz4CrFde6Z8"
      },
      "source": [
        "\r\n",
        "with open(file='/content/drive/MyDrive/table1_hso.txt', mode='r', ) as dataFile:\r\n",
        "  file_data = dataFile"
      ],
      "execution_count": null,
      "outputs": []
    },
    {
      "cell_type": "code",
      "metadata": {
        "colab": {
          "base_uri": "https://localhost:8080/",
          "height": 162
        },
        "id": "1UdFnO_5frVd",
        "outputId": "1c9fe0a8-1f77-4ea6-bbdb-98a19c7fc506"
      },
      "source": [
        "file_data()"
      ],
      "execution_count": null,
      "outputs": [
        {
          "output_type": "error",
          "ename": "TypeError",
          "evalue": "ignored",
          "traceback": [
            "\u001b[0;31m---------------------------------------------------------------------------\u001b[0m",
            "\u001b[0;31mTypeError\u001b[0m                                 Traceback (most recent call last)",
            "\u001b[0;32m<ipython-input-9-1321deb0aed6>\u001b[0m in \u001b[0;36m<module>\u001b[0;34m()\u001b[0m\n\u001b[0;32m----> 1\u001b[0;31m \u001b[0mfile_data\u001b[0m\u001b[0;34m(\u001b[0m\u001b[0;34m)\u001b[0m\u001b[0;34m\u001b[0m\u001b[0;34m\u001b[0m\u001b[0m\n\u001b[0m",
            "\u001b[0;31mTypeError\u001b[0m: '_io.TextIOWrapper' object is not callable"
          ]
        }
      ]
    },
    {
      "cell_type": "code",
      "metadata": {
        "id": "Nu6a3cAZf3bA",
        "colab": {
          "base_uri": "https://localhost:8080/",
          "height": 183
        },
        "outputId": "373c8c4e-1bbc-4c5d-f46e-4706eb75ce0f"
      },
      "source": [
        " for line in dataFile:\n",
        "    print(line)"
      ],
      "execution_count": null,
      "outputs": [
        {
          "output_type": "error",
          "ename": "NameError",
          "evalue": "ignored",
          "traceback": [
            "\u001b[0;31m---------------------------------------------------------------------------\u001b[0m",
            "\u001b[0;31mNameError\u001b[0m                                 Traceback (most recent call last)",
            "\u001b[0;32m<ipython-input-9-cb3165fcd2d5>\u001b[0m in \u001b[0;36m<module>\u001b[0;34m()\u001b[0m\n\u001b[0;32m----> 1\u001b[0;31m \u001b[0;32mfor\u001b[0m \u001b[0mline\u001b[0m \u001b[0;32min\u001b[0m \u001b[0mdataFile\u001b[0m\u001b[0;34m:\u001b[0m\u001b[0;34m\u001b[0m\u001b[0;34m\u001b[0m\u001b[0m\n\u001b[0m\u001b[1;32m      2\u001b[0m   \u001b[0mprint\u001b[0m\u001b[0;34m(\u001b[0m\u001b[0mline\u001b[0m\u001b[0;34m)\u001b[0m\u001b[0;34m\u001b[0m\u001b[0;34m\u001b[0m\u001b[0m\n",
            "\u001b[0;31mNameError\u001b[0m: name 'dataFile' is not defined"
          ]
        }
      ]
    },
    {
      "cell_type": "code",
      "metadata": {
        "id": "QObUhVUMhC7C"
      },
      "source": [
        ""
      ],
      "execution_count": null,
      "outputs": []
    }
  ]
}