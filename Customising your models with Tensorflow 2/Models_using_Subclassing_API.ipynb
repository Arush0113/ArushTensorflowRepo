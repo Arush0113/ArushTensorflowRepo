{
  "nbformat": 4,
  "nbformat_minor": 0,
  "metadata": {
    "colab": {
      "name": "Models using Subclassing API.ipynb",
      "provenance": [],
      "authorship_tag": "ABX9TyMb9qmApGhXw+rP2LDDmkXW",
      "include_colab_link": true
    },
    "kernelspec": {
      "name": "python3",
      "display_name": "Python 3"
    },
    "language_info": {
      "name": "python"
    }
  },
  "cells": [
    {
      "cell_type": "markdown",
      "metadata": {
        "id": "view-in-github",
        "colab_type": "text"
      },
      "source": [
        "<a href=\"https://colab.research.google.com/github/Arush0113/ArushTensorflowRepo/blob/main/Customising%20your%20models%20with%20Tensorflow%202/Models_using_Subclassing_API.ipynb\" target=\"_parent\"><img src=\"https://colab.research.google.com/assets/colab-badge.svg\" alt=\"Open In Colab\"/></a>"
      ]
    },
    {
      "cell_type": "markdown",
      "metadata": {
        "id": "plyctGO8RZSo"
      },
      "source": [
        "# Make the necessary Imports\n",
        "\n"
      ]
    },
    {
      "cell_type": "code",
      "metadata": {
        "id": "YVJacekTKmyt"
      },
      "source": [
        "import tensorflow as tf\n",
        "from tensorflow.keras.models import Model\n",
        "from tensorflow.keras.layers import Dense, Softmax, Dropout, concatenate"
      ],
      "execution_count": 6,
      "outputs": []
    },
    {
      "cell_type": "markdown",
      "metadata": {
        "id": "u1KS5ZjBRr5x"
      },
      "source": [
        "## Define your Model using subclassing API"
      ]
    },
    {
      "cell_type": "code",
      "metadata": {
        "id": "NG0WN_JhK4Xf"
      },
      "source": [
        "class MyModel(Model):\n",
        "  def __init__(self, num_classes, **kwargs):\n",
        "    super(MyModel, self).__init__(**kwargs)\n",
        "    self.dense1 = Dense(32, activation='relu')\n",
        "    self.dense2 = Dense(16)\n",
        "    self.dense3 = Dense(num_classes)\n",
        "    self.softmax = Softmax()\n",
        "\n",
        "  def call(self, inputs):\n",
        "    h1 = self.dense1(inputs)\n",
        "    h2 = self.dense2(inputs)\n",
        "    y = self.dense3(h2)\n",
        "    concatenated_array = concatenate([h2, y])\n",
        "    return self.softmax(concatenated_array)"
      ],
      "execution_count": 7,
      "outputs": []
    },
    {
      "cell_type": "markdown",
      "metadata": {
        "id": "gbpgvyL0R08D"
      },
      "source": [
        "## Initialize Model and check Summary"
      ]
    },
    {
      "cell_type": "code",
      "metadata": {
        "colab": {
          "base_uri": "https://localhost:8080/"
        },
        "id": "7bdalIdjO3sG",
        "outputId": "c6d2d492-ddc4-4242-9c6d-2b46d08e7ac7"
      },
      "source": [
        "model1 = MyModel(10, name = 'my_model_1')\n",
        "model1(tf.random.uniform([1,10]))\n",
        "model1.summary()"
      ],
      "execution_count": 21,
      "outputs": [
        {
          "output_type": "stream",
          "text": [
            "Model: \"my_model_1\"\n",
            "_________________________________________________________________\n",
            "Layer (type)                 Output Shape              Param #   \n",
            "=================================================================\n",
            "dense_21 (Dense)             multiple                  352       \n",
            "_________________________________________________________________\n",
            "dense_22 (Dense)             multiple                  176       \n",
            "_________________________________________________________________\n",
            "dense_23 (Dense)             multiple                  170       \n",
            "_________________________________________________________________\n",
            "softmax_7 (Softmax)          multiple                  0         \n",
            "=================================================================\n",
            "Total params: 698\n",
            "Trainable params: 698\n",
            "Non-trainable params: 0\n",
            "_________________________________________________________________\n"
          ],
          "name": "stdout"
        }
      ]
    },
    {
      "cell_type": "code",
      "metadata": {
        "id": "cFFHC4NTO__O"
      },
      "source": [
        ""
      ],
      "execution_count": null,
      "outputs": []
    },
    {
      "cell_type": "markdown",
      "metadata": {
        "id": "DN66mB4ruRYr"
      },
      "source": [
        "## Creating Layers using the subclassing API"
      ]
    },
    {
      "cell_type": "code",
      "metadata": {
        "id": "3n3nRy2ouVxE"
      },
      "source": [
        "from tensorflow.keras.layers import Layer"
      ],
      "execution_count": 1,
      "outputs": []
    },
    {
      "cell_type": "code",
      "metadata": {
        "id": "adnvIwM0ugUD"
      },
      "source": [
        "class MyLayer(Layer):\n",
        "  def __init__(self, input_dim, units, **kwargs):\n",
        "    super(MyLayer, self).__init__(**kwargs)\n",
        "    \n",
        "    self.w = self.add_weight(\n",
        "        shape = (input_dim, units),\n",
        "        initializer = 'random_normal',\n",
        "        trainable = True\n",
        "    )\n",
        "    self.b = self.add_weight(\n",
        "        shape = (units, ),\n",
        "        initializer = 'zeros',\n",
        "        trainable = True\n",
        "    )\n",
        "\n",
        "  def call(self, inputs):\n",
        "    return tf.matmul(inputs, self.w) + self.b\n",
        "\n",
        "mylayer1 = MyLayer(5, 3)\n",
        "\n"
      ],
      "execution_count": 2,
      "outputs": []
    },
    {
      "cell_type": "code",
      "metadata": {
        "colab": {
          "base_uri": "https://localhost:8080/"
        },
        "id": "PesvP0R6Qy_B",
        "outputId": "29b41b53-a83f-46b8-cb50-57ca2ec1be39"
      },
      "source": [
        "mylayer1.weights"
      ],
      "execution_count": 4,
      "outputs": [
        {
          "output_type": "execute_result",
          "data": {
            "text/plain": [
              "[<tf.Variable 'Variable:0' shape=(5, 3) dtype=float32, numpy=\n",
              " array([[ 0.06471214,  0.02109789, -0.01891055],\n",
              "        [ 0.030949  , -0.00878936, -0.05024866],\n",
              "        [-0.09032726,  0.0080172 , -0.02186576],\n",
              "        [-0.01863526,  0.00315766, -0.02710312],\n",
              "        [-0.0213786 ,  0.08109605,  0.0515936 ]], dtype=float32)>,\n",
              " <tf.Variable 'Variable:0' shape=(3,) dtype=float32, numpy=array([0., 0., 0.], dtype=float32)>]"
            ]
          },
          "metadata": {
            "tags": []
          },
          "execution_count": 4
        }
      ]
    },
    {
      "cell_type": "code",
      "metadata": {
        "colab": {
          "base_uri": "https://localhost:8080/"
        },
        "id": "GrP-2OmHQ2Z0",
        "outputId": "f7418ab0-f0bb-4dd3-aa4c-50704262bb9e"
      },
      "source": [
        "mylayer1(tf.ones((1,5)))"
      ],
      "execution_count": 14,
      "outputs": [
        {
          "output_type": "execute_result",
          "data": {
            "text/plain": [
              "<tf.Tensor: shape=(1, 3), dtype=float32, numpy=array([[-0.03467998,  0.10457945, -0.06653449]], dtype=float32)>"
            ]
          },
          "metadata": {
            "tags": []
          },
          "execution_count": 14
        }
      ]
    },
    {
      "cell_type": "code",
      "metadata": {
        "id": "08VyWWcXRGOC"
      },
      "source": [
        ""
      ],
      "execution_count": 10,
      "outputs": []
    }
  ]
}